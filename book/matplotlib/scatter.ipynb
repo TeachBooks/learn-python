{
 "cells": [
  {
   "attachments": {},
   "cell_type": "markdown",
   "metadata": {},
   "source": [
    "## Scatter plot.\n",
    "\n",
    "A scatter plot is a type of plot used to display the relationship between two variables. In civil engineering, scatter plots can be used to analyze various aspects of data. Let's consider a scenario where civil engineers are studying the relationship between the compressive strength of concrete and the curing time. To investigate this relationship, the engineers collect data from concrete samples. For each sample, they measure the compressive strength after different curing times. The collected data might look like this:\n",
    "\n",
    "| Curing Time (days) | Compressive Strength (MPa) |\n",
    "|--------------------|----------------------------|\n",
    "| 3                  | 18                         |\n",
    "| 7                  | 28                         |\n",
    "| 14                 | 38                         |\n",
    "| 21                 | 46                         |\n",
    "| 28                 | 55                         |\n",
    "\n",
    "To visualize this data, the engineers can create a scatter plot, where the x-axis represents the curing time in days, and the y-axis represents the compressive strength in megapascals (MPa). Each data point in the plot corresponds to a specific curing time and the corresponding compressive strength. By examining the scatter plot, the civil engineers can observe the trend or pattern of the data points. They can determine if there is a correlation between curing time and compressive strength, and analyze how the strength changes with the increase in curing time. \n",
    "\n",
    "Let's create the corresponding scatter plot:"
   ]
  },
  {
   "cell_type": "code",
   "execution_count": 64,
   "metadata": {},
   "outputs": [
    {
     "data": {
      "image/png": "[encoded data removed]",
      "text/plain": [
       "<Figure size 400x300 with 1 Axes>"
      ]
     },
     "metadata": {},
     "output_type": "display_data"
    }
   ],
   "source": [
    "curing_time = [3,7,14,21,28]\n",
    "compressive_strength = [10,20,30,40,50]\n",
    "\n",
    "fig, ax = plt.subplots(figsize = (4,3))\n",
    "ax.scatter(curing_time, compressive_strength, color='black', s=100)\n",
    "ax.set_xlabel('Curing time (days)', fontsize=11)\n",
    "ax.set_ylabel('Compressive strength (MPa)', fontsize=11)\n",
    "plt.show()"
   ]
  },
  {
   "attachments": {},
   "cell_type": "markdown",
   "metadata": {},
   "source": [
    "\n",
    "`````{admonition} Let's break it down\n",
    "1. `curing_time = [3,7,14,21,28]` and `compressive_strength = [10,20,30,40,50]`: These lines define two lists representing the curing time and corresponding compressive strength data points.\n",
    "2. `fig, ax = plt.subplots(figsize=(4, 3))`: This line creates a plot with a figure size of 4 units wide and 3 units high. The plot will contain the figure (`fig`) and axes (`ax`) objects.\n",
    "3. `ax.scatter(curing_time, compressive_strength, color='gray', s=100)`: This line creates a scatter plot using the data from `curing_time` and `compressive_strength`. The dots are colored gray and have a size of 100 units.\n",
    "4. `ax.set_xlabel('Curing time (days)', fontsize=11)`: This line sets the x-axis label as 'Curing time (days)' with a font size of 11 units.\n",
    "5. `ax.set_ylabel('Compressive strength (MPa)', fontsize=11)`: This line sets the y-axis label as 'Compressive strength (MPa)' with a font size of 11 units.\n",
    "6. `plt.show()`: This line displays the plot on the screen.\n",
    "`````\n",
    "\n",
    ":::{note}\n",
    "Notice the line `fig, ax = plt.subplots(figsize=(8, 6))`.\n",
    "\n",
    "When plotting with `matplotlib`, we often work with two main objects: the figure (`fig`) and the axes (`ax`).\n",
    "- The figure (`fig`) is the entire window or page that everything is drawn on.\n",
    "- The axes (`ax`) represents the actual plot or chart area within the figure.\n",
    "\n",
    "This is special helpful when dealing wit multiple subplots.\n",
    ":::"
   ]
  }
 ],
 "metadata": {
  "hide_input": false,
  "kernelspec": {
   "display_name": "Python 3",
   "language": "python",
   "name": "python3"
  },
  "language_info": {
   "codemirror_mode": {
    "name": "ipython",
    "version": 3
   },
   "file_extension": ".py",
   "mimetype": "text/x-python",
   "name": "python",
   "nbconvert_exporter": "python",
   "pygments_lexer": "ipython3",
   "version": "3.8.13"
  },
  "latex_envs": {
   "LaTeX_envs_menu_present": true,
   "autoclose": false,
   "autocomplete": true,
   "bibliofile": "biblio.bib",
   "cite_by": "apalike",
   "current_citInitial": 1,
   "eqLabelWithNumbers": true,
   "eqNumInitial": 1,
   "hotkeys": {
    "equation": "Ctrl-E",
    "itemize": "Ctrl-I"
   },
   "labels_anchors": false,
   "latex_user_defs": false,
   "report_style_numbering": false,
   "user_envs_cfg": false
  },
  "varInspector": {
   "cols": {
    "lenName": 16,
    "lenType": 16,
    "lenVar": 40
   },
   "kernels_config": {
    "python": {
     "delete_cmd_postfix": "",
     "delete_cmd_prefix": "del ",
     "library": "var_list.py",
     "varRefreshCmd": "print(var_dic_list())"
    },
    "r": {
     "delete_cmd_postfix": ") ",
     "delete_cmd_prefix": "rm(",
     "library": "var_list.r",
     "varRefreshCmd": "cat(var_dic_list()) "
    }
   },
   "types_to_exclude": [
    "module",
    "function",
    "builtin_function_or_method",
    "instance",
    "_Feature"
   ],
   "window_display": false
  }
 },
 "nbformat": 4,
 "nbformat_minor": 2
}
