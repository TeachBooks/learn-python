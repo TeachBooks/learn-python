{
 "cells": [
  {
   "attachments": {},
   "cell_type": "markdown",
   "metadata": {
    "nbgrader": {
     "grade": false,
     "locked": true,
     "solution": false
    }
   },
   "source": [
    "# Maximum bending moment on a simply supported bridge\n",
    "\n",
    "## Example\n"
   ]
  },
  {
   "attachments": {},
   "cell_type": "markdown",
   "metadata": {},
   "source": [
    "\n",
    "\n",
    "A 12 m span bridge is modelled as 1D continuous simply supported beam. The bridge is subjected to the axle loads ($A$) of 3-axle vehicle, as shown in the figure bellow. The largest axle load will generally cause the maximum bending bending moment ($M_{max}$) under its location $p$.\n",
    "\n",
    "\n",
    "```{image} 02_01.png\n",
    ":alt: rectangle\n",
    ":width: 800px\n",
    ":align: center\n",
    "```\n",
    "\n",
    "For this particular vehicle characteristics, i.e., $A_1 \\leq A_3 \\leq A_2$ and $ D_2 \\leq D_1 \\leq a$. $M_{max}$ can be computed as follows:\n",
    " \n",
    "\n",
    "$M_{max} =  R_1 a-A_1D_1$\n",
    "\n",
    "$R_1 = \\frac{\\left ( \\sum_{i=1}^{3}A_i \\right )a}{L}, \\; i=\\{1,2,3\\}$\n",
    "\n",
    "where $R_1$ is the reaction at the left side of the beam, $L$ the total span length, $A_i$ is the individual axle load $i$, $D_i$ corresponds to the inter-axle distance $i$ and $a$ is the distance at which the point of interest $p$ is located.\n",
    "\n",
    "For this example, we will use a sample of 100 vehicles corresponding to the 3-axle vehicle type _3C_. The measurements were taken by the Weigh-in-Motion (WIM) system on the federal highway BR-101, located in the south of Brazil, in April 2014. The data collected through WIM system includes type of vehicle, individual axle loads and individual inter-axle distances.  \n",
    "\n",
    "We will determine: \n",
    "* The mean value of $M_{max}$ at the point $p$ of the beam.\n",
    "* The characteristics of the vehicle that cause the minimum $M_{max}$ at the point $p$ of the beam.  \n",
    "* The characteristics of the vehicle that cause the maximum $M_{max}$ at the point $p$ of the beam.  \n",
    "\n"
   ]
  },
  {
   "attachments": {},
   "cell_type": "markdown",
   "metadata": {},
   "source": [
    "### Solution"
   ]
  },
  {
   "attachments": {},
   "cell_type": "markdown",
   "metadata": {},
   "source": [
    "* We start by importing numpy and loading the data set. "
   ]
  },
  {
   "cell_type": "code",
   "execution_count": null,
   "metadata": {},
   "outputs": [
    {
     "name": "stdout",
     "output_type": "stream",
     "text": [
      "The shape of data is (100, 5).\n",
      "Hence, there are 100 rows and5 columns in data.\n",
      "\n",
      "The first 5 rows of the data array are:\n",
      "\n",
      " [[42.1 77.5 65.3  5.1  1.4]\n",
      " [48.7 80.1 50.2  5.4  1.2]\n",
      " [51.7 90.2 61.6  5.2  1.2]\n",
      " [41.2 75.7 58.6  5.4  1.2]\n",
      " [25.  48.4 33.5  5.6  1.2]]\n"
     ]
    }
   ],
   "source": [
    "import numpy as np\n",
    "\n",
    "data = np.loadtxt(\"https://raw.githubusercontent.com/TUDelft-CITG\"\n",
    "                  \"/learn-python/mike/book/05/Exercises/02_01.csv\",\n",
    "    delimiter=\",\",\n",
    "    skiprows=1,\n",
    ")\n",
    "\n",
    "print(\n",
    "    f\"The shape of data is {np.shape(data)}.\\n\" \n",
    "    f\"Hence, there are {np.shape(data)[0]} rows and\"\n",
    "    f\"{np.shape(data)[1]} columns in data.\\n\"\n",
    ")\n",
    "\n",
    "print(f\"The first 5 rows of the data array are:\\n\\n {data[0:5,:]}\")"
   ]
  },
  {
   "attachments": {},
   "cell_type": "markdown",
   "metadata": {},
   "source": [
    "`````{admonition} Let's break it down\n",
    ":class: dropdown\n",
    "\n",
    "To load the data set with numpy we use ``np.loadtxt()`` using the parameters ``delimiter=\",\"`` to define the character used to separate the values and ``skiprows=1`` to skip the first line.\n",
    "\n",
    "The first 3 columns of the data set correspond to the axle loads and the remaining columns to the inter-axle distances. \n",
    "The data units are kN for the axle loads and m for the inter-axle distances.\n",
    "\n",
    "`````"
   ]
  },
  {
   "attachments": {},
   "cell_type": "markdown",
   "metadata": {},
   "source": [
    "* Define the input variables to solve the problem and check if the conditions are satisfied."
   ]
  },
  {
   "cell_type": "code",
   "execution_count": 21,
   "metadata": {},
   "outputs": [
    {
     "name": "stdout",
     "output_type": "stream",
     "text": [
      "Do the characteristics of all vehicles meet the requirements?\n",
      "Is A2 > A3? True\n",
      "Is A2 > A1? True\n",
      "Is A3 > A2? True\n",
      "Is a > D1? True\n",
      "Is D1 > D2? True\n"
     ]
    }
   ],
   "source": [
    "span_length = 12  # [m]\n",
    "distance_a = 6.07  # [m]\n",
    "\n",
    "axle_loads = data[:, 0:3]  # [kN]\n",
    "inter_axle_distances = data[:, 3:5]  # [m]\n",
    "\n",
    "print(\"Do the characteristics of all vehicles meet the requirements?\")\n",
    "print(\"Is A2 > A3?\", np.all(axle_loads[:, 1] > axle_loads[:, 2]))  \n",
    "print(\"Is A2 > A1?\", np.all(axle_loads[:, 1] > axle_loads[:, 0]))  \n",
    "print(\"Is A3 > A2?\", np.all(axle_loads[:, 2] > axle_loads[:, 0]))\n",
    "print(\"Is a > D1?\", np.all(distance_a > inter_axle_distances[:, 0]))\n",
    "print(\n",
    "    \"Is D1 > D2?\", np.all(inter_axle_distances[:, 0] > inter_axle_distances[:, 1])\n",
    ")"
   ]
  },
  {
   "attachments": {},
   "cell_type": "markdown",
   "metadata": {},
   "source": [
    "`````{admonition} Let's break it down\n",
    ":class: dropdown\n",
    "Here's a step-by-step explanation of the code:\n",
    "\n",
    "1. This code sets up geometric characteristics for a bridge, including the span length and the distance a at which a point of interest is located. \n",
    "\n",
    "2. It then extracts axle load and inter-axle distance observations from a data source, with axle loads stored in the ``axle_loads`` variable and inter-axle distances stored in the ``inter_axle_distances`` variable.\n",
    "\n",
    "3. Next, it prints a message asking whether the characteristics of all vehicles meet the requirements. It then uses numpy's ``np.all()`` function to compare the values in the second column ($A_2$) of the ``axle_loads`` array with the values in the third column ($A_3$), checking if $A_2$ is greater than $A_3$ for all rows. The result of this comparison is printed as a boolean value, indicating whether the condition is ``True`` or ``False``.\n",
    "\n",
    "4. Lastly, performs the same computations as in step 3 for the remaining requirements.\n",
    "\n",
    "`````"
   ]
  },
  {
   "attachments": {},
   "cell_type": "markdown",
   "metadata": {},
   "source": [
    "* Use the given equations to compute the $M_{max}$ caused by each one the vehicles in the data."
   ]
  },
  {
   "cell_type": "code",
   "execution_count": 22,
   "metadata": {},
   "outputs": [],
   "source": [
    "reaction_1 = (np.sum(axle_loads, axis=1) * distance_a) / span_length\n",
    "max_bending_moment = reaction_1 * distance_a - axle_loads[:, 0] * inter_axle_distances[:, 0]"
   ]
  },
  {
   "attachments": {},
   "cell_type": "markdown",
   "metadata": {},
   "source": [
    "* Answering the first question: What is the mean value of $M_{max}$ at the point $p$ of the beam."
   ]
  },
  {
   "cell_type": "code",
   "execution_count": 23,
   "metadata": {},
   "outputs": [
    {
     "name": "stdout",
     "output_type": "stream",
     "text": [
      "The mean maximum bending moment is 328.88kNm\n"
     ]
    }
   ],
   "source": [
    "mean_max_bending_moment = np.mean(max_bending_moment)\n",
    "print(\n",
    "    f\"The mean maximum bending moment is \"\n",
    "    f\"{mean_max_bending_moment:.2f}kNm\"\n",
    ")"
   ]
  },
  {
   "attachments": {},
   "cell_type": "markdown",
   "metadata": {},
   "source": [
    "* Answering the second question: What are the characteristics of the vehicle that cause the minimum $M_{max}$ at the point $p$ of the beam?"
   ]
  },
  {
   "cell_type": "code",
   "execution_count": 17,
   "metadata": {},
   "outputs": [
    {
     "name": "stdout",
     "output_type": "stream",
     "text": [
      "The vehicle that causes the min bending moment of 133.73 kNm is the vehicle number 15\n",
      "With axle loads: [24.9 39.3 27.2] in kN\n",
      "and inter-axle distances: [5.9 1.2] in m \n",
      "\n"
     ]
    }
   ],
   "source": [
    "min_max_bending_moment = np.min(max_bending_moment)\n",
    "idx_min_max_bending_moment = np.argmin(max_bending_moment)\n",
    "vehicle_min_max_bending_moment = data[idx_min_max_bending_moment]\n",
    "\n",
    "print(\n",
    "    f\"The vehicle that causes the min bending moment of {min_max_bending_moment:.2f} \"\n",
    "    f\"kNm is the vehicle number {idx_min_max_bending_moment}\\n\"\n",
    "    f\"With axle loads: {vehicle_min_max_bending_moment[0:3]} in kN\\n\"\n",
    "    f\"and inter-axle distances: {vehicle_min_max_bending_moment[3:5]} in m \\n\"\n",
    ")"
   ]
  },
  {
   "attachments": {},
   "cell_type": "markdown",
   "metadata": {},
   "source": [
    "* Answering the second question: What are the characteristics of the vehicle that cause the minimum $M_{max}$ at the point $p$ of the beam?"
   ]
  },
  {
   "cell_type": "code",
   "execution_count": 24,
   "metadata": {},
   "outputs": [
    {
     "name": "stdout",
     "output_type": "stream",
     "text": [
      "The vehicle that causes the max bending moment of 582.44 kNm is the vehicle number 48\n",
      "With axle loads: [ 62.5 117.7 107.2] in kN\n",
      "and inter-axle distances: [4.8 1.2] in m \n",
      "\n"
     ]
    }
   ],
   "source": [
    "max_max_bending_moment = np.max(max_bending_moment)\n",
    "idx_max_max_bending_moment = np.argmax(max_bending_moment)\n",
    "vehicle_max_max_bending_moment = data[idx_max_max_bending_moment]\n",
    "\n",
    "print(\n",
    "    f\"The vehicle that causes the max bending moment of {max_max_bending_moment:.2f}\"\n",
    "    f\" kNm is the vehicle number {idx_max_max_bending_moment}\\n\"\n",
    "    f\"With axle loads: {vehicle_max_max_bending_moment[0:3]} in kN\\n\"\n",
    "    f\"and inter-axle distances: {vehicle_max_max_bending_moment[3:5]} in m \\n\"\n",
    ")"
   ]
  },
  {
   "attachments": {},
   "cell_type": "markdown",
   "metadata": {},
   "source": [
    "## Exercise\n",
    "\n",
    "Get the largest element of each column of the WIM sample provided above to create the synthetic vehicle _3C Magnus_. Using the same dimensions of the previous described bridge answer the following questions: \n",
    "\n",
    "* What is the value of last axle load $A_3$ of the Maximum truck?\n",
    "* What is the value of the bending moment at the point $p$ of the beam caused by the Maximum truck? \n"
   ]
  },
  {
   "attachments": {},
   "cell_type": "markdown",
   "metadata": {},
   "source": [
    "`````{admonition} Toolbox\n",
    ":class: tip\n",
    "Here is your **toolbox** to solve this exercise:\n",
    "\n",
    "* Import numpy and load the data set. \n",
    "* Define the input variables and check if the conditions are satisfied.\n",
    "* Get the maxim values of the axle loads and inter-axle distances to create the synthetic vehicle.\n",
    "* Use the given equations on the example to compute $M_{max}$ caused by the synthetic vehicle.\n",
    "\n",
    "You can use the following numpy functions (but not limited to): \n",
    "``np.loadtxt()``, ``np.all()``, ``np.max()``\n",
    "\n",
    "`````"
   ]
  },
  {
   "attachments": {},
   "cell_type": "markdown",
   "metadata": {},
   "source": [
    "`````{admonition} Jupyter Lite session\n",
    ":class: tip\n",
    "Start a Jupiter lite session <a href=\"https://tudelft-citg.github.io/learn-python-calculator/repl/index.html?toolbar=1&kernel=python&code=print('You may begin!')\" target=\"_blank\">here</a> to open a new tab where you can freely write and run your code.\n",
    "\n",
    "Wait until the message \"<tt>You may begin!</tt>\" is printed. \n",
    "\n",
    "*Note*: use the following line to load the data file:\n",
    "\n",
    " `data = np.loadtxt('/drive/data/02_01.csv',delimiter=',',skiprows=1)`\n",
    "\n",
    "\n",
    "`````"
   ]
  },
  {
   "cell_type": "markdown",
   "metadata": {},
   "source": [
    "<iframe src=\"https://tudelft.h5p.com/content/1292462460577202987/embed\" aria-label=\"BridgeExercise\" width=\"1088\" height=\"637\" frameborder=\"0\" allowfullscreen=\"allowfullscreen\" allow=\"autoplay *; geolocation *; microphone *; camera *; midi *; encrypted-media *\"></iframe><script src=\"https://tudelft.h5p.com/js/h5p-resizer.js\" charset=\"UTF-8\"></script>"
   ]
  },
  {
   "cell_type": "code",
   "execution_count": null,
   "metadata": {
    "tags": [
     "remove-input"
    ]
   },
   "outputs": [],
   "source": [
    "# jupyterquiz-import\n",
    "#from jupyterquiz import display_quiz\n",
    "\n",
    "# jupyterquiz-exercise-5-2\n",
    "#display_quiz('02.json')\n"
   ]
  }
 ],
 "metadata": {
  "hide_input": false,
  "kernelspec": {
   "display_name": "base",
   "language": "python",
   "name": "python3"
  },
  "language_info": {
   "codemirror_mode": {
    "name": "ipython",
    "version": 3
   },
   "file_extension": ".py",
   "mimetype": "text/x-python",
   "name": "python",
   "nbconvert_exporter": "python",
   "pygments_lexer": "ipython3",
   "version": "3.8.13"
  },
  "latex_envs": {
   "LaTeX_envs_menu_present": true,
   "autoclose": false,
   "autocomplete": true,
   "bibliofile": "biblio.bib",
   "cite_by": "apalike",
   "current_citInitial": 1,
   "eqLabelWithNumbers": true,
   "eqNumInitial": 1,
   "hotkeys": {
    "equation": "Ctrl-E",
    "itemize": "Ctrl-I"
   },
   "labels_anchors": false,
   "latex_user_defs": false,
   "report_style_numbering": false,
   "user_envs_cfg": false
  },
  "varInspector": {
   "cols": {
    "lenName": 16,
    "lenType": 16,
    "lenVar": 40
   },
   "kernels_config": {
    "python": {
     "delete_cmd_postfix": "",
     "delete_cmd_prefix": "del ",
     "library": "var_list.py",
     "varRefreshCmd": "print(var_dic_list())"
    },
    "r": {
     "delete_cmd_postfix": ") ",
     "delete_cmd_prefix": "rm(",
     "library": "var_list.r",
     "varRefreshCmd": "cat(var_dic_list()) "
    }
   },
   "types_to_exclude": [
    "module",
    "function",
    "builtin_function_or_method",
    "instance",
    "_Feature"
   ],
   "window_display": false
  },
  "vscode": {
   "interpreter": {
    "hash": "ad2bdc8ecc057115af97d19610ffacc2b4e99fae6737bb82f5d7fb13d2f2c186"
   }
  }
 },
 "nbformat": 4,
 "nbformat_minor": 2
}
