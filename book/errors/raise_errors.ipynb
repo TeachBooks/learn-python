{
 "cells": [
  {
   "cell_type": "markdown",
   "metadata": {},
   "source": [
    "# Raising errors\n",
    "When writing good code, it is beneficial to raise exceptions yourself if you are provided with incorrect input. \n",
    "\n",
    "Consider the example method `calculate_weight` below, which calculates the weight of an object, given that we know its density and volume:\n"
   ]
  },
  {
   "cell_type": "code",
   "execution_count": 8,
   "metadata": {},
   "outputs": [],
   "source": [
    "def calculate_weight(density, volume):\n",
    "    \"\"\"\n",
    "    Calculates weight of an object, given its density and volume.\n",
    "\n",
    "    Args:\n",
    "        density (int): Density of an object.\n",
    "        volume (int): Volume of an object.\n",
    "\n",
    "    Returns:\n",
    "        int: Weight of an object.\n",
    "    \"\"\"\n",
    "    return density * volume"
   ]
  },
  {
   "cell_type": "code",
   "execution_count": 9,
   "metadata": {},
   "outputs": [
    {
     "data": {
      "text/plain": [
       "30"
      ]
     },
     "execution_count": 9,
     "metadata": {},
     "output_type": "execute_result"
    }
   ],
   "source": [
    "calculate_weight(3, 10)"
   ]
  },
  {
   "cell_type": "code",
   "execution_count": 10,
   "metadata": {},
   "outputs": [
    {
     "data": {
      "text/plain": [
       "-20"
      ]
     },
     "execution_count": 10,
     "metadata": {},
     "output_type": "execute_result"
    }
   ],
   "source": [
    "calculate_weight(-4, 5)"
   ]
  },
  {
   "cell_type": "markdown",
   "metadata": {},
   "source": [
    "If we provide invalid input such as negative density or volume, the method will still give us an answer, because it is following a formula. However, using that incorrect calculation can be harmful in applications. Therefore, we can raise exceptions ourselves using the keyword `raise`:"
   ]
  },
  {
   "cell_type": "code",
   "execution_count": 11,
   "metadata": {},
   "outputs": [],
   "source": [
    "def calculate_weight(density, volume):\n",
    "    \"\"\"\n",
    "    Calculates weight of an object, given its density and volume.\n",
    "\n",
    "    Args:\n",
    "        density (int): Density of an object.\n",
    "        volume (int): Volume of an object.\n",
    "\n",
    "    Returns:\n",
    "        int: Weight of an object.\n",
    "\n",
    "    Raises:\n",
    "        ValueError: if density or volume are negative values.\n",
    "    \"\"\"\n",
    "    if density < 0:\n",
    "        raise ValueError(\n",
    "            \"Invalid density. Density parameter can only take positive numbers\"\n",
    "        )\n",
    "    if volume < 0:\n",
    "        raise ValueError(\n",
    "            \"Invalid volume. Volume parameter can only take positive numbers\"\n",
    "        )\n",
    "    return density * volume"
   ]
  },
  {
   "cell_type": "code",
   "execution_count": 12,
   "metadata": {},
   "outputs": [
    {
     "data": {
      "text/plain": [
       "375"
      ]
     },
     "execution_count": 12,
     "metadata": {},
     "output_type": "execute_result"
    }
   ],
   "source": [
    "calculate_weight(75, 5)"
   ]
  },
  {
   "cell_type": "code",
   "execution_count": 13,
   "metadata": {},
   "outputs": [
    {
     "ename": "ValueError",
     "evalue": "Invalid density. Density parameter can only take positive numbers",
     "output_type": "error",
     "traceback": [
      "\u001b[1;31m---------------------------------------------------------------------------\u001b[0m",
      "\u001b[1;31mValueError\u001b[0m                                Traceback (most recent call last)",
      "Cell \u001b[1;32mIn[13], line 1\u001b[0m\n\u001b[1;32m----> 1\u001b[0m \u001b[43mcalculate_weight\u001b[49m\u001b[43m(\u001b[49m\u001b[38;5;241;43m-\u001b[39;49m\u001b[38;5;241;43m4\u001b[39;49m\u001b[43m,\u001b[49m\u001b[43m \u001b[49m\u001b[38;5;241;43m50\u001b[39;49m\u001b[43m)\u001b[49m\n",
      "Cell \u001b[1;32mIn[11], line 16\u001b[0m, in \u001b[0;36mcalculate_weight\u001b[1;34m(density, volume)\u001b[0m\n\u001b[0;32m      2\u001b[0m \u001b[38;5;250m\u001b[39m\u001b[38;5;124;03m\"\"\"\u001b[39;00m\n\u001b[0;32m      3\u001b[0m \u001b[38;5;124;03mCalculates weight of an object, given its density and volume.\u001b[39;00m\n\u001b[0;32m      4\u001b[0m \n\u001b[1;32m   (...)\u001b[0m\n\u001b[0;32m     13\u001b[0m \u001b[38;5;124;03m    ValueError: if density or volume are negative values.\u001b[39;00m\n\u001b[0;32m     14\u001b[0m \u001b[38;5;124;03m\"\"\"\u001b[39;00m\n\u001b[0;32m     15\u001b[0m \u001b[38;5;28;01mif\u001b[39;00m density \u001b[38;5;241m<\u001b[39m \u001b[38;5;241m0\u001b[39m:\n\u001b[1;32m---> 16\u001b[0m     \u001b[38;5;28;01mraise\u001b[39;00m \u001b[38;5;167;01mValueError\u001b[39;00m(\n\u001b[0;32m     17\u001b[0m         \u001b[38;5;124m\"\u001b[39m\u001b[38;5;124mInvalid density. Density parameter can only take positive numbers\u001b[39m\u001b[38;5;124m\"\u001b[39m\n\u001b[0;32m     18\u001b[0m     )\n\u001b[0;32m     19\u001b[0m \u001b[38;5;28;01mif\u001b[39;00m volume \u001b[38;5;241m<\u001b[39m \u001b[38;5;241m0\u001b[39m:\n\u001b[0;32m     20\u001b[0m     \u001b[38;5;28;01mraise\u001b[39;00m \u001b[38;5;167;01mValueError\u001b[39;00m(\n\u001b[0;32m     21\u001b[0m         \u001b[38;5;124m\"\u001b[39m\u001b[38;5;124mInvalid volume. Volume parameter can only take positive numbers\u001b[39m\u001b[38;5;124m\"\u001b[39m\n\u001b[0;32m     22\u001b[0m     )\n",
      "\u001b[1;31mValueError\u001b[0m: Invalid density. Density parameter can only take positive numbers"
     ]
    }
   ],
   "source": [
    "calculate_weight(-4, 50)"
   ]
  },
  {
   "cell_type": "markdown",
   "metadata": {},
   "source": [
    "## Exercise\n",
    "\n",
    "You are given the method `calculate_area` again to calculate the *shuttering area* of a concrete rectangular column. The shuttering is a temporary arrangement done for vertical surfaces to support the wet concrete till it attains the desired strength (source: [Civilread.com](https://civilread.com/how-to-calculate-shuttering-area/)).\n",
    "\n",
    "If incorrect output is provided to it, the method will return `-1`. Instead of that, we would like to raise a `ValueError`. Modify the method to raise this exception on incorrect output. Furthermore, update the documentation of the method to account for this change."
   ]
  },
  {
   "cell_type": "code",
   "execution_count": null,
   "metadata": {},
   "outputs": [],
   "source": [
    "def calculate_area(height, length, breadth):\n",
    "    \"\"\"\n",
    "    Calculates shuttering area of a concrete rectangular column.\n",
    "\n",
    "    Args:\n",
    "        height (int): Height of the column.\n",
    "        length (int): Length of the column.\n",
    "        breadth (int): Breadth of the column.\n",
    "\n",
    "    Returns:\n",
    "        int: The area or -1 if the input is invalid.\n",
    "    \"\"\"\n",
    "    if height <= 0 or length <= 0 or breadth <= 0:\n",
    "        return -1\n",
    "    else:\n",
    "        return (2 * breadth + 2 * height) * length"
   ]
  },
  {
   "cell_type": "markdown",
   "metadata": {},
   "source": [
    "````{admonition} Solution\n",
    ":class: tip, dropdown\n",
    "\n",
    "```python\n",
    "def calculate_area(height, length, breadth):\n",
    "    \"\"\"\n",
    "    Calculates shuttering area of a concrete rectangular column.\n",
    "\n",
    "    Args:\n",
    "        height (int): Height of the column.\n",
    "        length (int): Length of the column.\n",
    "        breadth (int): Breadth of the column.\n",
    "\n",
    "    Returns:\n",
    "        int: The area.\n",
    "    Raises:\n",
    "        ValueError: if height, length or breadth are non-positive values.\n",
    "    \"\"\"\n",
    "    if height <= 0 or length <= 0 or breadth <= 0:\n",
    "        raise ValueError(\"Invalid height or length or breadth provided.\")\n",
    "    else:\n",
    "        return (2 * breadth + 2 * height) * length\n",
    "```\n",
    "\n",
    "````"
   ]
  },
  {
   "cell_type": "markdown",
   "metadata": {},
   "source": []
  }
 ],
 "metadata": {
  "kernelspec": {
   "display_name": "base",
   "language": "python",
   "name": "python3"
  },
  "language_info": {
   "codemirror_mode": {
    "name": "ipython",
    "version": 3
   },
   "file_extension": ".py",
   "mimetype": "text/x-python",
   "name": "python",
   "nbconvert_exporter": "python",
   "pygments_lexer": "ipython3",
   "version": "3.9.18"
  }
 },
 "nbformat": 4,
 "nbformat_minor": 2
}
