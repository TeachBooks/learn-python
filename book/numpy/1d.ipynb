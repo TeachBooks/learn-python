{
 "cells": [
  {
   "cell_type": "code",
   "execution_count": 1,
   "metadata": {
    "collapsed": true,
    "nbgrader": {
     "grade": false,
     "locked": true,
     "solution": false
    }
   },
   "outputs": [],
   "source": [
    "import numpy as np"
   ]
  },
  {
   "attachments": {},
   "cell_type": "markdown",
   "metadata": {},
   "source": [
    "## One-Dimensional arrays"
   ]
  },
  {
   "attachments": {},
   "cell_type": "markdown",
   "metadata": {},
   "source": [
    "### ``np.array()``, ``np.asarray()``\n",
    "So, how do you create a <b><code>numpy</code></b> 1-Dimensional (1D) array? There are a few ways to do it..."
   ]
  },
  {
   "attachments": {},
   "cell_type": "markdown",
   "metadata": {},
   "source": [
    "* Option 1 - from scratch with ``np.array()`` similar to a list."
   ]
  },
  {
   "cell_type": "code",
   "execution_count": 3,
   "metadata": {
    "collapsed": true,
    "nbgrader": {
     "grade": false,
     "locked": true,
     "solution": false
    }
   },
   "outputs": [
    {
     "name": "stdout",
     "output_type": "stream",
     "text": [
      "arr1 = [1 2 3], its type is <class 'numpy.ndarray'>\n"
     ]
    }
   ],
   "source": [
    "arr1 = np.array([1,2,3])\n",
    "print('arr1 = {}, its type is {}'.format(arr1,type(arr1)))"
   ]
  },
  {
   "attachments": {},
   "cell_type": "markdown",
   "metadata": {},
   "source": [
    "* Option 2 - from an existing list with ``np.array()``. \n",
    "\n",
    "Create the list first and check its type. Then create the array `A_1` from the list `L_1` and check its type."
   ]
  },
  {
   "cell_type": "code",
   "execution_count": 4,
   "metadata": {
    "collapsed": true,
    "nbgrader": {
     "grade": false,
     "locked": true,
     "solution": false
    }
   },
   "outputs": [
    {
     "name": "stdout",
     "output_type": "stream",
     "text": [
      "L_1 = [1, 2, 3, 5, 7, 11, 13] and its type is <class 'list'>\n",
      "\n",
      "A_1 = [ 1  2  3  5  7 11 13] and its type is <class 'numpy.ndarray'>\n"
     ]
    }
   ],
   "source": [
    "L_1 = [1,2,3,5,7,11,13]\n",
    "print('L_1 = {} and its type is {}\\n'.format(L_1,type(L_1)))\n",
    "\n",
    "A_1 = np.array(L_1)\n",
    "print('A_1 = {} and its type is {}'.format(A_1, type(A_1)))"
   ]
  },
  {
   "attachments": {},
   "cell_type": "markdown",
   "metadata": {},
   "source": [
    "* Option 3 - from an existing list with ``np.asarray()``"
   ]
  },
  {
   "cell_type": "code",
   "execution_count": 4,
   "metadata": {
    "collapsed": true,
    "nbgrader": {
     "grade": false,
     "locked": true,
     "solution": false
    }
   },
   "outputs": [
    {
     "name": "stdout",
     "output_type": "stream",
     "text": [
      "L_1 = [1, 2, 3, 5, 7, 11, 13] and its type is <class 'list'>\n",
      "\n",
      "A_1 = [ 1  2  3  5  7 11 13] and its type is <class 'numpy.ndarray'>\n"
     ]
    }
   ],
   "source": [
    "L_1 = [1,2,3,5,7,11,13]\n",
    "print('L_1 = {} and its type is {}\\n'.format(L_1,type(L_1)))\n",
    "\n",
    "A_1 = np.asarray(L_1)\n",
    "print('A_1 = {} and its type is {}'.format(A_1, type(A_1)))"
   ]
  },
  {
   "attachments": {},
   "cell_type": "markdown",
   "metadata": {
    "nbgrader": {
     "grade": false,
     "locked": true,
     "solution": false
    }
   },
   "source": [
    "From the above examples, you can't really determine the difference between using <b><code>np.array()</code></b> or <b><code>np.asarray()</code></b>. Nonetheless, there is a very important one, similar to the <b><code>=</code></b> and <b><code>copy</code></b> conundrum discussed in Notebook 4. When generating an array from a list, both functions do pretty much the same. However, when generating an array from another array, their differences stand out.\n",
    "\n",
    "First, let's check the ID of arr1"
   ]
  },
  {
   "cell_type": "code",
   "execution_count": 6,
   "metadata": {
    "collapsed": true,
    "nbgrader": {
     "grade": false,
     "locked": true,
     "solution": false
    }
   },
   "outputs": [
    {
     "name": "stdout",
     "output_type": "stream",
     "text": [
      "arr1 ID is 3116429230896\n"
     ]
    }
   ],
   "source": [
    "print('arr1 ID is {}'.format(id(arr1)))"
   ]
  },
  {
   "attachments": {},
   "cell_type": "markdown",
   "metadata": {},
   "source": [
    "Now, let's make two new arrays from arr1, using both functions"
   ]
  },
  {
   "cell_type": "code",
   "execution_count": 7,
   "metadata": {
    "collapsed": true,
    "nbgrader": {
     "grade": false,
     "locked": true,
     "solution": false
    }
   },
   "outputs": [
    {
     "name": "stdout",
     "output_type": "stream",
     "text": [
      "arr_array = [100   2   3] and its ID is 2342009211568\n",
      "\n",
      "arr_asarray = [100   2   3] and its ID is 2342276386128\n"
     ]
    }
   ],
   "source": [
    "arr_array = np.array(arr1)\n",
    "arr_asarray = np.asarray(arr1)\n",
    "\n",
    "print('arr_array = {} and its ID is {}\\n'.format(arr_array,id(arr_array)))\n",
    "print('arr_asarray = {} and its ID is {}'.format(arr_asarray, id(arr_asarray)))"
   ]
  },
  {
   "attachments": {},
   "cell_type": "markdown",
   "metadata": {
    "nbgrader": {
     "grade": false,
     "locked": true,
     "solution": false
    }
   },
   "source": [
    "Hmm... it seems that the ID of <b><code>arr_asarray</code></b> is the same as the original <b><code>arr1</code></b>. Which means they are the same variable! Altering one will alter the other one as well. Let's try it out."
   ]
  },
  {
   "cell_type": "code",
   "execution_count": 8,
   "metadata": {
    "collapsed": true,
    "nbgrader": {
     "grade": false,
     "locked": true,
     "solution": false
    }
   },
   "outputs": [
    {
     "ename": "ValueError",
     "evalue": "invalid literal for int() with base 10: 'hello'",
     "output_type": "error",
     "traceback": [
      "\u001b[1;31m---------------------------------------------------------------------------\u001b[0m",
      "\u001b[1;31mValueError\u001b[0m                                Traceback (most recent call last)",
      "Cell \u001b[1;32mIn[8], line 1\u001b[0m\n\u001b[1;32m----> 1\u001b[0m arr1[\u001b[39m0\u001b[39m] \u001b[39m=\u001b[39m \u001b[39m'\u001b[39m\u001b[39mhello\u001b[39m\u001b[39m'\u001b[39m\n\u001b[0;32m      2\u001b[0m \u001b[39mprint\u001b[39m(arr_asarray)\n",
      "\u001b[1;31mValueError\u001b[0m: invalid literal for int() with base 10: 'hello'"
     ]
    }
   ],
   "source": [
    "arr1[0] = 'hello'\n",
    "print(arr_asarray)"
   ]
  },
  {
   "attachments": {},
   "cell_type": "markdown",
   "metadata": {
    "nbgrader": {
     "grade": false,
     "locked": true,
     "solution": false
    }
   },
   "source": [
    "Oops... it didn't work. Why do you think it didn't work?"
   ]
  },
  {
   "attachments": {},
   "cell_type": "markdown",
   "metadata": {},
   "source": [
    "Answer: . . .\n",
    "\n",
    "Change the first element of `arr1`. Then print `arr_array` and `arr_asarray` to see if the first element changed."
   ]
  },
  {
   "cell_type": "code",
   "execution_count": 9,
   "metadata": {
    "collapsed": true,
    "nbgrader": {
     "grade": false,
     "locked": true,
     "solution": false
    }
   },
   "outputs": [
    {
     "name": "stdout",
     "output_type": "stream",
     "text": [
      "arr1 = [100   2   3]\n",
      "\n",
      "arr_array = [100   2   3]\n",
      "\n",
      "arr_asarray = [100   2   3]\n"
     ]
    }
   ],
   "source": [
    "arr1[0] = 100\n",
    "\n",
    "print('arr1 = {}\\n'.format(arr1))\n",
    "print('arr_array = {}\\n'.format(arr_array))\n",
    "print('arr_asarray = {}'.format(arr_asarray))"
   ]
  },
  {
   "attachments": {},
   "cell_type": "markdown",
   "metadata": {
    "nbgrader": {
     "grade": false,
     "locked": true,
     "solution": false
    }
   },
   "source": [
    "Yep, our theory was right: <b><code>arr1</code></b> and <b><code>arr_asarray</code></b> are indeed the same (but <b><code>arr_array</code></b> is not!). Therefore, altering <b><code>arr1[0]</code></b> will alter <b><code>arr_asarray[0]</code></b> in the same way.\n",
    "\n",
    "Final check that they are indeed the same"
   ]
  },
  {
   "cell_type": "code",
   "execution_count": 10,
   "metadata": {
    "collapsed": true,
    "nbgrader": {
     "grade": false,
     "locked": true,
     "solution": false
    }
   },
   "outputs": [
    {
     "name": "stdout",
     "output_type": "stream",
     "text": [
      "True\n"
     ]
    }
   ],
   "source": [
    "print(arr1 is arr_asarray)"
   ]
  },
  {
   "attachments": {},
   "cell_type": "markdown",
   "metadata": {
    "nbgrader": {
     "grade": false,
     "locked": true,
     "solution": false
    }
   },
   "source": [
    "### ``np.zeros()``\n",
    "In case you already know the size of the array you will need, it is common to initialize it with zeros first using the <code>np.zeros()</code> function, as shown below."
   ]
  },
  {
   "attachments": {},
   "cell_type": "markdown",
   "metadata": {},
   "source": [
    "Set a limit when printing the huge arrays we will generate."
   ]
  },
  {
   "cell_type": "code",
   "execution_count": 11,
   "metadata": {
    "tags": [
     "hide-input"
    ]
   },
   "outputs": [],
   "source": [
    "np.set_printoptions(threshold=1) "
   ]
  },
  {
   "attachments": {},
   "cell_type": "markdown",
   "metadata": {},
   "source": [
    "I know I will need an array with 100000 elements so I create it full of zeros first. Then, I assign the values I need to each element.\n",
    "in this example, I only wrote a `for` loop to assign random integer numbers between 0 and 9 to it. Note the use of `range(len(my_arr))`, we use this often to specify the range of the `for` loop to be of the same size as some array."
   ]
  },
  {
   "cell_type": "code",
   "execution_count": 18,
   "metadata": {
    "collapsed": true,
    "nbgrader": {
     "grade": false,
     "locked": true,
     "solution": false
    }
   },
   "outputs": [
    {
     "name": "stdout",
     "output_type": "stream",
     "text": [
      "my_arr with a bunch of zeros \n",
      "[0. 0. 0. ... 0. 0. 0.]\n",
      "\n",
      "#######################\n",
      "\n",
      "my_arr with random numbers \n",
      "[1. 0. 9. ... 7. 2. 4.]\n"
     ]
    }
   ],
   "source": [
    "\n",
    "my_arr = np.zeros(100000)\n",
    "print('my_arr with a bunch of zeros \\n{}\\n'.format(my_arr))\n",
    "print('#######################')\n",
    "\n",
    "import random\n",
    "\n",
    "for i in range(len(my_arr)): \n",
    "    my_arr[i] = random.randint(0,9)\n",
    "    \n",
    "print('\\nmy_arr with random numbers \\n{}'.format(my_arr))\n"
   ]
  },
  {
   "attachments": {},
   "cell_type": "markdown",
   "metadata": {
    "nbgrader": {
     "grade": false,
     "locked": true,
     "solution": false
    }
   },
   "source": [
    "Note that these arrays still have $100000$ elements, but due to our first line of code we truncated the print function to not print it completely — otherwise you would have to scroll a lot. :P "
   ]
  },
  {
   "attachments": {},
   "cell_type": "markdown",
   "metadata": {
    "nbgrader": {
     "grade": false,
     "locked": true,
     "solution": false
    }
   },
   "source": [
    "### ``np.min()``, ``np.max()`` and ``np.mean()``\n",
    "\n",
    "Numpy also provides various packages to help you process your data. You can, for instance, find out what is the minimum value of an array, or its mean. Your task is to find the minimum, maximum, and mean values of an array.\n",
    "\n",
    "Find the minimum, maximum and mean values of A_1 and print the results."
   ]
  },
  {
   "cell_type": "code",
   "execution_count": 26,
   "metadata": {},
   "outputs": [
    {
     "name": "stdout",
     "output_type": "stream",
     "text": [
      "The minimum value of A_1 is 1 \n",
      "\n",
      "The maximum value of A_1 is 13 \n",
      "\n",
      "The mean value of A_1 is 6.0 \n",
      "\n"
     ]
    }
   ],
   "source": [
    "A_1_min = np.min(A_1)\n",
    "A_1_max = np.max(A_1)\n",
    "A_1_mean = np.mean(A_1)\n",
    "\n",
    "print(f'The minimum value of A_1 is {A_1_min} \\n')\n",
    "print(f'The maximum value of A_1 is {A_1_max} \\n')\n",
    "print(f'The mean value of A_1 is {A_1_mean} \\n')"
   ]
  },
  {
   "attachments": {},
   "cell_type": "markdown",
   "metadata": {},
   "source": [
    "### ``np.arange()``\n",
    "\n",
    "Another useful function of the <b><code>numpy</code></b> module is <b><code>np.arange()</code></b>. First, let's see in the documentation what it does."
   ]
  },
  {
   "attachments": {},
   "cell_type": "markdown",
   "metadata": {},
   "source": [
    "It reads:<br><br><i><code>arange([start,] stop[, step,], dtype=None, *, like=None)<br><br>Return evenly spaced values within a given interval.</code></i><br><br>To make a number range you need to choose: <br>1) the starting point,<br>2) the endpoint,<br>3) the interval between each point<br><br>The reason why it reads <b><code>[start,] stop[, step,]</code></b> with square brackets, is that the <b><code>start</code></b> and the <b><code>step</code></b> can be omitted. If not specified, <b><code>start = 0</code></b> and <b><code>step = 1</code></b>, by default."
   ]
  },
  {
   "attachments": {},
   "cell_type": "markdown",
   "metadata": {},
   "source": [
    "::: {warning}\n",
    "Your endpoint is <b>not</b> included in the array. If you want to include the endpoint in the array, you have to specify the stop to be <b>endpoint + step</b>. This will be clearer in the following examples.\n",
    ":::"
   ]
  },
  {
   "attachments": {},
   "cell_type": "markdown",
   "metadata": {},
   "source": [
    "omitted start and step"
   ]
  },
  {
   "cell_type": "code",
   "execution_count": null,
   "metadata": {},
   "outputs": [
    {
     "name": "stdout",
     "output_type": "stream",
     "text": [
      "arr = [0 1 2 3 4]\n"
     ]
    }
   ],
   "source": [
    "arr = np.arange(5) \n",
    "print('arr =', arr)"
   ]
  },
  {
   "attachments": {},
   "cell_type": "markdown",
   "metadata": {},
   "source": [
    "As mentioned, the endpoint (5) is omitted. If you would like to include it:"
   ]
  },
  {
   "cell_type": "code",
   "execution_count": null,
   "metadata": {},
   "outputs": [
    {
     "name": "stdout",
     "output_type": "stream",
     "text": [
      "arr = [0 1 2 3 4 5]\n"
     ]
    }
   ],
   "source": [
    "arr = np.arange(5 + 1)\n",
    "print('arr =', arr)"
   ]
  },
  {
   "attachments": {},
   "cell_type": "markdown",
   "metadata": {},
   "source": [
    "Now, without omiting `start` nor `step`.  Without endpoint."
   ]
  },
  {
   "cell_type": "code",
   "execution_count": null,
   "metadata": {},
   "outputs": [
    {
     "name": "stdout",
     "output_type": "stream",
     "text": [
      "arr = [1.   1.01 1.02 ... 1.97 1.98 1.99]\n"
     ]
    }
   ],
   "source": [
    "arr = np.arange(1, 2, 0.01)\n",
    "print('arr =', arr)"
   ]
  },
  {
   "attachments": {},
   "cell_type": "markdown",
   "metadata": {},
   "source": [
    "Including endpoint"
   ]
  },
  {
   "cell_type": "code",
   "execution_count": null,
   "metadata": {},
   "outputs": [
    {
     "name": "stdout",
     "output_type": "stream",
     "text": [
      "arr = [1.   1.01 1.02 ... 1.98 1.99 2.  ]\n"
     ]
    }
   ],
   "source": [
    "arr = np.arange(1, 2 + 0.01, 0.01) \n",
    "print('arr =', arr)"
   ]
  },
  {
   "attachments": {},
   "cell_type": "markdown",
   "metadata": {},
   "source": [
    "You can also generate a descending array, by using negative steps"
   ]
  },
  {
   "cell_type": "code",
   "execution_count": null,
   "metadata": {},
   "outputs": [
    {
     "name": "stdout",
     "output_type": "stream",
     "text": [
      "arr = [10  9  8 ...  3  2  1]\n"
     ]
    }
   ],
   "source": [
    "arr = np.arange(10,0,-1)\n",
    "print('arr =', arr)"
   ]
  },
  {
   "attachments": {},
   "cell_type": "markdown",
   "metadata": {},
   "source": [
    "### ``np.sort()``\n",
    "\n",
    "You can also sort an array in the crescent order using <b><code>np.sort()</code></b>"
   ]
  },
  {
   "cell_type": "code",
   "execution_count": null,
   "metadata": {},
   "outputs": [
    {
     "name": "stdout",
     "output_type": "stream",
     "text": [
      "sorted_arr = [ 1  2  3 ...  8  9 10]\n"
     ]
    }
   ],
   "source": [
    "sorted_arr = np.sort(arr)\n",
    "print('sorted_arr =', sorted_arr)"
   ]
  },
  {
   "attachments": {},
   "cell_type": "markdown",
   "metadata": {},
   "source": [
    "### ``np.sum()``\n",
    "\n",
    "As the name clearly states, <b><code>np.sum()</code></b> returns the sum of an array. Let's try it out:"
   ]
  },
  {
   "cell_type": "code",
   "execution_count": 54,
   "metadata": {},
   "outputs": [
    {
     "name": "stdout",
     "output_type": "stream",
     "text": [
      "The sum of the array is 6\n"
     ]
    }
   ],
   "source": [
    "arr = ([1,2,3])\n",
    "my_sum = np.sum(arr)\n",
    "print(f'The sum of the array is {my_sum}')"
   ]
  }
 ],
 "metadata": {
  "hide_input": false,
  "kernelspec": {
   "display_name": "mude",
   "language": "python",
   "name": "python3"
  },
  "language_info": {
   "codemirror_mode": {
    "name": "ipython",
    "version": 3
   },
   "file_extension": ".py",
   "mimetype": "text/x-python",
   "name": "python",
   "nbconvert_exporter": "python",
   "pygments_lexer": "ipython3",
   "version": "3.11.9"
  },
  "latex_envs": {
   "LaTeX_envs_menu_present": true,
   "autoclose": false,
   "autocomplete": true,
   "bibliofile": "biblio.bib",
   "cite_by": "apalike",
   "current_citInitial": 1,
   "eqLabelWithNumbers": true,
   "eqNumInitial": 1,
   "hotkeys": {
    "equation": "Ctrl-E",
    "itemize": "Ctrl-I"
   },
   "labels_anchors": false,
   "latex_user_defs": false,
   "report_style_numbering": false,
   "user_envs_cfg": false
  },
  "varInspector": {
   "cols": {
    "lenName": 16,
    "lenType": 16,
    "lenVar": 40
   },
   "kernels_config": {
    "python": {
     "delete_cmd_postfix": "",
     "delete_cmd_prefix": "del ",
     "library": "var_list.py",
     "varRefreshCmd": "print(var_dic_list())"
    },
    "r": {
     "delete_cmd_postfix": ") ",
     "delete_cmd_prefix": "rm(",
     "library": "var_list.r",
     "varRefreshCmd": "cat(var_dic_list()) "
    }
   },
   "types_to_exclude": [
    "module",
    "function",
    "builtin_function_or_method",
    "instance",
    "_Feature"
   ],
   "window_display": false
  }
 },
 "nbformat": 4,
 "nbformat_minor": 2
}
