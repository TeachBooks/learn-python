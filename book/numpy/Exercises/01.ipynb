{
 "cells": [
  {
   "attachments": {},
   "cell_type": "markdown",
   "metadata": {},
   "source": [
    "# Airplane velocity\n",
    "\n",
    "## Example\n"
   ]
  },
  {
   "attachments": {},
   "cell_type": "markdown",
   "metadata": {},
   "source": [
    "\n",
    "An airplane is initially flying at an initial velocity of $v_0 = 85 \\ m/s$, when it starts accelerating horizontally by exerting a force of $3000 \\ N$. An aerospace engineer wants to know its instantaneous velocity, every second, for $1$ minute. The equation of air resistance is $F_{\\text{air}} = kv^2$ with $k = 0.24  \\ \\frac{kg}{m}$. The mass of the airplane is $2000 \\ kg$.<br><br>From physics we know that,<br><ol><li>$v_i = v_{i-1} + a_{i-1}(t_i-t_{i-1})$</li><li>$F_{\\text{air},i} = k\\cdot v_i^2$</li><li>$F_{\\text{R},i}=F - F_{\\text{air},i} = m\\cdot a_i$</li></ol><br>where $t_i$ refers to the $i$-th time instant and in our case $t_i-t_{i-1}=1$ s. Your task is to return <code>v</code>, a list containing the velocity of the plane at $t = 0 \\ s$, $t = 1 \\ s$, ..., $t = 60 \\ s$. (Therefore, <code>v</code> should have $61$ elements). "
   ]
  },
  {
   "attachments": {},
   "cell_type": "markdown",
   "metadata": {},
   "source": [
    "### Solution"
   ]
  },
  {
   "attachments": {},
   "cell_type": "markdown",
   "metadata": {},
   "source": [
    "* We start by importing numpy and defining the input variables to solve the problem. "
   ]
  },
  {
   "cell_type": "code",
   "execution_count": 8,
   "metadata": {},
   "outputs": [],
   "source": [
    "import numpy as np\n",
    "\n",
    "time = np.arange(0,61,1) # [s]\n",
    "\n",
    "velocity = np.zeros(len(time))    \n",
    "acceleration = np.zeros(len(time)) \n",
    "\n",
    "initial_velocity = 85 # [m/s]\n",
    "velocity[0] = initial_velocity # [m/s]\n",
    "force = 3000 # [N]\n",
    "k = 0.24 # [kg/m]\n",
    "airplane_mass = 2000 # [kg] "
   ]
  },
  {
   "attachments": {},
   "cell_type": "markdown",
   "metadata": {},
   "source": [
    "`````{admonition} Let's break it down\n",
    ":class: dropdown\n",
    "Here's a step-by-step explanation of the code:\n",
    "\n",
    "1. ``import numpy as np``: This line imports the NumPy library and assigns it the alias \"np\" for easier usage in the code.\n",
    "\n",
    "2. ``time = np.arange(0,61,1) # [s]``: This line creates an array called \"time\" using the ``arange`` function from NumPy. It starts from 0, goes up to 61 (exclusive), and increments by 1, resulting in an array with values [0, 1, 2, ..., 59, 60]. This represents time in seconds.\n",
    "\n",
    "3. ``velocity = np.zeros(len(time))``: This line creates an array called \"velocity\" using the `zeros` function from NumPy. It has the same length as the \"time\" array (i.e., the number of elements in the \"time\" array), and all its elements are initialized to 0. This will be used to store the velocity values for each time step.\n",
    "\n",
    "4. ``acceleration = np.zeros(len(time))``: This line creates an array called \"acceleration\" using the ``zeros`` function from NumPy. It has the same length as the \"time\" array, and all its elements are initialized to 0. This will be used to store the acceleration values for each time step.\n",
    "\n",
    "5. ``initial_velocity = 85 # [m/s]``: This line sets the initial velocity of the simulation to 85 meters per second. This value is assigned to the first element of the \"velocity\" array, as specified in the next line.\n",
    "\n",
    "6. ``velocity[0] = initial_velocity``: This line assigns the value of \"initial_velocity\" to the first element of the \"velocity\" array. This represents the initial velocity of the simulation at time t=0.\n",
    "\n",
    "7. Lastly, ``force = 3000 # [N]``, ``k = 0.24 # [kg/m]`` and ``airplane_mass = 2000 # [kg]``: sets the values of the variables that we will use in the next steps.\n",
    "\n",
    "`````"
   ]
  },
  {
   "attachments": {},
   "cell_type": "markdown",
   "metadata": {},
   "source": [
    "* We use the given equations to solve the problem. A for loop is used to compute the velocities."
   ]
  },
  {
   "cell_type": "code",
   "execution_count": 9,
   "metadata": {},
   "outputs": [
    {
     "name": "stdout",
     "output_type": "stream",
     "text": [
      "The velocities in m/s are:\n",
      " [ 85.    85.    85.63  86.25  86.86  87.45  88.04  88.61  89.16  89.71\n",
      "  90.25  90.77  91.28  91.78  92.27  92.75  93.21  93.67  94.12  94.56\n",
      "  94.98  95.4   95.81  96.21  96.6   96.98  97.35  97.71  98.07  98.41\n",
      "  98.75  99.08  99.4   99.72 100.02 100.32 100.61 100.9  101.18 101.45\n",
      " 101.71 101.97 102.22 102.47 102.71 102.94 103.17 103.4  103.61 103.82\n",
      " 104.03 104.23 104.43 104.62 104.81 104.99 105.17 105.34 105.51 105.67\n",
      " 105.83]\n"
     ]
    }
   ],
   "source": [
    "for i in range(1,len(time)):\n",
    "    velocity[i] = velocity[i-1] + acceleration[i-1]*(time[i]-time[i-1])\n",
    "    air_resistance = k * velocity[i]**2\n",
    "    resistance = force - air_resistance\n",
    "    acceleration[i] = resistance / airplane_mass\n",
    "\n",
    "print(f'The velocities in m/s are:\\n {np.round(velocity,2)}' )"
   ]
  },
  {
   "attachments": {},
   "cell_type": "markdown",
   "metadata": {},
   "source": [
    "## Exercise\n",
    "\n",
    "An airplane is initially flying at a speed of $v_0 = 105$ m/s, when it starts accelerating horizontally by exerting a force of $4000$ $N$. The mass of the airplane is $2500$ $kg$. Compute the instantaneous speed, every second, for half of a minute and answer the following questions.\n",
    "\n",
    "* What is the acceleration of the plane at 30 seconds?\n",
    "* What is the velocity of the plane at 29 seconds?\n"
   ]
  },
  {
   "attachments": {},
   "cell_type": "markdown",
   "metadata": {},
   "source": [
    "`````{admonition} Toolbox\n",
    ":class: tip\n",
    "Here are your tools to solve this exercise:\n",
    "\n",
    "* Import numpy and load the data set. \n",
    "* Define the input variables.\n",
    "* Use the given equations on the example to compute $v$ and $a$\n",
    "\n",
    "You can use the following numpy functions (but not limited to): \n",
    "``np.arange()``, ``np.zeros()``, ``np.max()``,  ``np.where()``, ``np.round()``, ``len``\n",
    "\n",
    "`````"
   ]
  },
  {
   "attachments": {},
   "cell_type": "markdown",
   "metadata": {},
   "source": [
    "`````{admonition} Jupyter Lite session\n",
    ":class: tip\n",
    "Start a Jupiter lite session <a href=\"https://tudelft-citg.github.io/learn-python-calculator/repl/index.html?toolbar=1&kernel=python&code=print('You may begin!')\" target=\"_blank\">here</a> to open a new tab where you can freely write and run your code.\n",
    "\n",
    "Wait until the message \"<tt>You may begin!</tt>\" is printed. \n",
    "`````"
   ]
  },
  {
   "cell_type": "markdown",
   "metadata": {},
   "source": [
    "<iframe src=\"https://tudelft.h5p.com/content/1292462458714206497/embed\" aria-label=\"AirplaneVelocity\" width=\"1088\" height=\"637\" frameborder=\"0\" allowfullscreen=\"allowfullscreen\" allow=\"autoplay *; geolocation *; microphone *; camera *; midi *; encrypted-media *\"></iframe><script src=\"https://tudelft.h5p.com/js/h5p-resizer.js\" charset=\"UTF-8\"></script>"
   ]
  },
  {
   "cell_type": "code",
   "execution_count": null,
   "metadata": {
    "tags": [
     "remove-input"
    ]
   },
   "outputs": [],
   "source": [
    "# jupyterquiz-import\n",
    "#from jupyterquiz import display_quiz\n",
    "\n",
    "# jupyterquiz-exercise-5-1\n",
    "#display_quiz('01.json')"
   ]
  }
 ],
 "metadata": {
  "kernelspec": {
   "display_name": "base",
   "language": "python",
   "name": "python3"
  },
  "language_info": {
   "codemirror_mode": {
    "name": "ipython",
    "version": 3
   },
   "file_extension": ".py",
   "mimetype": "text/x-python",
   "name": "python",
   "nbconvert_exporter": "python",
   "pygments_lexer": "ipython3",
   "version": "3.8.13"
  },
  "orig_nbformat": 4
 },
 "nbformat": 4,
 "nbformat_minor": 2
}
