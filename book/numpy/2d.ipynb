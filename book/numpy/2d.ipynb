{
 "cells": [
  {
   "cell_type": "code",
   "execution_count": 1,
   "metadata": {
    "collapsed": true,
    "nbgrader": {
     "grade": false,
     "locked": true,
     "solution": false
    }
   },
   "outputs": [],
   "source": [
    "import numpy as np"
   ]
  },
  {
   "attachments": {},
   "cell_type": "markdown",
   "metadata": {
    "nbgrader": {
     "grade": false,
     "locked": true,
     "solution": false
    }
   },
   "source": [
    "## Two-Dimensional arrays and matrices\n",
    "\n",
    "As mentioned earlier, <code><b>numpy</b></code> is not solely built for 1D arrays $-$ it's built to work with multidimensional arrays! So, let's hop into 2D arrays and matrices, which you have already encountered in Linear Algebra. You can construct your own matrix using the <b><code>np.array()</code></b> function, as shown below."
   ]
  },
  {
   "attachments": {},
   "cell_type": "markdown",
   "metadata": {
    "nbgrader": {
     "grade": false,
     "locked": true,
     "solution": false
    }
   },
   "source": [
    ":::{note}\n",
    "A matrix is strictly 2D. Furthermore, a 2D array is not the same as a 2D matrix. While a matrix is a 2D array, a 2D array is **not** a matrix, per se. \n",
    ":::\n"
   ]
  },
  {
   "attachments": {},
   "cell_type": "markdown",
   "metadata": {},
   "source": [
    "Let's create a matrix"
   ]
  },
  {
   "cell_type": "code",
   "execution_count": 30,
   "metadata": {
    "collapsed": true,
    "nbgrader": {
     "grade": false,
     "locked": true,
     "solution": false
    }
   },
   "outputs": [
    {
     "name": "stdout",
     "output_type": "stream",
     "text": [
      "my_mat1 is \n",
      "[[2 2]\n",
      " [2 2]]\n",
      "and its type is <class 'numpy.ndarray'>\n"
     ]
    }
   ],
   "source": [
    "my_mat1 = np.array([[2,2],[2,2]])\n",
    "print('my_mat1 is \\n{}\\nand its type is {}'.format(my_mat1,type(my_mat1)))"
   ]
  },
  {
   "attachments": {},
   "cell_type": "markdown",
   "metadata": {},
   "source": [
    "Let's create a second matrix so we can do some operations with `my_mat1`"
   ]
  },
  {
   "cell_type": "code",
   "execution_count": 31,
   "metadata": {
    "collapsed": true,
    "nbgrader": {
     "grade": false,
     "locked": true,
     "solution": false
    }
   },
   "outputs": [],
   "source": [
    "my_mat2 = np.array([[1,0],[2,1]])"
   ]
  },
  {
   "attachments": {},
   "cell_type": "markdown",
   "metadata": {},
   "source": [
    "Now let's multiply `my_mat2` x `my_mat1`.\n",
    "\n",
    "Let's also multiply `my_mat1` x `my_mat2` (changed order)"
   ]
  },
  {
   "cell_type": "code",
   "execution_count": 32,
   "metadata": {
    "collapsed": true,
    "nbgrader": {
     "grade": false,
     "locked": true,
     "solution": false
    }
   },
   "outputs": [
    {
     "name": "stdout",
     "output_type": "stream",
     "text": [
      "my_mat2 * my_mat1 is: \n",
      "[[2 0]\n",
      " [4 2]]\n",
      "\n",
      "###########\n",
      "\n",
      "my_mat1 * my_mat2 is: \n",
      "[[2 0]\n",
      " [4 2]]\n"
     ]
    }
   ],
   "source": [
    "\n",
    "print('my_mat2 * my_mat1 is: \\n{}'.format(my_mat2 * my_mat1))\n",
    "print('\\n###########\\n')\n",
    "\n",
    "print('my_mat1 * my_mat2 is: \\n{}'.format(my_mat1 * my_mat2))"
   ]
  },
  {
   "attachments": {},
   "cell_type": "markdown",
   "metadata": {
    "nbgrader": {
     "grade": false,
     "locked": true,
     "solution": false
    }
   },
   "source": [
    "### ``np.dot()``\n",
    "\n",
    "Ok, this is not as expected. As you have seen in Linear Algebra, changing the order of the products <b>affects</b> the final result, when multiplying matrices. You may also check the result by calculating the matrix products by hand. What actually happened, is that Python performed an <b>element-wise</b> multiplication... But, what if you would like to apply matrix multiplication? We will show three options for that."
   ]
  },
  {
   "attachments": {},
   "cell_type": "markdown",
   "metadata": {},
   "source": [
    "* Option 1 - ``np.dot(arr1 ,  arr2)``"
   ]
  },
  {
   "cell_type": "code",
   "execution_count": 33,
   "metadata": {
    "collapsed": true,
    "nbgrader": {
     "grade": false,
     "locked": true,
     "solution": false
    }
   },
   "outputs": [
    {
     "name": "stdout",
     "output_type": "stream",
     "text": [
      "np.dot(my_mat2 , my_mat1) is: \n",
      "[[2 2]\n",
      " [6 6]]\n",
      "\n",
      "###########\n",
      "\n",
      "np.dot(my_mat1 , my_mat2) is:\n",
      "[[6 2]\n",
      " [6 2]]\n"
     ]
    }
   ],
   "source": [
    "print('np.dot(my_mat2 , my_mat1) is: \\n{}'.format(np.dot(my_mat2 , my_mat1)))\n",
    "\n",
    "print('\\n###########\\n')\n",
    "\n",
    "print('np.dot(my_mat1 , my_mat2) is:\\n{}'.format(np.dot(my_mat1 , my_mat2)))\n"
   ]
  },
  {
   "attachments": {},
   "cell_type": "markdown",
   "metadata": {
    "nbgrader": {
     "grade": false,
     "locked": true,
     "solution": false
    }
   },
   "source": [
    "Check the answers with the results you got when calculating by hand! This is better, isn't it?"
   ]
  },
  {
   "attachments": {},
   "cell_type": "markdown",
   "metadata": {},
   "source": [
    "* Option 2 - ``arr1.dot(arr2)``"
   ]
  },
  {
   "cell_type": "code",
   "execution_count": 34,
   "metadata": {
    "collapsed": true,
    "nbgrader": {
     "grade": false,
     "locked": true,
     "solution": false
    }
   },
   "outputs": [
    {
     "name": "stdout",
     "output_type": "stream",
     "text": [
      "my_mat2.dot(my_mat1) is:\n",
      "[[2 2]\n",
      " [6 6]]\n",
      "\n",
      "###########\n",
      "\n",
      "my_mat1.dot(my_mat2) is: \n",
      "[[6 2]\n",
      " [6 2]]\n"
     ]
    }
   ],
   "source": [
    "print('my_mat2.dot(my_mat1) is:\\n{}'.format(my_mat2.dot(my_mat1)))\n",
    "\n",
    "print('\\n###########\\n')\n",
    "\n",
    "print('my_mat1.dot(my_mat2) is: \\n{}'.format(my_mat1.dot(my_mat2)))\n"
   ]
  },
  {
   "attachments": {},
   "cell_type": "markdown",
   "metadata": {},
   "source": [
    "* Option 3 - ``arr1 @ arr2``"
   ]
  },
  {
   "cell_type": "code",
   "execution_count": 35,
   "metadata": {
    "collapsed": true,
    "nbgrader": {
     "grade": false,
     "locked": true,
     "solution": false
    }
   },
   "outputs": [
    {
     "name": "stdout",
     "output_type": "stream",
     "text": [
      "my_mat2 @ my_mat1 is:\n",
      "[[2 2]\n",
      " [6 6]]\n",
      "\n",
      "###########\n",
      "\n",
      "my_mat1 @ my_mat2 is: \n",
      "[[6 2]\n",
      " [6 2]]\n"
     ]
    }
   ],
   "source": [
    "print('my_mat2 @ my_mat1 is:\\n{}'.format(my_mat2 @ my_mat1))\n",
    "\n",
    "print('\\n###########\\n')\n",
    "\n",
    "print('my_mat1 @ my_mat2 is: \\n{}'.format(my_mat1 @ my_mat2))"
   ]
  },
  {
   "attachments": {},
   "cell_type": "markdown",
   "metadata": {
    "nbgrader": {
     "grade": false,
     "locked": true,
     "solution": false
    }
   },
   "source": [
    "As you see from the previous examples, there are at least three different ways to multiply 2D arrays in the same way that you would multiply matrices."
   ]
  },
  {
   "attachments": {},
   "cell_type": "markdown",
   "metadata": {
    "nbgrader": {
     "grade": false,
     "locked": true,
     "solution": false
    }
   },
   "source": [
    "\n",
    "Given the matrices $A$, $B$, and $C$ below, calculate $D = AB\\ C^{-1}$\n",
    "\n",
    "$$A = \\begin{bmatrix}2 & 3 \\\\ 4 & 5 \\end{bmatrix}$$\n",
    "$$B = \\begin{bmatrix}2 & 1 \\\\ 1 & 2\\end{bmatrix}$$\n",
    "$$C = \\begin{bmatrix}6 & 1 \\\\ 1 & 1\\end{bmatrix}$$\n"
   ]
  },
  {
   "attachments": {},
   "cell_type": "markdown",
   "metadata": {},
   "source": [
    "Let's create the matrices A,B, and C"
   ]
  },
  {
   "cell_type": "code",
   "execution_count": 2,
   "metadata": {
    "collapsed": true
   },
   "outputs": [],
   "source": [
    "Mat_A = np.array([[2,3],[4,5]])\n",
    "Mat_B = np.array([[2,1],[1,2]])\n",
    "Mat_C = np.array([[6,1],[1,1]])\n"
   ]
  },
  {
   "attachments": {},
   "cell_type": "markdown",
   "metadata": {},
   "source": [
    "Invert matrix $C$ using ``np.linalg.inv(Mat_C)`` and perform $A\\times B\\times C_{inverse}$."
   ]
  },
  {
   "cell_type": "code",
   "execution_count": 3,
   "metadata": {},
   "outputs": [
    {
     "name": "stdout",
     "output_type": "stream",
     "text": [
      "[[-0.2  8.2]\n",
      " [-0.2 14.2]]\n"
     ]
    }
   ],
   "source": [
    "Mat_C_inv = np.linalg.inv(Mat_C)\n",
    "Mat_D = (Mat_A @ Mat_B) @ Mat_C_inv\n",
    "print(Mat_D)"
   ]
  },
  {
   "attachments": {},
   "cell_type": "markdown",
   "metadata": {},
   "source": [
    "### ``np.shape()``"
   ]
  },
  {
   "attachments": {},
   "cell_type": "markdown",
   "metadata": {},
   "source": [
    "A very useful tool of the <code>numpy</code> package is the <code>np.shape()</code> function. When dealing with very large arrays, you often need to find out how many elements are in there, or how many rows and columns there are. Your task for this exercise is to find out how many elements there are in <code>random_array</code> and how many rows and columns <code>random_matrix</code> has."
   ]
  },
  {
   "attachments": {},
   "cell_type": "markdown",
   "metadata": {},
   "source": [
    "how many elements are in `Mat_D`? \n",
    "\n",
    "how many rows and columns there are `Mat_D`?"
   ]
  },
  {
   "cell_type": "code",
   "execution_count": null,
   "metadata": {},
   "outputs": [
    {
     "name": "stdout",
     "output_type": "stream",
     "text": [
      "There are 2 elements in Mat_D\n",
      "\n",
      "The shape of Mat_D is (2, 2). Hence, there are 2 rows and 2 columns in Mat_D.\n",
      "\n"
     ]
    }
   ],
   "source": [
    "print(f'There are {len(Mat_D)} elements in Mat_D\\n')\n",
    "\n",
    "print(f'The shape of Mat_D is {np.shape(Mat_D)}. Hence, there are {np.shape(Mat_D)[0]} rows and {np.shape(Mat_D)[1]} columns in Mat_D.\\n')"
   ]
  },
  {
   "attachments": {},
   "cell_type": "markdown",
   "metadata": {
    "nbgrader": {
     "grade": false,
     "locked": true,
     "solution": false
    }
   },
   "source": [
    "Ok, now let's create a 2D array and play with it a bit, to show more functionalities of the <b><code>numpy</code></b> module...\n",
    "\n",
    "Let's generate a 10x11 array (10 rows, 11 columns)."
   ]
  },
  {
   "cell_type": "code",
   "execution_count": null,
   "metadata": {
    "collapsed": true,
    "nbgrader": {
     "grade": false,
     "locked": true,
     "solution": false
    }
   },
   "outputs": [],
   "source": [
    "\n",
    "arr = np.zeros([10,11])\n",
    "np.set_printoptions(threshold=1000)\n",
    "print(arr)"
   ]
  },
  {
   "attachments": {},
   "cell_type": "markdown",
   "metadata": {},
   "source": [
    "Now let's give it the values 0,1,2,3,...,109. Since a 2D numpy array is ALWAYS regular, all rows have the same number of elements, which, in turn, is the number of columns."
   ]
  },
  {
   "cell_type": "code",
   "execution_count": null,
   "metadata": {
    "collapsed": true,
    "nbgrader": {
     "grade": false,
     "locked": true,
     "solution": false
    }
   },
   "outputs": [],
   "source": [
    "cnt = 0\n",
    "for i in range(len(arr)):\n",
    "    for j in range (len(arr[0])): \n",
    "        arr[i,j] = cnt            \n",
    "        cnt+=1\n",
    "        \n",
    "print(arr)"
   ]
  },
  {
   "attachments": {},
   "cell_type": "markdown",
   "metadata": {
    "nbgrader": {
     "grade": false,
     "locked": true,
     "solution": false
    }
   },
   "source": [
    "\n",
    "### Conditions within arrays\n",
    "\n",
    "Similar to what you've seen in Notebook 2, you can also use conditions to check for values within an array. Let's say you want to select the elements within <b><code>arr</code></b> that are bigger than $100$:"
   ]
  },
  {
   "cell_type": "code",
   "execution_count": 74,
   "metadata": {
    "collapsed": true,
    "nbgrader": {
     "grade": false,
     "locked": true,
     "solution": false
    }
   },
   "outputs": [
    {
     "data": {
      "text/plain": [
       "array([200, 300])"
      ]
     },
     "execution_count": 74,
     "metadata": {},
     "output_type": "execute_result"
    }
   ],
   "source": [
    "arr = np.array([[60,70],[200,300],[1,2],[40,45]])\n",
    "arr[arr>100]"
   ]
  },
  {
   "attachments": {},
   "cell_type": "markdown",
   "metadata": {
    "nbgrader": {
     "grade": false,
     "locked": true,
     "solution": false
    }
   },
   "source": [
    "If you want to know how many elements those are, you can simply check the length:"
   ]
  },
  {
   "cell_type": "code",
   "execution_count": 75,
   "metadata": {
    "collapsed": true,
    "nbgrader": {
     "grade": false,
     "locked": true,
     "solution": false
    }
   },
   "outputs": [
    {
     "data": {
      "text/plain": [
       "2"
      ]
     },
     "execution_count": 75,
     "metadata": {},
     "output_type": "execute_result"
    }
   ],
   "source": [
    "len(arr[arr>100])"
   ]
  },
  {
   "attachments": {},
   "cell_type": "markdown",
   "metadata": {
    "nbgrader": {
     "grade": false,
     "locked": true,
     "solution": false
    }
   },
   "source": [
    "Now, instead of counting how many elements are bigger than $100$, let's say you want to set all values bigger than $100$ to be $0$. You could do the following:"
   ]
  },
  {
   "cell_type": "code",
   "execution_count": 76,
   "metadata": {
    "collapsed": true,
    "nbgrader": {
     "grade": false,
     "locked": true,
     "solution": false
    }
   },
   "outputs": [
    {
     "name": "stdout",
     "output_type": "stream",
     "text": [
      "[[60 70]\n",
      " [ 0  0]\n",
      " [ 1  2]\n",
      " [40 45]]\n"
     ]
    }
   ],
   "source": [
    "arr[arr>100] = 0\n",
    "print(arr)"
   ]
  },
  {
   "attachments": {},
   "cell_type": "markdown",
   "metadata": {
    "nbgrader": {
     "grade": false,
     "locked": true,
     "solution": false
    }
   },
   "source": [
    "You can also include multiple conditions... say you want to change all values between $(50,80)$ to be $-1$, then:"
   ]
  },
  {
   "attachments": {},
   "cell_type": "markdown",
   "metadata": {},
   "source": [
    "Note that the & means AND, so both conditions must apply."
   ]
  },
  {
   "cell_type": "code",
   "execution_count": 77,
   "metadata": {
    "collapsed": true,
    "nbgrader": {
     "grade": false,
     "locked": true,
     "solution": false
    }
   },
   "outputs": [
    {
     "name": "stdout",
     "output_type": "stream",
     "text": [
      "[[-1 -1]\n",
      " [ 0  0]\n",
      " [ 1  2]\n",
      " [40 45]]\n"
     ]
    }
   ],
   "source": [
    "arr[(arr>50) & (arr<80)] = -1 \n",
    "print(arr)"
   ]
  },
  {
   "attachments": {},
   "cell_type": "markdown",
   "metadata": {
    "nbgrader": {
     "grade": false,
     "locked": true,
     "solution": false
    }
   },
   "source": [
    "Say you want to change all values between $[0,10]$ or values between $[40,50)$, to $1$. Then:"
   ]
  },
  {
   "cell_type": "code",
   "execution_count": 78,
   "metadata": {
    "collapsed": true,
    "nbgrader": {
     "grade": false,
     "locked": true,
     "solution": false
    }
   },
   "outputs": [
    {
     "name": "stdout",
     "output_type": "stream",
     "text": [
      "[[-1 -1]\n",
      " [ 1  1]\n",
      " [ 1  1]\n",
      " [ 1  1]]\n"
     ]
    }
   ],
   "source": [
    "arr[((arr>=0) & (arr<=10)) | (arr>=40) & (arr<50)] = 1 \n",
    "print(arr)"
   ]
  },
  {
   "attachments": {},
   "cell_type": "markdown",
   "metadata": {
    "nbgrader": {
     "grade": false,
     "locked": true,
     "solution": false
    }
   },
   "source": [
    "::: {note}\n",
    "* The notation $[40,50)$ means every value between $40$ and $50$, including $40$ but excluding $50$; similar to $(40 \\leq value < 50)$.\n",
    "* The notation <b><code>&</code></b> means <i>'and'</i>, the notation <b><code>|</code></b> means <i>'or'</i>.\n",
    ":::"
   ]
  },
  {
   "attachments": {},
   "cell_type": "markdown",
   "metadata": {
    "nbgrader": {
     "grade": false,
     "locked": true,
     "solution": false
    }
   },
   "source": [
    "### ``np.where()`` and ``np.astype()``\n",
    "\n",
    "Another useful way to modify values within your array is using the <b><code>np.where()</code></b> function. Let's see how it works.\n",
    "\n",
    "Let's reset `arr` and test `np.where`."
   ]
  },
  {
   "cell_type": "code",
   "execution_count": 81,
   "metadata": {
    "collapsed": true,
    "nbgrader": {
     "grade": false,
     "locked": true,
     "solution": false
    }
   },
   "outputs": [
    {
     "name": "stdout",
     "output_type": "stream",
     "text": [
      "<class 'tuple'>\n"
     ]
    }
   ],
   "source": [
    "arr = np.zeros([10,11])\n",
    "\n",
    "cnt = 0\n",
    "for i in range(len(arr)):\n",
    "    for j in range (len(arr[0])): \n",
    "        arr[i,j] = cnt            \n",
    "        cnt+=1\n",
    "        \n",
    "arr2 = np.where(arr>50)\n",
    "print(type(arr2))"
   ]
  },
  {
   "attachments": {},
   "cell_type": "markdown",
   "metadata": {
    "nbgrader": {
     "grade": false,
     "locked": true,
     "solution": false
    }
   },
   "source": [
    "\n",
    "Ok, so using <b><code>np.where()</code></b> returns a tuple. Let's transform it into an array, check its shape, and its elements."
   ]
  },
  {
   "cell_type": "code",
   "execution_count": 80,
   "metadata": {
    "collapsed": true,
    "nbgrader": {
     "grade": false,
     "locked": true,
     "solution": false
    }
   },
   "outputs": [
    {
     "name": "stdout",
     "output_type": "stream",
     "text": [
      "(2, 59)\n",
      "\n",
      "\n",
      "------------\n",
      "[[ 4  4  4 ...  9  9  9]\n",
      " [ 7  8  9 ...  8  9 10]]\n"
     ]
    }
   ],
   "source": [
    "arr2 = np.array(arr2)\n",
    "print(arr2.shape)\n",
    "print('\\n\\n------------')\n",
    "print(arr2)"
   ]
  },
  {
   "attachments": {},
   "cell_type": "markdown",
   "metadata": {
    "nbgrader": {
     "grade": false,
     "locked": true,
     "solution": false
    }
   },
   "source": [
    "Ok.. so it looks like <b><code>np.where()</code></b> returned a tuple with the index values where <b><code>arr > 50</code></b>. For instance, the first element of each row of <b><code>arr2</code></b> is the first position where <b><code>arr > 50</code></b>, so <b><code>arr[4][7]</code></b> should return $51$. Let's try it out."
   ]
  },
  {
   "cell_type": "code",
   "execution_count": 82,
   "metadata": {
    "collapsed": true,
    "nbgrader": {
     "grade": false,
     "locked": true,
     "solution": false
    }
   },
   "outputs": [
    {
     "data": {
      "text/plain": [
       "51.0"
      ]
     },
     "execution_count": 82,
     "metadata": {},
     "output_type": "execute_result"
    }
   ],
   "source": [
    "arr[4][7]"
   ]
  },
  {
   "attachments": {},
   "cell_type": "markdown",
   "metadata": {
    "nbgrader": {
     "grade": false,
     "locked": true,
     "solution": false
    }
   },
   "source": [
    "Indeed that's how <b><code>np.where()</code></b> works. It also has similar functionality to the one we described above with <b><code>arr[arr>100] = 0</code></b>. Like this:"
   ]
  },
  {
   "cell_type": "code",
   "execution_count": 83,
   "metadata": {
    "collapsed": true,
    "nbgrader": {
     "grade": false,
     "locked": true,
     "solution": false
    }
   },
   "outputs": [
    {
     "name": "stdout",
     "output_type": "stream",
     "text": [
      "[[  0.   1.   2. ...   8.   9.  10.]\n",
      " [ 11.  12.  13. ...  19.  20.  21.]\n",
      " [ 22.  23.  24. ...  30.  31.  32.]\n",
      " ...\n",
      " [ 77.  78.  79. ...  85.  86.  87.]\n",
      " [ 88.  89.  90. ...  96.  97.  98.]\n",
      " [ 99. 100.   0. ...   0.   0.   0.]]\n"
     ]
    }
   ],
   "source": [
    "new_arr = np.where(arr>100,0,arr)\n",
    "print(new_arr)"
   ]
  },
  {
   "attachments": {},
   "cell_type": "markdown",
   "metadata": {
    "nbgrader": {
     "grade": false,
     "locked": true,
     "solution": false
    }
   },
   "source": [
    "So, <b><code>np.where()</code></b> can be used in two ways. Either to return a tuple with the index of values that fall under the specified condition; or, to return a modified array following the specified condition.<br><Br> In the above case, <b><code>new_arr = np.where(arr>100,0,arr)</code></b> reads: <b>where</b> arr>100, <b>return</b> 0, <b>otherwise</b> return arr"
   ]
  },
  {
   "attachments": {},
   "cell_type": "markdown",
   "metadata": {
    "nbgrader": {
     "grade": false,
     "locked": true,
     "solution": false
    }
   },
   "source": [
    "Lastly, we can change the type of variables within an array with the <b><code>np.astype()</code></b> function. Below a quick example:"
   ]
  },
  {
   "cell_type": "code",
   "execution_count": 84,
   "metadata": {
    "collapsed": true,
    "nbgrader": {
     "grade": false,
     "locked": true,
     "solution": false
    }
   },
   "outputs": [
    {
     "name": "stdout",
     "output_type": "stream",
     "text": [
      "[1.12 2.5  3.8 ]\n"
     ]
    }
   ],
   "source": [
    "arr_float = np.array([1.12,2.5,3.8], dtype='float')\n",
    "print(arr_float)"
   ]
  },
  {
   "cell_type": "code",
   "execution_count": 85,
   "metadata": {
    "collapsed": true,
    "nbgrader": {
     "grade": false,
     "locked": true,
     "solution": false
    }
   },
   "outputs": [
    {
     "name": "stdout",
     "output_type": "stream",
     "text": [
      "[1 2 3]\n"
     ]
    }
   ],
   "source": [
    "arr_int = arr_float.astype(int)\n",
    "print(arr_int)"
   ]
  },
  {
   "attachments": {},
   "cell_type": "markdown",
   "metadata": {
    "nbgrader": {
     "grade": false,
     "locked": true,
     "solution": false
    }
   },
   "source": [
    "Well.. apparently it worked, all numbers have been rounded down to their closer integer."
   ]
  },
  {
   "attachments": {},
   "cell_type": "markdown",
   "metadata": {
    "nbgrader": {
     "grade": false,
     "locked": true,
     "solution": false
    }
   },
   "source": [
    "### ``np.argmax()`` and ``np.argmin()``\n",
    "\n",
    "Other functions that assist you in localizing some values within an array are the <b><code>np.argmax()</code></b> and <b><code>np.argmin()</code></b> functions. As the name states, they return the first index with the max (or min) value. Let's check some quick examples:"
   ]
  },
  {
   "cell_type": "code",
   "execution_count": 86,
   "metadata": {
    "collapsed": true,
    "nbgrader": {
     "grade": false,
     "locked": true,
     "solution": false
    }
   },
   "outputs": [
    {
     "name": "stdout",
     "output_type": "stream",
     "text": [
      "0 109\n"
     ]
    }
   ],
   "source": [
    "print(np.argmin(arr),np.argmax(arr))"
   ]
  },
  {
   "attachments": {},
   "cell_type": "markdown",
   "metadata": {
    "nbgrader": {
     "grade": false,
     "locked": true,
     "solution": false
    }
   },
   "source": [
    "No surprises there.. the index where <code>arr</code> has its minimum value is $0$, and it has its maximum at $109$. Below an example of how these functions might be useful:"
   ]
  },
  {
   "attachments": {},
   "cell_type": "markdown",
   "metadata": {
    "nbgrader": {
     "grade": false,
     "locked": true,
     "solution": false
    }
   },
   "source": [
    "Say you have an array with the maximum temperature of each month in the NL, and you would like to know which month had the temperature closest to $15$ degrees."
   ]
  },
  {
   "cell_type": "code",
   "execution_count": 87,
   "metadata": {
    "collapsed": true,
    "nbgrader": {
     "grade": false,
     "locked": true,
     "solution": false
    }
   },
   "outputs": [],
   "source": [
    "temp_NL = np.array([3.1,3.3,6.2,9.2,13.1,15.6,17.9,17.5,14.5,10.7,6.7,3.7]) "
   ]
  },
  {
   "attachments": {},
   "cell_type": "markdown",
   "metadata": {
    "nbgrader": {
     "grade": false,
     "locked": true,
     "solution": false
    }
   },
   "source": [
    "You can use the `abs()` and `np.argmin()` functions to find out which month had the temperature closest to $15$ degrees.\n",
    "\n",
    "`dif_arr` is an array with the monthly (absolute) deviations from 15 degrees, now you only need to find where this deviation was the smallest using `np.argmin()`."
   ]
  },
  {
   "cell_type": "code",
   "execution_count": 88,
   "metadata": {
    "collapsed": true,
    "nbgrader": {
     "grade": false,
     "locked": true,
     "solution": false
    }
   },
   "outputs": [
    {
     "name": "stdout",
     "output_type": "stream",
     "text": [
      "8\n"
     ]
    }
   ],
   "source": [
    "dif_arr = abs(temp_NL - 15) \n",
    "    \n",
    "min_temp_indx = np.argmin(dif_arr)\n",
    "print(min_temp_indx)"
   ]
  },
  {
   "attachments": {},
   "cell_type": "markdown",
   "metadata": {
    "nbgrader": {
     "grade": false,
     "locked": true,
     "solution": false
    }
   },
   "source": [
    "The month with the temperature closest to $15$ was the month with index $8$, which is September. (Recall 0-th based index, therefore index 8 corresponds to the $9^{th}$ month = September)."
   ]
  },
  {
   "attachments": {},
   "cell_type": "markdown",
   "metadata": {
    "nbgrader": {
     "grade": false,
     "locked": true,
     "solution": false
    }
   },
   "source": [
    "### ``np.transpose()``\n",
    "\n",
    "The function <code>np.transpose()</code> is another helpful function. It returns the transpose of an array (or matrix). Below some examples.\n",
    "\n",
    "Let's generate a (1,10) array with random int numbers between 0 and 100."
   ]
  },
  {
   "cell_type": "code",
   "execution_count": 89,
   "metadata": {
    "collapsed": true,
    "nbgrader": {
     "grade": false,
     "locked": true,
     "solution": false
    }
   },
   "outputs": [
    {
     "name": "stdout",
     "output_type": "stream",
     "text": [
      "[[24 41 12 ... 17 92 24]]\n"
     ]
    }
   ],
   "source": [
    "x = np.random.randint(100,size = (1,10))\n",
    "print(x)"
   ]
  },
  {
   "attachments": {},
   "cell_type": "markdown",
   "metadata": {},
   "source": [
    "Now, if we transpose the array:"
   ]
  },
  {
   "cell_type": "code",
   "execution_count": 90,
   "metadata": {
    "collapsed": true,
    "nbgrader": {
     "grade": false,
     "locked": true,
     "solution": false
    }
   },
   "outputs": [
    {
     "name": "stdout",
     "output_type": "stream",
     "text": [
      "[[24]\n",
      " [41]\n",
      " [12]\n",
      " ...\n",
      " [17]\n",
      " [92]\n",
      " [24]]\n"
     ]
    }
   ],
   "source": [
    "x_transpose = np.transpose(x)\n",
    "print(x_transpose)"
   ]
  },
  {
   "attachments": {},
   "cell_type": "markdown",
   "metadata": {},
   "source": [
    "we can also see that the new shape is (10,1)"
   ]
  },
  {
   "cell_type": "code",
   "execution_count": 91,
   "metadata": {
    "collapsed": true,
    "nbgrader": {
     "grade": false,
     "locked": true,
     "solution": false
    }
   },
   "outputs": [
    {
     "name": "stdout",
     "output_type": "stream",
     "text": [
      "(10, 1)\n"
     ]
    }
   ],
   "source": [
    "print(x_transpose.shape)"
   ]
  },
  {
   "attachments": {},
   "cell_type": "markdown",
   "metadata": {
    "nbgrader": {
     "grade": false,
     "locked": true,
     "solution": false
    }
   },
   "source": [
    "Recall the equation <b>$A x = b$</b> from Linear Algebra, with $A$ being an $m$ x $n$ Matrix. Here, $A x$ only exists if  $x$ has an $n$ x $1$ shape. In this scenario, the <b><code>np.transpose()</code></b> could come in handy. Let's look at the below example.\n",
    "\n",
    "Let's create a 10 x 10 matrix."
   ]
  },
  {
   "cell_type": "code",
   "execution_count": 92,
   "metadata": {
    "collapsed": true,
    "nbgrader": {
     "grade": false,
     "locked": true,
     "solution": false
    }
   },
   "outputs": [
    {
     "name": "stdout",
     "output_type": "stream",
     "text": [
      "[[0 8 9 ... 0 8 6]\n",
      " [2 5 7 ... 0 6 0]\n",
      " [2 0 7 ... 3 5 9]\n",
      " ...\n",
      " [9 0 5 ... 5 4 3]\n",
      " [0 9 6 ... 3 7 0]\n",
      " [7 1 4 ... 2 1 7]]\n"
     ]
    }
   ],
   "source": [
    "A = np.random.randint(10, size=(10,10))\n",
    "\n",
    "print(A)"
   ]
  },
  {
   "attachments": {},
   "cell_type": "markdown",
   "metadata": {},
   "source": [
    "Now if we try to perform $Ax$"
   ]
  },
  {
   "cell_type": "code",
   "execution_count": 93,
   "metadata": {
    "collapsed": true,
    "nbgrader": {
     "grade": false,
     "locked": true,
     "solution": false
    }
   },
   "outputs": [
    {
     "ename": "ValueError",
     "evalue": "matmul: Input operand 1 has a mismatch in its core dimension 0, with gufunc signature (n?,k),(k,m?)->(n?,m?) (size 1 is different from 10)",
     "output_type": "error",
     "traceback": [
      "\u001b[1;31m---------------------------------------------------------------------------\u001b[0m",
      "\u001b[1;31mValueError\u001b[0m                                Traceback (most recent call last)",
      "Cell \u001b[1;32mIn[93], line 2\u001b[0m\n\u001b[0;32m      1\u001b[0m \u001b[39m# now if we try to perform Ax\u001b[39;00m\n\u001b[1;32m----> 2\u001b[0m b \u001b[39m=\u001b[39m A\u001b[39m@x\u001b[39;49m\n",
      "\u001b[1;31mValueError\u001b[0m: matmul: Input operand 1 has a mismatch in its core dimension 0, with gufunc signature (n?,k),(k,m?)->(n?,m?) (size 1 is different from 10)"
     ]
    }
   ],
   "source": [
    "b = A@x"
   ]
  },
  {
   "attachments": {},
   "cell_type": "markdown",
   "metadata": {
    "nbgrader": {
     "grade": false,
     "locked": true,
     "solution": false
    }
   },
   "source": [
    "It gives an error since <b><code>x.shape</code></b> is $1$ x $10$. Now if we try with <b><code>x_tranpose</code></b>..."
   ]
  },
  {
   "cell_type": "code",
   "execution_count": 94,
   "metadata": {
    "collapsed": true,
    "nbgrader": {
     "grade": false,
     "locked": true,
     "solution": false
    }
   },
   "outputs": [
    {
     "name": "stdout",
     "output_type": "stream",
     "text": [
      "[[3345]\n",
      " [2206]\n",
      " [2454]\n",
      " ...\n",
      " [2848]\n",
      " [2723]\n",
      " [1595]]\n"
     ]
    }
   ],
   "source": [
    "b = A@x_transpose\n",
    "print(b)"
   ]
  },
  {
   "attachments": {},
   "cell_type": "markdown",
   "metadata": {
    "nbgrader": {
     "grade": false,
     "locked": true,
     "solution": false
    }
   },
   "source": [
    "It works! Finally, a quicker way to transpose an array is to use <b><code>.T</code></b>, as shown below"
   ]
  },
  {
   "cell_type": "code",
   "execution_count": 95,
   "metadata": {
    "collapsed": true,
    "nbgrader": {
     "grade": false,
     "locked": true,
     "solution": false
    }
   },
   "outputs": [
    {
     "name": "stdout",
     "output_type": "stream",
     "text": [
      "[[24]\n",
      " [41]\n",
      " [12]\n",
      " ...\n",
      " [17]\n",
      " [92]\n",
      " [24]]\n"
     ]
    }
   ],
   "source": [
    "x_tranpose2 = x.T\n",
    "print(x_tranpose2)"
   ]
  }
 ],
 "metadata": {
  "hide_input": false,
  "kernelspec": {
   "display_name": "mude",
   "language": "python",
   "name": "python3"
  },
  "language_info": {
   "codemirror_mode": {
    "name": "ipython",
    "version": 3
   },
   "file_extension": ".py",
   "mimetype": "text/x-python",
   "name": "python",
   "nbconvert_exporter": "python",
   "pygments_lexer": "ipython3",
   "version": "3.11.9"
  },
  "latex_envs": {
   "LaTeX_envs_menu_present": true,
   "autoclose": false,
   "autocomplete": true,
   "bibliofile": "biblio.bib",
   "cite_by": "apalike",
   "current_citInitial": 1,
   "eqLabelWithNumbers": true,
   "eqNumInitial": 1,
   "hotkeys": {
    "equation": "Ctrl-E",
    "itemize": "Ctrl-I"
   },
   "labels_anchors": false,
   "latex_user_defs": false,
   "report_style_numbering": false,
   "user_envs_cfg": false
  },
  "varInspector": {
   "cols": {
    "lenName": 16,
    "lenType": 16,
    "lenVar": 40
   },
   "kernels_config": {
    "python": {
     "delete_cmd_postfix": "",
     "delete_cmd_prefix": "del ",
     "library": "var_list.py",
     "varRefreshCmd": "print(var_dic_list())"
    },
    "r": {
     "delete_cmd_postfix": ") ",
     "delete_cmd_prefix": "rm(",
     "library": "var_list.r",
     "varRefreshCmd": "cat(var_dic_list()) "
    }
   },
   "types_to_exclude": [
    "module",
    "function",
    "builtin_function_or_method",
    "instance",
    "_Feature"
   ],
   "window_display": false
  }
 },
 "nbformat": 4,
 "nbformat_minor": 2
}
