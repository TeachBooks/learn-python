{
 "cells": [
  {
   "cell_type": "code",
   "execution_count": 30,
   "metadata": {
    "collapsed": true,
    "nbgrader": {
     "grade": false,
     "locked": true,
     "solution": false
    },
    "pycharm": {
     "name": "#%%\n"
    }
   },
   "outputs": [],
   "source": [
    "import pandas as pd \n",
    "import numpy as np"
   ]
  },
  {
   "attachments": {},
   "cell_type": "markdown",
   "metadata": {
    "nbgrader": {
     "grade": false,
     "locked": true,
     "solution": false
    }
   },
   "source": [
    "## ``Series``\n",
    "\n",
    "We start with <b><code>pandas Series</code></b>, since a <b><code>DataFrame</code></b> is made out of <b><code>Series</code></b>; retrieving a row or a column from a <b><code>DataFrame</code></b> results in a <b><code>Series</code></b>. A <b><code>Series</code></b> object is a <b><code>numpy</code></b> ndarray used to hold one-dimensional data, like a list.  We create a <b><code>Series</code></b> object using its constructor <b><code>pd.Series()</code></b>. It can be called by using a list that you want to convert into a <b><code>pandas series</code></b>. Unlike <b><code>numpy</code></b> arrays, a <b><code>Series</code></b> may hold data of different types.\n",
    "\n",
    "First we create a list containing elements of various types. Then we construct a `Series` and a `numpy.array` using our list. Finally we compare the type of each element in `my_series` and `my_nparray`."
   ]
  },
  {
   "cell_type": "code",
   "execution_count": 31,
   "metadata": {
    "collapsed": true,
    "nbgrader": {
     "grade": false,
     "locked": true,
     "solution": false
    },
    "pycharm": {
     "name": "#%%\n"
    }
   },
   "outputs": [
    {
     "name": "stdout",
     "output_type": "stream",
     "text": [
      "----type of each element----\n",
      "my_series element #0 => <class 'str'>\n",
      "my_nparray element #0 => <class 'numpy.str_'>\n",
      "\n",
      "----type of each element----\n",
      "my_series element #1 => <class 'int'>\n",
      "my_nparray element #1 => <class 'numpy.str_'>\n",
      "\n",
      "----type of each element----\n",
      "my_series element #2 => <class 'float'>\n",
      "my_nparray element #2 => <class 'numpy.str_'>\n",
      "\n",
      "----type of each element----\n",
      "my_series element #3 => <class 'str'>\n",
      "my_nparray element #3 => <class 'numpy.str_'>\n",
      "\n"
     ]
    }
   ],
   "source": [
    "my_list = ['begin', 2, 3/4, \"end\"]\n",
    "\n",
    "my_series = pd.Series(data=my_list)\n",
    "my_nparray = np.array(my_list)\n",
    "\n",
    "for i in range(len(my_list)):\n",
    "    print('----type of each element----')\n",
    "    print(f'my_series element #{i} => {type(my_series[i])}')\n",
    "    print(f'my_nparray element #{i} => {type(my_nparray[i])}\\n')"
   ]
  },
  {
   "attachments": {},
   "cell_type": "markdown",
   "metadata": {
    "nbgrader": {
     "grade": false,
     "locked": true,
     "solution": false
    }
   },
   "source": [
    "As expected, the <b><code>numpy</code></b> array changed all elements to one type; in this case, strings. As mentioned in Section 5.1, in Notebook 5, a <b><code>numpy</code></b> array cannot hold data of different types. Note that a pandas series is, by default, printed more elaborately."
   ]
  },
  {
   "cell_type": "code",
   "execution_count": 32,
   "metadata": {
    "collapsed": true,
    "nbgrader": {
     "grade": false,
     "locked": true,
     "solution": false
    }
   },
   "outputs": [
    {
     "name": "stdout",
     "output_type": "stream",
     "text": [
      "0    begin\n",
      "1        2\n",
      "2     0.75\n",
      "3      end\n",
      "dtype: object\n",
      "-----------------\n",
      "['begin' '2' '0.75' 'end']\n"
     ]
    }
   ],
   "source": [
    "print(my_series)\n",
    "print('-----------------')\n",
    "print(my_nparray)"
   ]
  },
  {
   "attachments": {},
   "cell_type": "markdown",
   "metadata": {
    "nbgrader": {
     "grade": false,
     "locked": true,
     "solution": false
    }
   },
   "source": [
    "The values of a series can be accessed and sliced using the **``iloc()``** function: "
   ]
  },
  {
   "cell_type": "code",
   "execution_count": 33,
   "metadata": {
    "collapsed": true,
    "nbgrader": {
     "grade": false,
     "locked": true,
     "solution": false
    }
   },
   "outputs": [
    {
     "data": {
      "text/plain": [
       "1       2\n",
       "2    0.75\n",
       "3     end\n",
       "dtype: object"
      ]
     },
     "execution_count": 33,
     "metadata": {},
     "output_type": "execute_result"
    }
   ],
   "source": [
    "my_series.iloc[1:]"
   ]
  },
  {
   "cell_type": "code",
   "execution_count": 34,
   "metadata": {
    "collapsed": true,
    "nbgrader": {
     "grade": false,
     "locked": true,
     "solution": false
    }
   },
   "outputs": [
    {
     "data": {
      "text/plain": [
       "2    0.75\n",
       "3     end\n",
       "dtype: object"
      ]
     },
     "execution_count": 34,
     "metadata": {},
     "output_type": "execute_result"
    }
   ],
   "source": [
    "my_series.iloc[[2,len(my_series)-1]]"
   ]
  },
  {
   "attachments": {},
   "cell_type": "markdown",
   "metadata": {
    "nbgrader": {
     "grade": false,
     "locked": true,
     "solution": false
    }
   },
   "source": [
    "### Labeling ``Series``\n",
    "\n",
    "So far we have referred to values within a list or array using indexing, but that might be confusing. With <b><code>pandas Series</code></b>, you can refer to your values by labeling their indices. Labels allow you to access the values in a more informative way, similar to dictionaries; depicted in Section 2.3, in Notebook 2.\n",
    "\n",
    "We create the indices of the same size as the list since we want to construct our Series object with and use the index option in the Series constructor. Note that our entries can be called both ways"
   ]
  },
  {
   "cell_type": "code",
   "execution_count": 35,
   "metadata": {
    "collapsed": true,
    "nbgrader": {
     "grade": false,
     "locked": true,
     "solution": false
    },
    "pycharm": {
     "name": "#%%\n"
    }
   },
   "outputs": [
    {
     "name": "stdout",
     "output_type": "stream",
     "text": [
      "True\n"
     ]
    },
    {
     "name": "stderr",
     "output_type": "stream",
     "text": [
      "C:\\Users\\gui-win10\\AppData\\Local\\Temp\\ipykernel_24848\\1771852785.py:4: FutureWarning: Series.__getitem__ treating keys as positions is deprecated. In a future version, integer keys will always be treated as labels (consistent with DataFrame behavior). To access a value by position, use `ser.iloc[pos]`\n",
      "  print(my_labeled_Series[0] == my_labeled_Series[\"My first entry\"])\n"
     ]
    }
   ],
   "source": [
    "my_index_labels = [\"My first entry\", \"1\",\"2\",\"END\"]\n",
    "my_labeled_Series = pd.Series(data=my_list, index=my_index_labels)\n",
    "\n",
    "print(my_labeled_Series[0] == my_labeled_Series[\"My first entry\"])"
   ]
  },
  {
   "attachments": {},
   "cell_type": "markdown",
   "metadata": {
    "nbgrader": {
     "grade": false,
     "locked": true,
     "solution": false
    },
    "pycharm": {
     "name": "#%% md\n"
    }
   },
   "source": [
    "<code>pandas</code></b> can automatically create labels of indices if we construct a <b><code>Series</code></b> using a dictionary with labeled entries."
   ]
  },
  {
   "cell_type": "code",
   "execution_count": 36,
   "metadata": {
    "collapsed": true,
    "nbgrader": {
     "grade": false,
     "locked": true,
     "solution": false
    },
    "pycharm": {
     "name": "#%%\n"
    }
   },
   "outputs": [
    {
     "name": "stdout",
     "output_type": "stream",
     "text": [
      "a list                                         [420, 10]\n",
      "a float                                       126.666667\n",
      "a list of strings    [first word, Second Word, 3rd w0rd]\n",
      "dtype: object\n"
     ]
    }
   ],
   "source": [
    "my_dictionary = {\"a list\": [420, 10],\"a float\": 380/3, \n",
    "                 \"a list of strings\": [\"first word\", \"Second Word\", \"3rd w0rd\"] }\n",
    "my_Series = pd.Series(my_dictionary)\n",
    "print(my_Series)"
   ]
  },
  {
   "attachments": {},
   "cell_type": "markdown",
   "metadata": {},
   "source": [
    "We can access an element within the list labeled `\"a list of strings\"` by using its label followed by the desired index"
   ]
  },
  {
   "cell_type": "code",
   "execution_count": 37,
   "metadata": {
    "collapsed": true,
    "nbgrader": {
     "grade": false,
     "locked": true,
     "solution": false
    }
   },
   "outputs": [
    {
     "data": {
      "text/plain": [
       "'Second Word'"
      ]
     },
     "execution_count": 37,
     "metadata": {},
     "output_type": "execute_result"
    }
   ],
   "source": [
    "my_Series[\"a list of strings\"][1]"
   ]
  },
  {
   "attachments": {},
   "cell_type": "markdown",
   "metadata": {
    "nbgrader": {
     "grade": false,
     "locked": true,
     "solution": false
    }
   },
   "source": [
    "::: {warning}\n",
    "When using <code>pandas</code>, it's a good idea to try and avoid <code>for</code> loops or iterative solutions; <code>pandas</code> usually has a faster solution than iterating through its elements.\n",
    "::: "
   ]
  }
 ],
 "metadata": {
  "colab": {
   "collapsed_sections": [],
   "name": "Copy of Python_2_3.ipynb",
   "provenance": []
  },
  "kernelspec": {
   "display_name": "Python 3 [3.7]",
   "language": "python",
   "name": "python3"
  },
  "language_info": {
   "codemirror_mode": {
    "name": "ipython",
    "version": 3
   },
   "file_extension": ".py",
   "mimetype": "text/x-python",
   "name": "python",
   "nbconvert_exporter": "python",
   "pygments_lexer": "ipython3",
   "version": "3.11.5"
  },
  "vscode": {
   "interpreter": {
    "hash": "1fe2f2b718b1108b9c4176932db8a0ead471245140baaa21ea96a4066683e6b2"
   }
  }
 },
 "nbformat": 4,
 "nbformat_minor": 1
}
