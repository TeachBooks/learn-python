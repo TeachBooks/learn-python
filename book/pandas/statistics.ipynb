{
 "cells": [
  {
   "attachments": {},
   "cell_type": "markdown",
   "metadata": {
    "nbgrader": {
     "grade": false,
     "locked": true,
     "solution": false
    }
   },
   "source": [
    "## Statistics with <code>pandas</code>\n",
    "\n",
    "Recall some functions such as <code>np.mean()</code> and <code>np.max()</code>; these functions can be used to calculate a row's or column's statistics. Say you want to know what's the average <i>hardness</i> of the different minerals:"
   ]
  },
  {
   "cell_type": "code",
   "execution_count": null,
   "metadata": {
    "collapsed": true,
    "nbgrader": {
     "grade": false,
     "locked": true,
     "solution": false
    }
   },
   "outputs": [
    {
     "data": {
      "text/plain": [
       "4.666666666666667"
      ]
     },
     "execution_count": 11,
     "metadata": {},
     "output_type": "execute_result"
    }
   ],
   "source": [
    "df4['hardness'].mean()"
   ]
  },
  {
   "attachments": {},
   "cell_type": "markdown",
   "metadata": {
    "nbgrader": {
     "grade": false,
     "locked": true,
     "solution": false
    }
   },
   "source": [
    "Often we don't know much about the data, and printing all the values is inconvenient. In that case, it's wise to take a look at some of its attributes first.\n",
    "\n",
    "See the labels of the columns and rows."
   ]
  },
  {
   "cell_type": "code",
   "execution_count": null,
   "metadata": {
    "collapsed": true,
    "nbgrader": {
     "grade": false,
     "locked": true,
     "solution": false
    }
   },
   "outputs": [
    {
     "name": "stdout",
     "output_type": "stream",
     "text": [
      "Index(['hardness', 'sp. gr.', 'cleavage'], dtype='object')\n",
      "----------------------\n",
      "Index(['Amphibole', 'Biotite', 'Calcite', 'Dolomite', 'Feldspars', 'Garnet',\n",
      "       'Graphite', 'Kyanite', 'Muscovite', 'Pyroxene', 'Quartz',\n",
      "       'Sillimanite'],\n",
      "      dtype='object', name='name')\n"
     ]
    }
   ],
   "source": [
    "print(df4.columns)\n",
    "print('----------------------')\n",
    "print(df4.index)"
   ]
  },
  {
   "attachments": {},
   "cell_type": "markdown",
   "metadata": {},
   "source": [
    "`df4.info` is similar to `print(df4.info)`."
   ]
  },
  {
   "cell_type": "code",
   "execution_count": null,
   "metadata": {
    "collapsed": true,
    "nbgrader": {
     "grade": false,
     "locked": true,
     "solution": false
    }
   },
   "outputs": [
    {
     "data": {
      "text/plain": [
       "<bound method DataFrame.info of              hardness  sp. gr.  cleavage\n",
       "name                                    \n",
       "Amphibole        5.50    2.800       Two\n",
       "Biotite          2.75    3.000       One\n",
       "Calcite          3.00    2.720     Three\n",
       "Dolomite         3.00    2.850     Three\n",
       "Feldspars        6.00    2.645       Two\n",
       "Garnet           7.00    3.900  Fracture\n",
       "Graphite         1.50    2.300       One\n",
       "Kyanite          6.00    4.010       One\n",
       "Muscovite        2.25    2.930       One\n",
       "Pyroxene         5.50    3.325       Two\n",
       "Quartz           7.00    2.650  Fracture\n",
       "Sillimanite      6.50    3.230       One>"
      ]
     },
     "execution_count": 13,
     "metadata": {},
     "output_type": "execute_result"
    }
   ],
   "source": [
    "df4.info"
   ]
  },
  {
   "attachments": {},
   "cell_type": "markdown",
   "metadata": {
    "nbgrader": {
     "grade": false,
     "locked": true,
     "solution": false
    }
   },
   "source": [
    "### Deep copying a <code>DataFrame</code>\n",
    "\n",
    "As you have seen in Notebook 4, shallow copies can be troublesome if you're not aware of it. In <b><code>pandas</code></b>, it's the same story.<br><br>To make a deep copy use the <b><code>DataFrame.copy(deep=True)</code></b> function."
   ]
  },
  {
   "cell_type": "code",
   "execution_count": null,
   "metadata": {
    "collapsed": true,
    "nbgrader": {
     "grade": false,
     "locked": true,
     "solution": false
    }
   },
   "outputs": [],
   "source": [
    "df_deep = df4.copy(deep=True)"
   ]
  },
  {
   "attachments": {},
   "cell_type": "markdown",
   "metadata": {
    "nbgrader": {
     "grade": false,
     "locked": true,
     "solution": false
    }
   },
   "source": [
    "Now, altering <b><code>df_deep</code></b> will not alter <b><code>df4</code></b>; and vice-versa."
   ]
  },
  {
   "attachments": {},
   "cell_type": "markdown",
   "metadata": {
    "id": "PQbf2l1kAOWu",
    "nbgrader": {
     "grade": false,
     "locked": true,
     "solution": false
    }
   },
   "source": [
    "## Additional study material:\n",
    "\n",
    "* [Official pandas Documentation (Series)](https://pandas.pydata.org/pandas-docs/stable/reference/api/pandas.Series.html#pandas.Series)\n",
    "* [Official pandas Documentation (DataFrame)](https://pandas.pydata.org/pandas-docs/stable/reference/api/pandas.DataFrame.html#pandas.DataFrame)\n",
    "* [Note on processing speed](https://ggbaker.ca/732/content/pandas-speed.html)\n",
    "* [Real Python](https://realpython.com/pandas-python-explore-dataset/)\n"
   ]
  },
  {
   "attachments": {},
   "cell_type": "markdown",
   "metadata": {
    "id": "zoaTN8gZB_H4",
    "nbgrader": {
     "grade": false,
     "locked": true,
     "solution": false
    }
   },
   "source": [
    "<h4>After this Notebook you should be able to:</h4>\n",
    "\n",
    "\n",
    "- understand <b><code>Series</code></b> and <b><code>DataFrames</code></b>\n",
    "- concatenate <b><code>DataFrames</code></b>\n",
    "- work with different labels of a <b><code>DataFrame</code></b>\n",
    "- drop unwanted rows and columns\n",
    "- access and modify values within your <b><code>DataFrame</code></b>\n",
    "- import data into a <b><code>pandas DataFrame</code></b>\n",
    "- manipulate a <b><code>DataFrame</code></b> in several important ways"
   ]
  }
 ],
 "metadata": {
  "colab": {
   "collapsed_sections": [],
   "name": "Copy of Python_2_3.ipynb",
   "provenance": []
  },
  "kernelspec": {
   "display_name": "Python 3 [3.7]",
   "language": "python",
   "name": "python3"
  },
  "language_info": {
   "codemirror_mode": {
    "name": "ipython",
    "version": 3
   },
   "file_extension": ".py",
   "mimetype": "text/x-python",
   "name": "python",
   "nbconvert_exporter": "python",
   "pygments_lexer": "ipython3",
   "version": "3.11.5"
  },
  "vscode": {
   "interpreter": {
    "hash": "1fe2f2b718b1108b9c4176932db8a0ead471245140baaa21ea96a4066683e6b2"
   }
  }
 },
 "nbformat": 4,
 "nbformat_minor": 1
}
