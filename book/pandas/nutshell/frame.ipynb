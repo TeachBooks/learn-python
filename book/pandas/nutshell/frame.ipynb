{
 "cells": [
  {
   "attachments": {},
   "cell_type": "markdown",
   "metadata": {},
   "source": [
    "## ``DataFrame``\n",
    "In the example below, we start by creating a dictionary data that contains information about names, ages, and cities. We then use this dictionary to create a `dataframe` df using <b>pd.DataFrame( )</b>. "
   ]
  },
  {
   "cell_type": "code",
   "execution_count": 14,
   "metadata": {},
   "outputs": [
    {
     "name": "stdout",
     "output_type": "stream",
     "text": [
      "Original DataFrame:\n"
     ]
    },
    {
     "data": {
      "text/html": [
       "<div>\n",
       "<style scoped>\n",
       "    .dataframe tbody tr th:only-of-type {\n",
       "        vertical-align: middle;\n",
       "    }\n",
       "\n",
       "    .dataframe tbody tr th {\n",
       "        vertical-align: top;\n",
       "    }\n",
       "\n",
       "    .dataframe thead th {\n",
       "        text-align: right;\n",
       "    }\n",
       "</style>\n",
       "<table border=\"1\" class=\"dataframe\">\n",
       "  <thead>\n",
       "    <tr style=\"text-align: right;\">\n",
       "      <th></th>\n",
       "      <th>Name</th>\n",
       "      <th>Age</th>\n",
       "      <th>City</th>\n",
       "    </tr>\n",
       "  </thead>\n",
       "  <tbody>\n",
       "    <tr>\n",
       "      <th>0</th>\n",
       "      <td>John</td>\n",
       "      <td>25</td>\n",
       "      <td>London</td>\n",
       "    </tr>\n",
       "    <tr>\n",
       "      <th>1</th>\n",
       "      <td>Alice</td>\n",
       "      <td>28</td>\n",
       "      <td>Paris</td>\n",
       "    </tr>\n",
       "    <tr>\n",
       "      <th>2</th>\n",
       "      <td>Bob</td>\n",
       "      <td>22</td>\n",
       "      <td>Berlin</td>\n",
       "    </tr>\n",
       "  </tbody>\n",
       "</table>\n",
       "</div>"
      ],
      "text/plain": [
       "    Name  Age    City\n",
       "0   John   25  London\n",
       "1  Alice   28   Paris\n",
       "2    Bob   22  Berlin"
      ]
     },
     "execution_count": 14,
     "metadata": {},
     "output_type": "execute_result"
    }
   ],
   "source": [
    "data2 = {'Name': ['John', 'Alice', 'Bob'],\n",
    "    'Age': [25, 28, 22],\n",
    "    'City': ['London', 'Paris', 'Berlin']}\n",
    "\n",
    "df = pd.DataFrame(data2)\n",
    "\n",
    "print(\"Original DataFrame:\")\n",
    "df      "
   ]
  },
  {
   "attachments": {},
   "cell_type": "markdown",
   "metadata": {},
   "source": [
    "You can then use the `loc[ ]` and `loc[ ]` functions to locate specific data from your `dataframe`. For example:"
   ]
  },
  {
   "cell_type": "code",
   "execution_count": 16,
   "metadata": {},
   "outputs": [
    {
     "name": "stdout",
     "output_type": "stream",
     "text": [
      "\n",
      "Using iloc[]:\n",
      "Name      John\n",
      "Age         25\n",
      "City    London\n",
      "Name: 0, dtype: object\n",
      "    Name  Age    City\n",
      "1  Alice   28   Paris\n",
      "2    Bob   22  Berlin\n",
      "25\n",
      "\n",
      "Using loc[]:\n",
      "Name      John\n",
      "Age         25\n",
      "City    London\n",
      "Name: 0, dtype: object\n",
      "    Name  Age    City\n",
      "1  Alice   28   Paris\n",
      "2    Bob   22  Berlin\n",
      "25\n"
     ]
    }
   ],
   "source": [
    "print(\"\\nUsing iloc[]:\")\n",
    "print(df.iloc[0])                \n",
    "print(df.iloc[1:3])               \n",
    "print(df.iloc[0, 1])             \n",
    "\n",
    "print(\"\\nUsing loc[]:\")\n",
    "print(df.loc[0])                 \n",
    "print(df.loc[1:2])                \n",
    "print(df.loc[0, 'Age'])    "
   ]
  },
  {
   "attachments": {},
   "cell_type": "markdown",
   "metadata": {},
   "source": [
    "We then add and remove some data from the created `dataframe`. You can remove rows and columns from a datafram by using the <b>Yourdataframename.drop()</b> function."
   ]
  },
  {
   "cell_type": "code",
   "execution_count": 6,
   "metadata": {},
   "outputs": [
    {
     "name": "stdout",
     "output_type": "stream",
     "text": [
      "\n",
      "Updated DataFrame:\n"
     ]
    },
    {
     "data": {
      "text/html": [
       "<div>\n",
       "<style scoped>\n",
       "    .dataframe tbody tr th:only-of-type {\n",
       "        vertical-align: middle;\n",
       "    }\n",
       "\n",
       "    .dataframe tbody tr th {\n",
       "        vertical-align: top;\n",
       "    }\n",
       "\n",
       "    .dataframe thead th {\n",
       "        text-align: right;\n",
       "    }\n",
       "</style>\n",
       "<table border=\"1\" class=\"dataframe\">\n",
       "  <thead>\n",
       "    <tr style=\"text-align: right;\">\n",
       "      <th></th>\n",
       "      <th>Name</th>\n",
       "      <th>City</th>\n",
       "      <th>Salary</th>\n",
       "    </tr>\n",
       "  </thead>\n",
       "  <tbody>\n",
       "    <tr>\n",
       "      <th>0</th>\n",
       "      <td>John</td>\n",
       "      <td>New York</td>\n",
       "      <td>5000</td>\n",
       "    </tr>\n",
       "    <tr>\n",
       "      <th>2</th>\n",
       "      <td>Bob</td>\n",
       "      <td>Berlin</td>\n",
       "      <td>4500</td>\n",
       "    </tr>\n",
       "  </tbody>\n",
       "</table>\n",
       "</div>"
      ],
      "text/plain": [
       "   Name      City  Salary\n",
       "0  John  New York    5000\n",
       "2   Bob    Berlin    4500"
      ]
     },
     "execution_count": 6,
     "metadata": {},
     "output_type": "execute_result"
    }
   ],
   "source": [
    "df.loc[0, 'City'] = 'New York'\n",
    "df['Salary'] = [5000, 6000, 4500]\n",
    "\n",
    "df = df.drop(1)                   \n",
    "df = df.drop('Age', axis=1)      \n",
    "\n",
    "print(\"\\nUpdated DataFrame:\")\n",
    "df"
   ]
  }
 ],
 "metadata": {
  "kernelspec": {
   "display_name": "Python 3",
   "language": "python",
   "name": "python3"
  },
  "language_info": {
   "codemirror_mode": {
    "name": "ipython",
    "version": 3
   },
   "file_extension": ".py",
   "mimetype": "text/x-python",
   "name": "python",
   "nbconvert_exporter": "python",
   "pygments_lexer": "ipython3",
   "version": "3.11.2"
  },
  "orig_nbformat": 4
 },
 "nbformat": 4,
 "nbformat_minor": 2
}
