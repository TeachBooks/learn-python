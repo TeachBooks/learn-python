{
 "cells": [
  {
   "attachments": {},
   "cell_type": "markdown",
   "metadata": {},
   "source": [
    "To start using `pandas`, you need to import it into your Python script or Jupyter Notebook. The standard way to import Pandas is as follows:"
   ]
  },
  {
   "cell_type": "code",
   "execution_count": 1,
   "metadata": {},
   "outputs": [],
   "source": [
    "import pandas as pd"
   ]
  },
  {
   "attachments": {},
   "cell_type": "markdown",
   "metadata": {},
   "source": [
    "The two primary data structures provided by Pandas are:\n",
    "\n",
    "1. `Series`: A <code>Series</code> in Pandas is a one-dimensional labeled array that can hold any data type. It is similar to a column in a spreadsheet or a single column of a SQL table. Each element in a Series is associated with a unique label called an `index`.\n",
    "\n",
    "2. `DataFrame`: A two-dimensional labeled data structure with columns of potentially different types. It is similar to a spreadsheet or a SQL table."
   ]
  },
  {
   "attachments": {},
   "cell_type": "markdown",
   "metadata": {},
   "source": [
    "## ``Series``\n",
    "\n",
    "Here is an example where we create a list of data containing some numbers and an index list with corresponding labels. We then use these lists to create a Series using pd.Series() function. "
   ]
  },
  {
   "cell_type": "code",
   "execution_count": 2,
   "metadata": {},
   "outputs": [
    {
     "name": "stdout",
     "output_type": "stream",
     "text": [
      "\n",
      "Original series:\n",
      "A    10\n",
      "B    20\n",
      "C    30\n",
      "D    40\n",
      "E    50\n",
      "dtype: int64\n"
     ]
    }
   ],
   "source": [
    "data = [10, 20, 30, 40, 50]\n",
    "index = ['A', 'B', 'C', 'D', 'E']\n",
    "\n",
    "s = pd.Series(data, index=index)\n",
    "print(\"\\nOriginal series:\")\n",
    "print (s)"
   ]
  },
  {
   "attachments": {},
   "cell_type": "markdown",
   "metadata": {},
   "source": [
    "We also change the created labels without having any effect on the data as follows:"
   ]
  },
  {
   "cell_type": "code",
   "execution_count": 3,
   "metadata": {},
   "outputs": [
    {
     "name": "stdout",
     "output_type": "stream",
     "text": [
      "\n",
      "Updated series:\n",
      "X        10\n",
      "Y        20\n",
      "Zebra    30\n",
      "W        40\n",
      "V        50\n",
      "dtype: int64\n"
     ]
    }
   ],
   "source": [
    "s.index = ['X', 'Y', 'Zebra', 'W', 'V']\n",
    "print(\"\\nUpdated series:\")\n",
    "print(s)"
   ]
  },
  {
   "attachments": {},
   "cell_type": "markdown",
   "metadata": {},
   "source": [
    "Two helpful functions when working with pandas are the `iloc[ ]` and `loc[ ]` functions. For more information see the table below:"
   ]
  },
  {
   "attachments": {},
   "cell_type": "markdown",
   "metadata": {},
   "source": [
    "| Function | Description                                 | Example                                            |\n",
    "|----------|---------------------------------------------|----------------------------------------------------|\n",
    "| `iloc[ ]`   | Integer-based indexing and selection        | s.iloc[0] accesses the first row of a DataFrame   |\n",
    "|          |                                             | s.iloc[2:4] accesses a slice of rows in a DataFrame |\n",
    "| `loc[ ]`    | Label-based indexing and selection          | s.loc['X'] accesses a row labeled 'A' in a DataFrame |\n",
    "|          |                                             | s.loc[['X', 'W']] accesses multiple rows in a DataFrame |\n"
   ]
  },
  {
   "cell_type": "code",
   "execution_count": 4,
   "metadata": {},
   "outputs": [
    {
     "data": {
      "text/plain": [
       "Zebra    30\n",
       "W        40\n",
       "dtype: int64"
      ]
     },
     "execution_count": 4,
     "metadata": {},
     "output_type": "execute_result"
    }
   ],
   "source": [
    "s.iloc[2:4] "
   ]
  }
 ],
 "metadata": {
  "kernelspec": {
   "display_name": "Python 3",
   "language": "python",
   "name": "python3"
  },
  "language_info": {
   "codemirror_mode": {
    "name": "ipython",
    "version": 3
   },
   "file_extension": ".py",
   "mimetype": "text/x-python",
   "name": "python",
   "nbconvert_exporter": "python",
   "pygments_lexer": "ipython3",
   "version": "3.11.2"
  },
  "orig_nbformat": 4
 },
 "nbformat": 4,
 "nbformat_minor": 2
}
