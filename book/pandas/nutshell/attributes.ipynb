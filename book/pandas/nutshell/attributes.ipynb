{
 "cells": [
  {
   "attachments": {},
   "cell_type": "markdown",
   "metadata": {},
   "source": [
    "## Importing data into <code>DataFrames</code> and exploring its attributes\n",
    "\n",
    "You can also make a `dataframes` from any csv file (excel files, delimited text files, etc).  The table below summarizes the important functions you need to remember when applying the `pd.read_csv()` command.\n",
    "\n",
    "| Aspect       | Description                                       | Function                           |\n",
    "|--------------|---------------------------------------------------|------------------------------------|\n",
    "| File Path    | Specify the path or filename of the CSV file       | pd.read_csv('file_path.csv')       |\n",
    "| Delimiter    | Define the delimiter used in the CSV file          | pd.read_csv('file.csv', delimiter=',') |\n",
    "| Header       | Specify whether the CSV file has a header row      | pd.read_csv('file.csv', header=0)  |\n",
    "| Columns      | Select specific columns from the CSV file          | pd.read_csv('file.csv', usecols=['col1', 'col2']) |\n",
    "| Index Column | Set a specific column as the index of the DataFrame | pd.read_csv('file.csv', index_col='column') |\n",
    "| Data Types   | Specify data types for columns in the DataFrame    | pd.read_csv('file.csv', dtype={'col1': int, 'col2': float}) |\n"
   ]
  },
  {
   "attachments": {},
   "cell_type": "markdown",
   "metadata": {},
   "source": [
    "```{note}\n",
    ":class: Collapsed \n",
    "The excel file needs to be in the same place in the folder that the python file is at for this to work!\n",
    "```"
   ]
  }
 ],
 "metadata": {
  "kernelspec": {
   "display_name": "Python 3",
   "language": "python",
   "name": "python3"
  },
  "language_info": {
   "codemirror_mode": {
    "name": "ipython",
    "version": 3
   },
   "file_extension": ".py",
   "mimetype": "text/x-python",
   "name": "python",
   "nbconvert_exporter": "python",
   "pygments_lexer": "ipython3",
   "version": "3.11.2"
  },
  "orig_nbformat": 4
 },
 "nbformat": 4,
 "nbformat_minor": 2
}
