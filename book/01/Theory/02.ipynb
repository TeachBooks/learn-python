{
 "cells": [
  {
   "attachments": {},
   "cell_type": "markdown",
   "id": "d3bda27b",
   "metadata": {
    "id": "TcDyxZ7AS3Uz",
    "nbgrader": {
     "grade": false,
     "locked": true,
     "solution": false
    }
   },
   "source": [
    "# Python Variables \n",
    "\n",
    "One of the most powerful features of a programming language is the ability to create and manipulate\n",
    "variables. A variable is a labeled storage that refers to a value. They are usually used in a way to make the code more readable, allowing reusability of your code.<br><br>As it was mentioned previously, Python is a high-level programming language. For that, it uses concepts of <b>Class</b> and <b>Object</b>. In short, a <b>Class</b> is a defined model or a data structure, it describes how the data of that class can be described and how it can be manipulated, and an <b>Object</b> or <b>Instance</b> is its realization. In other words, think about your favorite meal: the recipe is the <b>Class</b> of your meal and when you decide to use the recipe and cook it — you create an <b>Object</b> of that <b>Class</b>. Variables are the way how objects are stored and processed.\n",
    "\n",
    "\n",
    "### Rules for variable names\n",
    "* names can not start with a number\n",
    "* names can not contain spaces, use _ instead\n",
    "* names can not contain any of these symbols:\n",
    "\n",
    "      :'\",<>/?|\\!@#%^&*~-+\n",
    "      \n",
    "::: {note}     \n",
    "* it's considered best practice ([PEP8](https://www.python.org/dev/peps/pep-0008/#function-and-variable-names)) that names are lowercase with underscores\n",
    "* avoid using Python built-in keywords like `list` and `str`\n",
    "::: "
   ]
  },
  {
   "attachments": {},
   "cell_type": "markdown",
   "id": "c96c7d6f",
   "metadata": {
    "id": "OLzFLmBnS3Uz",
    "nbgrader": {
     "grade": false,
     "locked": true,
     "solution": false
    }
   },
   "source": [
    "### Assigning Variables\n",
    "\n",
    "Variable assignment follows <b><code>variable_name = value</code></b>, where a single equal sign $=$ is an <b>assignment operator</b>. More on operators will be covered in the next section. Let's see a few examples of how we can do this."
   ]
  },
  {
   "attachments": {},
   "cell_type": "markdown",
   "id": "d19d30f1",
   "metadata": {},
   "source": [
    "Let's create an object called ``a`` and assign it the number 5"
   ]
  },
  {
   "cell_type": "code",
   "execution_count": 2,
   "id": "c92cf9b5",
   "metadata": {
    "collapsed": true,
    "id": "-oXjFB0TS3U0",
    "nbgrader": {
     "grade": false,
     "locked": true,
     "solution": false
    }
   },
   "outputs": [],
   "source": [
    "a = 5"
   ]
  },
  {
   "attachments": {},
   "cell_type": "markdown",
   "id": "91acc4a0",
   "metadata": {
    "id": "loj_CSZ3S3U0",
    "nbgrader": {
     "grade": false,
     "locked": true,
     "solution": false
    }
   },
   "source": [
    "Now if I call `a` in my Python script, Python will treat it as the number $5$.\n",
    "\n",
    "Adding the objects"
   ]
  },
  {
   "cell_type": "code",
   "execution_count": 3,
   "id": "fbe8892d",
   "metadata": {
    "collapsed": true,
    "id": "-NydcpOmS3U0",
    "nbgrader": {
     "grade": false,
     "locked": true,
     "solution": false
    },
    "outputId": "0f54e2c6-c3b9-4247-94cd-0b341a2ad352"
   },
   "outputs": [
    {
     "data": {
      "text/plain": [
       "10"
      ]
     },
     "execution_count": 3,
     "metadata": {},
     "output_type": "execute_result"
    }
   ],
   "source": [
    "a + a"
   ]
  },
  {
   "attachments": {},
   "cell_type": "markdown",
   "id": "b46805d5",
   "metadata": {
    "id": "xPQ0wjwUS3U0",
    "nbgrader": {
     "grade": false,
     "locked": true,
     "solution": false
    }
   },
   "source": [
    "What happens on reassignment? Will Python let us write over it?"
   ]
  },
  {
   "cell_type": "code",
   "execution_count": 2,
   "id": "06b56dc7",
   "metadata": {
    "collapsed": true,
    "id": "q-fGZ0wMS3U0",
    "nbgrader": {
     "grade": false,
     "locked": true,
     "solution": false
    }
   },
   "outputs": [],
   "source": [
    "a = 20"
   ]
  },
  {
   "attachments": {},
   "cell_type": "markdown",
   "id": "a1598eb4",
   "metadata": {},
   "source": [
    "Check"
   ]
  },
  {
   "cell_type": "code",
   "execution_count": 5,
   "id": "bf1cbb92",
   "metadata": {
    "collapsed": true,
    "id": "d-6rzYcpS3U1",
    "nbgrader": {
     "grade": false,
     "locked": true,
     "solution": false
    },
    "outputId": "5e2f705f-9f13-4a46-cdc9-cac34cbc12e7"
   },
   "outputs": [
    {
     "name": "stdout",
     "output_type": "stream",
     "text": [
      "20\n"
     ]
    }
   ],
   "source": [
    "print(a)"
   ]
  },
  {
   "attachments": {},
   "cell_type": "markdown",
   "id": "69fb82fe",
   "metadata": {
    "id": "8CcorXSqS3U1",
    "nbgrader": {
     "grade": false,
     "locked": true,
     "solution": false
    }
   },
   "source": [
    "Yes! Python allows you to overwrite assigned variable names. We can also use the variables themselves when doing the reassignment."
   ]
  },
  {
   "attachments": {},
   "cell_type": "markdown",
   "id": "8dd533b3",
   "metadata": {
    "id": "uqCmRVkbS3U1",
    "nbgrader": {
     "grade": false,
     "locked": true,
     "solution": false
    }
   },
   "source": [
    "Since <b><code>a = 20</code></b> was the last assignment to our variable <b><code>a</code></b>, you can keep using <b><code>a</code></b> in place of the number <b><code>20</code></b>:"
   ]
  },
  {
   "cell_type": "code",
   "execution_count": 6,
   "id": "e4eec9a4",
   "metadata": {
    "collapsed": true,
    "id": "QMktLeFOS3U2",
    "nbgrader": {
     "grade": false,
     "locked": true,
     "solution": false
    },
    "outputId": "a9467aa2-393f-4961-cec0-4c36dac6e26d"
   },
   "outputs": [
    {
     "data": {
      "text/plain": [
       "40"
      ]
     },
     "execution_count": 6,
     "metadata": {},
     "output_type": "execute_result"
    }
   ],
   "source": [
    "a + a"
   ]
  },
  {
   "attachments": {},
   "cell_type": "markdown",
   "id": "776cfb16",
   "metadata": {
    "id": "AjrlLAw7S3U2",
    "nbgrader": {
     "grade": false,
     "locked": true,
     "solution": false
    }
   },
   "source": [
    "Instead of writing <b><code>a+a</code></b>, Python has a built-in shortcut for these simple operations.<br><br>You can add, subtract, multiply and divide numbers with reassignment using <b><code>+=</code></b>, <b><code>-=</code></b>, <b><code>*=</code></b>, and <b><code>/=</code></b>, respectively."
   ]
  },
  {
   "cell_type": "code",
   "execution_count": 7,
   "id": "30cae5d5",
   "metadata": {
    "collapsed": true,
    "id": "ho172OFAS3U2",
    "nbgrader": {
     "grade": false,
     "locked": true,
     "solution": false
    }
   },
   "outputs": [],
   "source": [
    "a += 10"
   ]
  },
  {
   "attachments": {},
   "cell_type": "markdown",
   "id": "28a452f0",
   "metadata": {
    "id": "de87302a",
    "nbgrader": {
     "grade": false,
     "locked": true,
     "solution": false
    }
   },
   "source": [
    "The above code will add **`10`** to the variable **`a`** every time you run that cell. \n",
    "\n",
    "Try it yourself, run it a few times and then run the below cell to see what's the value of **`a`**\n",
    "."
   ]
  },
  {
   "cell_type": "code",
   "execution_count": 8,
   "id": "48acc61b",
   "metadata": {
    "collapsed": true,
    "id": "tzz54psQS3U4",
    "nbgrader": {
     "grade": false,
     "locked": true,
     "solution": false
    },
    "outputId": "9227bb53-b2b5-4cf1-e438-eb61095b1b1e"
   },
   "outputs": [
    {
     "name": "stdout",
     "output_type": "stream",
     "text": [
      "30\n"
     ]
    }
   ],
   "source": [
    "print(a)"
   ]
  },
  {
   "attachments": {},
   "cell_type": "markdown",
   "id": "b41ec95a",
   "metadata": {
    "id": "df4c695a",
    "nbgrader": {
     "grade": false,
     "locked": true,
     "solution": false
    }
   },
   "source": [
    "Below an example of a code that will double **`a`** every time that you run that cell."
   ]
  },
  {
   "cell_type": "code",
   "execution_count": 9,
   "id": "6808ada8",
   "metadata": {
    "collapsed": true,
    "id": "Sv2xzyhVS3U9",
    "nbgrader": {
     "grade": false,
     "locked": true,
     "solution": false
    }
   },
   "outputs": [
    {
     "name": "stdout",
     "output_type": "stream",
     "text": [
      "60\n"
     ]
    }
   ],
   "source": [
    "a *= 2\n",
    "print(a)"
   ]
  },
  {
   "attachments": {},
   "cell_type": "markdown",
   "id": "925da5d8",
   "metadata": {
    "id": "gH1ebT4sS3VB",
    "nbgrader": {
     "grade": false,
     "locked": true,
     "solution": false
    }
   },
   "source": [
    "### Determining variable type with <b><code>type()</code></b>\n",
    "\n",
    "You can check what type of object is assigned to a variable using Python's built-in <b><code>type()</code></b> function. Common data types include:\n",
    "\n",
    "\n",
    "* **int** (for integer numbers)\n",
    "* **float** (for floating point / all real numbers)\n",
    "* **str** (for string/text)\n",
    "* **bool** (for Boolean True/False)\n",
    "* **list**\n",
    "* **tuple**\n",
    "* **dict** \n",
    "* **set**\n",
    "\n",
    "\n",
    "::: {warning}\n",
    "Always check the type of your variables when debugging!\n",
    ":::"
   ]
  },
  {
   "attachments": {},
   "cell_type": "markdown",
   "id": "abb0b8b6",
   "metadata": {
    "id": "87e243a7",
    "nbgrader": {
     "grade": false,
     "locked": true,
     "solution": false
    }
   },
   "source": [
    "Below a few examples:"
   ]
  },
  {
   "cell_type": "code",
   "execution_count": 10,
   "id": "5eb87d24",
   "metadata": {
    "collapsed": true,
    "id": "-DASPgHDS3VC",
    "nbgrader": {
     "grade": false,
     "locked": true,
     "solution": false
    },
    "outputId": "78ab767e-0978-4526-81e0-c79b369c2ae6"
   },
   "outputs": [
    {
     "data": {
      "text/plain": [
       "int"
      ]
     },
     "execution_count": 10,
     "metadata": {},
     "output_type": "execute_result"
    }
   ],
   "source": [
    "type(a)"
   ]
  },
  {
   "cell_type": "code",
   "execution_count": 11,
   "id": "3d72cc72",
   "metadata": {
    "collapsed": true,
    "id": "151cff3a",
    "nbgrader": {
     "grade": false,
     "locked": true,
     "solution": false
    },
    "outputId": "483b66c5-0363-43f4-f716-46f6ad86721f"
   },
   "outputs": [
    {
     "data": {
      "text/plain": [
       "float"
      ]
     },
     "execution_count": 11,
     "metadata": {},
     "output_type": "execute_result"
    }
   ],
   "source": [
    "float_var = 3.1415\n",
    "type(float_var)"
   ]
  },
  {
   "cell_type": "code",
   "execution_count": 12,
   "id": "20f7701a",
   "metadata": {
    "collapsed": true,
    "nbgrader": {
     "grade": false,
     "locked": true,
     "solution": false
    }
   },
   "outputs": [
    {
     "name": "stdout",
     "output_type": "stream",
     "text": [
      "0.09999999999999998\n"
     ]
    }
   ],
   "source": [
    "a = 0.3\n",
    "b = 0.2\n",
    "c = a-b\n",
    "print(c)"
   ]
  },
  {
   "attachments": {},
   "cell_type": "markdown",
   "id": "86ea9877",
   "metadata": {
    "nbgrader": {
     "grade": false,
     "locked": true,
     "solution": false
    }
   },
   "source": [
    "You probably noticed that Python wrote $0.09999999999999998$ instead of $1$ when calculating $0.3 - 0.2$. Ignore it for now, this is explained later in this Notebook."
   ]
  },
  {
   "cell_type": "code",
   "execution_count": 13,
   "id": "062d504b",
   "metadata": {
    "collapsed": true,
    "id": "ced9ae02",
    "nbgrader": {
     "grade": false,
     "locked": true,
     "solution": false
    },
    "outputId": "49d1b418-5b8f-48a9-c27f-84c5ccba21d1"
   },
   "outputs": [
    {
     "data": {
      "text/plain": [
       "bool"
      ]
     },
     "execution_count": 13,
     "metadata": {},
     "output_type": "execute_result"
    }
   ],
   "source": [
    "type(1<2)"
   ]
  },
  {
   "attachments": {},
   "cell_type": "markdown",
   "id": "2e0f2a7c",
   "metadata": {
    "id": "cbabd161",
    "nbgrader": {
     "grade": false,
     "locked": true,
     "solution": false
    }
   },
   "source": [
    "Boolean variables can only take on two values: <b><code>True</code></b> or <b><code>False</code></b>. They are often used to check conditions."
   ]
  },
  {
   "cell_type": "code",
   "execution_count": 14,
   "id": "299ad533",
   "metadata": {
    "collapsed": true,
    "id": "6e138f75",
    "nbgrader": {
     "grade": false,
     "locked": true,
     "solution": false
    },
    "outputId": "3a510470-c9ef-4501-9772-99fc52253c7f"
   },
   "outputs": [
    {
     "data": {
      "text/plain": [
       "True"
      ]
     },
     "execution_count": 14,
     "metadata": {},
     "output_type": "execute_result"
    }
   ],
   "source": [
    "1<2"
   ]
  },
  {
   "attachments": {},
   "cell_type": "markdown",
   "id": "5f84cf0c",
   "metadata": {},
   "source": [
    "The variable from the first script"
   ]
  },
  {
   "cell_type": "code",
   "execution_count": 15,
   "id": "f45bd312",
   "metadata": {
    "collapsed": true,
    "id": "4036bc6d",
    "nbgrader": {
     "grade": false,
     "locked": true,
     "solution": false
    },
    "outputId": "b34edd29-6020-47ec-cd03-14e0b1607413"
   },
   "outputs": [
    {
     "data": {
      "text/plain": [
       "str"
      ]
     },
     "execution_count": 15,
     "metadata": {},
     "output_type": "execute_result"
    }
   ],
   "source": [
    "type(message)"
   ]
  },
  {
   "attachments": {},
   "cell_type": "markdown",
   "id": "0d9382ab",
   "metadata": {
    "id": "b358494d",
    "nbgrader": {
     "grade": false,
     "locked": true,
     "solution": false
    }
   },
   "source": [
    "<b>Strings</b> are variables represented in between <b><code>' '</code></b> or <b><code>\" \"</code></b>.<br><br>They are a <b>sequence</b> of values, therefore you are able to access and manipulate every character individually.<br><br>This is done with the bracket operator <b><code>[]</code></b>, which works as an <b>index</b>.<br><br>Let's take a look at our first variable from this notebook: <b><code>message</code></b>."
   ]
  },
  {
   "cell_type": "code",
   "execution_count": 16,
   "id": "5b5a621d",
   "metadata": {
    "collapsed": true,
    "id": "493e9703",
    "nbgrader": {
     "grade": false,
     "locked": true,
     "solution": false
    },
    "outputId": "18bf0c72-1e6d-49cc-90ed-79cd3793f345"
   },
   "outputs": [
    {
     "data": {
      "text/plain": [
       "'Hello world!'"
      ]
     },
     "execution_count": 16,
     "metadata": {},
     "output_type": "execute_result"
    }
   ],
   "source": [
    "message"
   ]
  },
  {
   "cell_type": "code",
   "execution_count": 17,
   "id": "31337e0d",
   "metadata": {
    "collapsed": true,
    "id": "9509e9ae",
    "nbgrader": {
     "grade": false,
     "locked": true,
     "solution": false
    },
    "outputId": "71b77b96-56ac-4fec-eeec-5de598c393f2"
   },
   "outputs": [
    {
     "data": {
      "text/plain": [
       "'e'"
      ]
     },
     "execution_count": 17,
     "metadata": {},
     "output_type": "execute_result"
    }
   ],
   "source": [
    "message[1]"
   ]
  },
  {
   "attachments": {},
   "cell_type": "markdown",
   "id": "f9e009e9",
   "metadata": {
    "id": "d378e554",
    "nbgrader": {
     "grade": false,
     "locked": true,
     "solution": false
    }
   },
   "source": [
    "<b>Nani???</b>"
   ]
  },
  {
   "attachments": {},
   "cell_type": "markdown",
   "id": "e68a979c",
   "metadata": {
    "id": "52be9a23",
    "nbgrader": {
     "grade": false,
     "locked": true,
     "solution": false
    }
   },
   "source": [
    "Why index <b><code>[1]</code></b> gave us the second letter? For most people, the first letter of the sentence <b><code>Hello world!</code></b> is <b><code>H</code></b> not <b><code>e</code></b>.\n",
    "\n",
    "So.. what happened?\n",
    "\n",
    "In Python, indexing starts at **`[0]`**. **`H`** is the *zero-th* character of **`Hello world!`**."
   ]
  },
  {
   "cell_type": "code",
   "execution_count": 18,
   "id": "8996a258",
   "metadata": {
    "collapsed": true,
    "id": "00bd0987",
    "nbgrader": {
     "grade": false,
     "locked": true,
     "solution": false
    },
    "outputId": "c62d6076-38bf-4a61-f153-aa50ca7c75fa"
   },
   "outputs": [
    {
     "data": {
      "text/plain": [
       "'H'"
      ]
     },
     "execution_count": 18,
     "metadata": {},
     "output_type": "execute_result"
    }
   ],
   "source": [
    "message[0]"
   ]
  },
  {
   "attachments": {},
   "cell_type": "markdown",
   "id": "22086a55",
   "metadata": {
    "id": "7cc759c9",
    "nbgrader": {
     "grade": false,
     "locked": true,
     "solution": false
    }
   },
   "source": [
    "You can also access the last value of a string using the index <b><code>[-1]</code></b>, the before-last using <b><code>[-2]</code></b> and so forth.. This will turn out to be very useful!"
   ]
  },
  {
   "cell_type": "code",
   "execution_count": 19,
   "id": "77741bfa",
   "metadata": {
    "collapsed": true,
    "id": "6f9dbc4a",
    "nbgrader": {
     "grade": false,
     "locked": true,
     "solution": false
    },
    "outputId": "2b4ac665-2aba-42a0-e5ea-bc8621f1574e"
   },
   "outputs": [
    {
     "data": {
      "text/plain": [
       "'!'"
      ]
     },
     "execution_count": 19,
     "metadata": {},
     "output_type": "execute_result"
    }
   ],
   "source": [
    "message[-1]"
   ]
  },
  {
   "attachments": {},
   "cell_type": "markdown",
   "id": "9223b088",
   "metadata": {
    "id": "27920277",
    "nbgrader": {
     "grade": false,
     "locked": true,
     "solution": false
    }
   },
   "source": [
    "Strings are also immutable. You cannot reassign a new value for one of the characters. You will have to create a new string for that."
   ]
  },
  {
   "cell_type": "code",
   "execution_count": 20,
   "id": "4a4d5c55",
   "metadata": {
    "collapsed": true,
    "id": "11579009",
    "nbgrader": {
     "grade": false,
     "locked": true,
     "solution": false
    },
    "outputId": "28eb007f-7adf-4108-fb8a-6db5e0bcfa05"
   },
   "outputs": [
    {
     "ename": "TypeError",
     "evalue": "'str' object does not support item assignment",
     "output_type": "error",
     "traceback": [
      "\u001b[1;31m---------------------------------------------------------------------------\u001b[0m",
      "\u001b[1;31mTypeError\u001b[0m                                 Traceback (most recent call last)",
      "Cell \u001b[1;32mIn[20], line 1\u001b[0m\n\u001b[1;32m----> 1\u001b[0m message[\u001b[39m0\u001b[39m] \u001b[39m=\u001b[39m \u001b[39m'\u001b[39m\u001b[39mJ\u001b[39m\u001b[39m'\u001b[39m\n",
      "\u001b[1;31mTypeError\u001b[0m: 'str' object does not support item assignment"
     ]
    }
   ],
   "source": [
    "message[0] = 'J'"
   ]
  },
  {
   "attachments": {},
   "cell_type": "markdown",
   "id": "e2cd7ec3",
   "metadata": {
    "id": "5777fe12",
    "nbgrader": {
     "grade": false,
     "locked": true,
     "solution": false
    }
   },
   "source": [
    "You can also add (i.e. concatenate) strings and characters. But it will create a new string, it will not modify the old one (since they are immutable)."
   ]
  },
  {
   "cell_type": "code",
   "execution_count": 21,
   "id": "07d03148",
   "metadata": {
    "collapsed": true,
    "id": "5a8eab89",
    "nbgrader": {
     "grade": false,
     "locked": true,
     "solution": false
    },
    "outputId": "f886a8eb-8238-4c49-9c54-caae38e268b2"
   },
   "outputs": [
    {
     "data": {
      "text/plain": [
       "'Hello world!Hello world!'"
      ]
     },
     "execution_count": 21,
     "metadata": {},
     "output_type": "execute_result"
    }
   ],
   "source": [
    "message + message"
   ]
  },
  {
   "cell_type": "code",
   "execution_count": 22,
   "id": "0d7db87f",
   "metadata": {
    "collapsed": true,
    "id": "a2164ca2",
    "nbgrader": {
     "grade": false,
     "locked": true,
     "solution": false
    },
    "outputId": "dde3141d-6812-454f-d960-4763d4552dbc"
   },
   "outputs": [
    {
     "data": {
      "text/plain": [
       "'Hell'"
      ]
     },
     "execution_count": 22,
     "metadata": {},
     "output_type": "execute_result"
    }
   ],
   "source": [
    "message[0]+message[1]+message[2]+message[3]"
   ]
  },
  {
   "attachments": {},
   "cell_type": "markdown",
   "id": "1b859b5e",
   "metadata": {
    "id": "88633538",
    "nbgrader": {
     "grade": false,
     "locked": true,
     "solution": false
    }
   },
   "source": [
    "A segment of a string is called a <b>slice</b>. Selecting a slice is similar to selecting a character. Using the operator <b><code>:</code></b> you select the first value that you want to <b>get</b>, and the first value you want to <b>leave out</b> of the slice, for example:<br><br>\n",
    "\n",
    "Let's say we want to write the word <b>Hell</b> using our variable <b><code>message</code></b>, without having to type as much as above.\n",
    "\n",
    "1. Which letter is the first we want to <b>get</b>? **`H`**, which has index **`[0]`**.\n",
    "\n",
    "2. Which letter is the first we want to <b>leave out</b>? **`o`**, which has index **`[4]`**. So..."
   ]
  },
  {
   "cell_type": "code",
   "execution_count": 23,
   "id": "cf2144a1",
   "metadata": {
    "collapsed": true,
    "id": "c65d21c0",
    "nbgrader": {
     "grade": false,
     "locked": true,
     "solution": false
    },
    "outputId": "d2317d7f-3f16-4e60-8f99-a9dc7c8543d8"
   },
   "outputs": [
    {
     "data": {
      "text/plain": [
       "'Hell'"
      ]
     },
     "execution_count": 23,
     "metadata": {},
     "output_type": "execute_result"
    }
   ],
   "source": [
    "message[0:4]"
   ]
  },
  {
   "attachments": {},
   "cell_type": "markdown",
   "id": "0a6fdb49",
   "metadata": {
    "id": "ac154077",
    "nbgrader": {
     "grade": false,
     "locked": true,
     "solution": false
    }
   },
   "source": [
    "One can also use our variable <code>message</code> to write the sentence <b><code>Hold door</code></b>."
   ]
  },
  {
   "cell_type": "code",
   "execution_count": 25,
   "id": "3773b5db",
   "metadata": {
    "collapsed": true,
    "nbgrader": {
     "grade": false,
     "locked": true,
     "solution": false
    }
   },
   "outputs": [
    {
     "data": {
      "text/plain": [
       "'Hold door'"
      ]
     },
     "execution_count": 25,
     "metadata": {},
     "output_type": "execute_result"
    }
   ],
   "source": [
    "message[0]+message[4]+message[-3:-1]+message[5]+message[-2]+2*message[4]+message[-4]"
   ]
  },
  {
   "attachments": {},
   "cell_type": "markdown",
   "id": "95ad1554",
   "metadata": {
    "id": "b5eea88c",
    "nbgrader": {
     "grade": false,
     "locked": true,
     "solution": false
    }
   },
   "source": [
    "::: {note}\n",
    "Real life example: Analyzing satellite data<br><br></b>Sentinel data title is formatted as: <b>S1A_IW_SLC__1SDV_20181205T015821_20181205T015851_024884_02BD8C_8700</b><br>\n",
    "    where each part means something, S1A means Sentinel-1A, IW means Interferometric Wide Swath<br> 20181205T015821 is a date, 2018 12 05, at 01h58m21s, etc.<br><br> Therefore, being able to manipulate this string is fundamental in order to organize and select satellite data. \n",
    "::: "
   ]
  },
  {
   "attachments": {},
   "cell_type": "markdown",
   "id": "fd31c2ab",
   "metadata": {
    "nbgrader": {
     "grade": false,
     "locked": true,
     "solution": false
    }
   },
   "source": [
    "### Dynamic Typing\n",
    "\n",
    "The way the computer is able to use the stored data becomes an attribute of the stored data. This attribute is called a <b>data type</b>. Python uses <b>dynamic typing</b>, meaning you can also reassign variables to different data types. This makes Python very flexible in assigning data types; it differs from other languages that are <b>statically typed</b>."
   ]
  },
  {
   "attachments": {},
   "cell_type": "markdown",
   "id": "e091e555",
   "metadata": {
    "nbgrader": {
     "grade": false,
     "locked": true,
     "solution": false
    }
   },
   "source": [
    "#### Pros and Cons of Dynamic Typing\n",
    "##### Pros of Dynamic Typing\n",
    "* very easy to work with\n",
    "* faster development time\n",
    "\n",
    "##### Cons of Dynamic Typing\n",
    "* may result in unexpected bugs!\n",
    "* you need to be aware of **`type()`**."
   ]
  },
  {
   "cell_type": "code",
   "execution_count": 26,
   "id": "16b74e70",
   "metadata": {
    "collapsed": true,
    "nbgrader": {
     "grade": false,
     "locked": true,
     "solution": false
    }
   },
   "outputs": [
    {
     "name": "stdout",
     "output_type": "stream",
     "text": [
      "Type of a is = <class 'int'>\n",
      "Type of a is = <class 'str'>\n"
     ]
    }
   ],
   "source": [
    "a = 5\n",
    "print('Type of a is =',type(a))\n",
    "a = 'string'\n",
    "print('Type of a is =',type(a))"
   ]
  },
  {
   "attachments": {},
   "cell_type": "markdown",
   "id": "26d6b482",
   "metadata": {
    "nbgrader": {
     "grade": false,
     "locked": true,
     "solution": false
    }
   },
   "source": [
    "See, now **`a`** is no longer an **`int`** type but a **`str`** type"
   ]
  },
  {
   "attachments": {},
   "cell_type": "markdown",
   "id": "58d5a940",
   "metadata": {
    "nbgrader": {
     "grade": false,
     "locked": true,
     "solution": false
    }
   },
   "source": [
    "### Casting types\n",
    "\n",
    "Sometimes you want to change the type of a variable. For example, there is no point in arithmetically adding a number to a string. Or, when estimating the amount of oil wells, those should be integers (how would you build $2.5$ wells?). These two problems can be sometimes solved with casting.<br><br><b>Casting</b> is a procedure of changing variables type. Actually, you create a new variable with the requested data type using the variable you want to alter.\n",
    "\n",
    "Examples are shown below.\n",
    "    "
   ]
  },
  {
   "cell_type": "code",
   "execution_count": 27,
   "id": "aba28f0a",
   "metadata": {
    "collapsed": true,
    "nbgrader": {
     "grade": false,
     "locked": true,
     "solution": false
    }
   },
   "outputs": [
    {
     "name": "stdout",
     "output_type": "stream",
     "text": [
      "123 <class 'str'>\n",
      "123 <class 'int'>\n"
     ]
    }
   ],
   "source": [
    "string_number = '123'\n",
    "print(string_number, type(string_number))\n",
    "\n",
    "integer_number = int(string_number)\n",
    "print(integer_number, type(integer_number))"
   ]
  },
  {
   "attachments": {},
   "cell_type": "markdown",
   "id": "840f08d9",
   "metadata": {
    "nbgrader": {
     "grade": false,
     "locked": true,
     "solution": false
    }
   },
   "source": [
    "As you can see, both variables look the same in the output but their type now is different. Because of that, the cell below will result in an error."
   ]
  },
  {
   "cell_type": "code",
   "execution_count": 28,
   "id": "8bff7ddd",
   "metadata": {
    "collapsed": true,
    "nbgrader": {
     "grade": false,
     "locked": true,
     "solution": false
    }
   },
   "outputs": [
    {
     "ename": "TypeError",
     "evalue": "can only concatenate str (not \"int\") to str",
     "output_type": "error",
     "traceback": [
      "\u001b[1;31m---------------------------------------------------------------------------\u001b[0m",
      "\u001b[1;31mTypeError\u001b[0m                                 Traceback (most recent call last)",
      "Cell \u001b[1;32mIn[28], line 1\u001b[0m\n\u001b[1;32m----> 1\u001b[0m string_number \u001b[39m+\u001b[39;49m \u001b[39m5\u001b[39;49m\n",
      "\u001b[1;31mTypeError\u001b[0m: can only concatenate str (not \"int\") to str"
     ]
    }
   ],
   "source": [
    "string_number + 5"
   ]
  },
  {
   "attachments": {},
   "cell_type": "markdown",
   "id": "3aa8df9b",
   "metadata": {
    "nbgrader": {
     "grade": false,
     "locked": true,
     "solution": false
    }
   },
   "source": [
    "But the next cell will run normally."
   ]
  },
  {
   "cell_type": "code",
   "execution_count": 29,
   "id": "e4ad06cb",
   "metadata": {
    "collapsed": true,
    "nbgrader": {
     "grade": false,
     "locked": true,
     "solution": false
    }
   },
   "outputs": [
    {
     "data": {
      "text/plain": [
       "128"
      ]
     },
     "execution_count": 29,
     "metadata": {},
     "output_type": "execute_result"
    }
   ],
   "source": [
    "integer_number + 5"
   ]
  },
  {
   "attachments": {},
   "cell_type": "markdown",
   "id": "be585912",
   "metadata": {
    "nbgrader": {
     "grade": false,
     "locked": true,
     "solution": false
    }
   },
   "source": [
    "### How do computers read variables?\n",
    "\n",
    "Computers and humans have different views on data. We, fellow humans, can easily read poetry and enjoy music. Computers are limited in that sense and they can operate on a really primitive level. They cannot even read normal text, for a computer, everything is represented with numbers. One of the popular text encodings <b>ASCII</b> has a table, where every symbol there is an integer number assigned to it. Letter 'a', for instance, has a value of $97$, and letter 'A' has a value of $65$. The value of 'B' is $66$ and if we want to take the letter before 'B' we just calculate $66 - 1$. You don't have to open an alphabet and, therefore, it is easier to work with numbers than with letters.<br><br>But even for numbers, computers have their own approach. On a really low level, all numbers are stored and operated in their binary form. Number $5$ becomes $101$, because $5 = 1\\cdot2^2 + 0 \\cdot2^1 + 1\\cdot2^0$. And since all symbols are also represented with numbers, it is not hard for computers to operate with them. But what about the floating numbers? How do you represent $1.5$ or $\\pi$? Well, computers try to represent them with binary code, which introduces some problems. In order to represent a fraction, they need an infinite amount of bits, to obtain the precision we use in math. But that's impossible! In other words, small errors will always be present in calculations as simple as $0.3 - 0.2$. From your math classes you know that the result of $0.3 - 0.2 = 0.1$, not $0.10001$ or $0.09999$. But try to run the cell below and see the result."
   ]
  },
  {
   "cell_type": "code",
   "execution_count": 30,
   "id": "8a21987c",
   "metadata": {
    "collapsed": true,
    "nbgrader": {
     "grade": false,
     "locked": true,
     "solution": false
    }
   },
   "outputs": [
    {
     "data": {
      "text/plain": [
       "0.19999999999999998"
      ]
     },
     "execution_count": 30,
     "metadata": {},
     "output_type": "execute_result"
    }
   ],
   "source": [
    "0.3 - 0.1"
   ]
  },
  {
   "attachments": {},
   "cell_type": "markdown",
   "id": "4dc22754",
   "metadata": {
    "nbgrader": {
     "grade": false,
     "locked": true,
     "solution": false
    }
   },
   "source": [
    "It is not what you would expect to see, right? The result has an error of $\\approx 10^{-15}$. In most cases, it can be neglected but be careful when comparing <b><code>float</code></b> and <b><code>int</code></b> numbers, as shown below."
   ]
  },
  {
   "cell_type": "code",
   "execution_count": 31,
   "id": "f3ad92dc",
   "metadata": {
    "collapsed": true,
    "nbgrader": {
     "grade": false,
     "locked": true,
     "solution": false
    }
   },
   "outputs": [
    {
     "data": {
      "text/plain": [
       "False"
      ]
     },
     "execution_count": 31,
     "metadata": {},
     "output_type": "execute_result"
    }
   ],
   "source": [
    "0.2 == 0.3-0.1"
   ]
  },
  {
   "attachments": {},
   "cell_type": "markdown",
   "id": "68a02c78",
   "metadata": {
    "nbgrader": {
     "grade": false,
     "locked": true,
     "solution": false
    }
   },
   "source": [
    "Indeed, $0.2 \\neq 0.19999999999999998$."
   ]
  },
  {
   "attachments": {},
   "cell_type": "markdown",
   "id": "6a14cb55",
   "metadata": {
    "nbgrader": {
     "grade": false,
     "locked": true,
     "solution": false
    }
   },
   "source": [
    "::: {note}\n",
    "Within this course, in the end of each section you'll find exercises related to the subject that was just covered. There are three types of exercises: normal, fixing and searching.\n",
    "\n",
    "Normal exercises are straight forward exercises that you should be able to solve without much trouble.\n",
    "Fixing exercises are exercises where some piece of code is already written and you need to debug it (find the root of the error and fix it).\n",
    "\n",
    "Searching exercises are exercises that purposefully incorporate subjects that were not covered yet, in an attempt to encourage you to try and solve issues you haven't learned about yet.\n",
    ":::"
   ]
  }
 ],
 "metadata": {
  "colab": {
   "collapsed_sections": [],
   "name": "merged.ipynb",
   "provenance": []
  },
  "kernelspec": {
   "display_name": "base",
   "language": "python",
   "name": "python3"
  },
  "language_info": {
   "codemirror_mode": {
    "name": "ipython",
    "version": 3
   },
   "file_extension": ".py",
   "mimetype": "text/x-python",
   "name": "python",
   "nbconvert_exporter": "python",
   "pygments_lexer": "ipython3",
   "version": "3.11.5"
  },
  "latex_envs": {
   "LaTeX_envs_menu_present": true,
   "autoclose": false,
   "autocomplete": true,
   "bibliofile": "biblio.bib",
   "cite_by": "apalike",
   "current_citInitial": 1,
   "eqLabelWithNumbers": true,
   "eqNumInitial": 1,
   "hotkeys": {
    "equation": "Ctrl-E",
    "itemize": "Ctrl-I"
   },
   "labels_anchors": false,
   "latex_user_defs": false,
   "report_style_numbering": false,
   "user_envs_cfg": false
  }
 },
 "nbformat": 4,
 "nbformat_minor": 5
}
