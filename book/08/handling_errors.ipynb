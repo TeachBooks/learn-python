{
 "cells": [
  {
   "cell_type": "markdown",
   "metadata": {},
   "source": [
    "# Handling errors: the `try - except` block <a id='try_except'></a>\n",
    "If exceptions are not handled properly, the application will crash during execution as we have seen in the examples above. As a result, handling exceptions is important, because we want to minimise application crashes. Sometimes this is called \"catching\" errors.\n",
    "\n",
    "It is important to also think about *when* we should catch errors: this is when you expect the error to be _recoverable_. In other words, dealing with isthe error should not affect future code that will run. Some errors are _fatal_ and should be left to crash the program since things won't work out anyways (we will learn how to distinguish this behavior in the logging section).\n",
    "\n",
    "To handle exceptions, we can make use of `try - except` block, where we can catch exceptions and handle them in the way we wish. Thus, if an exception is *raised*, the application is not going to crash.\n",
    "\n",
    "Let's see how that works by reusing the function from the previous section:"
   ]
  },
  {
   "cell_type": "code",
   "execution_count": null,
   "metadata": {},
   "outputs": [],
   "source": [
    "def calculate_weight(density, volume):\n",
    "    \"\"\"\n",
    "    Calculates weight of an object, given its density and volume.\n",
    "\n",
    "    Args:\n",
    "        density (int): Density of an object.\n",
    "        volume (int): Volume of an object.\n",
    "\n",
    "    Returns:\n",
    "        int: Weight of an object.\n",
    "\n",
    "    Raises:\n",
    "        ValueError: if density or volume are negative values.\n",
    "    \"\"\"\n",
    "    if density < 0:\n",
    "        raise ValueError(\n",
    "            \"Invalid density. Density parameter can only take positive numbers\"\n",
    "        )\n",
    "    if volume < 0:\n",
    "        raise ValueError(\n",
    "            \"Invalid volume. Volume parameter can only take positive numbers\"\n",
    "        )\n",
    "    return density * volume"
   ]
  },
  {
   "cell_type": "code",
   "execution_count": 14,
   "metadata": {},
   "outputs": [
    {
     "name": "stdout",
     "output_type": "stream",
     "text": [
      "An exception occurred!\n"
     ]
    }
   ],
   "source": [
    "weight = 0\n",
    "density = -40\n",
    "volume = 5\n",
    "\n",
    "try:\n",
    "    weight = calculate_weight(density, volume)\n",
    "except ValueError:\n",
    "    print(\"An exception occurred!\")"
   ]
  },
  {
   "cell_type": "markdown",
   "metadata": {},
   "source": [
    "Note that if we do not handle the correct exception, one will still be raised. Therefore, it is very important that we catch the correct one based on our knowledge of which error can occur."
   ]
  },
  {
   "cell_type": "code",
   "execution_count": 15,
   "metadata": {},
   "outputs": [
    {
     "ename": "ValueError",
     "evalue": "Invalid density. Density parameter can only take positive numbers",
     "output_type": "error",
     "traceback": [
      "\u001b[1;31m---------------------------------------------------------------------------\u001b[0m",
      "\u001b[1;31mValueError\u001b[0m                                Traceback (most recent call last)",
      "Cell \u001b[1;32mIn[15], line 6\u001b[0m\n\u001b[0;32m      3\u001b[0m volume \u001b[38;5;241m=\u001b[39m \u001b[38;5;241m5\u001b[39m\n\u001b[0;32m      5\u001b[0m \u001b[38;5;28;01mtry\u001b[39;00m:\n\u001b[1;32m----> 6\u001b[0m     weight \u001b[38;5;241m=\u001b[39m \u001b[43mcalculate_weight\u001b[49m\u001b[43m(\u001b[49m\u001b[43mdensity\u001b[49m\u001b[43m,\u001b[49m\u001b[43m \u001b[49m\u001b[43mvolume\u001b[49m\u001b[43m)\u001b[49m\n\u001b[0;32m      7\u001b[0m \u001b[38;5;28;01mexcept\u001b[39;00m \u001b[38;5;167;01mNameError\u001b[39;00m:\n\u001b[0;32m      8\u001b[0m     \u001b[38;5;28mprint\u001b[39m(\u001b[38;5;124m\"\u001b[39m\u001b[38;5;124mAn exception occurred!\u001b[39m\u001b[38;5;124m\"\u001b[39m)\n",
      "Cell \u001b[1;32mIn[11], line 16\u001b[0m, in \u001b[0;36mcalculate_weight\u001b[1;34m(density, volume)\u001b[0m\n\u001b[0;32m      2\u001b[0m \u001b[38;5;250m\u001b[39m\u001b[38;5;124;03m\"\"\"\u001b[39;00m\n\u001b[0;32m      3\u001b[0m \u001b[38;5;124;03mCalculates weight of an object, given its density and volume.\u001b[39;00m\n\u001b[0;32m      4\u001b[0m \n\u001b[1;32m   (...)\u001b[0m\n\u001b[0;32m     13\u001b[0m \u001b[38;5;124;03m    ValueError: if density or volume are negative values.\u001b[39;00m\n\u001b[0;32m     14\u001b[0m \u001b[38;5;124;03m\"\"\"\u001b[39;00m\n\u001b[0;32m     15\u001b[0m \u001b[38;5;28;01mif\u001b[39;00m density \u001b[38;5;241m<\u001b[39m \u001b[38;5;241m0\u001b[39m:\n\u001b[1;32m---> 16\u001b[0m     \u001b[38;5;28;01mraise\u001b[39;00m \u001b[38;5;167;01mValueError\u001b[39;00m(\n\u001b[0;32m     17\u001b[0m         \u001b[38;5;124m\"\u001b[39m\u001b[38;5;124mInvalid density. Density parameter can only take positive numbers\u001b[39m\u001b[38;5;124m\"\u001b[39m\n\u001b[0;32m     18\u001b[0m     )\n\u001b[0;32m     19\u001b[0m \u001b[38;5;28;01mif\u001b[39;00m volume \u001b[38;5;241m<\u001b[39m \u001b[38;5;241m0\u001b[39m:\n\u001b[0;32m     20\u001b[0m     \u001b[38;5;28;01mraise\u001b[39;00m \u001b[38;5;167;01mValueError\u001b[39;00m(\n\u001b[0;32m     21\u001b[0m         \u001b[38;5;124m\"\u001b[39m\u001b[38;5;124mInvalid volume. Volume parameter can only take positive numbers\u001b[39m\u001b[38;5;124m\"\u001b[39m\n\u001b[0;32m     22\u001b[0m     )\n",
      "\u001b[1;31mValueError\u001b[0m: Invalid density. Density parameter can only take positive numbers"
     ]
    }
   ],
   "source": [
    "weight = 0\n",
    "density = -40\n",
    "volume = 5\n",
    "\n",
    "try:\n",
    "    weight = calculate_weight(density, volume)\n",
    "except NameError:\n",
    "    print(\"An exception occurred!\")"
   ]
  },
  {
   "cell_type": "markdown",
   "metadata": {},
   "source": [
    "If we do not know what exception will be raised, we can use `except Exception`, which will handle any exception raised by the code inside the `try` clause block. (`Exception` is the super class that comprises all types of exceptions and errors; for the purpose of this activity, think of it as a generic error.):"
   ]
  },
  {
   "cell_type": "code",
   "execution_count": 16,
   "metadata": {},
   "outputs": [
    {
     "name": "stdout",
     "output_type": "stream",
     "text": [
      "An exception occurred!\n"
     ]
    }
   ],
   "source": [
    "weight = 0\n",
    "density = -40\n",
    "volume = 5\n",
    "\n",
    "try:\n",
    "    weight = calculate_weight(density, volume)\n",
    "except Exception:\n",
    "    print(\"An exception occurred!\")"
   ]
  },
  {
   "cell_type": "markdown",
   "metadata": {},
   "source": [
    "## `else` and `finally`"
   ]
  },
  {
   "cell_type": "markdown",
   "metadata": {},
   "source": [
    "There are 2 more clauses that we can add to our `try-except` block, namely `else` and `finally`:\n",
    "- `else` will be executed only if no exception is raised by the code in the `try` clause block. This is useful in case we want some code to be executed after successful completion of the `try` clause. For example, printing a message or sending a response to somebody.\n",
    "- `finally` will be executed all the time, regardless of whether an exception was raised or not. In practice this is mostly used to finish a process. For example, if you are reading from a file, it is customary to close the file when you finish reading from it.\n",
    "\n",
    "Study the example below, which shows the execution of `except` and `finally` clauses:"
   ]
  },
  {
   "cell_type": "code",
   "execution_count": 17,
   "metadata": {},
   "outputs": [
    {
     "name": "stdout",
     "output_type": "stream",
     "text": [
      "An exception occurred!\n",
      "Calculation finished!\n"
     ]
    }
   ],
   "source": [
    "weight = 0\n",
    "density = -40\n",
    "volume = 5\n",
    "\n",
    "try:\n",
    "    weight = calculate_weight(density, volume)\n",
    "except Exception:\n",
    "    print(\"An exception occurred!\")\n",
    "else:\n",
    "    print(\n",
    "        f\"The weight of an object with density of {density} kg/m^3 and \"\n",
    "        f\"volume of {volume} m^3 is {weight} kg.\"\n",
    "    )\n",
    "finally:\n",
    "    print(\"Calculation finished!\")"
   ]
  },
  {
   "cell_type": "markdown",
   "metadata": {},
   "source": [
    "We will now use valid input to our function `calculate_weight` to show the execution of `try` and `else` clauses:"
   ]
  },
  {
   "cell_type": "code",
   "execution_count": 18,
   "metadata": {},
   "outputs": [
    {
     "name": "stdout",
     "output_type": "stream",
     "text": [
      "The weight of an object with density of 7870 kg/m^3 and volume of 40 m^3 is 314800 kg.\n",
      "Calculation finished!\n"
     ]
    }
   ],
   "source": [
    "weight = 0\n",
    "density = 7870\n",
    "volume = 40\n",
    "\n",
    "try:\n",
    "    weight = calculate_weight(density, volume)\n",
    "except Exception:\n",
    "    print(\"An exception occurred!\")\n",
    "else:\n",
    "    print(\n",
    "        f\"The weight of an object with density of {density} kg/m^3 and \"\n",
    "        f\"volume of {volume} m^3 is {weight} kg.\"\n",
    "    )\n",
    "finally:\n",
    "    print(\"Calculation finished!\")"
   ]
  },
  {
   "cell_type": "markdown",
   "metadata": {},
   "source": [
    "It is also possible to interact with any exception object. Have a look at the example below, where `e` is the object of the raised exception:"
   ]
  },
  {
   "cell_type": "code",
   "execution_count": 19,
   "metadata": {},
   "outputs": [
    {
     "name": "stdout",
     "output_type": "stream",
     "text": [
      "An exception occurred: Invalid density. Density parameter can only take positive numbers\n"
     ]
    }
   ],
   "source": [
    "weight = 0\n",
    "density = -40\n",
    "volume = 5\n",
    "\n",
    "try:\n",
    "    weight = calculate_weight(density, volume)\n",
    "except ValueError as e:\n",
    "    print(f\"An exception occurred: {e}\")"
   ]
  },
  {
   "cell_type": "markdown",
   "metadata": {},
   "source": [
    "It is possible to have multiple `except` statements in case you are expecting more than 1 type of exceptions to be raised. If an exception is raised, the first `except` clause that catches it will be evaluated.\n",
    "\n",
    "You may be wondering why should we handle multiple exceptions. Depending on the exception raised, we can set up different behaviour for our application. For example, if a `ZeroDivisionError`, the issue is most likely in the user providing arguments, so we could inform them about it specifically. However, if a `ValueError` is thrown, it may be related to our logic. In that case we should be able to investigate the cause of it."
   ]
  },
  {
   "cell_type": "code",
   "execution_count": 20,
   "metadata": {},
   "outputs": [
    {
     "name": "stdout",
     "output_type": "stream",
     "text": [
      "Value error exception was raised!\n"
     ]
    }
   ],
   "source": [
    "weight = 0\n",
    "density = -40\n",
    "volume = 5\n",
    "\n",
    "try:\n",
    "    weight = calculate_weight(density, volume)\n",
    "except ZeroDivisionError:\n",
    "    print(\"Division by zero exception was raised!\")\n",
    "except ValueError:\n",
    "    print(\"Value error exception was raised!\")\n",
    "except TypeError:\n",
    "    print(\"Type error exception was raised!\")"
   ]
  }
 ],
 "metadata": {
  "kernelspec": {
   "display_name": "base",
   "language": "python",
   "name": "python3"
  },
  "language_info": {
   "codemirror_mode": {
    "name": "ipython",
    "version": 3
   },
   "file_extension": ".py",
   "mimetype": "text/x-python",
   "name": "python",
   "nbconvert_exporter": "python",
   "pygments_lexer": "ipython3",
   "version": "3.9.18"
  }
 },
 "nbformat": 4,
 "nbformat_minor": 2
}
