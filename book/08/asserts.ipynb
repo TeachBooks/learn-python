{
 "cells": [
  {
   "cell_type": "markdown",
   "metadata": {},
   "source": [
    "# Assertions\n",
    "The main purpose of *assertions* is to catch logical errors: we need checks that verify that our code is working correctly.\n",
    "\n",
    "Assertions can be defined by the keyword `assert`. They take an expression that evaluates to a boolean and if its value is `False`, then an `AssertionError` is raised. We can set a message for the raised exception by providing it in the assertion.\n",
    "\n",
    "You can think of assertion statements `assert <condition>, <message>` as equivalent to:\n",
    "```python\n",
    "if not condition:\n",
    "  raise AssertionError(message)\n",
    "```"
   ]
  },
  {
   "cell_type": "markdown",
   "metadata": {},
   "source": [
    "Assertions are very useful for *unit testing* your code. A *unit* can be seen as the smallest piece of code that can be individually tested. In our case, this would mean testing a Python function.\n",
    "\n",
    "It is advisable to make one or multiple test functions that test your code and run those functions every time you make a modification to the *codebase* (i.e., all the code you develop). This can ensure that any new modifications to the existing code do not damage the previous functionalities.\n",
    "\n",
    "Below you can find a few examples  where we have correct assertions, using the function from above and the `calculate_weight` function we've seen before. Therefore, no exception is occurring. Note that setting a message is not mandatory, but highly recommended for debugging purposes:"
   ]
  },
  {
   "cell_type": "code",
   "execution_count": 1,
   "metadata": {},
   "outputs": [],
   "source": [
    "def calculate_weight(density, volume):\n",
    "    \"\"\"\n",
    "    Calculates weight of an object, given its density and volume.\n",
    "\n",
    "    Args:\n",
    "        density (int): Density of an object.\n",
    "        volume (int): Volume of an object.\n",
    "\n",
    "    Returns:\n",
    "        int: Weight of an object.\n",
    "    \"\"\"\n",
    "    return density * volume"
   ]
  },
  {
   "cell_type": "code",
   "execution_count": 2,
   "metadata": {},
   "outputs": [],
   "source": [
    "assert calculate_weight(30, 10) == 300\n",
    "assert calculate_weight(70, 4) == 280, \"The weight of an object with density of 70 kg/m^3 and volume of 4 m^3 should be 280 kg.\"\n",
    "assert calculate_weight(12, 500) == 6000, \"The weight of an object with density of 12 kg/m^3 and volume of 500 m^3 should be 6000 kg.\""
   ]
  },
  {
   "cell_type": "markdown",
   "metadata": {},
   "source": [
    "Below, there is an example of a failing assertion for a function converting Kelvin to Celsius. This assertion should trigger the developer into adjusting the value of the zero_point."
   ]
  },
  {
   "cell_type": "code",
   "execution_count": 3,
   "metadata": {},
   "outputs": [
    {
     "ename": "AssertionError",
     "evalue": "0 Kelvin are equal to -273.15 Celsius",
     "output_type": "error",
     "traceback": [
      "\u001b[1;31m---------------------------------------------------------------------------\u001b[0m",
      "\u001b[1;31mAssertionError\u001b[0m                            Traceback (most recent call last)",
      "Cell \u001b[1;32mIn[3], line 14\u001b[0m\n\u001b[0;32m     11\u001b[0m     zero_point \u001b[38;5;241m=\u001b[39m \u001b[38;5;241m273\u001b[39m\n\u001b[0;32m     12\u001b[0m     \u001b[38;5;28;01mreturn\u001b[39;00m kelvin_temperature\u001b[38;5;241m-\u001b[39mzero_point\n\u001b[1;32m---> 14\u001b[0m \u001b[38;5;28;01massert\u001b[39;00m kelvin_to_celsius(\u001b[38;5;241m0\u001b[39m)\u001b[38;5;241m==\u001b[39m\u001b[38;5;241m-\u001b[39m\u001b[38;5;241m273.15\u001b[39m, \u001b[38;5;124m\"\u001b[39m\u001b[38;5;124m0 Kelvin are equal to -273.15 Celsius\u001b[39m\u001b[38;5;124m\"\u001b[39m\n",
      "\u001b[1;31mAssertionError\u001b[0m: 0 Kelvin are equal to -273.15 Celsius"
     ]
    }
   ],
   "source": [
    "def kelvin_to_celsius(kelvin_temperature):\n",
    "    \"\"\"\n",
    "    Conerts [K] into [°C]\n",
    "\n",
    "    Args:\n",
    "        kelvin_temperature (float): Temperature in [K]\n",
    "\n",
    "    Returns:\n",
    "        float: Temperature in [°C].\n",
    "    \"\"\"\n",
    "    zero_point = 273\n",
    "    return kelvin_temperature-zero_point\n",
    "\n",
    "assert kelvin_to_celsius(0)==-273.15, \"0 Kelvin are equal to -273.15 Celsius\""
   ]
  },
  {
   "cell_type": "markdown",
   "metadata": {},
   "source": [
    "When writing tests we should focus on covering \"boundary\" values. Those are values that are part of a condition statement. For example, in the statement `if weight > 0`, the boundary value is 0. <br>\n",
    "\n",
    "By a rule of thumb, it is customary, to have at least 4 tests for every condition:\n",
    "- one that is on the boundary of condition and evaluates it to `True` (i.e. setting `weight` to 1)\n",
    "- one that is on the boundary and evaluates it to `False` (i.e. setting `weight` to 0)\n",
    "- one that is not on the boundary and evaluates to `True` (i.e. setting `weight` to 100)\n",
    "- one that is not on the boundary and evaluates to `False` (i.e. setting `weight` to -70)\n",
    "\n",
    "Moreover, you should try testing with different types as well. For example, floats or strings to observe the behaviour of your code. Finally, you could also consider testing edge cases, such as: infinity, zero, NAN, empty strings, etc."
   ]
  },
  {
   "cell_type": "markdown",
   "metadata": {},
   "source": [
    "Below you can find several examples of tests for boundary values:\n",
    "\n",
    "## Exercise\n",
    "Try to change any of the values for density and volume to cause an assertion to fail. What do you observe?"
   ]
  },
  {
   "cell_type": "code",
   "execution_count": 23,
   "metadata": {},
   "outputs": [],
   "source": [
    "def test_calculate_weight(calculate_weight):\n",
    "    assert calculate_weight(0, 3) == 0, \"The weight of an object with density of 0 kg/m^3 and volume of 3 m^3 should be 0 kg.\"\n",
    "    assert calculate_weight(50, 0) == 0, \"The weight of an object with density of 50 kg/m^3 and volume of 0 m^3 should be 0 kg.\"\n",
    "    assert calculate_weight(0, 0) == 0, \"The weight of an object with density of 0 kg/m^3 and volume of 0 m^3 should be 0 kg.\"\n",
    "    \n",
    "    assert calculate_weight(100, 1) == 100, \"The weight of an object with density of 100 kg/m^3 and volume of 1 m^3 should be 100 kg.\"\n",
    "    assert calculate_weight(45, 2) == 90, \"The weight of an object with density of 45 kg/m^3 and volume of 2 m^3 should be 90 kg.\"\n",
    "\n",
    "test_calculate_weight(calculate_weight)"
   ]
  },
  {
   "cell_type": "markdown",
   "metadata": {},
   "source": [
    "## Exercise\n",
    "\n",
    "You are given the method `calculate_area` again to calculate the *shuttering area* of a concrete rectangular column. The shuttering is a temporary arrangement done for vertical surfaces to support the wet concrete till it attains the desired strength (source: [Civilread.com](https://civilread.com/how-to-calculate-shuttering-area/)).\n",
    "\n",
    "Write assertions in `test_calculate_area` that can verify that method `calculate_area` is free of bugs. Make sure you include meaningful messages in case a test fails. Consult section [Assertions](./assertions.ipynb) again and try to write tests that test the boundary values of the `if` statement. For example, tests that evaluate the condition to `True` and/or `False`."
   ]
  },
  {
   "cell_type": "code",
   "execution_count": null,
   "metadata": {},
   "outputs": [],
   "source": [
    "def calculate_area(height, length, breadth):\n",
    "    \"\"\"\n",
    "    Calculates shuttering area of a concrete rectangular column.\n",
    "\n",
    "    Args:\n",
    "        height (int): Height of the column.\n",
    "        length (int): Length of the column.\n",
    "        breadth (int): Breadth of the column.\n",
    "\n",
    "    Returns:\n",
    "        int: The area or -1 if the input is invalid.\n",
    "    \"\"\"\n",
    "    if height <= 0 or length <= 0 or breadth <= 0:\n",
    "        return -1\n",
    "    else:\n",
    "        return (2 * breadth + 2 * length) * height\n",
    "\n",
    "\n",
    "def test_calculate_area(calculate_area):\n",
    "    YOUR CODE HERE\n",
    "\n",
    "test_calculate_area(calculate_area)"
   ]
  },
  {
   "cell_type": "markdown",
   "metadata": {},
   "source": [
    "````{admonition} Solution assignment 1\n",
    ":class: tip, dropdown\n",
    "\n",
    "```python\n",
    "    # Tests, which contain values on the boundary of a condition and evaluate it to True\n",
    "    assert calculate_area(0, 10, 20) == -1, \"Zero height should result in invalid output -1.\"\n",
    "    assert calculate_area(50, 0, 70) == -1, \"Zero length should result in invalid output -1.\"\n",
    "    assert calculate_area(35, 5, 0) == -1, \"Zero breadth should result in invalid output -1.\"\n",
    "\n",
    "    # Tests, which do not contain values on the boundary of a condition and evaluate it to True\n",
    "    assert calculate_area(-20, 24, 54) == -1, \"Negative height should result in invalid output -1.\"\n",
    "    assert calculate_area(49, -3, 5) == -1, \"Negative length should result in invalid output -1.\"\n",
    "    assert calculate_area(47, 10, -70) == -1, \"Negative breadth should result in invalid output -1.\"\n",
    "\n",
    "    # Tests, which contain values on the boundary of a condition and evaluate it to False\n",
    "    assert calculate_area(1, 25, 4) == 58, \"Shuttering area for column with height 1cm, length 25cm and breadth 4cm should be 58cm^2.\"\n",
    "    assert calculate_area(36, 1, 12) == 936, \"Shuttering area for column with height 36cm, length 1cm and breadth 12cm should be 936cm^2.\"\n",
    "    assert calculate_area(23, 13, 1) == 644, \"Shuttering area for column with height 23cm, length 13cm and breadth 1cm should be 644cm^2.\"\n",
    "\n",
    "    # Tests, which do not contain values on the boundary of a condition and evaluate it to False\n",
    "    assert calculate_area(5, 10, 20) == 300, \"Shuttering area for column with height 5cm, length 10cm and breadth 20cm should be 300cm^2.\"\n",
    "    assert calculate_area(26, 17, 41) == 3016, \"Shuttering area for column with height 26cm, length 17cm and breadth 41cm should be 3016cm^2.\"\n",
    "    assert calculate_area(100, 20, 50) == 14000, \"Shuttering area for column with height 100cm, length 20cm and breadth 50cm should be 14000cm^2.\"\n",
    "```\n",
    "\n",
    "````"
   ]
  },
  {
   "cell_type": "markdown",
   "metadata": {},
   "source": [
    "## Asserts and floating point numbers\n",
    "\n",
    "Suppose that we are dealing with floating point numbers in our calculations and we would like to run test on them. Try running the code below and think whether the result makes sense:"
   ]
  },
  {
   "cell_type": "code",
   "execution_count": 24,
   "metadata": {},
   "outputs": [
    {
     "ename": "AssertionError",
     "evalue": "",
     "output_type": "error",
     "traceback": [
      "\u001b[1;31m---------------------------------------------------------------------------\u001b[0m",
      "\u001b[1;31mAssertionError\u001b[0m                            Traceback (most recent call last)",
      "Cell \u001b[1;32mIn[24], line 1\u001b[0m\n\u001b[1;32m----> 1\u001b[0m \u001b[38;5;28;01massert\u001b[39;00m \u001b[38;5;241m0.1\u001b[39m \u001b[38;5;241m+\u001b[39m \u001b[38;5;241m0.2\u001b[39m \u001b[38;5;241m==\u001b[39m \u001b[38;5;241m0.3\u001b[39m\n",
      "\u001b[1;31mAssertionError\u001b[0m: "
     ]
    }
   ],
   "source": [
    "assert 0.1 + 0.2 == 0.3"
   ]
  },
  {
   "cell_type": "markdown",
   "metadata": {},
   "source": [
    "The assertion above fails due to the fact that we are dealing with floating point numbers. For example, we might be using `0.3` in our calculations, but in practice, `0.30004` could be used instead due to the way floating point numbers are stored in memory. (If interested, have a look at the following link: https://0.30000000000000004.com/).\n",
    "\n",
    "To mitigate this issue, when making assertions for floating point numbers, you can calculate the absolute value of the difference between the expected and actual values and verify that this difference is smaller than some epsilon value:"
   ]
  },
  {
   "cell_type": "code",
   "execution_count": 25,
   "metadata": {},
   "outputs": [],
   "source": [
    "epsilon = 1e-6 # exponential notation for 0.000001\n",
    "assert abs((0.1 + 0.2) - 0.3) < epsilon"
   ]
  }
 ],
 "metadata": {
  "kernelspec": {
   "display_name": "base",
   "language": "python",
   "name": "python3"
  },
  "language_info": {
   "codemirror_mode": {
    "name": "ipython",
    "version": 3
   },
   "file_extension": ".py",
   "mimetype": "text/x-python",
   "name": "python",
   "nbconvert_exporter": "python",
   "pygments_lexer": "ipython3",
   "version": "3.9.18"
  }
 },
 "nbformat": 4,
 "nbformat_minor": 2
}
