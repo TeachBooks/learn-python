{
 "cells": [
  {
   "cell_type": "markdown",
   "id": "0ebeade6-d866-4e8f-9ff1-c7fbbb7d9187",
   "metadata": {},
   "source": [
    "# Assertions"
   ]
  },
  {
   "cell_type": "markdown",
   "id": "99998c2a-cd2a-4aa8-9bc7-963836789b31",
   "metadata": {
    "id": "UZBxJ8aVKGaN",
    "tags": []
   },
   "source": [
    "## Assertions\n",
    "The main purpose of *assertions* is to catch logical errors: we need checks that verify that our code is working correctly.\n",
    "\n",
    "Assertions can be defined by the keyword `assert`. They take an expression that evaluates to a boolean and if its value is `False`, then an `AssertionError` is raised. We can set a message for the raised exception by providing it in the assertion.\n",
    "\n",
    "You can think of assertion statements `assert <condition>, <message>` as equivalent to:\n",
    "```python\n",
    "if not condition:\n",
    "  raise AssertionError(message)\n",
    "```"
   ]
  },
  {
   "cell_type": "markdown",
   "id": "95a6b35f-296d-4c13-96d7-5d507878928e",
   "metadata": {
    "id": "oE0M7msBKGaO"
   },
   "source": [
    "Assertions are very useful for *unit testing* your code. A *unit* can be seen as the smallest piece of code that can be individually tested. In our case, this would mean testing a Python function.\n",
    "\n",
    "It is advisable to make one or multiple test functions that test your code and run those functions every time you make a modification to the *codebase* (i.e., all the code you develop). This can ensure that any new modifications to the existing code do not damage the previous functionalities.\n",
    "\n",
    "Below you can find a few examples using the function from [the Raising and Handling Errors page](./errors_raise_handle.ipynb), where we have correct assertions. Therefore, no exception is occurring. Note that setting a message is not mandatory, but highly recommended for debugging purposes:"
   ]
  },
  {
   "cell_type": "code",
   "execution_count": 6,
   "id": "68fc705a",
   "metadata": {},
   "outputs": [],
   "source": [
    "def calculate_weight(density, volume):\n",
    "    \"\"\"\n",
    "    Calculates weight of an object, given its density and volume.\n",
    "\n",
    "    Args:\n",
    "        density (int): Density of an object.\n",
    "        volume (int): Volume of an object.\n",
    "\n",
    "    Returns:\n",
    "        int: Weight of an object.\n",
    "    \"\"\"\n",
    "    return density * volume"
   ]
  },
  {
   "cell_type": "code",
   "execution_count": 5,
   "id": "11abfdf2-38a8-459d-bcd0-9dc1a56b9ca3",
   "metadata": {
    "id": "Oun9Es81KGaN"
   },
   "outputs": [],
   "source": [
    "assert calculate_weight(30, 10) == 300\n",
    "assert calculate_weight(70, 4) == 280, \"The weight of an object with density of 70 kg/m^3 and volume of 4 m^3 should be 280 kg.\"\n",
    "assert calculate_weight(12, 500) == 6000, \"The weight of an object with density of 12 kg/m^3 and volume of 500 m^3 should be 6000 kg.\""
   ]
  },
  {
   "cell_type": "markdown",
   "id": "cee926f1-3ad4-4e16-8503-988875f49012",
   "metadata": {
    "id": "QbgLd-lXKGaN"
   },
   "source": [
    "Below, there is an example of a failing assertion for a function converting Kelvin to Celsius. This assertion should trigger the developer into adjusting the value of the zero_point."
   ]
  },
  {
   "cell_type": "code",
   "execution_count": 7,
   "id": "dd4227c7-d2e5-46d2-9144-13449306101b",
   "metadata": {},
   "outputs": [
    {
     "ename": "AssertionError",
     "evalue": "0 Kelvin are equal to -273.15 Celsius",
     "output_type": "error",
     "traceback": [
      "\u001b[1;31m---------------------------------------------------------------------------\u001b[0m",
      "\u001b[1;31mAssertionError\u001b[0m                            Traceback (most recent call last)",
      "Cell \u001b[1;32mIn[7], line 14\u001b[0m\n\u001b[0;32m     11\u001b[0m     zero_point \u001b[38;5;241m=\u001b[39m \u001b[38;5;241m273\u001b[39m\n\u001b[0;32m     12\u001b[0m     \u001b[38;5;28;01mreturn\u001b[39;00m kelvin_temperature\u001b[38;5;241m-\u001b[39mzero_point\n\u001b[1;32m---> 14\u001b[0m \u001b[38;5;28;01massert\u001b[39;00m kelvin_to_celsius(\u001b[38;5;241m0\u001b[39m)\u001b[38;5;241m==\u001b[39m\u001b[38;5;241m-\u001b[39m\u001b[38;5;241m273.15\u001b[39m, \u001b[38;5;124m\"\u001b[39m\u001b[38;5;124m0 Kelvin are equal to -273.15 Celsius\u001b[39m\u001b[38;5;124m\"\u001b[39m\n",
      "\u001b[1;31mAssertionError\u001b[0m: 0 Kelvin are equal to -273.15 Celsius"
     ]
    }
   ],
   "source": [
    "def kelvin_to_celsius(kelvin_temperature):\n",
    "    \"\"\"\n",
    "    Conerts [K] into [°C]\n",
    "\n",
    "    Args:\n",
    "        kelvin_temperature (float): Temperature in [K]\n",
    "\n",
    "    Returns:\n",
    "        float: Temperature in [°C].\n",
    "    \"\"\"\n",
    "    zero_point = 273\n",
    "    return kelvin_temperature-zero_point\n",
    "\n",
    "assert kelvin_to_celsius(0)==-273.15, \"0 Kelvin are equal to -273.15 Celsius\""
   ]
  },
  {
   "cell_type": "markdown",
   "id": "c7ea1462-2c85-4f42-ba23-2e9b5eb27840",
   "metadata": {
    "id": "3cWjOMlEKGaO"
   },
   "source": [
    "When writing tests we should focus on covering \"boundary\" values. Those are values that are part of a condition statement. For example, in the statement `if weight > 0`, the boundary value is 0. <br>\n",
    "\n",
    "By a rule of thumb, it is customary, to have at least 4 tests for every condition:\n",
    "- one that is on the boundary of condition and evaluates it to `True` (i.e. setting `weight` to 1)\n",
    "- one that is on the boundary and evaluates it to `False` (i.e. setting `weight` to 0)\n",
    "- one that is not on the boundary and evaluates to `True` (i.e. setting `weight` to 100)\n",
    "- one that is not on the boundary and evaluates to `False` (i.e. setting `weight` to -70)\n",
    "\n",
    "Moreover, you should try testing with different types as well. For example, floats or strings to observe the behaviour of your code. Finally, you could also consider testing edge cases, such as: infinity, zero, NAN, empty strings, etc."
   ]
  },
  {
   "cell_type": "markdown",
   "id": "1463c30f-6e86-4865-954b-7fecc1a00222",
   "metadata": {
    "id": "jpUmYkFrKGaO"
   },
   "source": [
    "Below you can find several examples of tests for boundary values:\n",
    "\n",
    "Exercise: Try to change any of the values for density and volume to cause an assertion to fail. What do you observe?"
   ]
  },
  {
   "cell_type": "code",
   "execution_count": 8,
   "id": "bb3cd1c7-22aa-4577-b024-545ea15c7f2d",
   "metadata": {
    "id": "pnlOg39vKGaO"
   },
   "outputs": [],
   "source": [
    "def test_calculate_weight(calculate_weight):\n",
    "    assert calculate_weight(0, 3) == 0, \"The weight of an object with density of 0 kg/m^3 and volume of 3 m^3 should be 0 kg.\"\n",
    "    assert calculate_weight(50, 0) == 0, \"The weight of an object with density of 50 kg/m^3 and volume of 0 m^3 should be 0 kg.\"\n",
    "    assert calculate_weight(0, 0) == 0, \"The weight of an object with density of 0 kg/m^3 and volume of 0 m^3 should be 0 kg.\"\n",
    "    \n",
    "    assert calculate_weight(100, 1) == 100, \"The weight of an object with density of 100 kg/m^3 and volume of 1 m^3 should be 100 kg.\"\n",
    "    assert calculate_weight(45, 2) == 90, \"The weight of an object with density of 45 kg/m^3 and volume of 2 m^3 should be 90 kg.\"\n",
    "\n",
    "test_calculate_weight(calculate_weight)"
   ]
  },
  {
   "cell_type": "markdown",
   "id": "b67d8f8d-229f-4b44-b89f-346ea3f5ea68",
   "metadata": {
    "id": "p3zDFF48d1Pl"
   },
   "source": [
    "Suppose that we are dealing with floating point numbers in our calculations and we would like to run test on them. Try running the code below and think whether the result makes sense:"
   ]
  },
  {
   "cell_type": "code",
   "execution_count": 9,
   "id": "163c95c3-6fd8-4e90-bebb-3895582588cd",
   "metadata": {
    "colab": {
     "base_uri": "https://localhost:8080/",
     "height": 166
    },
    "id": "SgCnuRKBd1l4",
    "outputId": "6df2658c-6bf1-46fb-e54b-19e81d939ef5"
   },
   "outputs": [
    {
     "ename": "AssertionError",
     "evalue": "",
     "output_type": "error",
     "traceback": [
      "\u001b[1;31m---------------------------------------------------------------------------\u001b[0m",
      "\u001b[1;31mAssertionError\u001b[0m                            Traceback (most recent call last)",
      "Cell \u001b[1;32mIn[9], line 1\u001b[0m\n\u001b[1;32m----> 1\u001b[0m \u001b[38;5;28;01massert\u001b[39;00m \u001b[38;5;241m0.1\u001b[39m \u001b[38;5;241m+\u001b[39m \u001b[38;5;241m0.2\u001b[39m \u001b[38;5;241m==\u001b[39m \u001b[38;5;241m0.3\u001b[39m\n",
      "\u001b[1;31mAssertionError\u001b[0m: "
     ]
    }
   ],
   "source": [
    "assert 0.1 + 0.2 == 0.3"
   ]
  },
  {
   "cell_type": "markdown",
   "id": "0c8625ae-9642-4f91-8a54-5560728b579f",
   "metadata": {
    "id": "rFECJ4h-eaWO"
   },
   "source": [
    "The assertion above fails due to the fact that we are dealing with floating point numbers. For example, we might be using `0.3` in our calculations, but in practice, `0.30004` could be used instead due to the way floating point numbers are stored in memory. (If interested, have a look at the following link: https://0.30000000000000004.com/).\n",
    "\n",
    "To mitigate this issue, when making assertions for floating point numbers, you can calculate the absolute value of the difference between the expected and actual values and verify that this difference is smaller than some epsilon value:"
   ]
  },
  {
   "cell_type": "code",
   "execution_count": 10,
   "id": "94ebccf7-46a7-4b67-ac45-b30662365f78",
   "metadata": {},
   "outputs": [],
   "source": [
    "epsilon = 1e-6 # exponential notation for 0.000001\n",
    "assert abs((0.1 + 0.2) - 0.3) < epsilon"
   ]
  }
 ],
 "metadata": {
  "kernelspec": {
   "display_name": "Python 3 (ipykernel)",
   "language": "python",
   "name": "python3"
  },
  "language_info": {
   "codemirror_mode": {
    "name": "ipython",
    "version": 3
   },
   "file_extension": ".py",
   "mimetype": "text/x-python",
   "name": "python",
   "nbconvert_exporter": "python",
   "pygments_lexer": "ipython3",
   "version": "3.9.18"
  },
  "widgets": {
   "application/vnd.jupyter.widget-state+json": {
    "state": {},
    "version_major": 2,
    "version_minor": 0
   }
  }
 },
 "nbformat": 4,
 "nbformat_minor": 5
}
