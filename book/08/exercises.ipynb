{
 "cells": [
  {
   "cell_type": "markdown",
   "metadata": {
    "id": "yEzf8w7VI_cs"
   },
   "source": [
    "# Exercises"
   ]
  },
  {
   "cell_type": "markdown",
   "metadata": {
    "id": "d55jyw0NYUqX"
   },
   "source": [
    "You are given the method `calculate_area` to calculate the *shuttering area* of a concrete rectangular column. The shuttering is a temporary arrangement done for vertical surfaces to support the wet concrete till it attains the desired strength (source: [Civilread.com](https://civilread.com/how-to-calculate-shuttering-area/)). <br><br>\n",
    "\n",
    "1. Write assertions in `test_calculate_area` that can verify that method `calculate_area` is free of bugs. Make sure you include meaningful messages in case a test fails. Consult section [Assertions](./assertions.ipynb) again and try to write tests that test the boundary values of the `if` statement. For example, tests that evaluate the condition to `True` and/or `False`."
   ]
  },
  {
   "cell_type": "code",
   "execution_count": null,
   "metadata": {
    "id": "BEl-ll1oI-w5"
   },
   "outputs": [],
   "source": [
    "def calculate_area(height, length, breadth):\n",
    "    \"\"\"\n",
    "    Calculates shuttering area of a concrete rectangular column.\n",
    "\n",
    "    Args:\n",
    "        height (int): Height of the column.\n",
    "        length (int): Length of the column.\n",
    "        breadth (int): Breadth of the column.\n",
    "\n",
    "    Returns:\n",
    "        int: The area or -1 if the input is invalid.\n",
    "    \"\"\"\n",
    "    if height <= 0 or length <= 0 or breadth <= 0:\n",
    "        return -1\n",
    "    else:\n",
    "        return (2 * breadth + 2 * length) * height\n",
    "\n",
    "\n",
    "def test_calculate_area(calculate_area):\n",
    "    YOUR CODE HERE\n",
    "\n",
    "test_calculate_area(calculate_area)"
   ]
  },
  {
   "cell_type": "markdown",
   "metadata": {},
   "source": [
    "````{admonition} Solution assignment 1\n",
    ":class: tip, dropdown\n",
    "\n",
    "```python\n",
    "    # Tests, which contain values on the boundary of a condition and evaluate it to True\n",
    "    assert calculate_area(0, 10, 20) == -1, \"Zero height should result in invalid output -1.\"\n",
    "    assert calculate_area(50, 0, 70) == -1, \"Zero length should result in invalid output -1.\"\n",
    "    assert calculate_area(35, 5, 0) == -1, \"Zero breadth should result in invalid output -1.\"\n",
    "\n",
    "    # Tests, which do not contain values on the boundary of a condition and evaluate it to True\n",
    "    assert calculate_area(-20, 24, 54) == -1, \"Negative height should result in invalid output -1.\"\n",
    "    assert calculate_area(49, -3, 5) == -1, \"Negative length should result in invalid output -1.\"\n",
    "    assert calculate_area(47, 10, -70) == -1, \"Negative breadth should result in invalid output -1.\"\n",
    "\n",
    "    # Tests, which contain values on the boundary of a condition and evaluate it to False\n",
    "    assert calculate_area(1, 25, 4) == 58, \"Shuttering area for column with height 1cm, length 25cm and breadth 4cm should be 58cm^2.\"\n",
    "    assert calculate_area(36, 1, 12) == 936, \"Shuttering area for column with height 36cm, length 1cm and breadth 12cm should be 936cm^2.\"\n",
    "    assert calculate_area(23, 13, 1) == 644, \"Shuttering area for column with height 23cm, length 13cm and breadth 1cm should be 644cm^2.\"\n",
    "\n",
    "    # Tests, which do not contain values on the boundary of a condition and evaluate it to False\n",
    "    assert calculate_area(5, 10, 20) == 300, \"Shuttering area for column with height 5cm, length 10cm and breadth 20cm should be 300cm^2.\"\n",
    "    assert calculate_area(26, 17, 41) == 3016, \"Shuttering area for column with height 26cm, length 17cm and breadth 41cm should be 3016cm^2.\"\n",
    "    assert calculate_area(100, 20, 50) == 14000, \"Shuttering area for column with height 100cm, length 20cm and breadth 50cm should be 14000cm^2.\"\n",
    "```\n",
    "\n",
    "````"
   ]
  },
  {
   "cell_type": "markdown",
   "metadata": {},
   "source": [
    "2. Have a look again at the `calculate_area` method below. If incorrect output is provided to it, the method will return `-1`. Instead of that, we would like to raise a `ValueError`. Modify the method to raise this exception on incorrect output. Furthermore, update the documentation of the method to account for this change."
   ]
  },
  {
   "cell_type": "code",
   "execution_count": null,
   "metadata": {},
   "outputs": [],
   "source": [
    "def calculate_area(height, length, breadth):\n",
    "    \"\"\"\n",
    "    Calculates shuttering area of a concrete rectangular column.\n",
    "\n",
    "    Args:\n",
    "        height (int): Height of the column.\n",
    "        length (int): Length of the column.\n",
    "        breadth (int): Breadth of the column.\n",
    "\n",
    "    Returns:\n",
    "        int: The area or -1 if the input is invalid.\n",
    "    \"\"\"\n",
    "    if height <= 0 or length <= 0 or breadth <= 0:\n",
    "        return -1\n",
    "    else:\n",
    "        return (2 * breadth + 2 * height) * length"
   ]
  },
  {
   "cell_type": "markdown",
   "metadata": {},
   "source": [
    "````{admonition} Solution assignment 1\n",
    ":class: tip, dropdown\n",
    "\n",
    "```python\n",
    "def calculate_area(height, length, breadth):\n",
    "    \"\"\"\n",
    "    Calculates shuttering area of a concrete rectangular column.\n",
    "\n",
    "    Args:\n",
    "        height (int): Height of the column.\n",
    "        length (int): Length of the column.\n",
    "        breadth (int): Breadth of the column.\n",
    "\n",
    "    Returns:\n",
    "        int: The area.\n",
    "    Raises:\n",
    "        ValueError: if height, length or breadth are non-positive values.\n",
    "    \"\"\"\n",
    "    if height <= 0 or length <= 0 or breadth <= 0:\n",
    "        raise ValueError(\"Invalid height or length or breadth provided.\")\n",
    "    else:\n",
    "        return (2 * breadth + 2 * height) * length\n",
    "```\n",
    "\n",
    "````"
   ]
  }
 ],
 "metadata": {
  "colab": {
   "collapsed_sections": [],
   "name": "PythonTestingBasics.ipynb",
   "provenance": []
  },
  "kernelspec": {
   "display_name": "Python 3 (ipykernel)",
   "language": "python",
   "name": "python3"
  },
  "language_info": {
   "codemirror_mode": {
    "name": "ipython",
    "version": 3
   },
   "file_extension": ".py",
   "mimetype": "text/x-python",
   "name": "python",
   "nbconvert_exporter": "python",
   "pygments_lexer": "ipython3",
   "version": "3.9.18"
  },
  "widgets": {
   "application/vnd.jupyter.widget-state+json": {
    "state": {},
    "version_major": 2,
    "version_minor": 0
   }
  }
 },
 "nbformat": 4,
 "nbformat_minor": 4
}
