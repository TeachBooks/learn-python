{
 "cells": [
  {
   "cell_type": "markdown",
   "metadata": {
    "id": "yEzf8w7VI_cs"
   },
   "source": [
    "# Exercises\n",
    "\n",
    "```{note}\n",
    "This page was not shared with MUDE students in 2023-2024 (year 2).\n",
    "\n",
    "It may have been a new page, or a modified page from year 1.\n",
    "\n",
    "There may be pages in year 1 and year 2 that are nearly identical, or have significant modifications. Modifications usually were to reformat the notebooks to fit in a jupyter book framework better.\n",
    "```"
   ]
  },
  {
   "cell_type": "markdown",
   "metadata": {
    "id": "d55jyw0NYUqX"
   },
   "source": [
    "You are given the method `calculate_area` to calculate the *shuttering area* of a concrete rectangular column. The shuttering is a temporary arrangement done for vertical surfaces to support the wet concrete till it attains the desired strength (source: [Civilread.com](https://civilread.com/how-to-calculate-shuttering-area/)). <br><br>\n",
    "\n",
    "1. Write assertions in `test_calculate_area` that can verify that method `calculate_area` is free of bugs. Make sure you include meaningful messages in case a test fails. Consult section [Assertions](#Assertions) again and try to write tests that test the boundary values of the `if` statement. For example, tests that evaluate the condition to `True` and/or `False`."
   ]
  },
  {
   "cell_type": "code",
   "execution_count": 3,
   "metadata": {
    "id": "BEl-ll1oI-w5"
   },
   "outputs": [],
   "source": [
    "def calculate_area(height, length, breadth):\n",
    "    \"\"\"\n",
    "    Calculates shuttering area of a concrete rectangular column.\n",
    "\n",
    "    Args:\n",
    "        height (int): Height of the column.\n",
    "        length (int): Length of the column.\n",
    "        breadth (int): Breadth of the column.\n",
    "\n",
    "    Returns:\n",
    "        int: The area or -1 if the input is invalid.\n",
    "    \"\"\"\n",
    "    if height <= 0 or length <= 0 or breadth <= 0:\n",
    "        return -1\n",
    "    else:\n",
    "        return (2 * breadth + 2 * length) * height\n",
    "\n",
    "\n",
    "def test_calculate_area():\n",
    "    # Tests, which contain values on the boundary of a condition and evaluate it to True\n",
    "    assert calculate_area(0, 10, 20) == -1, \"Zero height should result in invalid output -1.\"\n",
    "    assert calculate_area(50, 0, 70) == -1, \"Zero length should result in invalid output -1.\"\n",
    "    assert calculate_area(35, 5, 0) == -1, \"Zero breadth should result in invalid output -1.\"\n",
    "\n",
    "    # Tests, which do not contain values on the boundary of a condition and evaluate it to True\n",
    "    assert calculate_area(-20, 24, 54) == -1, \"Negative height should result in invalid output -1.\"\n",
    "    assert calculate_area(49, -3, 5) == -1, \"Negative length should result in invalid output -1.\"\n",
    "    assert calculate_area(47, 10, -70) == -1, \"Negative breadth should result in invalid output -1.\"\n",
    "\n",
    "    # Tests, which contain values on the boundary of a condition and evaluate it to False\n",
    "    assert calculate_area(1, 25, 4) == 58, \"Shuttering area for column with height 1cm, length 25cm and breadth 4cm should be 58cm^2.\"\n",
    "    assert calculate_area(36, 1, 12) == 936, \"Shuttering area for column with height 36cm, length 1cm and breadth 12cm should be 936cm^2.\"\n",
    "    assert calculate_area(23, 13, 1) == 644, \"Shuttering area for column with height 23cm, length 13cm and breadth 1cm should be 644cm^2.\"\n",
    "\n",
    "    # Tests, which do not contain values on the boundary of a condition and evaluate it to False\n",
    "    assert calculate_area(5, 10, 20) == 300, \"Shuttering area for column with height 5cm, length 10cm and breadth 20cm should be 300cm^2.\"\n",
    "    assert calculate_area(26, 17, 41) == 3016, \"Shuttering area for column with height 26cm, length 17cm and breadth 41cm should be 3016cm^2.\"\n",
    "    assert calculate_area(100, 20, 50) == 14000, \"Shuttering area for column with height 100cm, length 20cm and breadth 50cm should be 14000cm^2.\"\n",
    "\n",
    "\n",
    "test_calculate_area()"
   ]
  },
  {
   "cell_type": "markdown",
   "metadata": {},
   "source": [
    "2. Have a look again at the `calculate_area` method below. If incorrect output is provided to it, the method will return `-1`. Instead of that, we would like to raise a `ValueError`. Modify the method to raise this exception on incorrect output. Furthermore, update the documentation of the method to account for this change."
   ]
  },
  {
   "cell_type": "code",
   "execution_count": null,
   "metadata": {},
   "outputs": [],
   "source": [
    "def calculate_area(height, length, breadth):\n",
    "    \"\"\"\n",
    "    Calculates shuttering area of a concrete rectangular column.\n",
    "\n",
    "    Args:\n",
    "        height (int): Height of the column.\n",
    "        length (int): Length of the column.\n",
    "        breadth (int): Breadth of the column.\n",
    "\n",
    "    Returns:\n",
    "        int: The area or -1 if the input is invalid.\n",
    "    Raises:\n",
    "        ValueError: if height, length or breadth are non-positive values.\n",
    "    \"\"\"\n",
    "    if height <= 0 or length <= 0 or breadth <= 0:\n",
    "        raise ValueError(\"Invalid height or length or breadth provided.\")\n",
    "    else:\n",
    "        return (2 * breadth + 2 * height) * length"
   ]
  },
  {
   "cell_type": "markdown",
   "metadata": {
    "id": "JRln44iSa_Jm"
   },
   "source": [
    "3. **[Optional]** Copy over your tests from the answer to qustion 1 in the code snippet below. Notice that the method `calculate_area` has slightly been modified and now contains 2 logical errors.\n",
    "\n",
    "What are these errors? \n",
    "\n",
    "Do any of your assertions fail because of this change? If yes, this means the tests you have made are capable of catching some logical errors. If not, try writing some more tests!"
   ]
  },
  {
   "cell_type": "code",
   "execution_count": 4,
   "metadata": {
    "id": "K3wc1CD9gGTv"
   },
   "outputs": [
    {
     "ename": "AssertionError",
     "evalue": "Zero height should result in invalid output -1.",
     "output_type": "error",
     "traceback": [
      "\u001b[1;31m---------------------------------------------------------------------------\u001b[0m",
      "\u001b[1;31mAssertionError\u001b[0m                            Traceback (most recent call last)",
      "\u001b[1;32m<ipython-input-4-0bba9f111c4d>\u001b[0m in \u001b[0;36m<module>\u001b[1;34m\u001b[0m\n\u001b[0;32m     38\u001b[0m     \u001b[1;32massert\u001b[0m \u001b[0mcalculate_area\u001b[0m\u001b[1;33m(\u001b[0m\u001b[1;36m100\u001b[0m\u001b[1;33m,\u001b[0m \u001b[1;36m20\u001b[0m\u001b[1;33m,\u001b[0m \u001b[1;36m50\u001b[0m\u001b[1;33m)\u001b[0m \u001b[1;33m==\u001b[0m \u001b[1;36m14000\u001b[0m\u001b[1;33m,\u001b[0m \u001b[1;34m\"Shuttering area for column with height 100cm, length 20cm and breadth 50cm should be 14000cm^2.\"\u001b[0m\u001b[1;33m\u001b[0m\u001b[1;33m\u001b[0m\u001b[0m\n\u001b[0;32m     39\u001b[0m \u001b[1;33m\u001b[0m\u001b[0m\n\u001b[1;32m---> 40\u001b[1;33m \u001b[0mtest_calculate_area\u001b[0m\u001b[1;33m(\u001b[0m\u001b[1;33m)\u001b[0m\u001b[1;33m\u001b[0m\u001b[1;33m\u001b[0m\u001b[0m\n\u001b[0m",
      "\u001b[1;32m<ipython-input-4-0bba9f111c4d>\u001b[0m in \u001b[0;36mtest_calculate_area\u001b[1;34m()\u001b[0m\n\u001b[0;32m     19\u001b[0m \u001b[1;32mdef\u001b[0m \u001b[0mtest_calculate_area\u001b[0m\u001b[1;33m(\u001b[0m\u001b[1;33m)\u001b[0m\u001b[1;33m:\u001b[0m\u001b[1;33m\u001b[0m\u001b[1;33m\u001b[0m\u001b[0m\n\u001b[0;32m     20\u001b[0m     \u001b[1;31m# Tests, which contain values on the boundary of a condition and evaluate it to True\u001b[0m\u001b[1;33m\u001b[0m\u001b[1;33m\u001b[0m\u001b[1;33m\u001b[0m\u001b[0m\n\u001b[1;32m---> 21\u001b[1;33m     \u001b[1;32massert\u001b[0m \u001b[0mcalculate_area\u001b[0m\u001b[1;33m(\u001b[0m\u001b[1;36m0\u001b[0m\u001b[1;33m,\u001b[0m \u001b[1;36m10\u001b[0m\u001b[1;33m,\u001b[0m \u001b[1;36m20\u001b[0m\u001b[1;33m)\u001b[0m \u001b[1;33m==\u001b[0m \u001b[1;33m-\u001b[0m\u001b[1;36m1\u001b[0m\u001b[1;33m,\u001b[0m \u001b[1;34m\"Zero height should result in invalid output -1.\"\u001b[0m\u001b[1;33m\u001b[0m\u001b[1;33m\u001b[0m\u001b[0m\n\u001b[0m\u001b[0;32m     22\u001b[0m     \u001b[1;32massert\u001b[0m \u001b[0mcalculate_area\u001b[0m\u001b[1;33m(\u001b[0m\u001b[1;36m50\u001b[0m\u001b[1;33m,\u001b[0m \u001b[1;36m0\u001b[0m\u001b[1;33m,\u001b[0m \u001b[1;36m70\u001b[0m\u001b[1;33m)\u001b[0m \u001b[1;33m==\u001b[0m \u001b[1;33m-\u001b[0m\u001b[1;36m1\u001b[0m\u001b[1;33m,\u001b[0m \u001b[1;34m\"Zero length should result in invalid output -1.\"\u001b[0m\u001b[1;33m\u001b[0m\u001b[1;33m\u001b[0m\u001b[0m\n\u001b[0;32m     23\u001b[0m     \u001b[1;32massert\u001b[0m \u001b[0mcalculate_area\u001b[0m\u001b[1;33m(\u001b[0m\u001b[1;36m35\u001b[0m\u001b[1;33m,\u001b[0m \u001b[1;36m5\u001b[0m\u001b[1;33m,\u001b[0m \u001b[1;36m0\u001b[0m\u001b[1;33m)\u001b[0m \u001b[1;33m==\u001b[0m \u001b[1;33m-\u001b[0m\u001b[1;36m1\u001b[0m\u001b[1;33m,\u001b[0m \u001b[1;34m\"Zero breadth should result in invalid output -1.\"\u001b[0m\u001b[1;33m\u001b[0m\u001b[1;33m\u001b[0m\u001b[0m\n",
      "\u001b[1;31mAssertionError\u001b[0m: Zero height should result in invalid output -1."
     ]
    }
   ],
   "source": [
    "def calculate_area(height, length, breadth):\n",
    "    \"\"\"\n",
    "    Calculates shuttering area of a concrete rectangular column.\n",
    "\n",
    "    Args:\n",
    "        height (int): Height of the column.\n",
    "        length (int): Length of the column.\n",
    "        breadth (int): Breadth of the column.\n",
    "\n",
    "    Returns:\n",
    "        int: The area or -1 if the input is invalid.\n",
    "    \"\"\"\n",
    "    if height < 0 or length <= 0 or breadth <= 0:\n",
    "        return -1\n",
    "    else:\n",
    "        return (2 * breadth + 2 * height) * length\n",
    "\n",
    "\n",
    "def test_calculate_area():\n",
    "    # Tests, which contain values on the boundary of a condition and evaluate it to True\n",
    "    assert calculate_area(0, 10, 20) == -1, \"Zero height should result in invalid output -1.\"\n",
    "    assert calculate_area(50, 0, 70) == -1, \"Zero length should result in invalid output -1.\"\n",
    "    assert calculate_area(35, 5, 0) == -1, \"Zero breadth should result in invalid output -1.\"\n",
    "\n",
    "    # Tests, which do not contain values on the boundary of a condition and evaluate it to True\n",
    "    assert calculate_area(-20, 24, 54) == -1, \"Negative height should result in invalid output -1.\"\n",
    "    assert calculate_area(49, -3, 5) == -1, \"Negative length should result in invalid output -1.\"\n",
    "    assert calculate_area(47, 10, -70) == -1, \"Negative breadth should result in invalid output -1.\"\n",
    "\n",
    "    # Tests, which contain values on the boundary of a condition and evaluate it to False\n",
    "    assert calculate_area(1, 25, 4) == 58, \"Shuttering area for column with height 1cm, length 25cm and breadth 4cm should be 58cm^2.\"\n",
    "    assert calculate_area(36, 1, 12) == 936, \"Shuttering area for column with height 36cm, length 1cm and breadth 12cm should be 936cm^2.\"\n",
    "    assert calculate_area(23, 13, 1) == 644, \"Shuttering area for column with height 23cm, length 13cm and breadth 1cm should be 644cm^2.\"\n",
    "\n",
    "    # Tests, which do not contain values on the boundary of a condition and evaluate it to False\n",
    "    assert calculate_area(5, 10, 20) == 300, \"Shuttering area for column with height 5cm, length 10cm and breadth 20cm should be 300cm^2.\"\n",
    "    assert calculate_area(26, 17, 41) == 3016, \"Shuttering area for column with height 26cm, length 17cm and breadth 41cm should be 3016cm^2.\"\n",
    "    assert calculate_area(100, 20, 50) == 14000, \"Shuttering area for column with height 100cm, length 20cm and breadth 50cm should be 14000cm^2.\"\n",
    "\n",
    "test_calculate_area()"
   ]
  },
  {
   "cell_type": "markdown",
   "metadata": {},
   "source": [
    "4. **[Optional]** You are provided with the following method, where we calculate the density of an object given its mass and volume. Fill in the empty `else`, `except`, and `finally` clauses with appropriate debug log messages. Think of fitting severity of logging for each.\n",
    "\n",
    "<font color=\"red\">There are multiple correct solutions to this exercise. Here is one of them:</font>"
   ]
  },
  {
   "cell_type": "code",
   "execution_count": 5,
   "metadata": {},
   "outputs": [
    {
     "name": "stderr",
     "output_type": "stream",
     "text": [
      "2022-09-26 10:40:39,120 | INFO: The calculated density is 2.0g/cm^3.\n",
      "2022-09-26 10:40:39,126 | DEBUG: Density calculation has completed.\n",
      "2022-09-26 10:40:39,128 | ERROR: The provided volume was 0grams and an exception has occurred.\n",
      "2022-09-26 10:40:39,130 | DEBUG: Density calculation has completed.\n"
     ]
    },
    {
     "name": "stdout",
     "output_type": "stream",
     "text": [
      "The density is 2.0g/cm^3.\n",
      "The density is 0g/cm^3.\n"
     ]
    }
   ],
   "source": [
    "import logging\n",
    "\n",
    "# Initial setup of logging\n",
    "logging.basicConfig(\n",
    "    format=\"%(asctime)s | %(levelname)s: %(message)s\", level=logging.NOTSET\n",
    ")\n",
    "\n",
    "# Get logger object\n",
    "log = logging.getLogger()\n",
    "\n",
    "\n",
    "def calculate_density(mass, volume):\n",
    "    \"\"\"\n",
    "    Calculates the density of an object.\n",
    "\n",
    "    Args:\n",
    "        mass (int): Mass in grams.\n",
    "        volume (int): Volume in centimeters^3.\n",
    "        \n",
    "    Returns:\n",
    "        int: The density in grams/centimeters^3.\n",
    "        \n",
    "    Raises:\n",
    "        ZeroDivisionError: if volume = 0.\n",
    "    \"\"\"\n",
    "    density = 0\n",
    "    try:\n",
    "        density = mass / volume\n",
    "    except ZeroDivisionError:\n",
    "        log.error(\"The provided volume was 0 grams and an exception has occurred.\")\n",
    "    else:\n",
    "        log.info(f\"The calculated density is {density}g/cm^3.\")\n",
    "    finally:\n",
    "        log.debug(\"Density calculation has completed.\")\n",
    "    return density\n",
    "        \n",
    "print(f\"The density is {calculate_density(20, 10)}g/cm^3.\")\n",
    "print(f\"The density is {calculate_density(50, 0)}g/cm^3.\")"
   ]
  }
 ],
 "metadata": {
  "colab": {
   "collapsed_sections": [],
   "name": "PythonTestingBasics.ipynb",
   "provenance": []
  },
  "kernelspec": {
   "display_name": "Python 3 (ipykernel)",
   "language": "python",
   "name": "python3"
  },
  "language_info": {
   "codemirror_mode": {
    "name": "ipython",
    "version": 3
   },
   "file_extension": ".py",
   "mimetype": "text/x-python",
   "name": "python",
   "nbconvert_exporter": "python",
   "pygments_lexer": "ipython3",
   "version": "3.9.17"
  },
  "widgets": {
   "application/vnd.jupyter.widget-state+json": {
    "state": {},
    "version_major": 2,
    "version_minor": 0
   }
  }
 },
 "nbformat": 4,
 "nbformat_minor": 4
}
