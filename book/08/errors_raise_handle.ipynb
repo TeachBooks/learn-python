{
 "cells": [
  {
   "cell_type": "markdown",
   "id": "df14a231-0bb3-4f86-accf-6a515fb10be7",
   "metadata": {},
   "source": [
    "# Raising and Handling Errors"
   ]
  },
  {
   "cell_type": "markdown",
   "id": "87c56f96-c845-4721-b569-be337f9c6e7e",
   "metadata": {
    "id": "NtwnyevOKGaI"
   },
   "source": [
    "## Raising errors\n",
    "When writing good code, it is beneficial to raise exceptions yourself if you are provided with incorrect input. <br>\n",
    "Consider the example method `calculate_weight` below, which calculates the weight of an object, given that we know its density and volume:\n"
   ]
  },
  {
   "cell_type": "code",
   "execution_count": 1,
   "id": "c1a24b7d-dd1e-4ad9-9009-0d08e29efc0e",
   "metadata": {
    "id": "4lIKrgdHKGaI"
   },
   "outputs": [],
   "source": [
    "def calculate_weight(density, volume):\n",
    "    \"\"\"\n",
    "    Calculates weight of an object, given its density and volume.\n",
    "\n",
    "    Args:\n",
    "        density (int): Density of an object.\n",
    "        volume (int): Volume of an object.\n",
    "\n",
    "    Returns:\n",
    "        int: Weight of an object.\n",
    "    \"\"\"\n",
    "    return density * volume"
   ]
  },
  {
   "cell_type": "code",
   "execution_count": 2,
   "id": "8af0f4e4-4d58-4554-9980-3e267d6c70dc",
   "metadata": {
    "colab": {
     "base_uri": "https://localhost:8080/"
    },
    "id": "Fm-3aNPGKGaJ",
    "outputId": "e3337b84-093d-481a-8665-f9f0b973bb87"
   },
   "outputs": [
    {
     "data": {
      "text/plain": [
       "30"
      ]
     },
     "execution_count": 2,
     "metadata": {},
     "output_type": "execute_result"
    }
   ],
   "source": [
    "calculate_weight(3, 10)"
   ]
  },
  {
   "cell_type": "code",
   "execution_count": 3,
   "id": "d4e2b0b8-23ed-47ce-9fe1-d190443a4fb5",
   "metadata": {
    "colab": {
     "base_uri": "https://localhost:8080/"
    },
    "id": "63lepR2bKGaJ",
    "outputId": "6af6c25b-6fcb-4c60-8df0-88424535ecfe"
   },
   "outputs": [
    {
     "data": {
      "text/plain": [
       "-20"
      ]
     },
     "execution_count": 3,
     "metadata": {},
     "output_type": "execute_result"
    }
   ],
   "source": [
    "calculate_weight(-4, 5)"
   ]
  },
  {
   "cell_type": "markdown",
   "id": "089849e7-69f5-4923-8710-90d2f8158456",
   "metadata": {
    "id": "K_JIFPyyKGaJ"
   },
   "source": [
    "If we provide invalid input such as negative density or volume, the method will still give us an answer, because it is following a formula. However, using that incorrect calculation can be harmful in applications. Therefore, we can raise exceptions ourselves using the keyword `raise`:"
   ]
  },
  {
   "cell_type": "code",
   "execution_count": 4,
   "id": "2165fc6a-0d1a-4ea1-a30e-1cbe9c4f9b5f",
   "metadata": {
    "id": "YONMVLNBKGaJ"
   },
   "outputs": [],
   "source": [
    "def calculate_weight(density, volume):\n",
    "    \"\"\"\n",
    "    Calculates weight of an object, given its density and volume.\n",
    "\n",
    "    Args:\n",
    "        density (int): Density of an object.\n",
    "        volume (int): Volume of an object.\n",
    "\n",
    "    Returns:\n",
    "        int: Weight of an object.\n",
    "\n",
    "    Raises:\n",
    "        ValueError: if density or volume are negative values.\n",
    "    \"\"\"\n",
    "    if density < 0:\n",
    "        raise ValueError(\n",
    "            \"Invalid density. Density parameter can only take positive numbers\"\n",
    "        )\n",
    "    if volume < 0:\n",
    "        raise ValueError(\n",
    "            \"Invalid volume. Volume parameter can only take positive numbers\"\n",
    "        )\n",
    "    return density * volume"
   ]
  },
  {
   "cell_type": "code",
   "execution_count": 5,
   "id": "f85e7882-26fd-4705-9b0e-e3ec7903a333",
   "metadata": {
    "colab": {
     "base_uri": "https://localhost:8080/"
    },
    "id": "FUNKyi3yKGaK",
    "outputId": "baa26382-6cf7-4986-9c6e-07383351d96c"
   },
   "outputs": [
    {
     "data": {
      "text/plain": [
       "375"
      ]
     },
     "execution_count": 5,
     "metadata": {},
     "output_type": "execute_result"
    }
   ],
   "source": [
    "calculate_weight(75, 5)"
   ]
  },
  {
   "cell_type": "code",
   "execution_count": 6,
   "id": "c08f4133-47f0-4b6c-841a-38454a5ce3bc",
   "metadata": {
    "colab": {
     "base_uri": "https://localhost:8080/",
     "height": 288
    },
    "id": "Ea05bmnAKGaK",
    "outputId": "2aedb939-8647-4829-f6e9-37398ed0db2b"
   },
   "outputs": [
    {
     "ename": "ValueError",
     "evalue": "Invalid density. Density parameter can only take positive numbers",
     "output_type": "error",
     "traceback": [
      "\u001b[1;31m---------------------------------------------------------------------------\u001b[0m",
      "\u001b[1;31mValueError\u001b[0m                                Traceback (most recent call last)",
      "Cell \u001b[1;32mIn[6], line 1\u001b[0m\n\u001b[1;32m----> 1\u001b[0m \u001b[43mcalculate_weight\u001b[49m\u001b[43m(\u001b[49m\u001b[38;5;241;43m-\u001b[39;49m\u001b[38;5;241;43m4\u001b[39;49m\u001b[43m,\u001b[49m\u001b[43m \u001b[49m\u001b[38;5;241;43m50\u001b[39;49m\u001b[43m)\u001b[49m\n",
      "Cell \u001b[1;32mIn[4], line 16\u001b[0m, in \u001b[0;36mcalculate_weight\u001b[1;34m(density, volume)\u001b[0m\n\u001b[0;32m      2\u001b[0m \u001b[38;5;250m\u001b[39m\u001b[38;5;124;03m\"\"\"\u001b[39;00m\n\u001b[0;32m      3\u001b[0m \u001b[38;5;124;03mCalculates weight of an object, given its density and volume.\u001b[39;00m\n\u001b[0;32m      4\u001b[0m \n\u001b[1;32m   (...)\u001b[0m\n\u001b[0;32m     13\u001b[0m \u001b[38;5;124;03m    ValueError: if density or volume are negative values.\u001b[39;00m\n\u001b[0;32m     14\u001b[0m \u001b[38;5;124;03m\"\"\"\u001b[39;00m\n\u001b[0;32m     15\u001b[0m \u001b[38;5;28;01mif\u001b[39;00m density \u001b[38;5;241m<\u001b[39m \u001b[38;5;241m0\u001b[39m:\n\u001b[1;32m---> 16\u001b[0m     \u001b[38;5;28;01mraise\u001b[39;00m \u001b[38;5;167;01mValueError\u001b[39;00m(\n\u001b[0;32m     17\u001b[0m         \u001b[38;5;124m\"\u001b[39m\u001b[38;5;124mInvalid density. Density parameter can only take positive numbers\u001b[39m\u001b[38;5;124m\"\u001b[39m\n\u001b[0;32m     18\u001b[0m     )\n\u001b[0;32m     19\u001b[0m \u001b[38;5;28;01mif\u001b[39;00m volume \u001b[38;5;241m<\u001b[39m \u001b[38;5;241m0\u001b[39m:\n\u001b[0;32m     20\u001b[0m     \u001b[38;5;28;01mraise\u001b[39;00m \u001b[38;5;167;01mValueError\u001b[39;00m(\n\u001b[0;32m     21\u001b[0m         \u001b[38;5;124m\"\u001b[39m\u001b[38;5;124mInvalid volume. Volume parameter can only take positive numbers\u001b[39m\u001b[38;5;124m\"\u001b[39m\n\u001b[0;32m     22\u001b[0m     )\n",
      "\u001b[1;31mValueError\u001b[0m: Invalid density. Density parameter can only take positive numbers"
     ]
    }
   ],
   "source": [
    "calculate_weight(-4, 50)"
   ]
  },
  {
   "cell_type": "markdown",
   "id": "b921f936-1e37-47d9-80ff-fcb6cb0583fc",
   "metadata": {
    "id": "MNGDXMhlKGaK"
   },
   "source": [
    "## Handling errors: the `try - except` block <a id='try_except'></a>\n",
    "If exceptions are not handled properly, the application will crash during execution as we have seen in the examples above. As a result, handling exceptions is important, because we want to minimise application crashes. Sometimes this is called \"catching\" errors.\n",
    "\n",
    "It is important to also think about *when* we should catch errors: this is when you expect the error to be _recoverable_. In other words, dealing with isthe error should not affect future code that will run. Some errors are _fatal_ and should be left to crash the program since things won't work out anyways (we will learn how to distinguish this behavior in the logging section).\n",
    "\n",
    "To handle exceptions, we can make use of `try - except` block, where we can catch exceptions and handle them in the way we wish. Thus, if an exception is *raised*, the application is not going to crash:"
   ]
  },
  {
   "cell_type": "code",
   "execution_count": 7,
   "id": "117546f1-65fc-4ce2-bc20-4f9485616bdc",
   "metadata": {
    "colab": {
     "base_uri": "https://localhost:8080/"
    },
    "id": "gSLDcuT0KGaK",
    "outputId": "1f779feb-93d5-4e8a-84dc-bef9d3d5cd0b"
   },
   "outputs": [
    {
     "name": "stdout",
     "output_type": "stream",
     "text": [
      "An exception occurred!\n"
     ]
    }
   ],
   "source": [
    "weight = 0\n",
    "density = -40\n",
    "volume = 5\n",
    "\n",
    "try:\n",
    "    weight = calculate_weight(density, volume)\n",
    "except ValueError:\n",
    "    print(\"An exception occurred!\")"
   ]
  },
  {
   "cell_type": "markdown",
   "id": "13fd802a-4574-4f07-ad0a-7c34bcba86db",
   "metadata": {
    "id": "4yh3DAL9KGaL"
   },
   "source": [
    "Note that if we do not handle the correct exception, one will still be raised. Therefore, it is very important that we catch the correct one based on our knowledge of which error can occur."
   ]
  },
  {
   "cell_type": "code",
   "execution_count": 8,
   "id": "ab3c1fcf-61ce-47ea-8e00-c58ae190798a",
   "metadata": {
    "id": "4akaUxJAKGaL"
   },
   "outputs": [
    {
     "ename": "ValueError",
     "evalue": "Invalid density. Density parameter can only take positive numbers",
     "output_type": "error",
     "traceback": [
      "\u001b[1;31m---------------------------------------------------------------------------\u001b[0m",
      "\u001b[1;31mValueError\u001b[0m                                Traceback (most recent call last)",
      "Cell \u001b[1;32mIn[8], line 6\u001b[0m\n\u001b[0;32m      3\u001b[0m volume \u001b[38;5;241m=\u001b[39m \u001b[38;5;241m5\u001b[39m\n\u001b[0;32m      5\u001b[0m \u001b[38;5;28;01mtry\u001b[39;00m:\n\u001b[1;32m----> 6\u001b[0m     weight \u001b[38;5;241m=\u001b[39m \u001b[43mcalculate_weight\u001b[49m\u001b[43m(\u001b[49m\u001b[43mdensity\u001b[49m\u001b[43m,\u001b[49m\u001b[43m \u001b[49m\u001b[43mvolume\u001b[49m\u001b[43m)\u001b[49m\n\u001b[0;32m      7\u001b[0m \u001b[38;5;28;01mexcept\u001b[39;00m \u001b[38;5;167;01mNameError\u001b[39;00m:\n\u001b[0;32m      8\u001b[0m     \u001b[38;5;28mprint\u001b[39m(\u001b[38;5;124m\"\u001b[39m\u001b[38;5;124mAn exception occurred!\u001b[39m\u001b[38;5;124m\"\u001b[39m)\n",
      "Cell \u001b[1;32mIn[4], line 16\u001b[0m, in \u001b[0;36mcalculate_weight\u001b[1;34m(density, volume)\u001b[0m\n\u001b[0;32m      2\u001b[0m \u001b[38;5;250m\u001b[39m\u001b[38;5;124;03m\"\"\"\u001b[39;00m\n\u001b[0;32m      3\u001b[0m \u001b[38;5;124;03mCalculates weight of an object, given its density and volume.\u001b[39;00m\n\u001b[0;32m      4\u001b[0m \n\u001b[1;32m   (...)\u001b[0m\n\u001b[0;32m     13\u001b[0m \u001b[38;5;124;03m    ValueError: if density or volume are negative values.\u001b[39;00m\n\u001b[0;32m     14\u001b[0m \u001b[38;5;124;03m\"\"\"\u001b[39;00m\n\u001b[0;32m     15\u001b[0m \u001b[38;5;28;01mif\u001b[39;00m density \u001b[38;5;241m<\u001b[39m \u001b[38;5;241m0\u001b[39m:\n\u001b[1;32m---> 16\u001b[0m     \u001b[38;5;28;01mraise\u001b[39;00m \u001b[38;5;167;01mValueError\u001b[39;00m(\n\u001b[0;32m     17\u001b[0m         \u001b[38;5;124m\"\u001b[39m\u001b[38;5;124mInvalid density. Density parameter can only take positive numbers\u001b[39m\u001b[38;5;124m\"\u001b[39m\n\u001b[0;32m     18\u001b[0m     )\n\u001b[0;32m     19\u001b[0m \u001b[38;5;28;01mif\u001b[39;00m volume \u001b[38;5;241m<\u001b[39m \u001b[38;5;241m0\u001b[39m:\n\u001b[0;32m     20\u001b[0m     \u001b[38;5;28;01mraise\u001b[39;00m \u001b[38;5;167;01mValueError\u001b[39;00m(\n\u001b[0;32m     21\u001b[0m         \u001b[38;5;124m\"\u001b[39m\u001b[38;5;124mInvalid volume. Volume parameter can only take positive numbers\u001b[39m\u001b[38;5;124m\"\u001b[39m\n\u001b[0;32m     22\u001b[0m     )\n",
      "\u001b[1;31mValueError\u001b[0m: Invalid density. Density parameter can only take positive numbers"
     ]
    }
   ],
   "source": [
    "weight = 0\n",
    "density = -40\n",
    "volume = 5\n",
    "\n",
    "try:\n",
    "    weight = calculate_weight(density, volume)\n",
    "except NameError:\n",
    "    print(\"An exception occurred!\")"
   ]
  },
  {
   "cell_type": "markdown",
   "id": "89d95e4c-ca07-4fdf-bc5d-cca75e763543",
   "metadata": {
    "id": "1-4ZSTVqKGaL"
   },
   "source": [
    "If we do not know what exception will be raised, we can use `except Exception`, which will handle any exception raised by the code inside the `try` clause block. (`Exception` is the super class that comprises all types of exceptions and errors; for the purpose of this activity, think of it as a generic error.):"
   ]
  },
  {
   "cell_type": "code",
   "execution_count": 9,
   "id": "c528a6ce-935a-44a7-a4be-13e6af63e96d",
   "metadata": {
    "id": "V1LEFgpJKGaM"
   },
   "outputs": [
    {
     "name": "stdout",
     "output_type": "stream",
     "text": [
      "An exception occurred!\n"
     ]
    }
   ],
   "source": [
    "weight = 0\n",
    "density = -40\n",
    "volume = 5\n",
    "\n",
    "try:\n",
    "    weight = calculate_weight(density, volume)\n",
    "except Exception:\n",
    "    print(\"An exception occurred!\")"
   ]
  },
  {
   "cell_type": "markdown",
   "id": "df2a9823-aaa6-4b54-b831-1a7ae063015d",
   "metadata": {},
   "source": [
    "## `else` and `finally`"
   ]
  },
  {
   "cell_type": "markdown",
   "id": "0e6e8303-1915-47ff-a3cf-2f60a509052b",
   "metadata": {
    "id": "budDbUkUKGaM"
   },
   "source": [
    "There are 2 more clauses that we can add to our `try-except` block, namely `else` and `finally`:\n",
    "- `else` will be executed only if no exception is raised by the code in the `try` clause block. This is useful in case we want some code to be executed after successful completion of the `try` clause. For example, printing a message or sending a response to somebody.\n",
    "- `finally` will be executed all the time, regardless of whether an exception was raised or not. In practice this is mostly used to finish a process. For example, if you are reading from a file, it is customary to close the file when you finish reading from it.\n",
    "\n",
    "Study the example below, which shows the execution of `except` and `finally` clauses:"
   ]
  },
  {
   "cell_type": "code",
   "execution_count": 10,
   "id": "3228f420-e72a-4447-bfe2-ca7ec942a039",
   "metadata": {
    "colab": {
     "base_uri": "https://localhost:8080/"
    },
    "id": "RnQCHCTvKGaM",
    "outputId": "7041f007-3f82-46b2-950f-8300e0ce16bb"
   },
   "outputs": [
    {
     "name": "stdout",
     "output_type": "stream",
     "text": [
      "An exception occurred!\n",
      "Calculation finished!\n"
     ]
    }
   ],
   "source": [
    "weight = 0\n",
    "density = -40\n",
    "volume = 5\n",
    "\n",
    "try:\n",
    "    weight = calculate_weight(density, volume)\n",
    "except Exception:\n",
    "    print(\"An exception occurred!\")\n",
    "else:\n",
    "    print(\n",
    "        f\"The weight of an object with density of {density} kg/m^3 and \"\n",
    "        f\"volume of {volume} m^3 is {weight} kg.\"\n",
    "    )\n",
    "finally:\n",
    "    print(\"Calculation finished!\")"
   ]
  },
  {
   "cell_type": "markdown",
   "id": "71530370-82b3-461c-afc0-3bebecdeaf83",
   "metadata": {
    "id": "iD2ppphEKGaM"
   },
   "source": [
    "We will now use valid input to our function `calculate_weight` to show the execution of `try` and `else` clauses:"
   ]
  },
  {
   "cell_type": "code",
   "execution_count": 11,
   "id": "a7084bbb-b0ca-4414-bfc6-78f894f2ff90",
   "metadata": {
    "colab": {
     "base_uri": "https://localhost:8080/"
    },
    "id": "mWR17MQUKGaM",
    "outputId": "718a7c81-9aa5-4170-f1e8-22978ede9858"
   },
   "outputs": [
    {
     "name": "stdout",
     "output_type": "stream",
     "text": [
      "The weight of an object with density of 7870 kg/m^3 and volume of 40 m^3 is 314800 kg.\n",
      "Calculation finished!\n"
     ]
    }
   ],
   "source": [
    "weight = 0\n",
    "density = 7870\n",
    "volume = 40\n",
    "\n",
    "try:\n",
    "    weight = calculate_weight(density, volume)\n",
    "except Exception:\n",
    "    print(\"An exception occurred!\")\n",
    "else:\n",
    "    print(\n",
    "        f\"The weight of an object with density of {density} kg/m^3 and \"\n",
    "        f\"volume of {volume} m^3 is {weight} kg.\"\n",
    "    )\n",
    "finally:\n",
    "    print(\"Calculation finished!\")"
   ]
  },
  {
   "cell_type": "markdown",
   "id": "6ebdfef6-51c9-447b-850a-f5c32eec4f11",
   "metadata": {
    "id": "R8u5QgQ8KGaN"
   },
   "source": [
    "It is also possible to interact with any exception object. Have a look at the example below, where `e` is the object of the raised exception:"
   ]
  },
  {
   "cell_type": "code",
   "execution_count": 12,
   "id": "68f9ff3c-4007-46aa-96cd-bf910c33c809",
   "metadata": {
    "colab": {
     "base_uri": "https://localhost:8080/"
    },
    "id": "92nUVRGTKGaN",
    "outputId": "9d397614-6c34-4bf4-f733-6474c34846a7"
   },
   "outputs": [
    {
     "name": "stdout",
     "output_type": "stream",
     "text": [
      "An exception occurred: Invalid density. Density parameter can only take positive numbers\n"
     ]
    }
   ],
   "source": [
    "weight = 0\n",
    "density = -40\n",
    "volume = 5\n",
    "\n",
    "try:\n",
    "    weight = calculate_weight(density, volume)\n",
    "except ValueError as e:\n",
    "    print(f\"An exception occurred: {e}\")"
   ]
  },
  {
   "cell_type": "markdown",
   "id": "83f94734-ce8f-4f6b-8e16-253d55a05dba",
   "metadata": {
    "id": "tAPJ5RBLKGaN"
   },
   "source": [
    "It is possible to have multiple `except` statements in case you are expecting more than 1 type of exceptions to be raised. If an exception is raised, the first `except` clause that catches it will be evaluated.\n",
    "\n",
    "You may be wondering why should we handle multiple exceptions. Depending on the exception raised, we can set up different behaviour for our application. For example, if a `ZeroDivisionError`, the issue is most likely in the user providing arguments, so we could inform them about it specifically. However, if a `ValueError` is thrown, it may be related to our logic. In that case we should be able to investigate the cause of it."
   ]
  },
  {
   "cell_type": "code",
   "execution_count": 13,
   "id": "2395a415-c8f4-461a-8d67-681ef690517d",
   "metadata": {
    "colab": {
     "base_uri": "https://localhost:8080/"
    },
    "id": "CUdRB8lhKGaN",
    "outputId": "a506c063-be03-450a-8d0e-8ad91702a68d"
   },
   "outputs": [
    {
     "name": "stdout",
     "output_type": "stream",
     "text": [
      "Value error exception was raised!\n"
     ]
    }
   ],
   "source": [
    "weight = 0\n",
    "density = -40\n",
    "volume = 5\n",
    "\n",
    "try:\n",
    "    weight = calculate_weight(density, volume)\n",
    "except ZeroDivisionError:\n",
    "    print(\"Division by zero exception was raised!\")\n",
    "except ValueError:\n",
    "    print(\"Value error exception was raised!\")\n",
    "except TypeError:\n",
    "    print(\"Type error exception was raised!\")"
   ]
  }
 ],
 "metadata": {
  "kernelspec": {
   "display_name": "Python 3 (ipykernel)",
   "language": "python",
   "name": "python3"
  },
  "language_info": {
   "codemirror_mode": {
    "name": "ipython",
    "version": 3
   },
   "file_extension": ".py",
   "mimetype": "text/x-python",
   "name": "python",
   "nbconvert_exporter": "python",
   "pygments_lexer": "ipython3",
   "version": "3.9.18"
  },
  "widgets": {
   "application/vnd.jupyter.widget-state+json": {
    "state": {},
    "version_major": 2,
    "version_minor": 0
   }
  }
 },
 "nbformat": 4,
 "nbformat_minor": 5
}
