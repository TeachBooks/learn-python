{
 "cells": [
  {
   "cell_type": "markdown",
   "metadata": {},
   "source": [
    "# Error Types\n",
    "\n",
    "You have probably encountered errors before in your code---no one is perfect! But have you ever spent time reading through the error message to help you figure out what went wrong? This Section will give you some information that will help interpret these sometimes cryptic message to more efficiently identify the problem and fix it.\n",
    "\n",
    "Essentially there are 3 types of errors, each of which is described below:\n",
    "- Syntax errors\n",
    "- Exceptions\n",
    "- Logical errors\n",
    "\n",
    "Click {fa}`rocket` --> {guilabel}`Live Code` on the top right corner of this screen and then execute the cells as you go through the page. In each case, see if you can fix the code (re-run the cell until the error is gone), as well as try to replicate the error with your own example.\n",
    "\n",
    "In each of the examples, you should look at the error report that is printed after executing each cell and identify the _type_ of error; in each case they should look like `XxxxError`, where `Xxxx` identifies the specific error type.\n",
    "\n",
    "_The work on this page is derived from work that is Copyright © [University of Cape Town](https://github.com/confluence/python-textbok) under [CC BY-SA 4.0](https://github.com/confluence/python-textbok/blob/master/LICENCE). Specifically, material from [this page](https://python-textbok.readthedocs.io/en/1.0/Errors_and_Exceptions.html) was used._\n",
    "\n",
    "<!-- NOTE/MMMMM: Robert did this in Oct 2, 2023, but is just guessing with the reference. -->"
   ]
  },
  {
   "cell_type": "markdown",
   "metadata": {},
   "source": [
    "## Syntax errors\n",
    "Syntax errors are the most common for beginner developers. When an error happenes, Python parser will show in which line it is and point to it in the code with an arrow `^`. Run the code snippet below for an example:"
   ]
  },
  {
   "cell_type": "code",
   "execution_count": 2,
   "metadata": {},
   "outputs": [
    {
     "ename": "SyntaxError",
     "evalue": "invalid syntax (253892592.py, line 3)",
     "output_type": "error",
     "traceback": [
      "\u001b[1;36m  Cell \u001b[1;32mIn[2], line 3\u001b[1;36m\u001b[0m\n\u001b[1;33m    else\u001b[0m\n\u001b[1;37m        ^\u001b[0m\n\u001b[1;31mSyntaxError\u001b[0m\u001b[1;31m:\u001b[0m invalid syntax\n"
     ]
    }
   ],
   "source": [
    "if 5 > 3:\n",
    "    print(\"5 is bigger than 3\")\n",
    "else\n",
    "    print(\"3 is bigger than 5\")"
   ]
  },
  {
   "cell_type": "markdown",
   "metadata": {},
   "source": [
    "As we can see from the error report, Python tells us directly that this is a `SyntaxError`. It even includes a carat (the `^` symbol) to identify the location within the line of code where it occurs. Useful, right?!"
   ]
  },
  {
   "cell_type": "markdown",
   "metadata": {},
   "source": [
    "## Exceptions\n",
    "\n",
    "Exceptions is a general set of errors that, unlike syntax errors, appear during code execution. If an exception stops your code from running, we often refer to this as _raising an exception._ Many exceptions are implemented directly in the Python code base, but it is important to recognize that anyone writing Python code can create exceptions themselves. Determining how and when to _raise_ exceptions (i.e., \"cause\" the error) during code execution is a useful way to make sure code and software runs as designed; we will learn to do this later. For now we will look at several examples of exceptions that are implemented in the Python code base:"
   ]
  },
  {
   "cell_type": "code",
   "execution_count": 2,
   "metadata": {},
   "outputs": [
    {
     "ename": "ZeroDivisionError",
     "evalue": "division by zero",
     "output_type": "error",
     "traceback": [
      "\u001b[1;31m---------------------------------------------------------------------------\u001b[0m",
      "\u001b[1;31mZeroDivisionError\u001b[0m                         Traceback (most recent call last)",
      "Cell \u001b[1;32mIn[2], line 1\u001b[0m\n\u001b[1;32m----> 1\u001b[0m \u001b[38;5;241;43m16\u001b[39;49m\u001b[43m \u001b[49m\u001b[38;5;241;43m/\u001b[39;49m\u001b[43m \u001b[49m\u001b[38;5;241;43m0\u001b[39;49m\n",
      "\u001b[1;31mZeroDivisionError\u001b[0m: division by zero"
     ]
    }
   ],
   "source": [
    "16 / 0"
   ]
  },
  {
   "cell_type": "code",
   "execution_count": 3,
   "metadata": {},
   "outputs": [
    {
     "ename": "TypeError",
     "evalue": "unsupported operand type(s) for +: 'int' and 'str'",
     "output_type": "error",
     "traceback": [
      "\u001b[1;31m---------------------------------------------------------------------------\u001b[0m",
      "\u001b[1;31mTypeError\u001b[0m                                 Traceback (most recent call last)",
      "Cell \u001b[1;32mIn[3], line 1\u001b[0m\n\u001b[1;32m----> 1\u001b[0m \u001b[38;5;241;43m2\u001b[39;49m\u001b[43m \u001b[49m\u001b[38;5;241;43m+\u001b[39;49m\u001b[43m \u001b[49m\u001b[38;5;124;43m\"\u001b[39;49m\u001b[38;5;124;43m3\u001b[39;49m\u001b[38;5;124;43m\"\u001b[39;49m\n",
      "\u001b[1;31mTypeError\u001b[0m: unsupported operand type(s) for +: 'int' and 'str'"
     ]
    }
   ],
   "source": [
    "2 + \"3\""
   ]
  },
  {
   "cell_type": "code",
   "execution_count": 4,
   "metadata": {},
   "outputs": [
    {
     "ename": "NameError",
     "evalue": "name 'pi' is not defined",
     "output_type": "error",
     "traceback": [
      "\u001b[1;31m---------------------------------------------------------------------------\u001b[0m",
      "\u001b[1;31mNameError\u001b[0m                                 Traceback (most recent call last)",
      "Cell \u001b[1;32mIn[4], line 1\u001b[0m\n\u001b[1;32m----> 1\u001b[0m \u001b[38;5;241m2\u001b[39m \u001b[38;5;241m*\u001b[39m \u001b[43mpi\u001b[49m \u001b[38;5;241m*\u001b[39m r \u001b[38;5;241m*\u001b[39m\u001b[38;5;241m*\u001b[39m \u001b[38;5;241m2\u001b[39m\n",
      "\u001b[1;31mNameError\u001b[0m: name 'pi' is not defined"
     ]
    }
   ],
   "source": [
    "2 * pi * r ** 2"
   ]
  },
  {
   "cell_type": "markdown",
   "metadata": {},
   "source": [
    "As you see in the examples above, we have encountered 3 different types of exceptions - `ZeroDivisionError`, `TypeError` and `NameError`. A nice thing about Python is that it tells us the specific type of exception we are dealing it, making it easy for you, the developer, to figure out the cause of the raised exceptions. Although in some cases the cause of the exception is obvious, it is often useful to look up the [Python documentation that describes it](https://docs.python.org/3/library/exceptions.html) (especially when your code gets complex, and you are having trouble identifying the source of the problem). For example, if you look at the description of [`NameError`](https://docs.python.org/3/library/exceptions.html#NameError), you will find:\n",
    "\n",
    "> exception **NameError**  \n",
    "> Raised when a local or global name is not found. This applies only to unqualified names. The associated value is an error message that includes the name that could not be found.\n",
    "> \n",
    "> The name attribute can be set using a keyword-only argument to the constructor. When set it represent the name of the variable that was attempted to be accessed.\n",
    "> \n",
    "> _Changed in version 3.10:_ Added the `name` attribute.\n",
    "\n",
    "As you can see, the documentation also provides information about changes relative to older versions of Python.\n",
    "\n",
    "For more exception types, you can have a look at the [complete list here](https://docs.python.org/3/library/exceptions.html#exception-hierarchy). Keep in mind that you are not required to understand the cause of every exception, but rather the importance of having different types of exceptions and that each one may require a different strategy in resolving it."
   ]
  },
  {
   "cell_type": "markdown",
   "metadata": {},
   "source": [
    "## Logical errors\n",
    "Logical errors are generally the most difficult to discover, because they can be invisible to the developer. Logical errors can exist without raising an exception or an error. Particular examples of logical errors are:\n",
    "- using the wrong variable name\n",
    "- indenting a block to the wrong level\n",
    "- using integer division instead of floating-point division\n",
    "- getting operator precedence wrong\n",
    "- making a mistake in a boolean expression\n",
    "- forgetting to add an `else` statement to an `if` clause\n",
    "- off-by-one, and other numerical errors"
   ]
  },
  {
   "cell_type": "markdown",
   "metadata": {},
   "source": [
    "Here is a brief example of using integer division instead of floating-point division:\n",
    "\n",
    "Consider you have to compute speed from distance and time using the basic formula $speed=\\frac{distance}{time}$. Here is the correct version, using floating-point division:"
   ]
  },
  {
   "cell_type": "code",
   "execution_count": 5,
   "metadata": {},
   "outputs": [
    {
     "name": "stdout",
     "output_type": "stream",
     "text": [
      "Speed =  2.7548209366391188\n"
     ]
    }
   ],
   "source": [
    "distance = 10            # m\n",
    "time = 3.63              # s\n",
    "\n",
    "speed = distance / time    # m/s\n",
    "print('Speed = ', speed)"
   ]
  },
  {
   "cell_type": "markdown",
   "metadata": {},
   "source": [
    "If we use integer division by mistake, the result is incorrect:"
   ]
  },
  {
   "cell_type": "code",
   "execution_count": 6,
   "metadata": {},
   "outputs": [
    {
     "name": "stdout",
     "output_type": "stream",
     "text": [
      "Speed =  2.0\n"
     ]
    }
   ],
   "source": [
    "distance = 10            # m\n",
    "time = 3.63              # s\n",
    "\n",
    "speed = distance // time    # m/s\n",
    "print('Speed = ', speed)"
   ]
  },
  {
   "cell_type": "markdown",
   "metadata": {},
   "source": [
    "The difference between the 2 results is nearly 0.75, which can be very high depending on its use."
   ]
  },
  {
   "cell_type": "markdown",
   "metadata": {},
   "source": [
    "```{note}\n",
    "For now you are only expected to recognize what a logical error is and how it is different than a Syntax error or Exception. When we learn how to address this type of error later, for example when we incorporate tests into our code.\n",
    "```"
   ]
  },
  {
   "cell_type": "markdown",
   "metadata": {},
   "source": [
    "## Summary of Error Types\n",
    "\n",
    "On this page we considered three types of errors. One way to help distinguish them is to recognize when they may occur:\n",
    "\n",
    "- Syntax error: before the code is executed\n",
    "- Exceptions: during execution\n",
    "- Logic error: code executes without error\n",
    "\n",
    "When executing the code in the examples above, did you read the error report? It is called a **traceback** and it should have been useful to identify the error type. We will learn more about it in the next section.\n",
    "\n"
   ]
  }
 ],
 "metadata": {
  "kernelspec": {
   "display_name": "base",
   "language": "python",
   "name": "python3"
  },
  "language_info": {
   "codemirror_mode": {
    "name": "ipython",
    "version": 3
   },
   "file_extension": ".py",
   "mimetype": "text/x-python",
   "name": "python",
   "nbconvert_exporter": "python",
   "pygments_lexer": "ipython3",
   "version": "3.9.18"
  }
 },
 "nbformat": 4,
 "nbformat_minor": 2
}
