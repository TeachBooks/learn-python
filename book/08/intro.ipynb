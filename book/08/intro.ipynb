{
 "cells": [
  {
   "cell_type": "markdown",
   "metadata": {},
   "source": [
    "# Errors\n",
    "\n",
    "<!-- ## Contents\n",
    "- [Introduction](#Introduction)\n",
    "- [Why are we doing testing](#Why-are-we-doing-testing)\n",
    "- [What is debugging](#What-is-debugging)\n",
    "- [Types of errors](#Types-of-errors)\n",
    "- [Raising errors](#Raising-errors)\n",
    "- [Handling errors](#try_except)\n",
    "- [Assertions](#Assertions)\n",
    "- [Logging](#Logging)\n",
    "- [Exercises](#Exercises)\n",
    "- [References and used resources](#References-and-used-resources) -->\n",
    "\n",
    "This chapter is focused on software testing with Python---it focuses on a number of different topics to help you identify and fix errors. Incorporating the concepts in this chapter into your own coding practice will help you fix problems in the future, especially as you work on larger projects with multiple people. \n",
    "\n",
    "**Why should we learn about software testing?**\n",
    "\n",
    "Testing our code is necessary, because we as humans all make mistakes. Some of our mistakes may not be that important, but some can be dangeours and harmful. There are numerous examples of the latter such as the explosion of the Ariane 5 rocket or the problem with NASA’s Mars Climate Orbiter. You can read more on these examples [here](https://medium.com/swlh/some-of-the-most-famous-bugs-in-software-history-bb16a2ee3f8e). Testing our code for hidden flaws is the first step towards ensuring that the programs we write are robust.\n",
    "\n",
    "```{figure} https://static.wixstatic.com/media/cfc1ef_55f398d6fbdb418ea4970567251efe6a.png/v1/fill/w_680,h_476,al_c,q_95/cfc1ef_55f398d6fbdb418ea4970567251efe6a.webp\n",
    "---\n",
    "name: nasa\n",
    "---\n",
    "A depiction of the NASA's Mars Climate Orbiter disaster. The incongruence in the units used by scientists at NASA (metric unit) and Lockheed Martin (US customary units) led the space probe too close to the planet. It was either destroyed in the atmosphere or escaped the planet's vicinity and entered an orbit around the Sun. (Source: Unleesh.com)\n",
    "```\n",
    "\n",
    "\n",
    "**What is debugging?**\n",
    "\n",
    "Debugging is the process of identifying code-related problems (bugs) by analysing the behaviour of the program we have written. Testing and debugging are complementary to one another. Testing is used to identify a bug, while debugging is used to fix a bug.\n",
    "\n",
    "In the sections that follow, we will start to learn about errors as a practical way of identifying issues with our code. Then we will learn how to improve our code with testing to make it easier to debug in the future.\n",
    "\n",
    "\n",
    "<!-- **Additional Resources**\n",
    "\n",
    "New sections will be added to this chapter progressively throughout the semester. -->\n",
    "\n",
    "<!-- If you are interested in the topic, you can check out the references below, some of which were also used in the creation of this chapter:\n",
    "\n",
    "- https://carpentries-lab.github.io/python-aos-lesson/08-defensive/index.html\n",
    "- https://swcarpentry.github.io/python-novice-inflammation/09-errors.html\n",
    "- https://python-textbok.readthedocs.io/en/1.0/Errors_and_Exceptions.html\n",
    "- https://docs.python.org/3/tutorial/errors.html\n",
    "- https://coderefinery.github.io/testing/ -->"
   ]
  },
  {
   "cell_type": "markdown",
   "metadata": {},
   "source": [
    "## 8.1 Error Types\n",
    "\n",
    "You have probably encountered errors before in your code---no one is perfect! But have you ever spent time reading through the error message to help you figure out what went wrong? This Section will give you some information that will help interpret these sometimes cryptic message to more efficiently identify the problem and fix it.\n",
    "\n",
    "Essentially there are 3 types of errors, each of which is described below:\n",
    "- Syntax errors\n",
    "- Exceptions\n",
    "- Logical errors\n",
    "\n",
    "Click {fa}`rocket` --> {guilabel}`Live Code` on the top right corner of this screen and then execute the cells as you go through the page. In each case, see if you can fix the code (re-run the cell until the error is gone), as well as try to replicate the error with your own example.\n",
    "\n",
    "In each of the examples, you should look at the error report that is printed after executing each cell and identify the _type_ of error; in each case they should look like `XxxxError`, where `Xxxx` identifies the specific error type.\n",
    "\n",
    "_The work on this page is derived from work that is Copyright © [University of Cape Town](https://github.com/confluence/python-textbok) under [CC BY-SA 4.0](https://github.com/confluence/python-textbok/blob/master/LICENCE). Specifically, material from [this page](https://python-textbok.readthedocs.io/en/1.0/Errors_and_Exceptions.html) was used._\n",
    "\n",
    "<!-- NOTE/MMMMM: Robert did this in Oct 2, 2023, but is just guessing with the reference. -->"
   ]
  },
  {
   "cell_type": "markdown",
   "metadata": {},
   "source": [
    "### Syntax errors\n",
    "Syntax errors are the most common for beginner developers. When an error happenes, Python parser will show in which line it is and point to it in the code with an arrow `^`. Run the code snippet below for an example:"
   ]
  },
  {
   "cell_type": "code",
   "execution_count": 2,
   "metadata": {},
   "outputs": [
    {
     "ename": "SyntaxError",
     "evalue": "invalid syntax (253892592.py, line 3)",
     "output_type": "error",
     "traceback": [
      "\u001b[1;36m  Cell \u001b[1;32mIn[2], line 3\u001b[1;36m\u001b[0m\n\u001b[1;33m    else\u001b[0m\n\u001b[1;37m        ^\u001b[0m\n\u001b[1;31mSyntaxError\u001b[0m\u001b[1;31m:\u001b[0m invalid syntax\n"
     ]
    }
   ],
   "source": [
    "if 5 > 3:\n",
    "    print(\"5 is bigger than 3\")\n",
    "else\n",
    "    print(\"3 is bigger than 5\")"
   ]
  },
  {
   "cell_type": "markdown",
   "metadata": {},
   "source": [
    "As we can see from the error report, Python tells us directly that this is a `SyntaxError`. It even includes a carat (the `^` symbol) to identify the location within the line of code where it occurs. Useful, right?!"
   ]
  },
  {
   "cell_type": "markdown",
   "metadata": {},
   "source": [
    "### Exceptions\n",
    "\n",
    "Exceptions is a general set of errors that, unlike syntax errors, appear during code execution. If an exception stops your code from running, we often refer to this as _raising an exception._ Many exceptions are implemented directly in the Python code base, but it is important to recognize that anyone writing Python code can create exceptions themselves. Determining how and when to _raise_ exceptions (i.e., \"cause\" the error) during code execution is a useful way to make sure code and software runs as designed; we will learn to do this later. For now we will look at several examples of exceptions that are implemented in the Python code base:"
   ]
  },
  {
   "cell_type": "code",
   "execution_count": 3,
   "metadata": {},
   "outputs": [
    {
     "ename": "ZeroDivisionError",
     "evalue": "division by zero",
     "output_type": "error",
     "traceback": [
      "\u001b[1;31m---------------------------------------------------------------------------\u001b[0m",
      "\u001b[1;31mZeroDivisionError\u001b[0m                         Traceback (most recent call last)",
      "Cell \u001b[1;32mIn[3], line 1\u001b[0m\n\u001b[1;32m----> 1\u001b[0m \u001b[38;5;241;43m16\u001b[39;49m\u001b[43m \u001b[49m\u001b[38;5;241;43m/\u001b[39;49m\u001b[43m \u001b[49m\u001b[38;5;241;43m0\u001b[39;49m\n",
      "\u001b[1;31mZeroDivisionError\u001b[0m: division by zero"
     ]
    }
   ],
   "source": [
    "16 / 0"
   ]
  },
  {
   "cell_type": "code",
   "execution_count": null,
   "metadata": {},
   "outputs": [
    {
     "ename": "TypeError",
     "evalue": "unsupported operand type(s) for +: 'int' and 'str'",
     "output_type": "error",
     "traceback": [
      "\u001b[1;31m---------------------------------------------------------------------------\u001b[0m\n",
      "\u001b[1;31mTypeError\u001b[0m                                 Traceback (most recent call last)\n",
      "Cell \u001b[1;32mIn[3], line 1\u001b[0m\n",
      "\u001b[1;32m----> 1\u001b[0m \u001b[38;5;241;43m2\u001b[39;49m\u001b[43m \u001b[49m\u001b[38;5;241;43m+\u001b[39;49m\u001b[43m \u001b[49m\u001b[38;5;124;43m\"\u001b[39;49m\u001b[38;5;124;43m3\u001b[39;49m\u001b[38;5;124;43m\"\u001b[39;49m\n",
      "\n",
      "\u001b[1;31mTypeError\u001b[0m: unsupported operand type(s) for +: 'int' and 'str'"
     ]
    }
   ],
   "source": [
    "2 + \"3\""
   ]
  },
  {
   "cell_type": "code",
   "execution_count": null,
   "metadata": {},
   "outputs": [
    {
     "ename": "NameError",
     "evalue": "name 'pi' is not defined",
     "output_type": "error",
     "traceback": [
      "\u001b[1;31m---------------------------------------------------------------------------\u001b[0m\n",
      "\u001b[1;31mNameError\u001b[0m                                 Traceback (most recent call last)\n",
      "Cell \u001b[1;32mIn[4], line 1\u001b[0m\n",
      "\u001b[1;32m----> 1\u001b[0m \u001b[38;5;241m2\u001b[39m \u001b[38;5;241m*\u001b[39m \u001b[43mpi\u001b[49m \u001b[38;5;241m*\u001b[39m r \u001b[38;5;241m*\u001b[39m\u001b[38;5;241m*\u001b[39m \u001b[38;5;241m2\u001b[39m\n",
      "\n",
      "\u001b[1;31mNameError\u001b[0m: name 'pi' is not defined"
     ]
    }
   ],
   "source": [
    "2 * pi * r ** 2"
   ]
  },
  {
   "cell_type": "markdown",
   "metadata": {},
   "source": [
    "As you see in the examples above, we have encountered 3 different types of exceptions - `ZeroDivisionError`, `TypeError` and `NameError`. A nice thing about Python is that it tells us the specific type of exception we are dealing it, making it easy for you, the developer, to figure out the cause of the raised exceptions. Although in some cases the cause of the exception is obvious, it is often useful to look up the [Python documentation that describes it](https://docs.python.org/3/library/exceptions.html) (especially when your code gets complex, and you are having trouble identifying the source of the problem). For example, if you look at the description of [`NameError`](https://docs.python.org/3/library/exceptions.html#NameError), you will find:\n",
    "\n",
    "> exception **NameError**  \n",
    "> Raised when a local or global name is not found. This applies only to unqualified names. The associated value is an error message that includes the name that could not be found.\n",
    "> \n",
    "> The name attribute can be set using a keyword-only argument to the constructor. When set it represent the name of the variable that was attempted to be accessed.\n",
    "> \n",
    "> _Changed in version 3.10:_ Added the `name` attribute.\n",
    "\n",
    "As you can see, the documentation also provides information about changes relative to older versions of Python.\n",
    "\n",
    "For more exception types, you can have a look at the [complete list here](https://docs.python.org/3/library/exceptions.html#exception-hierarchy). Keep in mind that you are not required to understand the cause of every exception, but rather the importance of having different types of exceptions and that each one may require a different strategy in resolving it."
   ]
  },
  {
   "cell_type": "markdown",
   "metadata": {},
   "source": [
    "### Logical errors\n",
    "Logical errors are generally the most difficult to discover, because they can be invisible to the developer. Logical errors can exist without raising an exception or an error. Particular examples of logical errors are:\n",
    "- using the wrong variable name\n",
    "- indenting a block to the wrong level\n",
    "- using integer division instead of floating-point division\n",
    "- getting operator precedence wrong\n",
    "- making a mistake in a boolean expression\n",
    "- forgetting to add an `else` statement to an `if` clause\n",
    "- off-by-one, and other numerical errors"
   ]
  },
  {
   "cell_type": "markdown",
   "metadata": {},
   "source": [
    "Here is a brief example of using integer division instead of floating-point division:\n",
    "\n",
    "Consider you have to compute speed from distance and time using the basic formula $speed=\\frac{distance}{time}$. Here is the correct version, using floating-point division:"
   ]
  },
  {
   "cell_type": "code",
   "execution_count": 4,
   "metadata": {},
   "outputs": [
    {
     "name": "stdout",
     "output_type": "stream",
     "text": [
      "Speed =  2.7548209366391188\n"
     ]
    }
   ],
   "source": [
    "distance = 10            # m\n",
    "time = 3.63              # s\n",
    "\n",
    "speed = distance / time    # m/s\n",
    "print('Speed = ', speed)"
   ]
  },
  {
   "cell_type": "markdown",
   "metadata": {},
   "source": [
    "If we use integer division by mistake, the result is incorrect:"
   ]
  },
  {
   "cell_type": "code",
   "execution_count": 5,
   "metadata": {},
   "outputs": [
    {
     "name": "stdout",
     "output_type": "stream",
     "text": [
      "Speed =  2.0\n"
     ]
    }
   ],
   "source": [
    "distance = 10            # m\n",
    "time = 3.63              # s\n",
    "\n",
    "speed = distance // time    # m/s\n",
    "print('Speed = ', speed)"
   ]
  },
  {
   "cell_type": "markdown",
   "metadata": {},
   "source": [
    "The difference between the 2 results is nearly 0.75, which can be very high depending on its use."
   ]
  },
  {
   "cell_type": "markdown",
   "metadata": {},
   "source": [
    "```{note}\n",
    "For now you are only expected to recognize what a logical error is and how it is different than a Syntax error or Exception. When we learn how to address this type of error later, for example when we incorporate tests into our code.\n",
    "```"
   ]
  },
  {
   "cell_type": "markdown",
   "metadata": {},
   "source": [
    "### Summary of Error Types\n",
    "\n",
    "On this page we considered three types of errors. One way to help distinguish them is to recognize when they may occur:\n",
    "\n",
    "- Syntax error: before the code is executed\n",
    "- Exceptions: during execution\n",
    "- Logic error: code executes without error\n",
    "\n",
    "When executing the code in the examples above, did you read the error report? It is called a **traceback** and it should have been useful to identify the error type. We will learn more about it in the next section.\n",
    "\n"
   ]
  },
  {
   "cell_type": "markdown",
   "metadata": {},
   "source": [
    "## 8.2 The Python Traceback\n",
    "\n",
    "How often has your Python code \"broken,\" spitting out a long error message that you then completely ignore while going back to your code to make changes in a vain attempt to solve the problem as quickly as possible? Or perhaps you executed a piece of code and, upon seeing the error, turn to a friend or teacher, providing such \"useful\" information as: \"help, my code doesn't work!\"\n",
    "\n",
    "The error message you recieve from Python is providing useful information to identify the problem source, and after reading this page you should be able to utilize this to solve them more efficiently. Even if you can't use the information to solve your problem directly, it is important to be able to communicate effectively about the problem when asking for help. For example, there is a big difference between asking someone for help by saying \"my code is broken,\" versus \"I have an index error and I can't figure out why it's happening.\"\n",
    "\n",
    "Click {fa}`rocket` --> {guilabel}`Live Code` on the top right corner of this screen and then execute the cells as you go through the page. In each case, see if you can fix the code (re-run the cell until the error is gone), as well as try to replicate the error with your own example.\n",
    "\n",
    "_The work on this page is derived from work that is Copyright © The Carpentries under [CC BY 4.0](https://creativecommons.org/licenses/by/4.0/). Specifically, material from [this page](https://swcarpentry.github.io/python-novice-inflammation/09-errors.html) was used._\n",
    "\n",
    "<!-- NOTE/MMMMM: Robert did this in Oct 2, 2023. The other material in this chapter was not referenced as such; rather with the links and information as on overview page. -->\n",
    "\n",
    "### Python Traceback\n",
    "\n",
    "The **traceback** is simply a listing and description of the sequence of function calls leading to an error; specifically, it will help identify exceptions that have been raised during code execution. Let's take a look at one!"
   ]
  },
  {
   "cell_type": "code",
   "execution_count": 6,
   "metadata": {},
   "outputs": [
    {
     "ename": "IndexError",
     "evalue": "list index out of range",
     "output_type": "error",
     "traceback": [
      "\u001b[1;31m---------------------------------------------------------------------------\u001b[0m",
      "\u001b[1;31mIndexError\u001b[0m                                Traceback (most recent call last)",
      "Cell \u001b[1;32mIn[6], line 9\u001b[0m\n\u001b[0;32m      2\u001b[0m     ice_creams \u001b[38;5;241m=\u001b[39m [\n\u001b[0;32m      3\u001b[0m         \u001b[38;5;124m'\u001b[39m\u001b[38;5;124mchocolate\u001b[39m\u001b[38;5;124m'\u001b[39m,\n\u001b[0;32m      4\u001b[0m         \u001b[38;5;124m'\u001b[39m\u001b[38;5;124mvanilla\u001b[39m\u001b[38;5;124m'\u001b[39m,\n\u001b[0;32m      5\u001b[0m         \u001b[38;5;124m'\u001b[39m\u001b[38;5;124mstrawberry\u001b[39m\u001b[38;5;124m'\u001b[39m\n\u001b[0;32m      6\u001b[0m     ]\n\u001b[0;32m      7\u001b[0m     \u001b[38;5;28mprint\u001b[39m(ice_creams[\u001b[38;5;241m3\u001b[39m])\n\u001b[1;32m----> 9\u001b[0m \u001b[43mfavorite_ice_cream\u001b[49m\u001b[43m(\u001b[49m\u001b[43m)\u001b[49m\n",
      "Cell \u001b[1;32mIn[6], line 7\u001b[0m, in \u001b[0;36mfavorite_ice_cream\u001b[1;34m()\u001b[0m\n\u001b[0;32m      1\u001b[0m \u001b[38;5;28;01mdef\u001b[39;00m \u001b[38;5;21mfavorite_ice_cream\u001b[39m():\n\u001b[0;32m      2\u001b[0m     ice_creams \u001b[38;5;241m=\u001b[39m [\n\u001b[0;32m      3\u001b[0m         \u001b[38;5;124m'\u001b[39m\u001b[38;5;124mchocolate\u001b[39m\u001b[38;5;124m'\u001b[39m,\n\u001b[0;32m      4\u001b[0m         \u001b[38;5;124m'\u001b[39m\u001b[38;5;124mvanilla\u001b[39m\u001b[38;5;124m'\u001b[39m,\n\u001b[0;32m      5\u001b[0m         \u001b[38;5;124m'\u001b[39m\u001b[38;5;124mstrawberry\u001b[39m\u001b[38;5;124m'\u001b[39m\n\u001b[0;32m      6\u001b[0m     ]\n\u001b[1;32m----> 7\u001b[0m     \u001b[38;5;28mprint\u001b[39m(\u001b[43mice_creams\u001b[49m\u001b[43m[\u001b[49m\u001b[38;5;241;43m3\u001b[39;49m\u001b[43m]\u001b[49m)\n",
      "\u001b[1;31mIndexError\u001b[0m: list index out of range"
     ]
    }
   ],
   "source": [
    "def favorite_ice_cream():\n",
    "    ice_creams = [\n",
    "        'chocolate',\n",
    "        'vanilla',\n",
    "        'strawberry'\n",
    "    ]\n",
    "    print(ice_creams[3])\n",
    "\n",
    "favorite_ice_cream()"
   ]
  },
  {
   "cell_type": "markdown",
   "metadata": {},
   "source": [
    "This particular traceback has two levels. You can determine the number of levels by looking for the number of arrows on the left hand side. In this case:\n",
    "\n",
    "1. The first shows code from the cell above, with an arrow pointing to Line 11 (which is `favorite_ice_cream()`).\n",
    "2. The second shows some code in the function `favorite_ice_cream`, with an arrow pointing to Line 9 (which is `print(ice_creams[3])`).\n",
    "\n",
    "The last level is the actual place where the error occurred. The other level(s) show what function the program executed to get to the next level down. So, in this case, the program first performed a function call to the function `favorite_ice_cream`. Inside this function, the program encountered an error on Line 6, when it tried to run the code `print(ice_creams[3])`.\n",
    "\n",
    "```{note}\n",
    "Sometimes, you might see a traceback that is very long -- sometimes they might even be 20 levels deep! This can make it seem like something horrible happened, but the length of the error message does not reflect severity, rather, it indicates that your program called many functions before it encountered the error. Most of the time, the actual place where the error occurred is at the bottom-most level, so you can skip down the traceback to the bottom.\n",
    "```\n",
    "\n",
    "So what error did the program actually encounter? In the last line of the traceback, Python helpfully tells us the category or type of error (in this case, it is an `IndexError`) and a more detailed error message (in this case, it says “list index out of range”).\n",
    "\n",
    "If you encounter an error and don’t know what it means, it is still important to read the traceback closely. That way, if you fix the error, but encounter a new one, you can tell that the error changed. Additionally, sometimes knowing where the error occurred is enough to fix it, even if you don’t entirely understand the message.\n",
    "\n",
    "If you do encounter an error you don’t recognize, try looking at the official documentation on errors. However, note that you may not always be able to find the error there, as it is possible to create custom errors. In that case, hopefully the custom error message is informative enough to help you figure out what went wrong.\n",
    "\n",
    "In general, we recommend you think through the following questions whenever reading a traceback:\n",
    "\n",
    "```{admonition} Reading the Traceback (Error Messages)\n",
    "\n",
    "Use the traceback to answer the following questions:\n",
    "\n",
    "1. How many levels does the traceback have?\n",
    "2. What is the function name where the error occurred?\n",
    "3. On which line number in this function did the error occur?\n",
    "4. What is the type of error?\n",
    "5. What is the error message?\n",
    "\n",
    "```"
   ]
  },
  {
   "cell_type": "markdown",
   "metadata": {},
   "source": [
    "### Complicated Tracebacks\n",
    "\n",
    "The examples above generate relatively simple tracebacks; however, when you are working on your own computer the \"real\" tracebacks may seem more complicated. Often this is simply because of the way Python files are stored in your computer. Although this online textbook is not the same as the Python distribution you have on your computer, we can get a sense of the problem by executing the cell below:"
   ]
  },
  {
   "cell_type": "code",
   "execution_count": 7,
   "metadata": {},
   "outputs": [
    {
     "ename": "AttributeError",
     "evalue": "module 'numpy' has no attribute 'this_method_does_not_exist_in_numpy'",
     "output_type": "error",
     "traceback": [
      "\u001b[1;31m---------------------------------------------------------------------------\u001b[0m",
      "\u001b[1;31mAttributeError\u001b[0m                            Traceback (most recent call last)",
      "Cell \u001b[1;32mIn[7], line 3\u001b[0m\n\u001b[0;32m      1\u001b[0m \u001b[38;5;28;01mimport\u001b[39;00m \u001b[38;5;21;01mnumpy\u001b[39;00m \u001b[38;5;28;01mas\u001b[39;00m \u001b[38;5;21;01mnp\u001b[39;00m\n\u001b[0;32m      2\u001b[0m x \u001b[38;5;241m=\u001b[39m np\u001b[38;5;241m.\u001b[39marray([\u001b[38;5;241m5\u001b[39m, \u001b[38;5;241m6\u001b[39m, \u001b[38;5;241m7\u001b[39m, \u001b[38;5;241m8\u001b[39m])\n\u001b[1;32m----> 3\u001b[0m \u001b[43mnp\u001b[49m\u001b[38;5;241;43m.\u001b[39;49m\u001b[43mthis_method_does_not_exist_in_numpy\u001b[49m\n",
      "File \u001b[1;32mc:\\Users\\tomvanwoudenbe\\Anaconda3\\lib\\site-packages\\numpy\\__init__.py:333\u001b[0m, in \u001b[0;36m__getattr__\u001b[1;34m(attr)\u001b[0m\n\u001b[0;32m    330\u001b[0m     \u001b[38;5;124m\"\u001b[39m\u001b[38;5;124mRemoved in NumPy 1.25.0\u001b[39m\u001b[38;5;124m\"\u001b[39m\n\u001b[0;32m    331\u001b[0m     \u001b[38;5;28;01mraise\u001b[39;00m \u001b[38;5;167;01mRuntimeError\u001b[39;00m(\u001b[38;5;124m\"\u001b[39m\u001b[38;5;124mTester was removed in NumPy 1.25.\u001b[39m\u001b[38;5;124m\"\u001b[39m)\n\u001b[1;32m--> 333\u001b[0m \u001b[38;5;28;01mraise\u001b[39;00m \u001b[38;5;167;01mAttributeError\u001b[39;00m(\u001b[38;5;124m\"\u001b[39m\u001b[38;5;124mmodule \u001b[39m\u001b[38;5;132;01m{!r}\u001b[39;00m\u001b[38;5;124m has no attribute \u001b[39m\u001b[38;5;124m\"\u001b[39m\n\u001b[0;32m    334\u001b[0m                      \u001b[38;5;124m\"\u001b[39m\u001b[38;5;132;01m{!r}\u001b[39;00m\u001b[38;5;124m\"\u001b[39m\u001b[38;5;241m.\u001b[39mformat(\u001b[38;5;18m__name__\u001b[39m, attr))\n",
      "\u001b[1;31mAttributeError\u001b[0m: module 'numpy' has no attribute 'this_method_does_not_exist_in_numpy'"
     ]
    }
   ],
   "source": [
    "import numpy as np\n",
    "x = np.array([5, 6, 7, 8])\n",
    "np.this_method_does_not_exist_in_numpy"
   ]
  },
  {
   "cell_type": "markdown",
   "metadata": {},
   "source": [
    "**Can you answer the list of 5 questions for this traceback?**\n",
    "\n",
    " ```{admonition} Solution\n",
    ":class: tip, dropdown\n",
    "1. 2 levels\n",
    "2. Numpy; specifically: `np.this_method_does_not_exist_in_numpy`\n",
    "3. 3\n",
    "4. `AttributeError`\n",
    "5. Module 'numpy' has no attribute 'this_method_does_not_exist_in_numpy'. It's pretty clear that this method doesn't exist in Numpy!\n",
    "```\n",
    "\n",
    "In addition, the location of the file where the exception was raised is given; it is quite long and (perhaps) unclear. This is simply the location where the Python file (`numpy/__init__.py`) responsible for code execution are stored in your internet browser (`/lib/python/...`). Note that `__init__.py` is used in every Python Package. Tou can see references to the method within numpy responsible for finding the numpy methods or attributes: `__getattr__(attr)`. Finally, we can actually see how the exception is _raised_ (we will learn about this later!): `raise AttributeError...`. \n",
    "\n",
    "Hopefully this explanation makes it easier for you to identify and solve exceptions when working with Python!"
   ]
  },
  {
   "cell_type": "markdown",
   "metadata": {},
   "source": [
    "## 8.3 Raising errors\n",
    "When writing good code, it is beneficial to raise exceptions yourself if you are provided with incorrect input. \n",
    "\n",
    "Consider the example method `calculate_weight` below, which calculates the weight of an object, given that we know its density and volume:\n"
   ]
  },
  {
   "cell_type": "code",
   "execution_count": 8,
   "metadata": {},
   "outputs": [],
   "source": [
    "def calculate_weight(density, volume):\n",
    "    \"\"\"\n",
    "    Calculates weight of an object, given its density and volume.\n",
    "\n",
    "    Args:\n",
    "        density (int): Density of an object.\n",
    "        volume (int): Volume of an object.\n",
    "\n",
    "    Returns:\n",
    "        int: Weight of an object.\n",
    "    \"\"\"\n",
    "    return density * volume"
   ]
  },
  {
   "cell_type": "code",
   "execution_count": 9,
   "metadata": {},
   "outputs": [
    {
     "data": {
      "text/plain": [
       "30"
      ]
     },
     "execution_count": 9,
     "metadata": {},
     "output_type": "execute_result"
    }
   ],
   "source": [
    "calculate_weight(3, 10)"
   ]
  },
  {
   "cell_type": "code",
   "execution_count": 10,
   "metadata": {},
   "outputs": [
    {
     "data": {
      "text/plain": [
       "-20"
      ]
     },
     "execution_count": 10,
     "metadata": {},
     "output_type": "execute_result"
    }
   ],
   "source": [
    "calculate_weight(-4, 5)"
   ]
  },
  {
   "cell_type": "markdown",
   "metadata": {},
   "source": [
    "If we provide invalid input such as negative density or volume, the method will still give us an answer, because it is following a formula. However, using that incorrect calculation can be harmful in applications. Therefore, we can raise exceptions ourselves using the keyword `raise`:"
   ]
  },
  {
   "cell_type": "code",
   "execution_count": 11,
   "metadata": {},
   "outputs": [],
   "source": [
    "def calculate_weight(density, volume):\n",
    "    \"\"\"\n",
    "    Calculates weight of an object, given its density and volume.\n",
    "\n",
    "    Args:\n",
    "        density (int): Density of an object.\n",
    "        volume (int): Volume of an object.\n",
    "\n",
    "    Returns:\n",
    "        int: Weight of an object.\n",
    "\n",
    "    Raises:\n",
    "        ValueError: if density or volume are negative values.\n",
    "    \"\"\"\n",
    "    if density < 0:\n",
    "        raise ValueError(\n",
    "            \"Invalid density. Density parameter can only take positive numbers\"\n",
    "        )\n",
    "    if volume < 0:\n",
    "        raise ValueError(\n",
    "            \"Invalid volume. Volume parameter can only take positive numbers\"\n",
    "        )\n",
    "    return density * volume"
   ]
  },
  {
   "cell_type": "code",
   "execution_count": 12,
   "metadata": {},
   "outputs": [
    {
     "data": {
      "text/plain": [
       "375"
      ]
     },
     "execution_count": 12,
     "metadata": {},
     "output_type": "execute_result"
    }
   ],
   "source": [
    "calculate_weight(75, 5)"
   ]
  },
  {
   "cell_type": "code",
   "execution_count": 13,
   "metadata": {},
   "outputs": [
    {
     "ename": "ValueError",
     "evalue": "Invalid density. Density parameter can only take positive numbers",
     "output_type": "error",
     "traceback": [
      "\u001b[1;31m---------------------------------------------------------------------------\u001b[0m",
      "\u001b[1;31mValueError\u001b[0m                                Traceback (most recent call last)",
      "Cell \u001b[1;32mIn[13], line 1\u001b[0m\n\u001b[1;32m----> 1\u001b[0m \u001b[43mcalculate_weight\u001b[49m\u001b[43m(\u001b[49m\u001b[38;5;241;43m-\u001b[39;49m\u001b[38;5;241;43m4\u001b[39;49m\u001b[43m,\u001b[49m\u001b[43m \u001b[49m\u001b[38;5;241;43m50\u001b[39;49m\u001b[43m)\u001b[49m\n",
      "Cell \u001b[1;32mIn[11], line 16\u001b[0m, in \u001b[0;36mcalculate_weight\u001b[1;34m(density, volume)\u001b[0m\n\u001b[0;32m      2\u001b[0m \u001b[38;5;250m\u001b[39m\u001b[38;5;124;03m\"\"\"\u001b[39;00m\n\u001b[0;32m      3\u001b[0m \u001b[38;5;124;03mCalculates weight of an object, given its density and volume.\u001b[39;00m\n\u001b[0;32m      4\u001b[0m \n\u001b[1;32m   (...)\u001b[0m\n\u001b[0;32m     13\u001b[0m \u001b[38;5;124;03m    ValueError: if density or volume are negative values.\u001b[39;00m\n\u001b[0;32m     14\u001b[0m \u001b[38;5;124;03m\"\"\"\u001b[39;00m\n\u001b[0;32m     15\u001b[0m \u001b[38;5;28;01mif\u001b[39;00m density \u001b[38;5;241m<\u001b[39m \u001b[38;5;241m0\u001b[39m:\n\u001b[1;32m---> 16\u001b[0m     \u001b[38;5;28;01mraise\u001b[39;00m \u001b[38;5;167;01mValueError\u001b[39;00m(\n\u001b[0;32m     17\u001b[0m         \u001b[38;5;124m\"\u001b[39m\u001b[38;5;124mInvalid density. Density parameter can only take positive numbers\u001b[39m\u001b[38;5;124m\"\u001b[39m\n\u001b[0;32m     18\u001b[0m     )\n\u001b[0;32m     19\u001b[0m \u001b[38;5;28;01mif\u001b[39;00m volume \u001b[38;5;241m<\u001b[39m \u001b[38;5;241m0\u001b[39m:\n\u001b[0;32m     20\u001b[0m     \u001b[38;5;28;01mraise\u001b[39;00m \u001b[38;5;167;01mValueError\u001b[39;00m(\n\u001b[0;32m     21\u001b[0m         \u001b[38;5;124m\"\u001b[39m\u001b[38;5;124mInvalid volume. Volume parameter can only take positive numbers\u001b[39m\u001b[38;5;124m\"\u001b[39m\n\u001b[0;32m     22\u001b[0m     )\n",
      "\u001b[1;31mValueError\u001b[0m: Invalid density. Density parameter can only take positive numbers"
     ]
    }
   ],
   "source": [
    "calculate_weight(-4, 50)"
   ]
  },
  {
   "cell_type": "markdown",
   "metadata": {},
   "source": [
    "## 8.4 Handling errors: the `try - except` block <a id='try_except'></a>\n",
    "If exceptions are not handled properly, the application will crash during execution as we have seen in the examples above. As a result, handling exceptions is important, because we want to minimise application crashes. Sometimes this is called \"catching\" errors.\n",
    "\n",
    "It is important to also think about *when* we should catch errors: this is when you expect the error to be _recoverable_. In other words, dealing with isthe error should not affect future code that will run. Some errors are _fatal_ and should be left to crash the program since things won't work out anyways (we will learn how to distinguish this behavior in the logging section).\n",
    "\n",
    "To handle exceptions, we can make use of `try - except` block, where we can catch exceptions and handle them in the way we wish. Thus, if an exception is *raised*, the application is not going to crash:"
   ]
  },
  {
   "cell_type": "code",
   "execution_count": 14,
   "metadata": {},
   "outputs": [
    {
     "name": "stdout",
     "output_type": "stream",
     "text": [
      "An exception occurred!\n"
     ]
    }
   ],
   "source": [
    "weight = 0\n",
    "density = -40\n",
    "volume = 5\n",
    "\n",
    "try:\n",
    "    weight = calculate_weight(density, volume)\n",
    "except ValueError:\n",
    "    print(\"An exception occurred!\")"
   ]
  },
  {
   "cell_type": "markdown",
   "metadata": {},
   "source": [
    "Note that if we do not handle the correct exception, one will still be raised. Therefore, it is very important that we catch the correct one based on our knowledge of which error can occur."
   ]
  },
  {
   "cell_type": "code",
   "execution_count": 15,
   "metadata": {},
   "outputs": [
    {
     "ename": "ValueError",
     "evalue": "Invalid density. Density parameter can only take positive numbers",
     "output_type": "error",
     "traceback": [
      "\u001b[1;31m---------------------------------------------------------------------------\u001b[0m",
      "\u001b[1;31mValueError\u001b[0m                                Traceback (most recent call last)",
      "Cell \u001b[1;32mIn[15], line 6\u001b[0m\n\u001b[0;32m      3\u001b[0m volume \u001b[38;5;241m=\u001b[39m \u001b[38;5;241m5\u001b[39m\n\u001b[0;32m      5\u001b[0m \u001b[38;5;28;01mtry\u001b[39;00m:\n\u001b[1;32m----> 6\u001b[0m     weight \u001b[38;5;241m=\u001b[39m \u001b[43mcalculate_weight\u001b[49m\u001b[43m(\u001b[49m\u001b[43mdensity\u001b[49m\u001b[43m,\u001b[49m\u001b[43m \u001b[49m\u001b[43mvolume\u001b[49m\u001b[43m)\u001b[49m\n\u001b[0;32m      7\u001b[0m \u001b[38;5;28;01mexcept\u001b[39;00m \u001b[38;5;167;01mNameError\u001b[39;00m:\n\u001b[0;32m      8\u001b[0m     \u001b[38;5;28mprint\u001b[39m(\u001b[38;5;124m\"\u001b[39m\u001b[38;5;124mAn exception occurred!\u001b[39m\u001b[38;5;124m\"\u001b[39m)\n",
      "Cell \u001b[1;32mIn[11], line 16\u001b[0m, in \u001b[0;36mcalculate_weight\u001b[1;34m(density, volume)\u001b[0m\n\u001b[0;32m      2\u001b[0m \u001b[38;5;250m\u001b[39m\u001b[38;5;124;03m\"\"\"\u001b[39;00m\n\u001b[0;32m      3\u001b[0m \u001b[38;5;124;03mCalculates weight of an object, given its density and volume.\u001b[39;00m\n\u001b[0;32m      4\u001b[0m \n\u001b[1;32m   (...)\u001b[0m\n\u001b[0;32m     13\u001b[0m \u001b[38;5;124;03m    ValueError: if density or volume are negative values.\u001b[39;00m\n\u001b[0;32m     14\u001b[0m \u001b[38;5;124;03m\"\"\"\u001b[39;00m\n\u001b[0;32m     15\u001b[0m \u001b[38;5;28;01mif\u001b[39;00m density \u001b[38;5;241m<\u001b[39m \u001b[38;5;241m0\u001b[39m:\n\u001b[1;32m---> 16\u001b[0m     \u001b[38;5;28;01mraise\u001b[39;00m \u001b[38;5;167;01mValueError\u001b[39;00m(\n\u001b[0;32m     17\u001b[0m         \u001b[38;5;124m\"\u001b[39m\u001b[38;5;124mInvalid density. Density parameter can only take positive numbers\u001b[39m\u001b[38;5;124m\"\u001b[39m\n\u001b[0;32m     18\u001b[0m     )\n\u001b[0;32m     19\u001b[0m \u001b[38;5;28;01mif\u001b[39;00m volume \u001b[38;5;241m<\u001b[39m \u001b[38;5;241m0\u001b[39m:\n\u001b[0;32m     20\u001b[0m     \u001b[38;5;28;01mraise\u001b[39;00m \u001b[38;5;167;01mValueError\u001b[39;00m(\n\u001b[0;32m     21\u001b[0m         \u001b[38;5;124m\"\u001b[39m\u001b[38;5;124mInvalid volume. Volume parameter can only take positive numbers\u001b[39m\u001b[38;5;124m\"\u001b[39m\n\u001b[0;32m     22\u001b[0m     )\n",
      "\u001b[1;31mValueError\u001b[0m: Invalid density. Density parameter can only take positive numbers"
     ]
    }
   ],
   "source": [
    "weight = 0\n",
    "density = -40\n",
    "volume = 5\n",
    "\n",
    "try:\n",
    "    weight = calculate_weight(density, volume)\n",
    "except NameError:\n",
    "    print(\"An exception occurred!\")"
   ]
  },
  {
   "cell_type": "markdown",
   "metadata": {},
   "source": [
    "If we do not know what exception will be raised, we can use `except Exception`, which will handle any exception raised by the code inside the `try` clause block. (`Exception` is the super class that comprises all types of exceptions and errors; for the purpose of this activity, think of it as a generic error.):"
   ]
  },
  {
   "cell_type": "code",
   "execution_count": 16,
   "metadata": {},
   "outputs": [
    {
     "name": "stdout",
     "output_type": "stream",
     "text": [
      "An exception occurred!\n"
     ]
    }
   ],
   "source": [
    "weight = 0\n",
    "density = -40\n",
    "volume = 5\n",
    "\n",
    "try:\n",
    "    weight = calculate_weight(density, volume)\n",
    "except Exception:\n",
    "    print(\"An exception occurred!\")"
   ]
  },
  {
   "cell_type": "markdown",
   "metadata": {},
   "source": [
    "### `else` and `finally`"
   ]
  },
  {
   "cell_type": "markdown",
   "metadata": {},
   "source": [
    "There are 2 more clauses that we can add to our `try-except` block, namely `else` and `finally`:\n",
    "- `else` will be executed only if no exception is raised by the code in the `try` clause block. This is useful in case we want some code to be executed after successful completion of the `try` clause. For example, printing a message or sending a response to somebody.\n",
    "- `finally` will be executed all the time, regardless of whether an exception was raised or not. In practice this is mostly used to finish a process. For example, if you are reading from a file, it is customary to close the file when you finish reading from it.\n",
    "\n",
    "Study the example below, which shows the execution of `except` and `finally` clauses:"
   ]
  },
  {
   "cell_type": "code",
   "execution_count": 17,
   "metadata": {},
   "outputs": [
    {
     "name": "stdout",
     "output_type": "stream",
     "text": [
      "An exception occurred!\n",
      "Calculation finished!\n"
     ]
    }
   ],
   "source": [
    "weight = 0\n",
    "density = -40\n",
    "volume = 5\n",
    "\n",
    "try:\n",
    "    weight = calculate_weight(density, volume)\n",
    "except Exception:\n",
    "    print(\"An exception occurred!\")\n",
    "else:\n",
    "    print(\n",
    "        f\"The weight of an object with density of {density} kg/m^3 and \"\n",
    "        f\"volume of {volume} m^3 is {weight} kg.\"\n",
    "    )\n",
    "finally:\n",
    "    print(\"Calculation finished!\")"
   ]
  },
  {
   "cell_type": "markdown",
   "metadata": {},
   "source": [
    "We will now use valid input to our function `calculate_weight` to show the execution of `try` and `else` clauses:"
   ]
  },
  {
   "cell_type": "code",
   "execution_count": 18,
   "metadata": {},
   "outputs": [
    {
     "name": "stdout",
     "output_type": "stream",
     "text": [
      "The weight of an object with density of 7870 kg/m^3 and volume of 40 m^3 is 314800 kg.\n",
      "Calculation finished!\n"
     ]
    }
   ],
   "source": [
    "weight = 0\n",
    "density = 7870\n",
    "volume = 40\n",
    "\n",
    "try:\n",
    "    weight = calculate_weight(density, volume)\n",
    "except Exception:\n",
    "    print(\"An exception occurred!\")\n",
    "else:\n",
    "    print(\n",
    "        f\"The weight of an object with density of {density} kg/m^3 and \"\n",
    "        f\"volume of {volume} m^3 is {weight} kg.\"\n",
    "    )\n",
    "finally:\n",
    "    print(\"Calculation finished!\")"
   ]
  },
  {
   "cell_type": "markdown",
   "metadata": {},
   "source": [
    "It is also possible to interact with any exception object. Have a look at the example below, where `e` is the object of the raised exception:"
   ]
  },
  {
   "cell_type": "code",
   "execution_count": 19,
   "metadata": {},
   "outputs": [
    {
     "name": "stdout",
     "output_type": "stream",
     "text": [
      "An exception occurred: Invalid density. Density parameter can only take positive numbers\n"
     ]
    }
   ],
   "source": [
    "weight = 0\n",
    "density = -40\n",
    "volume = 5\n",
    "\n",
    "try:\n",
    "    weight = calculate_weight(density, volume)\n",
    "except ValueError as e:\n",
    "    print(f\"An exception occurred: {e}\")"
   ]
  },
  {
   "cell_type": "markdown",
   "metadata": {},
   "source": [
    "It is possible to have multiple `except` statements in case you are expecting more than 1 type of exceptions to be raised. If an exception is raised, the first `except` clause that catches it will be evaluated.\n",
    "\n",
    "You may be wondering why should we handle multiple exceptions. Depending on the exception raised, we can set up different behaviour for our application. For example, if a `ZeroDivisionError`, the issue is most likely in the user providing arguments, so we could inform them about it specifically. However, if a `ValueError` is thrown, it may be related to our logic. In that case we should be able to investigate the cause of it."
   ]
  },
  {
   "cell_type": "code",
   "execution_count": 20,
   "metadata": {},
   "outputs": [
    {
     "name": "stdout",
     "output_type": "stream",
     "text": [
      "Value error exception was raised!\n"
     ]
    }
   ],
   "source": [
    "weight = 0\n",
    "density = -40\n",
    "volume = 5\n",
    "\n",
    "try:\n",
    "    weight = calculate_weight(density, volume)\n",
    "except ZeroDivisionError:\n",
    "    print(\"Division by zero exception was raised!\")\n",
    "except ValueError:\n",
    "    print(\"Value error exception was raised!\")\n",
    "except TypeError:\n",
    "    print(\"Type error exception was raised!\")"
   ]
  },
  {
   "cell_type": "markdown",
   "metadata": {},
   "source": [
    "## 8.5 Assertions\n",
    "The main purpose of *assertions* is to catch logical errors: we need checks that verify that our code is working correctly.\n",
    "\n",
    "Assertions can be defined by the keyword `assert`. They take an expression that evaluates to a boolean and if its value is `False`, then an `AssertionError` is raised. We can set a message for the raised exception by providing it in the assertion.\n",
    "\n",
    "You can think of assertion statements `assert <condition>, <message>` as equivalent to:\n",
    "```python\n",
    "if not condition:\n",
    "  raise AssertionError(message)\n",
    "```"
   ]
  },
  {
   "cell_type": "markdown",
   "metadata": {},
   "source": [
    "Assertions are very useful for *unit testing* your code. A *unit* can be seen as the smallest piece of code that can be individually tested. In our case, this would mean testing a Python function.\n",
    "\n",
    "It is advisable to make one or multiple test functions that test your code and run those functions every time you make a modification to the *codebase* (i.e., all the code you develop). This can ensure that any new modifications to the existing code do not damage the previous functionalities.\n",
    "\n",
    "Below you can find a few examples using the function from above, where we have correct assertions. Therefore, no exception is occurring. Note that setting a message is not mandatory, but highly recommended for debugging purposes:"
   ]
  },
  {
   "cell_type": "code",
   "execution_count": 21,
   "metadata": {},
   "outputs": [],
   "source": [
    "assert calculate_weight(30, 10) == 300\n",
    "assert calculate_weight(70, 4) == 280, \"The weight of an object with density of 70 kg/m^3 and volume of 4 m^3 should be 280 kg.\"\n",
    "assert calculate_weight(12, 500) == 6000, \"The weight of an object with density of 12 kg/m^3 and volume of 500 m^3 should be 6000 kg.\""
   ]
  },
  {
   "cell_type": "markdown",
   "metadata": {},
   "source": [
    "Below, there is an example of a failing assertion for a function converting Kelvin to Celsius. This assertion should trigger the developer into adjusting the value of the zero_point."
   ]
  },
  {
   "cell_type": "code",
   "execution_count": 22,
   "metadata": {},
   "outputs": [
    {
     "ename": "AssertionError",
     "evalue": "0 Kelvin are equal to -273.15 Celsius",
     "output_type": "error",
     "traceback": [
      "\u001b[1;31m---------------------------------------------------------------------------\u001b[0m",
      "\u001b[1;31mAssertionError\u001b[0m                            Traceback (most recent call last)",
      "Cell \u001b[1;32mIn[22], line 14\u001b[0m\n\u001b[0;32m     11\u001b[0m     zero_point \u001b[38;5;241m=\u001b[39m \u001b[38;5;241m273\u001b[39m\n\u001b[0;32m     12\u001b[0m     \u001b[38;5;28;01mreturn\u001b[39;00m kelvin_temperature\u001b[38;5;241m-\u001b[39mzero_point\n\u001b[1;32m---> 14\u001b[0m \u001b[38;5;28;01massert\u001b[39;00m kelvin_to_celsius(\u001b[38;5;241m0\u001b[39m)\u001b[38;5;241m==\u001b[39m\u001b[38;5;241m-\u001b[39m\u001b[38;5;241m273.15\u001b[39m, \u001b[38;5;124m\"\u001b[39m\u001b[38;5;124m0 Kelvin are equal to -273.15 Celsius\u001b[39m\u001b[38;5;124m\"\u001b[39m\n",
      "\u001b[1;31mAssertionError\u001b[0m: 0 Kelvin are equal to -273.15 Celsius"
     ]
    }
   ],
   "source": [
    "def kelvin_to_celsius(kelvin_temperature):\n",
    "    \"\"\"\n",
    "    Conerts [K] into [°C]\n",
    "\n",
    "    Args:\n",
    "        kelvin_temperature (float): Temperature in [K]\n",
    "\n",
    "    Returns:\n",
    "        float: Temperature in [°C].\n",
    "    \"\"\"\n",
    "    zero_point = 273\n",
    "    return kelvin_temperature-zero_point\n",
    "\n",
    "assert kelvin_to_celsius(0)==-273.15, \"0 Kelvin are equal to -273.15 Celsius\""
   ]
  },
  {
   "cell_type": "markdown",
   "metadata": {},
   "source": [
    "When writing tests we should focus on covering \"boundary\" values. Those are values that are part of a condition statement. For example, in the statement `if weight > 0`, the boundary value is 0. <br>\n",
    "\n",
    "By a rule of thumb, it is customary, to have at least 4 tests for every condition:\n",
    "- one that is on the boundary of condition and evaluates it to `True` (i.e. setting `weight` to 1)\n",
    "- one that is on the boundary and evaluates it to `False` (i.e. setting `weight` to 0)\n",
    "- one that is not on the boundary and evaluates to `True` (i.e. setting `weight` to 100)\n",
    "- one that is not on the boundary and evaluates to `False` (i.e. setting `weight` to -70)\n",
    "\n",
    "Moreover, you should try testing with different types as well. For example, floats or strings to observe the behaviour of your code. Finally, you could also consider testing edge cases, such as: infinity, zero, NAN, empty strings, etc."
   ]
  },
  {
   "cell_type": "markdown",
   "metadata": {},
   "source": [
    "Below you can find several examples of tests for boundary values:\n",
    "\n",
    "Exercise: Try to change any of the values for density and volume to cause an assertion to fail. What do you observe?"
   ]
  },
  {
   "cell_type": "code",
   "execution_count": 23,
   "metadata": {},
   "outputs": [],
   "source": [
    "def test_calculate_weight(calculate_weight):\n",
    "    assert calculate_weight(0, 3) == 0, \"The weight of an object with density of 0 kg/m^3 and volume of 3 m^3 should be 0 kg.\"\n",
    "    assert calculate_weight(50, 0) == 0, \"The weight of an object with density of 50 kg/m^3 and volume of 0 m^3 should be 0 kg.\"\n",
    "    assert calculate_weight(0, 0) == 0, \"The weight of an object with density of 0 kg/m^3 and volume of 0 m^3 should be 0 kg.\"\n",
    "    \n",
    "    assert calculate_weight(100, 1) == 100, \"The weight of an object with density of 100 kg/m^3 and volume of 1 m^3 should be 100 kg.\"\n",
    "    assert calculate_weight(45, 2) == 90, \"The weight of an object with density of 45 kg/m^3 and volume of 2 m^3 should be 90 kg.\"\n",
    "\n",
    "test_calculate_weight(calculate_weight)"
   ]
  },
  {
   "cell_type": "markdown",
   "metadata": {},
   "source": [
    "Suppose that we are dealing with floating point numbers in our calculations and we would like to run test on them. Try running the code below and think whether the result makes sense:"
   ]
  },
  {
   "cell_type": "code",
   "execution_count": 24,
   "metadata": {},
   "outputs": [
    {
     "ename": "AssertionError",
     "evalue": "",
     "output_type": "error",
     "traceback": [
      "\u001b[1;31m---------------------------------------------------------------------------\u001b[0m",
      "\u001b[1;31mAssertionError\u001b[0m                            Traceback (most recent call last)",
      "Cell \u001b[1;32mIn[24], line 1\u001b[0m\n\u001b[1;32m----> 1\u001b[0m \u001b[38;5;28;01massert\u001b[39;00m \u001b[38;5;241m0.1\u001b[39m \u001b[38;5;241m+\u001b[39m \u001b[38;5;241m0.2\u001b[39m \u001b[38;5;241m==\u001b[39m \u001b[38;5;241m0.3\u001b[39m\n",
      "\u001b[1;31mAssertionError\u001b[0m: "
     ]
    }
   ],
   "source": [
    "assert 0.1 + 0.2 == 0.3"
   ]
  },
  {
   "cell_type": "markdown",
   "metadata": {},
   "source": [
    "The assertion above fails due to the fact that we are dealing with floating point numbers. For example, we might be using `0.3` in our calculations, but in practice, `0.30004` could be used instead due to the way floating point numbers are stored in memory. (If interested, have a look at the following link: https://0.30000000000000004.com/).\n",
    "\n",
    "To mitigate this issue, when making assertions for floating point numbers, you can calculate the absolute value of the difference between the expected and actual values and verify that this difference is smaller than some epsilon value:"
   ]
  },
  {
   "cell_type": "code",
   "execution_count": 25,
   "metadata": {},
   "outputs": [],
   "source": [
    "epsilon = 1e-6 # exponential notation for 0.000001\n",
    "assert abs((0.1 + 0.2) - 0.3) < epsilon"
   ]
  }
 ],
 "metadata": {
  "kernelspec": {
   "display_name": "base",
   "language": "python",
   "name": "python3"
  },
  "language_info": {
   "codemirror_mode": {
    "name": "ipython",
    "version": 3
   },
   "file_extension": ".py",
   "mimetype": "text/x-python",
   "name": "python",
   "nbconvert_exporter": "python",
   "pygments_lexer": "ipython3",
   "version": "3.9.18"
  }
 },
 "nbformat": 4,
 "nbformat_minor": 2
}
