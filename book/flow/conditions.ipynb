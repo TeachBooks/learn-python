{
 "cells": [
  {
   "attachments": {},
   "cell_type": "markdown",
   "metadata": {
    "id": "fHmKWsUSKuj4",
    "nbgrader": {
     "grade": false,
     "locked": true,
     "solution": false
    }
   },
   "source": [
    "# Conditions and <code>if</code> statements\n",
    "\n",
    "In previous Sections you have learned how to create variables, alter them with the help of operators and access the code of professional software developers/scientists. With this, you can already do plenty of stuff in Python. However, it still lacks versatility. If you want to apply other processing techniques for other data — you would need to manually rewrite your code and then change it back once the data changes again. Not that handy, right?<br><br>In this Section you will learn how to <i>steer</i> the flow of your code — process data differently based on some conditions. For that you will learn a construction called the <b><code>if</code></b> statement.\n",
    "\n"
   ]
  },
  {
   "attachments": {},
   "cell_type": "markdown",
   "metadata": {
    "id": "oyr90lgAQGtD",
    "nbgrader": {
     "grade": false,
     "locked": true,
     "solution": false
    }
   },
   "source": [
    "## <code>if </code>keyword</h3>\n",
    "\n",
    "The <b><code>if</code></b> statement in Python is similar to how we use it in English. <i>\"If I have apples, I can make an apple pie\"</i> — clearly states that an apple pie will exist under the condition of you having apples. Otherwise, no pie. <br><br>\n",
    "Well, it is the same in Python:"
   ]
  },
  {
   "cell_type": "code",
   "execution_count": 12,
   "metadata": {
    "colab": {
     "base_uri": "https://localhost:8080/"
    },
    "collapsed": true,
    "id": "QGXlz9tvM56U",
    "nbgrader": {
     "grade": false,
     "locked": true,
     "solution": false
    },
    "outputId": "63cc3e01-7c4c-4829-d4b2-9ae08b587791"
   },
   "outputs": [
    {
     "name": "stdout",
     "output_type": "stream",
     "text": [
      "End of the cell block...\n"
     ]
    }
   ],
   "source": [
    "amount_of_apples = 0\n",
    "\n",
    "if amount_of_apples > 0:\n",
    "    print(\"You have apples!\\nLet's make a pie!\")\n",
    "\n",
    "print('End of the cell block...')"
   ]
  },
  {
   "attachments": {},
   "cell_type": "markdown",
   "metadata": {
    "id": "qiElV_BSNYgl",
    "nbgrader": {
     "grade": false,
     "locked": true,
     "solution": false
    }
   },
   "source": [
    "As you can see - nothing is printed besides <i>'End of the cell block...'.<br><br></i>But we can clearly see that there is another print statement! Why it is not printed? Because we have no apples... thus no pie for you.<br><br>Let's acquire some fruit and see whether something will change...\n",
    "\n",
    "Adding 5 apples to our supply:"
   ]
  },
  {
   "cell_type": "code",
   "execution_count": 13,
   "metadata": {
    "colab": {
     "base_uri": "https://localhost:8080/"
    },
    "collapsed": true,
    "id": "ja5Tz_GLNoUH",
    "nbgrader": {
     "grade": false,
     "locked": true,
     "solution": false
    },
    "outputId": "6bd36f78-2958-4bb6-ffcc-420951b3f8ba"
   },
   "outputs": [
    {
     "name": "stdout",
     "output_type": "stream",
     "text": [
      "You have apples!\n",
      "Let's make a pie!\n",
      "End of the cell block...\n"
     ]
    }
   ],
   "source": [
    "amount_of_apples += 5\n",
    "\n",
    "if amount_of_apples > 0:\n",
    "    print(\"You have apples!\\nLet's make a pie!\") \n",
    "\n",
    "print('End of the cell block...')"
   ]
  },
  {
   "attachments": {},
   "cell_type": "markdown",
   "metadata": {
    "id": "UYZHMFlmNyyA",
    "nbgrader": {
     "grade": false,
     "locked": true,
     "solution": false
    }
   },
   "source": [
    "Now you can see that the same <b><code>if</code></b> statement prints text. It happened because our statement <b><code>amount_of_apples > 0</code></b> is now <b><code>True</code></b>.<br><br>That's how an <b><code>if</code></b> statement works — you type the <b><code>if</code></b> keyword, a statement and a colon. Beneath it, with an indentation of 4 spaces (1 tab), you place any code you want to run in case that <b><code>if</code></b> statement is <b><code>True</code></b>. This indentation is the same as described in Notebook 1 when defining a function.<br><br>If the result of the conditional expression is <b><code>False</code></b>, then the code inside of the <b><code>if</code></b> statement block will not run. Here's another example:"
   ]
  },
  {
   "cell_type": "code",
   "execution_count": 14,
   "metadata": {
    "colab": {
     "base_uri": "https://localhost:8080/"
    },
    "collapsed": true,
    "id": "b1eW-x-3QMbZ",
    "nbgrader": {
     "grade": false,
     "locked": true,
     "solution": false
    },
    "outputId": "5d7df045-b19f-432d-e620-30d7cb34f605"
   },
   "outputs": [
    {
     "name": "stdout",
     "output_type": "stream",
     "text": [
      "I'm an adult, I have to work right now :(\n",
      "End of the cell block...\n"
     ]
    }
   ],
   "source": [
    "my_age = 25\n",
    "\n",
    "if my_age >= 18 and my_age <= 65:\n",
    "    print(\"I'm an adult, I have to work right now :(\")\n",
    "\n",
    "print('End of the cell block...')"
   ]
  },
  {
   "attachments": {},
   "cell_type": "markdown",
   "metadata": {
    "id": "7dhdkRKERIz_",
    "nbgrader": {
     "grade": false,
     "locked": true,
     "solution": false
    }
   },
   "source": [
    "Slightly different setting but still the same construction. As you can see in this case, the condition of the <b><code>if</code></b> statement is more complicated than the previous one. It combines two smaller conditions by using the keyword <b><code>and</code></b>. Only if both conditions are <b><code>True</code></b> the final result is <b><code>True</code></b> (otherwise it would be <b><code>False</code></b>).Thus, the condition can be as long and as complicated as you want it to be, just make sure that it is readable."
   ]
  },
  {
   "attachments": {},
   "cell_type": "markdown",
   "metadata": {
    "id": "h3uicp2sTA5x",
    "nbgrader": {
     "grade": false,
     "locked": true,
     "solution": false
    }
   },
   "source": [
    "<h3><code>elif</code> keyword</h3><br>Now, let's add a bit more logic to our last example:"
   ]
  },
  {
   "cell_type": "code",
   "execution_count": 15,
   "metadata": {
    "colab": {
     "base_uri": "https://localhost:8080/"
    },
    "collapsed": true,
    "id": "cZQHBzWcSdn8",
    "nbgrader": {
     "grade": false,
     "locked": true,
     "solution": false
    },
    "outputId": "0fdc9367-527d-4c1c-d4a2-b15d230a0f79"
   },
   "outputs": [
    {
     "name": "stdout",
     "output_type": "stream",
     "text": [
      "I'm an adult, I have to work right now :(\n",
      "End of the cell block...\n"
     ]
    }
   ],
   "source": [
    "my_age = 25\n",
    "\n",
    "if my_age >= 18 and my_age <= 65:\n",
    "    print(\"I'm an adult, I have to work right now :(\")\n",
    "elif my_age > 65:\n",
    "    print(\"I can finally retire!\")\n",
    "\n",
    "print('End of the cell block...')"
   ]
  },
  {
   "attachments": {},
   "cell_type": "markdown",
   "metadata": {
    "id": "_6NOt61ZSufk",
    "nbgrader": {
     "grade": false,
     "locked": true,
     "solution": false
    }
   },
   "source": [
    "Still the same output, but what if we change our age..."
   ]
  },
  {
   "cell_type": "code",
   "execution_count": 16,
   "metadata": {
    "colab": {
     "base_uri": "https://localhost:8080/"
    },
    "collapsed": true,
    "id": "QZ-AGXaJSy7j",
    "nbgrader": {
     "grade": false,
     "locked": true,
     "solution": false
    },
    "outputId": "9208a2bb-328b-4fe0-d1fd-65c443c8902f"
   },
   "outputs": [
    {
     "name": "stdout",
     "output_type": "stream",
     "text": [
      "I can finally retire!\n",
      "End of the cell block...\n"
     ]
    }
   ],
   "source": [
    "my_age = 66\n",
    "\n",
    "if my_age >= 18 and my_age <= 65:\n",
    "    print(\"I'm an adult, I have to work right now :(\") # msg #1\n",
    "elif my_age > 65:\n",
    "    print(\"I can finally retire!\") # msg #2\n",
    "\n",
    "print('End of the cell block...')"
   ]
  },
  {
   "attachments": {},
   "cell_type": "markdown",
   "metadata": {
    "id": "u8RcnX-sTm4G",
    "nbgrader": {
     "grade": false,
     "locked": true,
     "solution": false
    }
   },
   "source": [
    "See.. we have a different output. Changing the value of our variable <b><code>my_age</code></b> changed the output of the <b><code>if</code></b> statement. Furthermore, the <b><code>elif</code></b> keyword helped us to add more logic to our code. Now, we have three different output scenarios:<br>\n",
    "- print message #$1$ if <b><code>my_age</code></b> is within the $[18, 65]$ range;<br>\n",
    "- print message #$2$ if <b><code>my_age</code></b> is bigger than $65$; and, <br>\n",
    "- print none of them if <b><code>my_age</code></b> doesn't comply with none of the conditions (as shown below)."
   ]
  },
  {
   "cell_type": "code",
   "execution_count": 17,
   "metadata": {
    "colab": {
     "base_uri": "https://localhost:8080/"
    },
    "collapsed": true,
    "id": "9r9Mx2gkVyS7",
    "nbgrader": {
     "grade": false,
     "locked": true,
     "solution": false
    },
    "outputId": "4a513321-cca9-4c5e-ee7d-da2157e039d5"
   },
   "outputs": [
    {
     "name": "stdout",
     "output_type": "stream",
     "text": [
      "End of the cell block...\n"
     ]
    }
   ],
   "source": [
    "my_age = 15\n",
    "\n",
    "if my_age >= 18 and my_age <= 65:\n",
    "    print(\"I'm an adult, I have to work right now :(\") # msg #1\n",
    "elif my_age > 65:\n",
    "    print(\"I can finally retire!\") # msg #2\n",
    "\n",
    "print('End of the cell block...')"
   ]
  },
  {
   "attachments": {},
   "cell_type": "markdown",
   "metadata": {
    "id": "1lfzBWNfVwN0",
    "nbgrader": {
     "grade": false,
     "locked": true,
     "solution": false
    }
   },
   "source": [
    "One can also substitute an <code>elif</code> block by a different <code>if</code> block, however it is preferred to use <code>elif</code> instead to <i>\"keep the condition together\"</i> and to reduce code size.<br>\n",
    "\n",
    ":::{warning}\n",
    "It is important to know that there should be only <b>one</b> <code>if</code> block and <b>any number of</b> <code>elif</code> blocks within it.\n",
    ":::\n",
    "\n",
    "A last example below setting ``my_age = 88`` to run the first ``elif`` block and setting ``my_age = 7 `` to run the second ``elif`` block.\n"
   ]
  },
  {
   "cell_type": "code",
   "execution_count": 18,
   "metadata": {
    "colab": {
     "base_uri": "https://localhost:8080/"
    },
    "collapsed": true,
    "id": "0krMMx5DYpeO",
    "nbgrader": {
     "grade": false,
     "locked": true,
     "solution": false
    },
    "outputId": "19ac187f-b814-4aa5-ef91-9db6691ded6c"
   },
   "outputs": [
    {
     "name": "stdout",
     "output_type": "stream",
     "text": [
      "I can finally retire!\n",
      "I'm really really young\n",
      "End of the cell block...\n"
     ]
    }
   ],
   "source": [
    "my_age = 88\n",
    "\n",
    "if my_age >= 18 and my_age <= 65:\n",
    "    print(\"I'm an adult, I have to work right now :(\")\n",
    "elif my_age > 65:\n",
    "    print(\"I can finally retire!\")\n",
    "elif my_age < 10:\n",
    "    print(\"I'm really, really young\")\n",
    "\n",
    "\n",
    "my_age = 7\n",
    "\n",
    "if my_age >= 18 and my_age <= 65:\n",
    "    print(\"I'm an adult, I have to work right now :(\")\n",
    "elif my_age > 65:\n",
    "    print(\"I can finally retire!\")\n",
    "elif my_age < 10:\n",
    "    print(\"I'm really really young\")\n",
    "\n",
    "print('End of the cell block...')"
   ]
  },
  {
   "attachments": {},
   "cell_type": "markdown",
   "metadata": {
    "id": "WGUFngFNV6ys",
    "nbgrader": {
     "grade": false,
     "locked": true,
     "solution": false
    }
   },
   "source": [
    "## <code>else</code> keyword\n",
    "\n",
    "We can go even further and add an additional scenario to our <b><code>if</code></b> statement with the <b><code>else</code></b> keyword. It runs the code inside of it <b>only</b> when none of the <b><code>if</code></b> and <b><code>elif</code></b> conditions are <b><code>True</code></b>:"
   ]
  },
  {
   "cell_type": "code",
   "execution_count": 19,
   "metadata": {
    "colab": {
     "base_uri": "https://localhost:8080/"
    },
    "collapsed": true,
    "id": "ieXD271nW903",
    "nbgrader": {
     "grade": false,
     "locked": true,
     "solution": false
    },
    "outputId": "ff7edbd8-33b5-4b6e-c7e7-657ec1d4e8a0"
   },
   "outputs": [
    {
     "name": "stdout",
     "output_type": "stream",
     "text": [
      "I'm just young\n",
      "End of the cell block...\n"
     ]
    }
   ],
   "source": [
    "my_age = 13\n",
    "\n",
    "if my_age >= 18 and my_age <= 65:\n",
    "    print(\"I'm an adult, I have to work right now :(\")\n",
    "elif my_age > 65:\n",
    "    print(\"I can finally retire!\")\n",
    "elif my_age < 10:\n",
    "    print(\"I'm really really young\")\n",
    "else:\n",
    "    print(\"I'm just young\")\n",
    "\n",
    "print('End of the cell block...')"
   ]
  },
  {
   "attachments": {},
   "cell_type": "markdown",
   "metadata": {
    "id": "5_e10m98XJIn",
    "nbgrader": {
     "grade": false,
     "locked": true,
     "solution": false
    }
   },
   "source": [
    "\n",
    "On the previous example, since <b><code>my_age</code></b> is <b>not</b> between $[18,65]$, <b>nor</b> bigger than $65$, <b>nor</b> smaller than $10$, the <b><code>else</code></b> block is run.\n",
    "\n",
    "Below, a final example setting ``my_age = 27`` to run the ``if`` block, then setting ``my_age = 71 `` to run the first ``elif`` block. To run the second ``elif`` block we set ``my_age = 9 ``. Finally, setting ``my_age = 13 `` to run the ``else`` block."
   ]
  },
  {
   "cell_type": "code",
   "execution_count": 20,
   "metadata": {
    "colab": {
     "base_uri": "https://localhost:8080/"
    },
    "collapsed": true,
    "id": "Qc9WVQTxX76r",
    "nbgrader": {
     "grade": false,
     "locked": true,
     "solution": false
    },
    "outputId": "e4a5e6aa-6ebc-43c0-f7f2-eab350c66a8f"
   },
   "outputs": [
    {
     "name": "stdout",
     "output_type": "stream",
     "text": [
      "I'm an adult, I have to work right now :(\n",
      "End of the cell block...\n",
      "------------------------\n",
      "I can finally retire!\n",
      "End of the cell block...\n",
      "------------------------\n",
      "I'm really really young\n",
      "End of the cell block...\n",
      "------------------------\n",
      "I'm just young\n",
      "End of the cell block...\n",
      "------------------------\n"
     ]
    }
   ],
   "source": [
    "my_age = 27\n",
    "\n",
    "if my_age >= 18 and my_age <= 65:\n",
    "    print(\"I'm an adult, I have to work right now :(\")\n",
    "elif my_age > 65:\n",
    "    print(\"I can finally retire!\")\n",
    "elif my_age < 10:\n",
    "    print(\"I'm really really young\")\n",
    "else:\n",
    "    print(\"I'm just young\")\n",
    "\n",
    "print('End of the cell block...')\n",
    "print('------------------------')\n",
    "\n",
    "my_age = 71\n",
    "\n",
    "if my_age >= 18 and my_age <= 65:\n",
    "    print(\"I'm an adult, I have to work right now :(\")\n",
    "elif my_age > 65: # first elif block\n",
    "    print(\"I can finally retire!\")\n",
    "elif my_age < 10:\n",
    "    print(\"I'm really really young\")\n",
    "else:\n",
    "    print(\"I'm just young\")\n",
    "\n",
    "print('End of the cell block...')\n",
    "print('------------------------')\n",
    "\n",
    "\n",
    "my_age = 9\n",
    "\n",
    "if my_age >= 18 and my_age <= 65:\n",
    "    print(\"I'm an adult, I have to work right now :(\")\n",
    "elif my_age > 65:\n",
    "    print(\"I can finally retire!\")\n",
    "elif my_age < 10: # second elif block\n",
    "    print(\"I'm really really young\")\n",
    "else:\n",
    "    print(\"I'm just young\")\n",
    "\n",
    "print('End of the cell block...')\n",
    "print('------------------------')\n",
    "\n",
    "\n",
    "my_age = 13\n",
    "\n",
    "if my_age >= 18 and my_age <= 65:\n",
    "    print(\"I'm an adult, I have to work right now :(\")\n",
    "elif my_age > 65:\n",
    "    print(\"I can finally retire!\")\n",
    "elif my_age < 10:\n",
    "    print(\"I'm really really young\")\n",
    "else: # else block\n",
    "    print(\"I'm just young\")\n",
    "\n",
    "print('End of the cell block...')\n",
    "print('------------------------')"
   ]
  },
  {
   "attachments": {},
   "cell_type": "markdown",
   "metadata": {
    "id": "xAytN9YkYOtw",
    "nbgrader": {
     "grade": false,
     "locked": true,
     "solution": false
    }
   },
   "source": [
    "That's almost everything you have to know about <b><code>if</code></b> statements! The last two things are:\n",
    "\n",
    "1. It goes from top to bottom. When the first condition to be <b><code>True</code></b> runs, it skips all conditions after it — as shown below:"
   ]
  },
  {
   "cell_type": "code",
   "execution_count": 21,
   "metadata": {
    "colab": {
     "base_uri": "https://localhost:8080/"
    },
    "collapsed": true,
    "id": "clMld7oKa0n7",
    "nbgrader": {
     "grade": false,
     "locked": true,
     "solution": false
    },
    "outputId": "5cfedbfb-f653-4d90-abd0-658353746aea"
   },
   "outputs": [
    {
     "name": "stdout",
     "output_type": "stream",
     "text": [
      "Condition #3\n"
     ]
    }
   ],
   "source": [
    "random_number = 17\n",
    "\n",
    "if random_number > 35:\n",
    "    print('Condition #1')\n",
    "elif random_number > 25:\n",
    "    print('Condition #2')\n",
    "elif random_number > 15:\n",
    "    print('Condition #3')\n",
    "elif random_number > 5:\n",
    "    print('Condition #4')\n",
    "else:\n",
    "    print('Condition #5')"
   ]
  },
  {
   "attachments": {},
   "cell_type": "markdown",
   "metadata": {
    "id": "rfwRtedNbVs8",
    "nbgrader": {
     "grade": false,
     "locked": true,
     "solution": false
    }
   },
   "source": [
    "2. You can put almost everything inside each condition block and you can define variables within each block:"
   ]
  },
  {
   "cell_type": "code",
   "execution_count": 22,
   "metadata": {
    "colab": {
     "base_uri": "https://localhost:8080/",
     "height": 242
    },
    "collapsed": true,
    "id": "5II4-Zcvbf3j",
    "nbgrader": {
     "grade": false,
     "locked": true,
     "solution": false
    },
    "outputId": "cb2f7c29-2970-48a2-eacc-56d6e3f1a829"
   },
   "outputs": [
    {
     "name": "stdout",
     "output_type": "stream",
     "text": [
      "I am a poor BSc student\n",
      "x = 5\n"
     ]
    },
    {
     "ename": "NameError",
     "evalue": "name 'b' is not defined",
     "output_type": "error",
     "traceback": [
      "\u001b[1;31m---------------------------------------------------------------------------\u001b[0m",
      "\u001b[1;31mNameError\u001b[0m                                 Traceback (most recent call last)",
      "Cell \u001b[1;32mIn[22], line 20\u001b[0m\n\u001b[0;32m     17\u001b[0m         \u001b[39mprint\u001b[39m(\u001b[39m'\u001b[39m\u001b[39mI am a poor MSc student\u001b[39m\u001b[39m'\u001b[39m)\n\u001b[0;32m     19\u001b[0m \u001b[39mprint\u001b[39m(\u001b[39m'\u001b[39m\u001b[39mx =\u001b[39m\u001b[39m'\u001b[39m, x)\n\u001b[1;32m---> 20\u001b[0m \u001b[39mprint\u001b[39m(\u001b[39m'\u001b[39m\u001b[39mb =\u001b[39m\u001b[39m'\u001b[39m, b)\n",
      "\u001b[1;31mNameError\u001b[0m: name 'b' is not defined"
     ]
    }
   ],
   "source": [
    "my_income = 150\n",
    "my_degree = 'BSc'\n",
    "\n",
    "if my_degree == 'BSc':\n",
    "    x = 5\n",
    "    if my_income > 300:\n",
    "        b = 2\n",
    "        print('I am a rich BSc student')\n",
    "    else:\n",
    "        print('I am a poor BSc student')\n",
    "\n",
    "elif my_degree == 'MSc':\n",
    "\n",
    "    if my_income > 300:\n",
    "        print('I am a rich MSc student')\n",
    "    else:\n",
    "        print('I am a poor MSc student')\n",
    "\n",
    "print('x =', x)\n",
    "print('b =', b)"
   ]
  },
  {
   "attachments": {},
   "cell_type": "markdown",
   "metadata": {
    "id": "9nDrNWr2cjMd",
    "nbgrader": {
     "grade": false,
     "locked": true,
     "solution": false
    }
   },
   "source": [
    "As you can see, we can make it as complicated as we want in terms of conditional branching.<br><br>Additionally, you can see that only variables within the blocks which run were created, while other variables were not. Thus, we have a <i>NameError</i> that we tried to access a variable <b><code>(b)</code></b> that was not defined."
   ]
  }
 ],
 "metadata": {
  "colab": {
   "collapsed_sections": [],
   "name": "Python_2_1.ipynb",
   "provenance": []
  },
  "kernelspec": {
   "display_name": "base",
   "language": "python",
   "name": "python3"
  },
  "language_info": {
   "codemirror_mode": {
    "name": "ipython",
    "version": 3
   },
   "file_extension": ".py",
   "mimetype": "text/x-python",
   "name": "python",
   "nbconvert_exporter": "python",
   "pygments_lexer": "ipython3",
   "version": "3.8.13"
  }
 },
 "nbformat": 4,
 "nbformat_minor": 1
}
