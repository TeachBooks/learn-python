{
 "cells": [
  {
   "attachments": {},
   "cell_type": "markdown",
   "metadata": {
    "id": "fHmKWsUSKuj4",
    "nbgrader": {
     "grade": false,
     "locked": true,
     "solution": false
    }
   },
   "source": [
    "# Data Structures\n",
    "\n",
    "In this Section you will tackle a data management problem! In the first module you have learned how to create variables, which is cool. But when you populate a lot of variables, or you want to store & access them within one entity, you need to have a data structure.<br><br>There are plenty of them, which differ their use cases and complexity. Today we will tackle some of the standard Python built-in data structures. The most popular of those are: <b><code>list</code></b>, <b><code>dict</code></b> and <b><code>tuple</code></b>."
   ]
  },
  {
   "attachments": {},
   "cell_type": "markdown",
   "metadata": {
    "id": "BcEOnv2kTT9A",
    "nbgrader": {
     "grade": false,
     "locked": true,
     "solution": false
    }
   },
   "source": [
    "### <code>list</code>\n",
    "\n",
    "First, the easiest and the most popular data structure in Python: <b><code>list</code></b> (which is similar to a typical array you could have seen in a different programming language).<br><br>\n",
    "You can create a list in the following ways:\n",
    "\n",
    "1. Creating an empty list, option 1\n",
    "2. Creating an empty list, option 2 - using the class constructor\n",
    "3. Creating a list from existing data - option 1\n",
    "4. Creating a list from existing data - option 2"
   ]
  },
  {
   "cell_type": "code",
   "execution_count": 2,
   "metadata": {
    "colab": {
     "base_uri": "https://localhost:8080/"
    },
    "collapsed": true,
    "id": "U8OUPaXESz44",
    "nbgrader": {
     "grade": false,
     "locked": true,
     "solution": false
    },
    "outputId": "ee38751f-5efe-4a85-a9a9-a34efc3bfb02"
   },
   "outputs": [
    {
     "name": "stdout",
     "output_type": "stream",
     "text": [
      "Type of my_list1 object <class 'list'>\n",
      "Contents of my_list1 []\n",
      "--------------------\n",
      "Type of my_list2 object <class 'list'>\n",
      "Contents of my_list2 []\n",
      "--------------------\n",
      "Type of my_list3 object <class 'list'>\n",
      "Contents of my_list3 [5, 'hello', 37.5]\n",
      "--------------------\n",
      "Type of my_list3 object <class 'list'>\n",
      "Contents of list_with_letters ['s', 'a', 'n', 'd', 's', 't', 'o', 'n', 'e']\n",
      "--------------------\n"
     ]
    }
   ],
   "source": [
    "#1\n",
    "empty_list1 = []\n",
    "print('Type of my_list1 object', type(empty_list1))\n",
    "print('Contents of my_list1', empty_list1)\n",
    "print('--------------------')\n",
    "\n",
    "#2\n",
    "empty_list2 = list()\n",
    "print('Type of my_list2 object', type(empty_list2))\n",
    "print('Contents of my_list2', empty_list2)\n",
    "print('--------------------')\n",
    "\n",
    "#3\n",
    "my_var1 = 5\n",
    "my_var2 = \"hello\"\n",
    "my_var3 = 37.5\n",
    "\n",
    "my_list = [my_var1, my_var2, my_var3]\n",
    "print('Type of my_list3 object', type(my_list))\n",
    "print('Contents of my_list3', my_list)\n",
    "print('--------------------')\n",
    "\n",
    "\n",
    "#4\n",
    "cool_rock = \"sandstone\" # remember that a string is a collection of characters\n",
    "\n",
    "list_with_letters = list(cool_rock)\n",
    "\n",
    "print('Type of my_list3 object', type(list_with_letters))\n",
    "print('Contents of list_with_letters', list_with_letters)\n",
    "print('--------------------')\n"
   ]
  },
  {
   "attachments": {},
   "cell_type": "markdown",
   "metadata": {
    "id": "I-9MNCzBUgH9",
    "nbgrader": {
     "grade": false,
     "locked": true,
     "solution": false
    }
   },
   "source": [
    "As you can see, in all three cases we created a list, only the method how we did it was slightly different:\n",
    "- the first method uses the bracket notation.\n",
    "- the second method uses class constructor approach. \n",
    "\n",
    "Both methods also apply to the other data structures.\n",
    "\n",
    "Now, we have a list — what can we do with it?\n",
    "\n",
    "Well... we can access and modify any element of an existing list. In order to access a list element, square brackets <b><code>[]</code></b> are used with the index of the element we want to access inside. Sounds easy, but keep in mind that Python has a zero-based indexing (as mentioned in Section 1.4 in Notebook 1).\n",
    "\n",
    ":::{note}\n",
    "A zero-based indexing means that the first element has index 0 (not 1), the second element has index 1 (not 2) and the n-th element has index n - 1 (not n)!\n",
    ":::"
   ]
  },
  {
   "attachments": {},
   "cell_type": "markdown",
   "metadata": {},
   "source": [
    "The ``len()` function returns the lengths of an iterable (string, list, array, etc). Since we have 3 elements, thus we can access 0th, 1st, and 2nd elements. \n",
    "\n",
    "After the element is accessed, it can be used as any variable, the list only provides a convenient storage. Since it is a storage - we can easily alter and swap list elements"
   ]
  },
  {
   "cell_type": "code",
   "execution_count": 3,
   "metadata": {
    "colab": {
     "base_uri": "https://localhost:8080/",
     "height": 295
    },
    "collapsed": true,
    "id": "CksNFv0AVmLw",
    "nbgrader": {
     "grade": false,
     "locked": true,
     "solution": false
    },
    "outputId": "bbddff89-959c-4065-89a5-04500ceedf91"
   },
   "outputs": [
    {
     "name": "stdout",
     "output_type": "stream",
     "text": [
      "3\n",
      "First element of my list: 5\n",
      "Last element of my list: 37.5\n",
      "Sum of 5 and 37.5 is 42.5\n",
      "[12, 'My new element', 37.5]\n"
     ]
    }
   ],
   "source": [
    "print(len(my_list))\n",
    "print('First element of my list:', my_list[0])\n",
    "print('Last element of my list:', my_list[2])\n",
    "\n",
    "summation = my_list[0] + my_list[2]\n",
    "print(f'Sum of {my_list[0]} and {my_list[2]} is {summation}')\n",
    "\n",
    "\n",
    "my_list[0] += 7\n",
    "my_list[1] = \"My new element\"\n",
    "\n",
    "print(my_list)\n"
   ]
  },
  {
   "attachments": {},
   "cell_type": "markdown",
   "metadata": {},
   "source": [
    "we can only access data we have - Python will give us an error for the following"
   ]
  },
  {
   "cell_type": "code",
   "execution_count": 4,
   "metadata": {},
   "outputs": [
    {
     "ename": "IndexError",
     "evalue": "list assignment index out of range",
     "output_type": "error",
     "traceback": [
      "\u001b[1;31m---------------------------------------------------------------------------\u001b[0m",
      "\u001b[1;31mIndexError\u001b[0m                                Traceback (most recent call last)",
      "Cell \u001b[1;32mIn[4], line 1\u001b[0m\n\u001b[1;32m----> 1\u001b[0m my_list[\u001b[39m10\u001b[39m] \u001b[39m=\u001b[39m \u001b[39m199\u001b[39m\n",
      "\u001b[1;31mIndexError\u001b[0m: list assignment index out of range"
     ]
    }
   ],
   "source": [
    "my_list[10] = 199"
   ]
  },
  {
   "attachments": {},
   "cell_type": "markdown",
   "metadata": {
    "id": "zxkLDWef7IM-",
    "nbgrader": {
     "grade": false,
     "locked": true,
     "solution": false
    }
   },
   "source": [
    "We can also add new elements to a list, or remove them! Adding is realized with the <b><code>append</code></b> method and removal of an element uses the <b><code>del</code></b> keyword. We can also store a list inside a list - list inception! Useful for matrices, images etc. "
   ]
  },
  {
   "cell_type": "code",
   "execution_count": 5,
   "metadata": {
    "colab": {
     "base_uri": "https://localhost:8080/"
    },
    "collapsed": true,
    "id": "Yos0Cl9C7W1H",
    "nbgrader": {
     "grade": false,
     "locked": true,
     "solution": false
    },
    "outputId": "ba48887c-c2ff-4fc6-a231-68543e8bf97a"
   },
   "outputs": [
    {
     "name": "stdout",
     "output_type": "stream",
     "text": [
      "[12, 'My new element', 37.5, 'new addition to  my variable collection!']\n",
      "[12, 'My new element', 37.5, 'new addition to  my variable collection!', ['another list', False, (1+2j)]]\n",
      "[12, 'My new element', 'new addition to  my variable collection!', ['another list', False, (1+2j)]]\n"
     ]
    }
   ],
   "source": [
    "my_list.append(\"new addition to  my variable collection!\")\n",
    "print(my_list)\n",
    "\n",
    "my_list.append(['another list', False, 1 + 2j])\n",
    "print(my_list)\n",
    "\n",
    "del my_list[2]\n",
    "print(my_list)"
   ]
  },
  {
   "attachments": {},
   "cell_type": "markdown",
   "metadata": {
    "id": "WZgLxAbJ8icK",
    "nbgrader": {
     "grade": false,
     "locked": true,
     "solution": false
    }
   },
   "source": [
    "Lists also have other useful functionalities, as you can see from the <a href=\"https://docs.python.org/3/tutorial/datastructures.html\">official documentation</a>. Since lists are still objects you can try and apply some operations to them as well."
   ]
  },
  {
   "cell_type": "code",
   "execution_count": 6,
   "metadata": {
    "colab": {
     "base_uri": "https://localhost:8080/"
    },
    "collapsed": true,
    "id": "UEBv_4u09K9T",
    "nbgrader": {
     "grade": false,
     "locked": true,
     "solution": false
    },
    "outputId": "96987502-088b-48d8-d114-2b9967f2de78"
   },
   "outputs": [
    {
     "name": "stdout",
     "output_type": "stream",
     "text": [
      "[2, 4, False, 'second list', 0, 222]\n",
      "['second list', 0, 222, 'second list', 0, 222, 'second list', 0, 222, 'second list', 0, 222]\n",
      "['second list', 0, 222, 5050, 0, 222, 'second list', 0, 222, 'second list', 0, 222]\n"
     ]
    }
   ],
   "source": [
    "lst1 = [2, 4, False]\n",
    "lst2 = ['second list', 0, 222]\n",
    "\n",
    "lst1 = lst1 + lst2\n",
    "print(lst1)\n",
    "\n",
    "lst2 = lst2 * 4\n",
    "print(lst2)\n",
    "\n",
    "lst2[3] = 5050\n",
    "print(lst2)"
   ]
  },
  {
   "attachments": {},
   "cell_type": "markdown",
   "metadata": {
    "id": "SVvYBl6H96du",
    "nbgrader": {
     "grade": false,
     "locked": true,
     "solution": false
    }
   },
   "source": [
    "As you can see, adding lists together concatenates them and multiplying them basically does the same thing (it performs addition several times, just like in real math...).<br><br> Additionally, you can also use the <b><code>in</code></b> keyword to check the presence of a value inside a list."
   ]
  },
  {
   "cell_type": "code",
   "execution_count": null,
   "metadata": {
    "colab": {
     "base_uri": "https://localhost:8080/"
    },
    "collapsed": true,
    "id": "15hwh0COFf-p",
    "nbgrader": {
     "grade": false,
     "locked": true,
     "solution": false
    },
    "outputId": "2b3d16c6-9487-49ea-a6f6-8ffb989ac95c"
   },
   "outputs": [],
   "source": [
    "print(lst1)\n",
    "\n",
    "if 222 in lst1:\n",
    "    print('We found 222 inside lst1')\n",
    "else:\n",
    "    print('Nope, nothing there....')"
   ]
  },
  {
   "attachments": {},
   "cell_type": "markdown",
   "metadata": {
    "id": "NAJZYyQd-fG2",
    "nbgrader": {
     "grade": false,
     "locked": true,
     "solution": false
    }
   },
   "source": [
    "### <code>tuple</code>\n",
    "\n",
    "If you understood how <code>list</code> works, then you already understand 95% of <b><code>tuple</code></b>. Tuples are just like lists, with some small differences.<br><br>1.   In order to create a tuple you need to use <b><code>()</code></b> brackets, comma or a <b><code>tuple</code></b> class constructor.<br>2.   You can change the content of your list, however tuples are immutable (just like strings).\n",
    "\n"
   ]
  },
  {
   "cell_type": "code",
   "execution_count": 7,
   "metadata": {
    "colab": {
     "base_uri": "https://localhost:8080/",
     "height": 313
    },
    "collapsed": true,
    "id": "QnEd7YSsE2Ih",
    "nbgrader": {
     "grade": false,
     "locked": true,
     "solution": false
    },
    "outputId": "1a2e1b57-dbff-4c7d-d7c4-8968fecf67a1"
   },
   "outputs": [
    {
     "name": "stdout",
     "output_type": "stream",
     "text": [
      "Type of tupl1 <class 'tuple'>\n",
      "Content of tupl1 ()\n",
      "<class 'tuple'> ()\n"
     ]
    }
   ],
   "source": [
    "#1\n",
    "tupl1 = tuple() \n",
    "print('Type of tupl1', type(tupl1))\n",
    "print('Content of tupl1', tupl1)\n",
    "#2\n",
    "tupl2 = () # option 2 with ()\n",
    "print(type(tupl2), tupl2)"
   ]
  },
  {
   "attachments": {},
   "cell_type": "markdown",
   "metadata": {},
   "source": [
    "Creating a non-empty tuple using brackets or # Creating a non-empty tuple using comma. Can we change an element of a tuple?"
   ]
  },
  {
   "cell_type": "code",
   "execution_count": 8,
   "metadata": {
    "collapsed": true,
    "nbgrader": {
     "grade": false,
     "locked": true,
     "solution": false
    }
   },
   "outputs": [
    {
     "name": "stdout",
     "output_type": "stream",
     "text": [
      "my tuple (26.5, 'Oil', False, 'some additional stuff', 777)\n",
      "A comma made tuple (2, 'hi!', 228)\n",
      "4th element of my_tuple: some additional stuff\n"
     ]
    },
    {
     "ename": "TypeError",
     "evalue": "'tuple' object does not support item assignment",
     "output_type": "error",
     "traceback": [
      "\u001b[1;31m---------------------------------------------------------------------------\u001b[0m",
      "\u001b[1;31mTypeError\u001b[0m                                 Traceback (most recent call last)",
      "Cell \u001b[1;32mIn[8], line 13\u001b[0m\n\u001b[0;32m     10\u001b[0m \u001b[39mprint\u001b[39m(\u001b[39m'\u001b[39m\u001b[39mA comma made tuple\u001b[39m\u001b[39m'\u001b[39m, comma_tuple)\n\u001b[0;32m     12\u001b[0m \u001b[39mprint\u001b[39m(\u001b[39m'\u001b[39m\u001b[39m4th element of my_tuple:\u001b[39m\u001b[39m'\u001b[39m, my_tuple[\u001b[39m3\u001b[39m])\n\u001b[1;32m---> 13\u001b[0m my_tuple[\u001b[39m3\u001b[39m] \u001b[39m=\u001b[39m \u001b[39m'\u001b[39m\u001b[39mwill I change?\u001b[39m\u001b[39m'\u001b[39m\n",
      "\u001b[1;31mTypeError\u001b[0m: 'tuple' object does not support item assignment"
     ]
    }
   ],
   "source": [
    "my_var1 = 26.5\n",
    "my_var2 = 'Oil'\n",
    "my_var3 = False\n",
    "\n",
    "my_tuple = (my_var1, my_var2, my_var3, 'some additional stuff', 777)\n",
    "print('my tuple', my_tuple)\n",
    "\n",
    "\n",
    "comma_tuple = 2, 'hi!', 228\n",
    "print('A comma made tuple', comma_tuple)\n",
    "\n",
    "print('4th element of my_tuple:', my_tuple[3])\n",
    "my_tuple[3] = 'will I change?'"
   ]
  },
  {
   "attachments": {},
   "cell_type": "markdown",
   "metadata": {
    "id": "1RxahCCiHJRl",
    "nbgrader": {
     "grade": false,
     "locked": true,
     "solution": false
    }
   },
   "source": [
    "Since tuples are immutable, it has no <b><code>append()</code></b> method nor any other methods that alter the object they target.\n",
    "\n",
    "You might think that tuple is a useless class. However, there are some reasons for it to exist:\n",
    "\n",
    "1.Storing constants & objects which shouldn't be changed.\n",
    "2.Saving memory (tuple uses less memory to store the same data than a list). ``.__sizeof__()`` determines the size of a variable in bytes.\n",
    "\n"
   ]
  },
  {
   "cell_type": "code",
   "execution_count": 9,
   "metadata": {
    "colab": {
     "base_uri": "https://localhost:8080/"
    },
    "collapsed": true,
    "id": "A9cA-BpNIMzd",
    "nbgrader": {
     "grade": false,
     "locked": true,
     "solution": false
    },
    "outputId": "d7100baa-0a2c-4498-b8c0-01d1733e732f"
   },
   "outputs": [
    {
     "name": "stdout",
     "output_type": "stream",
     "text": [
      "size of a = 48 bytes\n",
      "size of b = 64 bytes\n"
     ]
    }
   ],
   "source": [
    "my_name = 'Vasyan'\n",
    "my_age = 27\n",
    "is_student = True\n",
    "\n",
    "a = (my_name, my_age, is_student)\n",
    "b = [my_name, my_age, is_student]\n",
    "\n",
    "print('size of a =', a.__sizeof__(), 'bytes') \n",
    "print('size of b =', b.__sizeof__(), 'bytes')"
   ]
  },
  {
   "attachments": {},
   "cell_type": "markdown",
   "metadata": {
    "id": "IYyveiZJJOTZ",
    "nbgrader": {
     "grade": false,
     "locked": true,
     "solution": false
    }
   },
   "source": [
    "### <code>dict</code>\n",
    "\n",
    "After seeing lists and tuples, you may think: <br><br>\"Wow, storing all my variables within another variable is cool and gnarly! But... sometimes it's boring & inconvenient to access my data by using it's position within a tuple/list. Is there a way that I can store my object within a data structure but access it via something meaningful, like a keyword...?\"<br><br>Don't worry if you had this exact same thought.. Python had it as well!<br><br>Dictionaries are suited especially for that purpose — to each element you want to store, you give it a nickname (i.e., a key) and use that key to access the value you want.\n",
    "\n",
    "To create an empty dictionary we used ``{}`` or class constructor ``dict()``"
   ]
  },
  {
   "cell_type": "code",
   "execution_count": 10,
   "metadata": {
    "colab": {
     "base_uri": "https://localhost:8080/"
    },
    "collapsed": true,
    "id": "r5vjDJ8CKaT8",
    "nbgrader": {
     "grade": false,
     "locked": true,
     "solution": false
    },
    "outputId": "46ee6315-d5a5-40a5-8db3-175a681dbf0c"
   },
   "outputs": [
    {
     "name": "stdout",
     "output_type": "stream",
     "text": [
      "Type of empty_dict1 <class 'dict'>\n",
      "Content of it -> {}\n",
      "Type of empty_dict2 <class 'dict'>\n",
      "Content of it -> {}\n"
     ]
    }
   ],
   "source": [
    "empty_dict1 = {}\n",
    "print('Type of empty_dict1', type(empty_dict1))\n",
    "print('Content of it ->', empty_dict1)\n",
    "\n",
    "\n",
    "empty_dict2 = dict()\n",
    "print('Type of empty_dict2', type(empty_dict2))\n",
    "print('Content of it ->', empty_dict2)"
   ]
  },
  {
   "attachments": {},
   "cell_type": "markdown",
   "metadata": {},
   "source": [
    "To create a non-empty dictionary we specify pairs of **key:value** pattern"
   ]
  },
  {
   "cell_type": "code",
   "execution_count": 13,
   "metadata": {
    "collapsed": true,
    "nbgrader": {
     "grade": false,
     "locked": true,
     "solution": false
    }
   },
   "outputs": [
    {
     "name": "stdout",
     "output_type": "stream",
     "text": [
      "Content of my_dict>>> {'name': 'Jarno', 'color': 'red', 'year': 2007, 'is cool': True, 6: 'it works', (2, 22): 'that is a strange key'}\n"
     ]
    }
   ],
   "source": [
    "my_dict = {\n",
    "    'name': 'Jarno',\n",
    "    'color': 'red',\n",
    "    'year': 2007,\n",
    "    'is cool': True,\n",
    "    6: 'it works',\n",
    "    (2, 22): 'that is a strange key'\n",
    "}\n",
    "\n",
    "print('Content of my_dict>>>', my_dict)"
   ]
  },
  {
   "attachments": {},
   "cell_type": "markdown",
   "metadata": {
    "id": "2tQEahKqM9p8",
    "nbgrader": {
     "grade": false,
     "locked": true,
     "solution": false
    }
   },
   "source": [
    "In the last example, you can see that only strings, numbers, or tuples were used as keys. Dictionaries can only use immutable data (or numbers) as keys:"
   ]
  },
  {
   "cell_type": "code",
   "execution_count": 14,
   "metadata": {
    "colab": {
     "base_uri": "https://localhost:8080/",
     "height": 242
    },
    "collapsed": true,
    "id": "V38R-AweNbF7",
    "nbgrader": {
     "grade": false,
     "locked": true,
     "solution": false
    },
    "outputId": "6039cc3b-8d72-4f23-986f-e1027265aec5"
   },
   "outputs": [
    {
     "ename": "TypeError",
     "evalue": "unhashable type: 'list'",
     "output_type": "error",
     "traceback": [
      "\u001b[1;31m---------------------------------------------------------------------------\u001b[0m",
      "\u001b[1;31mTypeError\u001b[0m                                 Traceback (most recent call last)",
      "Cell \u001b[1;32mIn[14], line 1\u001b[0m\n\u001b[1;32m----> 1\u001b[0m mutable_key_dict \u001b[39m=\u001b[39m {\n\u001b[0;32m      2\u001b[0m     \u001b[39m5\u001b[39m: \u001b[39m'\u001b[39m\u001b[39mlets try\u001b[39m\u001b[39m'\u001b[39m,\n\u001b[0;32m      3\u001b[0m     \u001b[39mTrue\u001b[39;00m: \u001b[39m'\u001b[39m\u001b[39mI hope it will run perfectly\u001b[39m\u001b[39m'\u001b[39m,\n\u001b[0;32m      4\u001b[0m     \u001b[39m6.78\u001b[39m: \u001b[39m'\u001b[39m\u001b[39mheh\u001b[39m\u001b[39m'\u001b[39m,\n\u001b[0;32m      5\u001b[0m     [\u001b[39m'\u001b[39m\u001b[39mNo problemo\u001b[39m\u001b[39m'\u001b[39m, \u001b[39m'\u001b[39m\u001b[39mright?\u001b[39m\u001b[39m'\u001b[39m]: \u001b[39mFalse\u001b[39;00m  \n\u001b[0;32m      6\u001b[0m }\n\u001b[0;32m      8\u001b[0m \u001b[39mprint\u001b[39m(mutable_key_dict)\n",
      "\u001b[1;31mTypeError\u001b[0m: unhashable type: 'list'"
     ]
    }
   ],
   "source": [
    "mutable_key_dict = {\n",
    "    5: 'lets try',\n",
    "    True: 'I hope it will run perfectly',\n",
    "    6.78: 'heh',\n",
    "    ['No problemo', 'right?']: False  \n",
    "}\n",
    "\n",
    "print(mutable_key_dict)"
   ]
  },
  {
   "attachments": {},
   "cell_type": "markdown",
   "metadata": {
    "id": "erVQ8Yy6OFzW",
    "nbgrader": {
     "grade": false,
     "locked": true,
     "solution": false
    }
   },
   "source": [
    "Alright, now it is time to access the data we have managed to store inside <b><code>my_dict</code></b> using keys!\n"
   ]
  },
  {
   "cell_type": "code",
   "execution_count": 15,
   "metadata": {
    "colab": {
     "base_uri": "https://localhost:8080/",
     "height": 313
    },
    "collapsed": true,
    "id": "4_s_--xzORQx",
    "nbgrader": {
     "grade": false,
     "locked": true,
     "solution": false
    },
    "outputId": "d2dcabbb-057f-41e2-d54c-07d8ca3aa344"
   },
   "outputs": [
    {
     "name": "stdout",
     "output_type": "stream",
     "text": [
      "Some random content of my_dict Jarno that is a strange key\n"
     ]
    }
   ],
   "source": [
    "print('Some random content of my_dict', my_dict['name'], my_dict[(2, 22)])"
   ]
  },
  {
   "attachments": {},
   "cell_type": "markdown",
   "metadata": {},
   "source": [
    "Remember the mutable key dict? Let's make it work by omitting the list item."
   ]
  },
  {
   "cell_type": "code",
   "execution_count": 16,
   "metadata": {
    "collapsed": true,
    "nbgrader": {
     "grade": false,
     "locked": true,
     "solution": false
    }
   },
   "outputs": [
    {
     "name": "stdout",
     "output_type": "stream",
     "text": [
      "Accessing weird dictionary...\n",
      "I hope it will run perfectly\n",
      "lets try\n",
      "heh\n"
     ]
    }
   ],
   "source": [
    "mutable_key_dict = {\n",
    "    5: 'lets try',\n",
    "    True: 'I hope it will run perfectly',\n",
    "    6.78: 'heh'\n",
    "}\n",
    "\n",
    "\n",
    "print('Accessing weird dictionary...')\n",
    "print(mutable_key_dict[True])\n",
    "print(mutable_key_dict[5])\n",
    "print(mutable_key_dict[6.78])"
   ]
  },
  {
   "attachments": {},
   "cell_type": "markdown",
   "metadata": {},
   "source": [
    "Trying to access something we have and something we don't have"
   ]
  },
  {
   "cell_type": "code",
   "execution_count": 17,
   "metadata": {
    "collapsed": true,
    "nbgrader": {
     "grade": false,
     "locked": true,
     "solution": false
    }
   },
   "outputs": [
    {
     "name": "stdout",
     "output_type": "stream",
     "text": [
      "My favorite year is 2007\n"
     ]
    },
    {
     "ename": "KeyError",
     "evalue": "'song'",
     "output_type": "error",
     "traceback": [
      "\u001b[1;31m---------------------------------------------------------------------------\u001b[0m",
      "\u001b[1;31mKeyError\u001b[0m                                  Traceback (most recent call last)",
      "Cell \u001b[1;32mIn[17], line 2\u001b[0m\n\u001b[0;32m      1\u001b[0m \u001b[39mprint\u001b[39m(\u001b[39m'\u001b[39m\u001b[39mMy favorite year is\u001b[39m\u001b[39m'\u001b[39m, my_dict[\u001b[39m'\u001b[39m\u001b[39myear\u001b[39m\u001b[39m'\u001b[39m])\n\u001b[1;32m----> 2\u001b[0m \u001b[39mprint\u001b[39m(\u001b[39m'\u001b[39m\u001b[39mMy favorite song is\u001b[39m\u001b[39m'\u001b[39m, my_dict[\u001b[39m'\u001b[39;49m\u001b[39msong\u001b[39;49m\u001b[39m'\u001b[39;49m])\n",
      "\u001b[1;31mKeyError\u001b[0m: 'song'"
     ]
    }
   ],
   "source": [
    "print('My favorite year is', my_dict['year'])\n",
    "print('My favorite song is', my_dict['song'])"
   ]
  },
  {
   "attachments": {},
   "cell_type": "markdown",
   "metadata": {
    "id": "mVmNASbEPw27",
    "nbgrader": {
     "grade": false,
     "locked": true,
     "solution": false
    }
   },
   "source": [
    ":::{warning} \n",
    "It is best practice to use mainly <i><b>strings</b></i> as keys — the other options are weird and are almost never used.\n",
    ":::\n",
    "\n",
    "What's next? Dictionaries are mutable, so let's go ahead and add some additional data and delete old ones."
   ]
  },
  {
   "cell_type": "code",
   "execution_count": 34,
   "metadata": {
    "colab": {
     "base_uri": "https://localhost:8080/"
    },
    "collapsed": true,
    "id": "C2Tm8iaXQ4ej",
    "nbgrader": {
     "grade": false,
     "locked": true,
     "solution": false
    },
    "outputId": "62ea0bcc-a09b-474e-dd7b-e2688746ff31"
   },
   "outputs": [
    {
     "name": "stdout",
     "output_type": "stream",
     "text": [
      "my_dict right now {'name': 'Jarno', 'color': 'red', 'year': 2007, 'is cool': True, 6: 'it works', (2, 22): 'that is a strange key'}\n",
      "my_dict after some operations {'name': 'Jarno', 'color': 'red', 'is cool': True, 6: 'it works', (2, 22): 'that is a strange key', 'new_element': 'magenta', 'weight': 27.8}\n"
     ]
    }
   ],
   "source": [
    "print('my_dict right now', my_dict)\n",
    "\n",
    "my_dict['new_element'] = 'magenta'\n",
    "my_dict['weight'] = 27.8\n",
    "del my_dict['year']\n",
    "\n",
    "print('my_dict after some operations', my_dict)"
   ]
  },
  {
   "attachments": {},
   "cell_type": "markdown",
   "metadata": {
    "id": "J80LstNFSFeN",
    "nbgrader": {
     "grade": false,
     "locked": true,
     "solution": false
    }
   },
   "source": [
    "You can also print all keys present in the dictionary using the <b><code>.keys()</code></b> method, or check whether a certain key exists in a dictionary, as shown below. More operations can be found <a href=\"https://docs.python.org/3/tutorial/datastructures.html\">here</a>."
   ]
  },
  {
   "cell_type": "code",
   "execution_count": 35,
   "metadata": {
    "colab": {
     "base_uri": "https://localhost:8080/"
    },
    "collapsed": true,
    "id": "pEYa3nKRUZD1",
    "nbgrader": {
     "grade": false,
     "locked": true,
     "solution": false
    },
    "outputId": "2b850789-9071-414f-ce44-bb23203243a6"
   },
   "outputs": [
    {
     "name": "stdout",
     "output_type": "stream",
     "text": [
      "dict_keys(['name', 'color', 'is cool', 6, (2, 22), 'new_element', 'weight'])\n",
      "\n",
      "my_dict has a ['name'] key: True\n"
     ]
    }
   ],
   "source": [
    "print(my_dict.keys())\n",
    "print(\"\\nmy_dict has a ['name'] key:\", 'name' in my_dict)"
   ]
  },
  {
   "attachments": {},
   "cell_type": "markdown",
   "metadata": {
    "nbgrader": {
     "grade": false,
     "locked": true,
     "solution": false
    }
   },
   "source": [
    "### Real life example: \n",
    "\n",
    "Analyzing satellite metadata<br><br></b>Metadata is a set of data that describes and gives information about other data. For Sentinel-1, the metadata of the satellite is acquired as an <i>.xml</i> file. It is common for Dictionaries to play an important role in classifying this metadata. One could write a function to read and obtain important information from this metadata and store them in a Dictionary. Some examples of keys for the metadata of Sentinel-1 are:\n",
    "    \n",
    "_dict_keys(['azimuthSteeringRate', 'dataDcPolynomial', 'dcAzimuthtime', 'dcT0', 'rangePixelSpacing', 'azimuthPixelSpacing', 'azimuthFmRatePolynomial', 'azimuthFmRateTime', 'azimuthFmRateT0', 'radarFrequency', 'velocity', 'velocityTime', 'linesPerBurst', 'azimuthTimeInterval', 'rangeSamplingRate', 'slantRangeTime', 'samplesPerBurst', 'no_burst'])_\n"
   ]
  },
  {
   "attachments": {},
   "cell_type": "markdown",
   "metadata": {
    "id": "XvpRgp7eUsLP",
    "nbgrader": {
     "grade": false,
     "locked": true,
     "solution": false
    }
   },
   "source": [
    "The last important thing for this Notebook are slices. Similar to how you can slice a <b>string</b> (shown in Section 1.4, in Notebook 1). This technique allows you to select a subset of data from an iterable (like a list or a tuple)."
   ]
  },
  {
   "cell_type": "code",
   "execution_count": 18,
   "metadata": {
    "colab": {
     "base_uri": "https://localhost:8080/"
    },
    "collapsed": true,
    "id": "S96Y3-HcXN3P",
    "nbgrader": {
     "grade": false,
     "locked": true,
     "solution": false
    },
    "outputId": "b0d9151f-f476-4ffa-de00-74f85a4b962c"
   },
   "outputs": [
    {
     "name": "stdout",
     "output_type": "stream",
     "text": [
      "The first three elements of x: [1, 2, 3]\n",
      "[1, 2, 3]\n",
      "The last element is 7 or 7 or 7\n",
      "[1, 2, 3]\n",
      "[1, 2, 3]\n"
     ]
    }
   ],
   "source": [
    "x = [1, 2, 3, 4, 5, 6, 7]\n",
    "n = len(x) \n",
    "\n",
    "print('The first three elements of x:', x[0:3])\n",
    "print(x[:3])\n",
    "print('The last element is', x[6], 'or', x[n - 1], 'or', x[-1])\n",
    "print(x[0:-4])\n",
    "print(x[0:3:1])"
   ]
  },
  {
   "attachments": {},
   "cell_type": "markdown",
   "metadata": {},
   "source": [
    "`````{admonition} Let's break it down\n",
    "This code demonstrates how to select specific elements from a list in Python using slicing:\n",
    "\n",
    "1. The list `x` contains numbers from 1 to 7.\n",
    "2. `x[0:3]` selects the first three elements of `x`.\n",
    "3. `x[:3]` achieves the same result by omitting the starting index.\n",
    "4. `x[6]`, `x[n - 1]`, and `x[-1]` all access the last element of `x`.\n",
    "5. `x[0:-4]` selects elements from the beginning to the fourth-to-last element.\n",
    "6. `x[0:3:1]` selects elements with a step size of 1.\n",
    "\n",
    "`````"
   ]
  },
  {
   "attachments": {},
   "cell_type": "markdown",
   "metadata": {
    "id": "d4v9TBKyZJEh",
    "nbgrader": {
     "grade": false,
     "locked": true,
     "solution": false
    }
   },
   "source": [
    "Thus, the general slicing call is given by <b><code>iterable[start:end:step]</code></b>. \n",
    "\n",
    "Here's another example:\n",
    "\n",
    "You can select all even numbers using `[::2]` or reverse the list using `[::-1]` or select a middle subset for example `[5:9]`."
   ]
  },
  {
   "cell_type": "code",
   "execution_count": 19,
   "metadata": {
    "colab": {
     "base_uri": "https://localhost:8080/"
    },
    "collapsed": true,
    "id": "GO8qP2d1ZXkq",
    "nbgrader": {
     "grade": false,
     "locked": true,
     "solution": false
    },
    "outputId": "832458e8-6202-4fa8-8898-6d2a2a1ad423"
   },
   "outputs": [
    {
     "name": "stdout",
     "output_type": "stream",
     "text": [
      "Selecting all even numbers [0, 2, 4, 6, 8, 10]\n",
      "All odd numbers [1, 3, 5, 7, 9]\n",
      "Normal order [0, 1, 2, 3, 4, 5, 6, 7, 8, 9, 10]\n",
      "Reversed order [10, 9, 8, 7, 6, 5, 4, 3, 2, 1, 0]\n",
      "Numbers from 5 to 8: [5, 6, 7, 8]\n"
     ]
    }
   ],
   "source": [
    "numbers = [0, 1, 2, 3, 4, 5, 6, 7, 8, 9, 10]\n",
    "\n",
    "print('Selecting all even numbers', numbers[::2])\n",
    "print('All odd numbers', numbers[1::2])\n",
    "print('Normal order', numbers)\n",
    "print('Reversed order', numbers[::-1])\n",
    "print('Numbers from 5 to 8:', numbers[5:9])"
   ]
  }
 ],
 "metadata": {
  "colab": {
   "collapsed_sections": [],
   "name": "Python_2_1.ipynb",
   "provenance": []
  },
  "kernelspec": {
   "display_name": "base",
   "language": "python",
   "name": "python3"
  },
  "language_info": {
   "codemirror_mode": {
    "name": "ipython",
    "version": 3
   },
   "file_extension": ".py",
   "mimetype": "text/x-python",
   "name": "python",
   "nbconvert_exporter": "python",
   "pygments_lexer": "ipython3",
   "version": "3.8.13"
  }
 },
 "nbformat": 4,
 "nbformat_minor": 1
}
