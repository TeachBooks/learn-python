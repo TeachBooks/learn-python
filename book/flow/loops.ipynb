{
 "cells": [
  {
   "attachments": {},
   "cell_type": "markdown",
   "metadata": {
    "id": "fHmKWsUSKuj4",
    "nbgrader": {
     "grade": false,
     "locked": true,
     "solution": false
    }
   },
   "source": [
    "# Loops\n",
    "\n",
    "Let's do another step to automatize things even more! Previous Sections introduced a lot of fundamental concepts, but they still don't unveil the true power of any programming language — loops!<br><br>If we want to perform the same procedure multiple times, then we would have to take the same code and copy-paste it. This approach would work, however it would require a lot of manual work and it does not look cool.<br><br>This problem is resolved with a <i>loop</i> construction. As the name suggest, this construction allows you to loop (or run) certain piece of code several times at one execution."
   ]
  },
  {
   "attachments": {},
   "cell_type": "markdown",
   "metadata": {
    "id": "BcEOnv2kTT9A",
    "nbgrader": {
     "grade": false,
     "locked": true,
     "solution": false
    }
   },
   "source": [
    "### <code>for</code> loop\n",
    "\n",
    "The first and the most popular looping technique is a <b><code>for</code></b> loop. Let's see some examples:\n",
    "\n",
    "Let's create a list with some stuff in it. In order to iterate (or go through each element of a list) we use a `for` loop.\n"
   ]
  },
  {
   "cell_type": "code",
   "execution_count": 38,
   "metadata": {
    "colab": {
     "base_uri": "https://localhost:8080/"
    },
    "collapsed": true,
    "id": "fNaiOimubLMF",
    "nbgrader": {
     "grade": false,
     "locked": true,
     "solution": false
    },
    "outputId": "77085dd8-83cc-41d8-b7c1-17fc55dc38eb"
   },
   "outputs": [
    {
     "name": "stdout",
     "output_type": "stream",
     "text": [
      "Start of the loop\n",
      "In my list I can find: 100\n",
      "In my list I can find: marble\n",
      "In my list I can find: False\n",
      "In my list I can find: 2\n",
      "In my list I can find: 2\n",
      "In my list I can find: [7, 7, 7]\n",
      "In my list I can find: end\n",
      "End of the loop\n"
     ]
    }
   ],
   "source": [
    "my_list = [100, 'marble', False, 2, 2, [7, 7, 7], 'end']\n",
    "\n",
    "print('Start of the loop')\n",
    "for list_item in my_list:\n",
    "    print('In my list I can find:', list_item)\n",
    "print('End of the loop')"
   ]
  },
  {
   "attachments": {},
   "cell_type": "markdown",
   "metadata": {
    "id": "NkKA4qLDb9IM",
    "nbgrader": {
     "grade": false,
     "locked": true,
     "solution": false
    }
   },
   "source": [
    "General <code>for</code> loop construction looks like this:<br><br>\n",
    "<code>for iterator_variable in iterable:\n",
    "       do something with iterator_variable</code><br><br>\n",
    "\n",
    "During each iteration the following steps are happening under the hood (or above it):\n",
    "1. <code>iterator_variable = iterable[0]</code>iterator_variable is assigned the first value from the iterable.\n",
    "2. Then, you use iterator_variable as you wish.\n",
    "3. By the end of the 'cycle', the next element from the iterable is selected (<code>iterable[1]</code>), i.e., we return to step 1, but now assigning the second element... and so on.\n",
    "4. When there is not a next element (in other words, we have reached the end of the iterable) — it exits and the code under the loop is now executed.\n",
    "\n",
    "Looks cool, but what if we want to alter the original iterable (not the <code>iterator_variable</code>) within the loop?\n",
    "\n",
    "\n"
   ]
  },
  {
   "cell_type": "code",
   "execution_count": 39,
   "metadata": {
    "colab": {
     "base_uri": "https://localhost:8080/"
    },
    "collapsed": true,
    "id": "1hZm9bOuhOiE",
    "nbgrader": {
     "grade": false,
     "locked": true,
     "solution": false
    },
    "outputId": "0b50490d-1d74-41cb-ba84-d4a595a7eede"
   },
   "outputs": [
    {
     "name": "stdout",
     "output_type": "stream",
     "text": [
      "Try #1, before: [100, 'marble', False, 2, 2, [7, 7, 7], 'end']\n",
      "Try #1, after [100, 'marble', False, 2, 2, [7, 7, 7], 'end']\n"
     ]
    }
   ],
   "source": [
    "x = my_list\n",
    "print('Try #1, before:', x)\n",
    "\n",
    "for item in x:\n",
    "    item = [5,6,7]\n",
    "\n",
    "print('Try #1, after', x)\n"
   ]
  },
  {
   "attachments": {},
   "cell_type": "markdown",
   "metadata": {
    "nbgrader": {
     "grade": false,
     "locked": true,
     "solution": false
    }
   },
   "source": [
    "Nothing has changed.... let's try another method. `range()` is used to generate a sequence of numbers more info [here](https://www.w3schools.com/python/ref_func_range.asp).\n",
    "\n",
    "`range(length_of_x)` will generate numbers from 0 till `length_of_x`, excluding the last one.\n"
   ]
  },
  {
   "cell_type": "code",
   "execution_count": 40,
   "metadata": {
    "collapsed": true,
    "nbgrader": {
     "grade": false,
     "locked": true,
     "solution": false
    }
   },
   "outputs": [
    {
     "name": "stdout",
     "output_type": "stream",
     "text": [
      "range(0, 7)\n",
      "Try #2, before [100, 'marble', False, 2, 2, [7, 7, 7], 'end']\n",
      "Try #2, after [-1, -1, -1, -1, -1, -1, -1]\n"
     ]
    }
   ],
   "source": [
    "length_of_x = len(x)\n",
    "\n",
    "indices = range(length_of_x)\n",
    "\n",
    "print(indices)\n",
    "print('Try #2, before', my_list)\n",
    "\n",
    "for id in indices:\n",
    "    my_list[id] = -1\n",
    "\n",
    "print('Try #2, after', my_list)\n",
    " \n"
   ]
  },
  {
   "attachments": {},
   "cell_type": "markdown",
   "metadata": {
    "nbgrader": {
     "grade": false,
     "locked": true,
     "solution": false
    }
   },
   "source": [
    "Now we have a method in our arsenal which can not only loop through a list but also access and alter its contents. Also, you can generate new data by using a <b><code>for</code></b> loop and by applying some processing to it. Here's an example on how you can automatize your greetings routine!\n",
    "\n",
    "We create a variable `message` with a general greeting and a list with your friends names. Then an empty list where all greetings will be stored (otherwise you cannot use the `.append` in the for loop below!). \n"
   ]
  },
  {
   "cell_type": "code",
   "execution_count": 25,
   "metadata": {
    "collapsed": true,
    "nbgrader": {
     "grade": false,
     "locked": true,
     "solution": false
    }
   },
   "outputs": [
    {
     "name": "stdout",
     "output_type": "stream",
     "text": [
      "['Ohayo, Mike-kun!', 'Ohayo, Alex-kun!', 'Ohayo, Maria-kun!']\n"
     ]
    }
   ],
   "source": [
    "\n",
    "message = \"Ohayo\"\n",
    "names = [\"Mike\", \"Alex\", \"Maria\"]\n",
    "greetings = []\n",
    "\n",
    "for name in names:\n",
    "    personalized_greeting = f'{message}, {name}-kun!' \n",
    "    greetings.append(personalized_greeting) \n",
    "\n",
    "print(greetings)"
   ]
  },
  {
   "attachments": {},
   "cell_type": "markdown",
   "metadata": {
    "nbgrader": {
     "grade": false,
     "locked": true,
     "solution": false
    }
   },
   "source": [
    "And you can also have loops inside loops!. Let's say that you put down all your expenses per day separately in euros. You can also keep them within one list together.Additionally, you can access also each expense separately! day3 is third array and 2nd expense is second element within that array."
   ]
  },
  {
   "cell_type": "code",
   "execution_count": 23,
   "metadata": {
    "collapsed": true,
    "nbgrader": {
     "grade": false,
     "locked": true,
     "solution": false
    }
   },
   "outputs": [
    {
     "name": "stdout",
     "output_type": "stream",
     "text": [
      "All my expenses [[15, 100, 9], [200], [10, 12, 15, 5, 1]]\n",
      "My second expense on day 3 is 12\n"
     ]
    }
   ],
   "source": [
    "day1_expenses = [15, 100, 9]\n",
    "day2_expenses = [200]\n",
    "day3_expenses = [10, 12, 15, 5, 1]\n",
    "\n",
    "expenses = [day1_expenses, day2_expenses, day3_expenses]\n",
    "print('All my expenses', expenses)\n",
    "\n",
    "print(f'My second expense on day 3 is {expenses[2][1]}')"
   ]
  },
  {
   "attachments": {},
   "cell_type": "markdown",
   "metadata": {},
   "source": [
    "Now let's use it in some calculations. The code bellow iterates over the expenses for each day, calculates the total expenses for each day, and then adds them together to obtain the overall total expenses. "
   ]
  },
  {
   "cell_type": "code",
   "execution_count": 43,
   "metadata": {
    "collapsed": true,
    "nbgrader": {
     "grade": false,
     "locked": true,
     "solution": false
    }
   },
   "outputs": [
    {
     "name": "stdout",
     "output_type": "stream",
     "text": [
      "Option #1: In total I have spent 367 euro!\n"
     ]
    }
   ],
   "source": [
    "total_expenses = 0\n",
    "\n",
    "for i in range(len(expenses)): \n",
    "    daily_expenses_list = expenses[i]\n",
    "    daily_expenses = 0\n",
    "    for j in range(len(daily_expenses_list)): \n",
    "        daily_expenses += daily_expenses_list[j]\n",
    "    total_expenses += daily_expenses\n",
    "    \n",
    "print(f'Option #1: In total I have spent {total_expenses} euro!')"
   ]
  },
  {
   "attachments": {},
   "cell_type": "markdown",
   "metadata": {},
   "source": [
    "`````{admonition} Let's break it down\n",
    "This code calculates the total expenses over multiple days using nested loops. Here's an explanation in simpler terms:\n",
    "\n",
    "1. We start with the variable `total_expenses` set to 0 to keep track of the total expenses.\n",
    "2. The code loops over each day's expenses using the outer loop, which runs from 0 to the length of the `expenses` list.\n",
    "3. Inside the loop, it accesses the expenses made on the current day by assigning `daily_expenses_list` to the expenses at index `i`.\n",
    "4. It initializes `daily_expenses` as 0 to temporarily store the sum of expenses for the current day.\n",
    "5. The code enters the inner loop, which iterates over the expenses for the current day using the range of the length of `daily_expenses_list`.\n",
    "6. Inside the inner loop, it adds each expense to `daily_expenses` to calculate the total expenses for the current day.\n",
    "7. After the inner loop completes, it adds `daily_expenses` to the `total_expenses` variable to accumulate the expenses across all days.\n",
    "8. Once the outer loop finishes, it prints the total expenses using an f-string format to display the result.\n",
    "`````\n"
   ]
  },
  {
   "attachments": {},
   "cell_type": "markdown",
   "metadata": {},
   "source": [
    "Option #2"
   ]
  },
  {
   "cell_type": "code",
   "execution_count": 44,
   "metadata": {
    "collapsed": true,
    "nbgrader": {
     "grade": false,
     "locked": true,
     "solution": false
    }
   },
   "outputs": [
    {
     "name": "stdout",
     "output_type": "stream",
     "text": [
      "Option #2: In total I have spent 367 euro!\n"
     ]
    }
   ],
   "source": [
    "total_expenses = 0\n",
    "\n",
    "for i in range(len(expenses)):\n",
    "    for j in range(len(expenses[i])):\n",
    "        total_expenses += expenses[i][j]\n",
    "    \n",
    "print(f'Option #2: In total I have spent {total_expenses} euro!')"
   ]
  },
  {
   "attachments": {},
   "cell_type": "markdown",
   "metadata": {},
   "source": [
    "Option #3 - advanced techniques gathered after eternal suffering."
   ]
  },
  {
   "cell_type": "code",
   "execution_count": 45,
   "metadata": {
    "collapsed": true,
    "nbgrader": {
     "grade": false,
     "locked": true,
     "solution": false
    }
   },
   "outputs": [
    {
     "name": "stdout",
     "output_type": "stream",
     "text": [
      "Option #3: In total I have spent 367 euro!\n"
     ]
    }
   ],
   "source": [
    "total_expenses = 0\n",
    "total_expenses = sum(map(sum, expenses))\n",
    "print(f'Option #3: In total I have spent {total_expenses} euro!')"
   ]
  },
  {
   "attachments": {},
   "cell_type": "markdown",
   "metadata": {
    "id": "TNGZ78d8LOYC",
    "nbgrader": {
     "grade": false,
     "locked": true,
     "solution": false
    }
   },
   "source": [
    "### <code>while</code> loop\n",
    "\n",
    "The second popular loop construction is a <b><code>while</code></b> loop. The main difference is that it is suited for code structures that must repeat unless a certain logical condition is satisfied. It looks like this:<br><br><center><code>while logical_condition == True:<br>do something</code></center><br>And here is a working code example:\n"
   ]
  },
  {
   "cell_type": "code",
   "execution_count": 46,
   "metadata": {
    "colab": {
     "base_uri": "https://localhost:8080/"
    },
    "collapsed": true,
    "id": "rqsX011pL6p6",
    "nbgrader": {
     "grade": false,
     "locked": true,
     "solution": false
    },
    "outputId": "39bce5bb-bf01-469c-8758-6127efc4e943"
   },
   "outputs": [
    {
     "name": "stdout",
     "output_type": "stream",
     "text": [
      "sum in the beginning of the cycle: 0\n",
      "sum in the end of the cycle: 1\n",
      "sum in the beginning of the cycle: 1\n",
      "sum in the end of the cycle: 2\n",
      "sum in the beginning of the cycle: 2\n",
      "sum in the end of the cycle: 3\n",
      "sum in the beginning of the cycle: 3\n",
      "sum in the end of the cycle: 4\n",
      "sum in the beginning of the cycle: 4\n",
      "sum in the end of the cycle: 5\n"
     ]
    }
   ],
   "source": [
    "sum = 0\n",
    "\n",
    "while sum < 5:\n",
    "    print('sum in the beginning of the cycle:', sum)\n",
    "    sum += 1\n",
    "    print('sum in the end of the cycle:', sum)"
   ]
  },
  {
   "attachments": {},
   "cell_type": "markdown",
   "metadata": {
    "id": "mW02NDD4MJWn",
    "nbgrader": {
     "grade": false,
     "locked": true,
     "solution": false
    }
   },
   "source": [
    "As you can see, this loop was used to increase the value of the sum variable until it reached $5$. The moment it reached $5$ and the loop condition was checked — it returned <b><code>False</code></b> and, therefore, the loop stopped.<br><br>Additionally, it is worth to mention that the code inside the loop was altering the variable used in the loop condition statement, which allowed it to first run, and then stop. In the case where the code doesn't alter the loop condition, it won't stop (infinite loop), unless another special word is used.<br><br>Here's a simple example of an infinite loop, which you may run (by removing the #'s) but in order to stop it — you have to interrupt the Notebook's kernel or restart it."
   ]
  },
  {
   "cell_type": "code",
   "execution_count": null,
   "metadata": {
    "colab": {
     "base_uri": "https://localhost:8080/",
     "height": 1000
    },
    "collapsed": true,
    "id": "AmIcH59oNaxU",
    "outputId": "e944bfe2-f906-45c9-ef2a-03280956679a"
   },
   "outputs": [],
   "source": [
    "# a, b = 0, 7\n",
    "\n",
    "# while a + b < 10:\n",
    "#     a += 1\n",
    "#     b -= 1\n",
    "#     print(f'a:{a};b:{b}')"
   ]
  },
  {
   "attachments": {},
   "cell_type": "markdown",
   "metadata": {
    "id": "ryvB-qKfNxPh",
    "nbgrader": {
     "grade": false,
     "locked": true,
     "solution": false
    }
   },
   "source": [
    "### <code>break</code> keyword\n",
    "\n",
    "After meeting and understanding the loop constructions, we can add a bit more control to it. For example, it would be nice to exit a loop earlier than it ends — in order to avoid infinite loops or just in case there is no need to run the loop further. This can be achieved by using the <b><code>break</code></b> keyword. The moment this keyword is executed, the code exits from the current loop."
   ]
  },
  {
   "cell_type": "code",
   "execution_count": 47,
   "metadata": {
    "colab": {
     "base_uri": "https://localhost:8080/"
    },
    "collapsed": true,
    "id": "hvib4ruNTN6_",
    "nbgrader": {
     "grade": false,
     "locked": true,
     "solution": false
    },
    "outputId": "b0f08946-864e-430a-a8cc-765303a9ac6e"
   },
   "outputs": [
    {
     "name": "stdout",
     "output_type": "stream",
     "text": [
      "Before normal loop\n",
      "0 iteration and still running...\n",
      "1 iteration and still running...\n",
      "2 iteration and still running...\n",
      "3 iteration and still running...\n",
      "4 iteration and still running...\n",
      "5 iteration and still running...\n",
      "6 iteration and still running...\n",
      "After normal loop\n",
      "Before interrupted loop\n",
      "0 iteration and still running...\n",
      "1 iteration and still running...\n",
      "2 iteration and still running...\n",
      "3 iteration and still running...\n",
      "4 iteration and still running...\n",
      "Leaving the loop\n",
      "After interupted loop\n"
     ]
    }
   ],
   "source": [
    "stop_iteration = 4\n",
    "\n",
    "print('Before normal loop')\n",
    "for i in range(7):\n",
    "    print(f'{i} iteration and still running...')\n",
    "print('After normal loop')\n",
    "\n",
    "print('Before interrupted loop')\n",
    "for i in range(7):\n",
    "    print(f'{i} iteration and still running...')\n",
    "\n",
    "    if i == stop_iteration:\n",
    "        print('Leaving the loop')\n",
    "        break\n",
    "print('After interupted loop')"
   ]
  },
  {
   "attachments": {},
   "cell_type": "markdown",
   "metadata": {
    "id": "guxGK4uGUXBA",
    "nbgrader": {
     "grade": false,
     "locked": true,
     "solution": false
    }
   },
   "source": [
    "The second loop shows how a small intrusion of an <b><code>if</code></b> statement and the <b><code>break</code></b> keyword can help us with stopping the loop earlier. The same word can be also used in a <b><code>while</code></b> loop:"
   ]
  },
  {
   "cell_type": "code",
   "execution_count": 48,
   "metadata": {
    "colab": {
     "base_uri": "https://localhost:8080/"
    },
    "collapsed": true,
    "id": "tVkdaOP8Ul-W",
    "nbgrader": {
     "grade": false,
     "locked": true,
     "solution": false
    },
    "outputId": "5f391d65-82a2-4408-d74d-af89b84a040b"
   },
   "outputs": [
    {
     "name": "stdout",
     "output_type": "stream",
     "text": [
      "Before the loop\n",
      "Inside the loop #1\n",
      "Inside the loop #2\n",
      "Inside the loop #3\n",
      "Inside the loop #4\n",
      "Inside the loop #5\n",
      "Inside the loop #6\n",
      "Too many iterations is bad for your health\n",
      "After the loop\n"
     ]
    }
   ],
   "source": [
    "iteration_number = 0\n",
    "\n",
    "print('Before the loop')\n",
    "while True:\n",
    "    iteration_number += 1\n",
    "\n",
    "    print(f'Inside the loop #{iteration_number}')\n",
    "    if iteration_number > 5:\n",
    "        print('Too many iterations is bad for your health')\n",
    "        break\n",
    "print('After the loop')"
   ]
  },
  {
   "attachments": {},
   "cell_type": "markdown",
   "metadata": {
    "id": "AtRCfdMlWzhn",
    "nbgrader": {
     "grade": false,
     "locked": true,
     "solution": false
    }
   },
   "source": [
    "### <code>continue</code> keyword\n",
    "\n",
    "Another possibility to be more flexible when using loops is to use the <b><code>continue</code></b> keyword.<br><br>This will allow you to skip some iterations (more precisely — the moment the keyword is used it will skip the code underneath it and will start the next iteration from the beginning)."
   ]
  },
  {
   "cell_type": "code",
   "execution_count": 49,
   "metadata": {
    "colab": {
     "base_uri": "https://localhost:8080/"
    },
    "collapsed": true,
    "id": "_1q4EB0bXMyk",
    "nbgrader": {
     "grade": false,
     "locked": true,
     "solution": false
    },
    "outputId": "57b11d07-251a-4319-d0ba-1d3ee1685b61"
   },
   "outputs": [
    {
     "name": "stdout",
     "output_type": "stream",
     "text": [
      "Begin normal loop\n",
      "\n",
      "0 iteration and still running...\n",
      "Calculating cool function for 0 ->  f(0) = 3\n",
      "1 iteration and still running...\n",
      "Calculating cool function for 1 ->  f(1) = 15\n",
      "2 iteration and still running...\n",
      "Calculating cool function for 2 ->  f(2) = 41\n",
      "3 iteration and still running...\n",
      "Calculating cool function for 3 ->  f(3) = 81\n",
      "4 iteration and still running...\n",
      "Calculating cool function for 4 ->  f(4) = 135\n",
      "5 iteration and still running...\n",
      "Calculating cool function for 5 ->  f(5) = 203\n",
      "6 iteration and still running...\n",
      "Calculating cool function for 6 ->  f(6) = 285\n",
      "\n",
      "End normal loop\n",
      "\n",
      "-------------------\n",
      "Begin altered loop\n",
      "\n",
      "0 iteration and still running...\n",
      "1 iteration and still running...\n",
      "Calculating cool function for 1 ->  f(1) = 15\n",
      "2 iteration and still running...\n",
      "3 iteration and still running...\n",
      "Calculating cool function for 3 ->  f(3) = 81\n",
      "4 iteration and still running...\n",
      "5 iteration and still running...\n",
      "Calculating cool function for 5 ->  f(5) = 203\n",
      "6 iteration and still running...\n",
      "\n",
      "End altered loop\n"
     ]
    }
   ],
   "source": [
    "def calculate_cool_function(arg):\n",
    "    res = 7 * arg ** 2 + 5 * arg + 3\n",
    "    print(f'Calculating cool function for {arg} ->  f({arg}) = {res}')\n",
    "\n",
    "print('Begin normal loop\\n')\n",
    "for i in range(7):\n",
    "    print(f'{i} iteration and still running...')\n",
    "    calculate_cool_function(i)\n",
    "print('\\nEnd normal loop\\n')\n",
    "\n",
    "print('-------------------')\n",
    "\n",
    "print('Begin altered loop\\n')\n",
    "for i in range(7):\n",
    "    print(f'{i} iteration and still running...')\n",
    "\n",
    "    # skipping every even iteration\n",
    "    if i % 2 == 0:\n",
    "        continue\n",
    "        \n",
    "    calculate_cool_function(i)\n",
    "    \n",
    "print('\\nEnd altered loop')"
   ]
  },
  {
   "attachments": {},
   "cell_type": "markdown",
   "metadata": {
    "id": "_30hKsC4a1vy",
    "nbgrader": {
     "grade": false,
     "locked": true,
     "solution": false
    }
   },
   "source": [
    "As you can see, with the help of the <b><code>continue</code></b> keyword we managed to skip some of the iterations. Also worth noting that $0$ is divisible by any number, for that reason the <b><code>calculate_cool_function(i)</code></b> at <b><code>i = 0</code></b> didn't run."
   ]
  },
  {
   "attachments": {},
   "cell_type": "markdown",
   "metadata": {
    "id": "lDKimbtECAAz",
    "nbgrader": {
     "grade": false,
     "locked": true,
     "solution": false
    }
   },
   "source": [
    "## Additional study material\n",
    "\n",
    "* Official Python Documentation - https://docs.python.org/3/tutorial/controlflow.html\n",
    "* https://realpython.com/python-conditional-statements/\n",
    "* Think Python (2nd ed.) - Section 5\n",
    "\n",
    "* Official Python Documentation - https://docs.python.org/3/tutorial/datastructures.html\n",
    "* https://realpython.com/python-data-structures/\n",
    "* Think Python (2nd ed.) - Sections 8, 10, 11, 12\n",
    "\n",
    "* Official Python Documentation - https://docs.python.org/3/tutorial/controlflow.html\n",
    "* https://realpython.com/python-for-loop/\n",
    "* Think Python (2nd ed.) - Section 7"
   ]
  },
  {
   "attachments": {},
   "cell_type": "markdown",
   "metadata": {
    "nbgrader": {
     "grade": false,
     "locked": true,
     "solution": false
    }
   },
   "source": [
    "### After this Notebook you should be able to:\n",
    "\n",
    "- generate an array for the x-axis\n",
    "- calculate the **`cos`** or **`sin`** of the x-axis\n",
    "- plot such functions\n",
    "- understand how to load Python files as modules\n",
    "- understand conditions with **`if`**, **`elif`** and, **`else`**\n",
    "- understand the differences between **`list`**, **`tuple`**, and **`dict`**\n",
    "- slice lists and tuples\n",
    "- use **`for`** and **`while`** loops\n",
    "- use the **`break`** and **`continue`** keywords inside of loops\n"
   ]
  }
 ],
 "metadata": {
  "colab": {
   "collapsed_sections": [],
   "name": "Python_2_1.ipynb",
   "provenance": []
  },
  "kernelspec": {
   "display_name": "base",
   "language": "python",
   "name": "python3"
  },
  "language_info": {
   "codemirror_mode": {
    "name": "ipython",
    "version": 3
   },
   "file_extension": ".py",
   "mimetype": "text/x-python",
   "name": "python",
   "nbconvert_exporter": "python",
   "pygments_lexer": "ipython3",
   "version": "3.8.13"
  }
 },
 "nbformat": 4,
 "nbformat_minor": 1
}
