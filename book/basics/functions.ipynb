{
 "cells": [
  {
   "attachments": {},
   "cell_type": "markdown",
   "id": "116647f2",
   "metadata": {
    "nbgrader": {
     "grade": false,
     "locked": true,
     "solution": false
    }
   },
   "source": [
    "# Functions\n",
    "\n",
    "A <b>function</b> is a collection of code that is assigned to a specific name. You have already seen some built-in Python functions, such as <b><code>print()</code></b>. Using functions is useful because it allows you to run the same code again without having to type it a second time.\n",
    "\n",
    "Below are some examples of common built-in Python functions and what they do:\n",
    "\n",
    "\n",
    "* ``print()``: Prints input to screen\n",
    "* ``type()``: Returns the type of the input\n",
    "* ``abs()``: Returns the absolute value of the input\n",
    "* ``min()``: Returns the minimum value of the input. (input could be a list, tuple, etc.)\n",
    "* ``max()``: Same as above, but returns the maximum value\n",
    "* ``sum()``: Returns the sum of the input (input could be a list, tuple, etc.)\n"
   ]
  },
  {
   "attachments": {},
   "cell_type": "markdown",
   "metadata": {
    "nbgrader": {
     "grade": false,
     "locked": true,
     "solution": false
    }
   },
   "source": [
    "But the story doesn't end at built-in functions. You can also write your own functions!\n",
    "\n",
    "### How to write a function\n",
    "\n",
    "To write a function, you must first define it. This is done by using the <b><code>def</code></b> statement. Then, you name the function and add, in the parentheses, which variables this function takes as an input, followed by a colon. The colon tells Python you are going to define the <b>function body</b> next (the part of the function that actually does the computation). As shown below:<br><br>\n",
    "\n",
    "<center><code>def function_name(input1, input2,...):<br>function_body<br>...<br>...</code></center>\n"
   ]
  },
  {
   "attachments": {},
   "cell_type": "markdown",
   "id": "242bb5c2",
   "metadata": {},
   "source": [
    "\n",
    "The <b><code>calculate_circle_area(r)</code></b> function below defines <b><code>pi</code></b> as a variable and then computes the area of a circle, which is stored in the variable <b><code>area</code></b>. Finally, it uses the <b><code>return</code></b> statement to output the <b><code>area</code></b> back to you. Once you have defined the function, you can then <b>call</b> it by typing the function name, and  the inputs in the parenthesis. For example, calling: <b><code>print(\"Hello World!\")</code></b>, prints the string <b><code>\"Hello World!\"</code></b>.\n",
    "\n",
    "<b>Indentation</b> <br>\n",
    "\n",
    "It is worth noting that the function body should be <b>indented</b>. This is how Python sees what piece of code is inside another code. An indented line of code is a line that starts with whitespace. You can do this by using the tab key on your keyboard."
   ]
  },
  {
   "attachments": {},
   "cell_type": "markdown",
   "metadata": {
    "nbgrader": {
     "grade": false,
     "locked": true,
     "solution": false
    }
   },
   "source": [
    "::: {note}\n",
    "Inputs of functions are more often called <b>arguments</b>.\n",
    ":::"
   ]
  },
  {
   "attachments": {},
   "cell_type": "markdown",
   "metadata": {
    "nbgrader": {
     "grade": false,
     "locked": true,
     "solution": false
    }
   },
   "source": [
    "### indentation of code within functions\n",
    "\n",
    "Let's say you'd want to compute the area of a circle, but you don't want to calculate $\\pi r^2$ the entire time. Then you can write a couple lines of code to do it for you, and wrap it up into a function, like the one below:\n"
   ]
  },
  {
   "cell_type": "code",
   "execution_count": 41,
   "metadata": {
    "collapsed": true,
    "nbgrader": {
     "grade": false,
     "locked": true,
     "solution": false
    }
   },
   "outputs": [],
   "source": [
    "def calculate_circle_area(r):\n",
    "    pi = 3.141592653589793\n",
    "    area = pi*(r**2)\n",
    "    return area"
   ]
  },
  {
   "attachments": {},
   "cell_type": "markdown",
   "metadata": {
    "nbgrader": {
     "grade": false,
     "locked": true,
     "solution": false
    }
   },
   "source": [
    "This function is called <b><code>calculate_circle_area(r)</code></b>, and takes the value <b><code>r</code></b> as an argument."
   ]
  },
  {
   "attachments": {},
   "cell_type": "markdown",
   "metadata": {
    "nbgrader": {
     "grade": false,
     "locked": true,
     "solution": false
    }
   },
   "source": [
    "Functions can have multiple arguments, for example:"
   ]
  },
  {
   "cell_type": "code",
   "execution_count": 42,
   "metadata": {
    "collapsed": true,
    "nbgrader": {
     "grade": false,
     "locked": true,
     "solution": false
    }
   },
   "outputs": [
    {
     "name": "stdout",
     "output_type": "stream",
     "text": [
      "Area of my rectangle is 24 cm^2\n"
     ]
    }
   ],
   "source": [
    "def calculate_rectangle_area(a, b):\n",
    "    area = a * b\n",
    "    return area\n",
    "\n",
    "print('Area of my rectangle is', calculate_rectangle_area(4, 6), 'cm^2')"
   ]
  },
  {
   "attachments": {},
   "cell_type": "markdown",
   "metadata": {
    "nbgrader": {
     "grade": false,
     "locked": true,
     "solution": false
    }
   },
   "source": [
    "In the cell above, the **`calculate_rectangle_area(a, b)`** function takes $2$ arguments, $a$ and $b$. \n",
    "\n",
    "The built-in function **`print()`** takes $3$ arguments:<br>\n",
    "the <b>string</b> <b><code>'Area of my rectangle is'</code></b>, the output of <b><code>calculate_rectangle_area(a, b)</code></b>, and another string <b><code>'cm^2'</code></b>.\n",
    "\n",
    "There are better ways to use the built-in <b><code>print()</code></b> function when writing long sentences that have variables in between. For example:"
   ]
  },
  {
   "cell_type": "code",
   "execution_count": 46,
   "metadata": {
    "collapsed": true,
    "nbgrader": {
     "grade": false,
     "locked": true,
     "solution": false
    }
   },
   "outputs": [
    {
     "name": "stdout",
     "output_type": "stream",
     "text": [
      "Area of my rectangle is 24 cm^2 and the area of my circle is 50.26548245743669 cm^2\n"
     ]
    }
   ],
   "source": [
    "print('Area of my rectangle is {} cm^2 and the area of my circle is {} cm^2'. \\\n",
    "      format(calculate_rectangle_area(4,6), calculate_circle_area(4)))"
   ]
  },
  {
   "attachments": {},
   "cell_type": "markdown",
   "metadata": {
    "nbgrader": {
     "grade": false,
     "locked": true,
     "solution": false
    }
   },
   "source": [
    "If a line in your code extends the width of your page, you can use a **\\\\** at the point where you want to break the line, as shown above.\n",
    "\n",
    "Note that the variables (separated by commas) called inside the <b><code>.format()</code></b> will appear, in order, where the <b>{ }</b> are located.\n",
    "\n",
    "Furthermore, you can also format how you want the numbers to appear, as shown below:"
   ]
  },
  {
   "cell_type": "code",
   "execution_count": 47,
   "metadata": {
    "collapsed": true,
    "nbgrader": {
     "grade": false,
     "locked": true,
     "solution": false
    }
   },
   "outputs": [
    {
     "name": "stdout",
     "output_type": "stream",
     "text": [
      "Area of my rectangle is 24.00000 cm^2 and the area of my circle is 50.27 cm^2\n"
     ]
    }
   ],
   "source": [
    "print('Area of my rectangle is {:.5f} cm^2 and the area of my circle is {:.2f} cm^2'. \\\n",
    "      format(calculate_rectangle_area(4,6), calculate_circle_area(4)))"
   ]
  },
  {
   "attachments": {},
   "cell_type": "markdown",
   "metadata": {},
   "source": [
    "Where the <b><code>:.5f</code></b> states that you want to print that variable with $5$ decimal numbers. Similarly, <b><code>:.2f</code></b> rounds the number to $2$ decimal numbers. More information on this in Section 3.1, in Notebook 3."
   ]
  },
  {
   "attachments": {},
   "cell_type": "markdown",
   "metadata": {
    "nbgrader": {
     "grade": false,
     "locked": true,
     "solution": false
    }
   },
   "source": [
    "### Documenting functions\n",
    "We have now successfully created a function that computes the area of a circle and the area of a rectangle. You could send this code to fellow students, but maybe they wouldn't know how to use them. This is where a <b>docstring</b> comes in handy. This is a string specified in the beginning of the function body which states information about the function. A lot of built-in Python functions also have docstrings, which is really useful when you're trying to understand how to use a function."
   ]
  },
  {
   "attachments": {},
   "cell_type": "markdown",
   "metadata": {
    "nbgrader": {
     "grade": false,
     "locked": true,
     "solution": false
    }
   },
   "source": [
    "Add a description to the <code>calculate_circle_area(r)</code> function below, as a docstring.<br> "
   ]
  },
  {
   "cell_type": "code",
   "execution_count": 48,
   "metadata": {
    "collapsed": true,
    "nbgrader": {
     "grade": false,
     "locked": false,
     "solution": false
    }
   },
   "outputs": [],
   "source": [
    "def calculate_circle_area(r):\n",
    "    '''This function calculate the area of a circle with radius r '''\n",
    "    pi_circle = 3.141592653589793\n",
    "    area = pi_circle*(r**2)\n",
    "    return area"
   ]
  },
  {
   "attachments": {},
   "cell_type": "markdown",
   "metadata": {
    "nbgrader": {
     "grade": false,
     "locked": true,
     "solution": false
    }
   },
   "source": [
    "As you can see, nothing happened. But, if we now call the function like this:\n",
    "```\n",
    "calculate_circle_area?\n",
    "```\n",
    "or:\n",
    "```\n",
    "help(calculate_circle_area)\n",
    "```\n",
    "we should see the description (docstring) of the function. Try yourself below:"
   ]
  },
  {
   "cell_type": "code",
   "execution_count": 49,
   "metadata": {
    "collapsed": true
   },
   "outputs": [
    {
     "name": "stdout",
     "output_type": "stream",
     "text": [
      "Help on function calculate_circle_area in module __main__:\n",
      "\n",
      "calculate_circle_area(r)\n",
      "    This function calculate the area of a circle with radius r\n",
      "\n"
     ]
    }
   ],
   "source": [
    "help(calculate_circle_area)\n"
   ]
  },
  {
   "attachments": {},
   "cell_type": "markdown",
   "metadata": {
    "nbgrader": {
     "grade": false,
     "locked": true,
     "solution": false
    }
   },
   "source": [
    "Now this isn't of much use when you work on your own code, unless you are very forgetful or have to write large programs.\n",
    "But if you work using other people's code, this is really useful, as it helps you figure out how to use each function."
   ]
  },
  {
   "attachments": {},
   "cell_type": "markdown",
   "metadata": {
    "nbgrader": {
     "grade": false,
     "locked": true,
     "solution": false
    }
   },
   "source": [
    "#### When to write or use a function?\n",
    "\n",
    "You can use functions in your code when you have a specific piece of code that you need to use multiple times (e.g.: plotting something).<br><br>Often you will find you want to use an output from a function later on. To do this, you can assign a function to a variable. Let's say I want to use the area of a circle in a later calculation. Then you can store it in a variable like this:\n",
    "\n",
    "We stored the area of a circle that has a radius 4 in the variable ``Circle_Area``"
   ]
  },
  {
   "cell_type": "code",
   "execution_count": 50,
   "metadata": {
    "collapsed": true,
    "nbgrader": {
     "grade": false,
     "locked": true,
     "solution": false
    }
   },
   "outputs": [],
   "source": [
    "Circle_Area = calculate_circle_area(4)"
   ]
  },
  {
   "attachments": {},
   "cell_type": "markdown",
   "metadata": {
    "nbgrader": {
     "grade": false,
     "locked": true,
     "solution": false
    }
   },
   "source": [
    "Nothing happens, but the value of <b><code>calculate_circle_area(4)</code></b> is now stored in the variable <b><code>Circle_Area</code></b>. See below:"
   ]
  },
  {
   "cell_type": "code",
   "execution_count": 51,
   "metadata": {
    "collapsed": true,
    "nbgrader": {
     "grade": false,
     "locked": true,
     "solution": false
    }
   },
   "outputs": [
    {
     "name": "stdout",
     "output_type": "stream",
     "text": [
      "50.26548245743669\n"
     ]
    }
   ],
   "source": [
    "print(Circle_Area)"
   ]
  },
  {
   "attachments": {},
   "cell_type": "markdown",
   "metadata": {
    "nbgrader": {
     "grade": false,
     "locked": true,
     "solution": false
    }
   },
   "source": [
    "We can see that the value was indeed stored.\n",
    "\n",
    "::: {warning}\n",
    "Variables that are defined inside a function body can <b>NOT</b> be called from outside of the function. These variables are called <b>local variables</b>.\n",
    ":::"
   ]
  },
  {
   "attachments": {},
   "cell_type": "markdown",
   "metadata": {
    "nbgrader": {
     "grade": false,
     "locked": true,
     "solution": false
    }
   },
   "source": [
    "Take the variable **`pi_circle`** that we defined in the function **`calculate_circle_area()`**. If we try to print it:"
   ]
  },
  {
   "cell_type": "code",
   "execution_count": 52,
   "metadata": {
    "collapsed": true,
    "nbgrader": {
     "grade": false,
     "locked": true,
     "solution": false
    }
   },
   "outputs": [
    {
     "ename": "NameError",
     "evalue": "name 'pi_circle' is not defined",
     "output_type": "error",
     "traceback": [
      "\u001b[1;31m---------------------------------------------------------------------------\u001b[0m",
      "\u001b[1;31mNameError\u001b[0m                                 Traceback (most recent call last)",
      "Cell \u001b[1;32mIn[52], line 1\u001b[0m\n\u001b[1;32m----> 1\u001b[0m \u001b[39mprint\u001b[39m(pi_circle)\n",
      "\u001b[1;31mNameError\u001b[0m: name 'pi_circle' is not defined"
     ]
    }
   ],
   "source": [
    "print(pi_circle)"
   ]
  },
  {
   "attachments": {},
   "cell_type": "markdown",
   "metadata": {
    "nbgrader": {
     "grade": false,
     "locked": true,
     "solution": false
    }
   },
   "source": [
    "See, it doesn't work!\n",
    "The error you get: <code> NameError: name 'pi_circle' is not defined</code>, means that you tried to call a variable that does not exist."
   ]
  },
  {
   "attachments": {},
   "cell_type": "markdown",
   "id": "93d877b3",
   "metadata": {
    "nbgrader": {
     "grade": false,
     "locked": true,
     "solution": false
    }
   },
   "source": [
    "## Additional study material:\n",
    "\n",
    "* Official Python Documentation - https://docs.python.org/3/tutorial/introduction.html\n",
    "* https://realpython.com/python-variables/\n",
    "* Think Python (2nd ed.) - Section 2\n",
    "\n",
    "* Official Python Documentation - https://docs.python.org/3/library/operator.html\n",
    "* https://realpython.com/python-operators-expressions/\n",
    "* Think Python (2nd ed.) - Sections 2 and 5\n",
    "\n",
    "* Official Python Documentation - https://docs.python.org/3/tutorial/controlflow.html#defining-functions\n",
    "* https://realpython.com/defining-your-own-python-function/\n",
    "* Think Python (2nd ed.) - Sections 3, 6 and 16"
   ]
  },
  {
   "attachments": {},
   "cell_type": "markdown",
   "metadata": {
    "nbgrader": {
     "grade": false,
     "locked": true,
     "solution": false
    }
   },
   "source": [
    "### After this Notebook you should be able to:\n",
    "\n",
    "- understand why you need to learn Python\n",
    "- create and re-assign new variables\n",
    "- determine the type of a variable using `type()`\n",
    "- slice strings\n",
    "- perform simple math using arithmetic operators\n",
    "- compare two or more variables\n",
    "- check if a value, or element, exists in an object\n",
    "- define a function, including its docstring"
   ]
  }
 ],
 "metadata": {
  "colab": {
   "collapsed_sections": [],
   "name": "merged.ipynb",
   "provenance": []
  },
  "kernelspec": {
   "display_name": "base",
   "language": "python",
   "name": "python3"
  },
  "language_info": {
   "codemirror_mode": {
    "name": "ipython",
    "version": 3
   },
   "file_extension": ".py",
   "mimetype": "text/x-python",
   "name": "python",
   "nbconvert_exporter": "python",
   "pygments_lexer": "ipython3",
   "version": "3.11.5"
  },
  "latex_envs": {
   "LaTeX_envs_menu_present": true,
   "autoclose": false,
   "autocomplete": true,
   "bibliofile": "biblio.bib",
   "cite_by": "apalike",
   "current_citInitial": 1,
   "eqLabelWithNumbers": true,
   "eqNumInitial": 1,
   "hotkeys": {
    "equation": "Ctrl-E",
    "itemize": "Ctrl-I"
   },
   "labels_anchors": false,
   "latex_user_defs": false,
   "report_style_numbering": false,
   "user_envs_cfg": false
  }
 },
 "nbformat": 4,
 "nbformat_minor": 5
}
