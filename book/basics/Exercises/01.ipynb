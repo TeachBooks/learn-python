{
 "cells": [
  {
   "attachments": {},
   "cell_type": "markdown",
   "metadata": {
    "id": "7vcVhbkFS81g",
    "nbgrader": {
     "grade": false,
     "locked": true,
     "solution": false
    }
   },
   "source": [
    "# Exercises"
   ]
  },
  {
   "attachments": {},
   "cell_type": "markdown",
   "id": "b30cda82",
   "metadata": {},
   "source": [
    "::: {note}\n",
    "You don't need to worry about using Interactive Jupyter Notebooks for these exercises. You can simply ignore the rocket icon ({fa}`rocket`) and go ahead to answer the questions using the knowledge you've gained from the chapter. Have fun!\n",
    "::: "
   ]
  },
  {
   "cell_type": "code",
   "execution_count": 1,
   "id": "2a982fe0",
   "metadata": {
    "tags": [
     "remove-input"
    ]
   },
   "outputs": [],
   "source": [
    "# jupyterquiz-import\n",
    "#import json\n",
    "#from jupyterquiz import display_quiz\n",
    "#load all questions json file\n",
    "#with open(\"01.json\", \"r\") as file:\n",
    "#    questions = json.load(file)\n",
    "\n",
    "#questions = [[q] for q in questions]"
   ]
  },
  {
   "cell_type": "code",
   "execution_count": null,
   "id": "96306ad3",
   "metadata": {
    "tags": [
     "remove-input"
    ]
   },
   "outputs": [],
   "source": [
    "# jupyterquiz-exercise-1-2-2\n",
    "# display_quiz(questions[0])"
   ]
  },
  {
   "cell_type": "code",
   "execution_count": null,
   "id": "2528ef76",
   "metadata": {
    "tags": [
     "remove-input"
    ]
   },
   "outputs": [],
   "source": [
    "#jupyterquiz-exercise-1-2-3\n",
    "#display_quiz(questions[1])"
   ]
  },
  {
   "attachments": {},
   "cell_type": "markdown",
   "metadata": {
    "nbgrader": {
     "grade": false,
     "locked": true,
     "solution": false
    }
   },
   "source": [
    "<!-- exercise 1.2.4 -->\n",
    "\n",
    "## (Fixing) Exercise\n",
    "In the following exercise you will be using a piece of code, which was written by other people. It can contain concepts you haven't encountered yet but you need to practice with using code you don't understand completely. This is because you want to be able to use programs written by other people. Just like with calculators — if you add two numbers you get the result you expect to get. But you don't know exactly how that piece of plastics with electronic components performs that calculation.\n",
    "\n",
    "In order to approach the problem, start from the point of error. If your error cannot be solved there, work your way backwards through the code. Only try to understand the parts that are necessary to fix your problem, and avoid changing parts you know that work.\n",
    "\n",
    "There are 2 types of numbers in Python: integer numbers and floating point numbers. Both have overlapping and different applications. For example, counting rocks will require only integers (1 rock, 2 rocks, 3 rocks, etc), while their weight can be expressed in both <i>int</i> and <i>float</i> (depending on the required accuracy).\n",
    "\n",
    "In the code cell below you can see a small **dataset** of the measured daily temperatures and a **filter function**, which is used to remove incorrect measurements. A student wanted to indicate the position of the erroneous measurement, so it can be later filtered out during data analysis. However, when using the filter function, ``filter_errors``, the  erroneous measurement it wasn't removed. The filter function is known to work flawlessly (no errors there), meaning that the mistake happened in the indication step. It is known that the corrupted sample is the 5th in the dataset (5th because the first element has index 0! Python has a zero-based indexing).\n",
    "\n",
    "<!---\n",
    "What is the error? \n",
    "\n",
    "<ol type=\"a\">\n",
    "  <li> The name of the dataset is wrong. </li>\n",
    "  <li> The error_id variable must be type integer. </li>\n",
    "  <li> The function is wrong, Python has not a zero-based indexing. </li>\n",
    "</ol> \n",
    "-->\n"
   ]
  },
  {
   "cell_type": "code",
   "execution_count": 45,
   "metadata": {
    "collapsed": true,
    "nbgrader": {
     "grade": false,
     "locked": true,
     "solution": false
    }
   },
   "outputs": [],
   "source": [
    "temperature_dataset = [12.0, 13.5, 11.0, 12.7, 670.5, 11.8] # in Celsius\n",
    "\n",
    "def filter_errors(dataset, error_id):\n",
    "    print('Data before filtering', dataset)\n",
    "    del dataset[error_id - 1] \n",
    "\n",
    "    return print('Data after filtering', dataset)\n",
    "\n",
    "filter_errors(temperature_dataset, 5.0)"
   ]
  },
  {
   "cell_type": "markdown",
   "id": "8f35ce73",
   "metadata": {},
   "source": [
    "<iframe src=\"https://tudelft.h5p.com/content/1292447895522186757/embed\" aria-label=\"Exercise 1.2.4\" width=\"1088\" height=\"637\" frameborder=\"0\" allowfullscreen=\"allowfullscreen\" allow=\"autoplay *; geolocation *; microphone *; camera *; midi *; encrypted-media *\"></iframe><script src=\"https://tudelft.h5p.com/js/h5p-resizer.js\" charset=\"UTF-8\"></script>"
   ]
  },
  {
   "cell_type": "code",
   "execution_count": null,
   "id": "aa382b90",
   "metadata": {
    "tags": [
     "remove-input"
    ]
   },
   "outputs": [],
   "source": [
    "#jupyterquiz-exercise-1-2-4\n",
    "#display_quiz(questions[2])"
   ]
  },
  {
   "attachments": {},
   "cell_type": "markdown",
   "metadata": {
    "nbgrader": {
     "grade": false,
     "locked": true,
     "solution": false
    }
   },
   "source": [
    "<!-- exercise 1.2.5 -->\n",
    "## (Searching) Exercise\n",
    "There are also other data types in Python, which were not mentioned in this part (in case they are not as useful or will be introduced later). For instance, <b>Complex</b> is one of them. The sad truth is that every software developer Googles a lot. It's not because she/he is lazy or incompetent. It is because programming languages are constantly updated and some tools are limited to a narrow field of applications. It is impractical to learn everything at once, therefore every coder has learned how to look up the functionality their task requires. Therefore, it is crucial for you to learn how to Google as well. Complex type is used in Python to represent complex numbers. If you haven't heard about them — a complex number is a number, which has a real and an imaginary part. For example, $x = 17 + 5i$. Here, $x$ is a complex number with a real part of $17$ and an imaginary part of $5$.\n",
    "\n",
    "Your task is to create a variable <code>my_complex_number</code> of Complex type and assign a $3 + 2i$ value to it. For that you will have to Google a bit. Try to look for something like \"Python complex variables\". Python is very popular and you will be able to find everything you need. Make sure to filter the information you need — not everything you will find will be useful for this simple exercise.\n"
   ]
  },
  {
   "cell_type": "markdown",
   "id": "0c398998",
   "metadata": {},
   "source": [
    "<iframe src=\"https://tudelft.h5p.com/content/1292447898113974867/embed\" aria-label=\"Exercise 1.2.5\" width=\"1088\" height=\"637\" frameborder=\"0\" allowfullscreen=\"allowfullscreen\" allow=\"autoplay *; geolocation *; microphone *; camera *; midi *; encrypted-media *\"></iframe><script src=\"https://tudelft.h5p.com/js/h5p-resizer.js\" charset=\"UTF-8\"></script>"
   ]
  },
  {
   "cell_type": "code",
   "execution_count": null,
   "id": "6acdf92e",
   "metadata": {
    "tags": [
     "remove-input"
    ]
   },
   "outputs": [],
   "source": [
    "#jupyterquiz-exercise-1-2-5\n",
    "#display_quiz(questions[3])"
   ]
  },
  {
   "attachments": {},
   "cell_type": "markdown",
   "metadata": {
    "id": "3BXmdvSbS3WE",
    "nbgrader": {
     "grade": false,
     "locked": true,
     "solution": false
    }
   },
   "source": [
    "<!-- exercise 1.3.1 -->\n",
    "## Exercise\n",
    "\n",
    "Given that we have a rectangle with a height of $3$ cm, width of $5$ cm and a cutout circle of radius $0.6$ cm, as shown below. \n",
    "\n",
    "```{image} 01.png\n",
    ":alt: rectangle\n",
    ":width: 400px\n",
    ":align: center\n",
    "```\n",
    "\n",
    "\n",
    "In the code cell bellow you will find a script that computes the remainder area. However there is a mistake in the code. \n",
    "<!--\n",
    "1. Where is the mistake? \n",
    "  <ol type=\"a\">\n",
    "    <li> The value of pi is incorrect </li>\n",
    "    <li> The exponent operator is incorrect </li>\n",
    "    <li> The formula of the rectangle area is incorrect</li>\n",
    "  </ol> \n",
    "\n",
    "2. What will the remainder area of the rectangle be? Hint: $A_{circle} = \\pi r^2$\n",
    "-->"
   ]
  },
  {
   "cell_type": "code",
   "execution_count": 46,
   "id": "78bdcc2e",
   "metadata": {},
   "outputs": [],
   "source": [
    "rectangle_height = 3\n",
    "rectangle_width = 5\n",
    "pi = 3.14159265359\n",
    "radius = 0.6\n",
    "\n",
    "circle_area = pi * radius * 2\n",
    "rectangle_area = rectangle_height * rectangle_width\n",
    "remaining_area =  rectangle_area - circle_area \n",
    "\n",
    "print(f'The remaining area is {remaining_area:.2f} cm^2')"
   ]
  },
  {
   "cell_type": "markdown",
   "id": "48db5c7d",
   "metadata": {},
   "source": [
    "<iframe src=\"https://tudelft.h5p.com/content/1292447903274980687/embed\" aria-label=\"Exercise 1.3.1\" width=\"1088\" height=\"637\" frameborder=\"0\" allowfullscreen=\"allowfullscreen\" allow=\"autoplay *; geolocation *; microphone *; camera *; midi *; encrypted-media *\"></iframe><script src=\"https://tudelft.h5p.com/js/h5p-resizer.js\" charset=\"UTF-8\"></script>\n"
   ]
  },
  {
   "cell_type": "code",
   "execution_count": null,
   "id": "f8eced6e",
   "metadata": {
    "tags": [
     "remove-input"
    ]
   },
   "outputs": [],
   "source": [
    "#jupyterquiz-exercise-1-3-1\n",
    "#display_quiz(questions[4]+questions[5])"
   ]
  },
  {
   "cell_type": "code",
   "execution_count": null,
   "id": "dd01263b",
   "metadata": {
    "tags": [
     "remove-input"
    ]
   },
   "outputs": [],
   "source": [
    "#jupyterquiz-exercise-1-3-2\n",
    "#display_quiz(questions[6])"
   ]
  }
 ],
 "metadata": {
  "colab": {
   "collapsed_sections": [],
   "name": "merged.ipynb",
   "provenance": []
  },
  "kernelspec": {
   "display_name": "base",
   "language": "python",
   "name": "python3"
  },
  "language_info": {
   "codemirror_mode": {
    "name": "ipython",
    "version": 3
   },
   "file_extension": ".py",
   "mimetype": "text/x-python",
   "name": "python",
   "nbconvert_exporter": "python",
   "pygments_lexer": "ipython3",
   "version": "3.8.13"
  },
  "latex_envs": {
   "LaTeX_envs_menu_present": true,
   "autoclose": false,
   "autocomplete": true,
   "bibliofile": "biblio.bib",
   "cite_by": "apalike",
   "current_citInitial": 1,
   "eqLabelWithNumbers": true,
   "eqNumInitial": 1,
   "hotkeys": {
    "equation": "Ctrl-E",
    "itemize": "Ctrl-I"
   },
   "labels_anchors": false,
   "latex_user_defs": false,
   "report_style_numbering": false,
   "user_envs_cfg": false
  }
 },
 "nbformat": 4,
 "nbformat_minor": 5
}
