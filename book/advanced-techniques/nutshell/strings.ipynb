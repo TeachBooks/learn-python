{
 "cells": [
  {
   "cell_type": "code",
   "execution_count": 1,
   "metadata": {},
   "outputs": [],
   "source": [
    "from math import pi \n",
    "import os "
   ]
  },
  {
   "attachments": {},
   "cell_type": "markdown",
   "metadata": {},
   "source": [
    "# Advanced Strings\n",
    "In Python, <b><code>strings</code></b> are created using quotes ('' or \"\") and are immutable, while <b><code>f-strings</code></b> are formatted strings that allow embedding expressions inside curly braces { } for dynamic value substitution during runtime. Here is a couple of examples for strings:"
   ]
  },
  {
   "cell_type": "code",
   "execution_count": 2,
   "metadata": {},
   "outputs": [
    {
     "name": "stdout",
     "output_type": "stream",
     "text": [
      "Alice 25 engineer\n"
     ]
    }
   ],
   "source": [
    "name = \"Alice\"\n",
    "age = 25\n",
    "profession = \"engineer\"\n",
    "\n",
    "print (name,age,profession)\n"
   ]
  },
  {
   "attachments": {},
   "cell_type": "markdown",
   "metadata": {},
   "source": [
    "Here is the same example made as a complete sentence using <b><code>f-strings</code></b>. "
   ]
  },
  {
   "cell_type": "code",
   "execution_count": 3,
   "metadata": {},
   "outputs": [
    {
     "name": "stdout",
     "output_type": "stream",
     "text": [
      "My name is Alice, I'm 25 years old, and I work as an engineer.\n"
     ]
    }
   ],
   "source": [
    "intro = f\"My name is {name}, I'm {age} years old, and I work as an {profession}.\"\n",
    "\n",
    "print (intro)"
   ]
  },
  {
   "attachments": {},
   "cell_type": "markdown",
   "metadata": {},
   "source": [
    "### Formatting numbers\n",
    "Python's f-strings provide a convenient way to format numbers by using the colon character and specifying the desired format. The following table demonstrates a couple of examples with the number $1$ using <code>f-strings</code></b>:<br><br>\n",
    "\n",
    "| Code | Result|\n",
    "|------|------|\n",
    "| 1:.2f | 1.00|\n",
    "| 1:.0f| 1|\n",
    "| 1:.10f| 1.0000000000 | \n",
    "| 1:%| 100.000000%|\n",
    "| 1:.1%| 100.0% |\n",
    "| 1:e| 1.000000e+00 |"
   ]
  },
  {
   "attachments": {},
   "cell_type": "markdown",
   "metadata": {},
   "source": [
    "In the example below, the sleep() function from the time module is used to simulate the passage of time and provide a simple demonstration of a progress bar implementation. We define a function <b>simulate_long_running_algorithm()</b> that performs a loop with a sleep of 0.5 seconds between iterations. Within each iteration, the progress of the algorithm is calculated and used to construct a progress bar string. The progress bar consists of a series of equal signs (=) that visually represent the progress, followed by the percentage completion formatted to one decimal defined inside an <code>f-strings</code>."
   ]
  },
  {
   "cell_type": "code",
   "execution_count": 5,
   "metadata": {},
   "outputs": [
    {
     "name": "stdout",
     "output_type": "stream",
     "text": [
      "[====================] 100.0%\n",
      "Algorithm complete!\n"
     ]
    }
   ],
   "source": [
    "import time\n",
    "\n",
    "def simulate_long_running_algorithm():\n",
    "    total_iterations = 10\n",
    "    for i in range(total_iterations):\n",
    "        time.sleep(0.5)  # Simulating processing time\n",
    "        progress = (i + 1) / total_iterations\n",
    "        progress_bar = f\"[{'=' * int(progress * 20):20s}] {progress * 100:.1f}%\"\n",
    "        print(progress_bar, end='\\r')  # Print on the same line\n",
    "    print(\"\\nAlgorithm complete!\")\n",
    "\n",
    "simulate_long_running_algorithm()\n"
   ]
  },
  {
   "attachments": {},
   "cell_type": "markdown",
   "metadata": {},
   "source": [
    "<h3>Escape characters</h3>\n",
    "\n",
    "<code>Escape characters</code> in programming are special characters that are used to represent certain non-printable or special characters within strings. They are typically represented by a backslash (' \\ ') followed by a specific character or sequence. We used two <code>escape characters</code> in the previous example, can you identify them?\n",
    "\n",
    "| Code | Result| Description |\n",
    "|------|------|------ |\n",
    "|   \\\\'  | ' |  represents the escape sequence for a single quote (').|\n",
    "| \\\\\\    | \\\\ | represents the escape sequence for a backslash (' \\ ').|\n",
    "| \\\\n | new line| represents the escape sequence for a new line character, which moves the cursor to the beginning of the next line. | \n",
    "| \\\\r | carriage return  | represents the escape sequence for a carriage return character, which moves the cursor to the beginning of the current line.|\n",
    "| \\\\t | tab |represents the escape sequence for a tab character, which adds horizontal spacing. |\n",
    "| \\\\b | backspace |  represents the escape sequence for a backspace character, which moves the cursor one position back. |"
   ]
  }
 ],
 "metadata": {
  "kernelspec": {
   "display_name": "Python 3",
   "language": "python",
   "name": "python3"
  },
  "language_info": {
   "codemirror_mode": {
    "name": "ipython",
    "version": 3
   },
   "file_extension": ".py",
   "mimetype": "text/x-python",
   "name": "python",
   "nbconvert_exporter": "python",
   "pygments_lexer": "ipython3",
   "version": "3.11.2"
  },
  "orig_nbformat": 4
 },
 "nbformat": 4,
 "nbformat_minor": 2
}
