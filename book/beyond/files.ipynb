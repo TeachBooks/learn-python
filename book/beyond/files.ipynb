{
 "cells": [
  {
   "attachments": {},
   "cell_type": "markdown",
   "metadata": {},
   "source": [
    "# Working with files\n",
    "\n",
    "A lot of the work you'll do in Python will have the following structure:\n",
    "1. Read data from a file\n",
    "2. Perform computations on the data\n",
    "3. Visualize the results and/or save the results to a file\n",
    "\n",
    "So far, we have only learned about computations. So let's learn a bit about how to manage files. Actually, opening or saving files is usually done with the help of modules which you will learn in more detail in Notebook 4 and 6. What we'll discuss here is how to manage file paths.\n",
    "\n",
    "### File paths\n",
    "\n",
    "To learn how to use files we need to learn how file paths in computers work. If you are tech-savvy and know how file paths work you can skip this part.\n",
    "\n",
    "File paths in computers work like a tree. They start at the <b>root</b> directory, which is often the <b><code>C:</code></b> drive (in Windows). This is the name of the hard drive that stores your Operating System. From the <b><code>C:</code></b> drive you can navigate into other directories. This is done using the **``\\``** character, however in other Operating Systems often the <b><code>/</code></b> delimiter is used.\n",
    "\n",
    "If a file is in the folder <b><code>Users</code></b>, which is stored in the <b><code>C:</code></b> directory, the file path would be <b><code>C:\\Users</code></b>. These types of file paths are called <b>absolute paths</b>. This file path is valid for most computers that run Windows, but some other Operating Systems may have different folder setups. This is why it is useful to use <b>relative paths</b>. Relative paths do not start from the root directory. Instead, they start from the directory you are currently in. By default, Jupyter Notebooks are stored in <b><code>C:\\Users\\CurrentUser</code></b> (where <b><code>CurrentUser</code></b> is your Windows username). To move into a directory using a relative path, for example, to the desktop folder, you would just write <b><code>.\\Desktop</code></b>. To move back a directory, using a relative path, you would type <b><code>..</code></b>\n",
    "\n",
    "`os.listdir()` or `os.listdir('./')` list all the entries in your current directory `os.listdir('../')` list all entries if we go back one level. \n",
    "\n",
    ":::{note}\n",
    "We use the `/` as delimiter, since a `\\` won't work on macOS\n",
    ":::"
   ]
  },
  {
   "cell_type": "code",
   "execution_count": 2,
   "metadata": {
    "nbgrader": {
     "grade": false,
     "locked": true,
     "solution": false
    }
   },
   "outputs": [
    {
     "name": "stdout",
     "output_type": "stream",
     "text": [
      "['01.ipynb']\n",
      "['01.ipynb']\n",
      "['Exercises', 'In_a_Nutshell', 'Theory']\n"
     ]
    }
   ],
   "source": [
    "import os\n",
    "\n",
    "print(os.listdir())\n",
    "print(os.listdir('./'))\n",
    "\n",
    "print(os.listdir('../'))"
   ]
  },
  {
   "attachments": {},
   "cell_type": "markdown",
   "metadata": {
    "nbgrader": {
     "grade": false,
     "locked": true,
     "solution": false
    }
   },
   "source": [
    ":::{warning}\n",
    "Keep in mind that, in Python, all file paths must be strings!\n",
    ":::"
   ]
  },
  {
   "attachments": {},
   "cell_type": "markdown",
   "metadata": {
    "nbgrader": {
     "grade": false,
     "locked": true,
     "solution": false
    }
   },
   "source": [
    "### ``pathlib`` and <code>os</code> modules\n",
    "\n",
    "These modules are very useful in managing and navigating your file paths. The function <b><code>path.expanduser('~')</code></b>, from the <b><code>os</code></b> module, allows you to find your root directory, independent of your Operating System. Try the below cell to see it."
   ]
  },
  {
   "cell_type": "code",
   "execution_count": 5,
   "metadata": {
    "nbgrader": {
     "grade": false,
     "locked": true,
     "solution": false
    }
   },
   "outputs": [
    {
     "name": "stdout",
     "output_type": "stream",
     "text": [
      "C:\\Users\\mmendozalugo\n"
     ]
    }
   ],
   "source": [
    "from pathlib import Path\n",
    "import os\n",
    "\n",
    "root_path = os.path.expanduser('~')\n",
    "print(root_path)\n"
   ]
  },
  {
   "attachments": {},
   "cell_type": "markdown",
   "metadata": {
    "nbgrader": {
     "grade": false,
     "locked": true,
     "solution": false
    }
   },
   "source": [
    "The path shown above is thus the absolute path to your current directory.\n",
    "\n",
    "This can come in handy when you write a code that needs to create directories in the user's computer to save data files and/or plots. As an example, the code below checks if a directory exists and, if it doesn't, it creates one.\n",
    "\n",
    "The `os.path.join` is used to concatenate two strings to form a path string with the appropriate delimiter.\n",
    "\n",
    "The code will check if a directory named `plots` exists in your current directory if not, it will create one."
   ]
  },
  {
   "cell_type": "code",
   "execution_count": null,
   "metadata": {},
   "outputs": [],
   "source": [
    "print('Contents of current directory (before):')\n",
    "print(os.listdir(root_path))\n",
    "\n",
    "imdir = os.path.join(root_path,'plots') \n",
    "print(f'\\nimdir = {imdir}')\n",
    "\n",
    "Path(imdir).mkdir(parents=True, exist_ok=True)\n",
    "\n",
    "print('\\nContents of current directory (after creating the new directory):')\n",
    "print(os.listdir(root_path))\n"
   ]
  },
  {
   "cell_type": "code",
   "execution_count": 17,
   "metadata": {
    "tags": [
     "remove-input"
    ]
   },
   "outputs": [
    {
     "name": "stdout",
     "output_type": "stream",
     "text": [
      "Contents of current directory (before):\n",
      "['Exercises', 'In_a_Nutshell', 'Theory']\n",
      "imdir =  C:\\Users\\mmendozalugo\\plots\n",
      "\n",
      "Contents of current directory (after creating the new directory):\n",
      "['Exercises', 'In_a_Nutshell', 'plots', 'Theory']\n"
     ]
    }
   ],
   "source": [
    "root_path = r'C:\\Users\\mmendozalugo\\OneDrive\\PhD\\Work\\Python_MOOC\\PM\\learn-python\\book\\03'\n",
    "\n",
    "print('Contents of current directory (before):')\n",
    "print(os.listdir(root_path))\n",
    "\n",
    "imdir = os.path.join(root_path,'plots') \n",
    "print('imdir = ',r'C:\\Users\\mmendozalugo\\plots')\n",
    "\n",
    "Path(imdir).mkdir(parents=True, exist_ok=True)\n",
    "\n",
    "print('\\nContents of current directory (after creating the new directory):')\n",
    "print(os.listdir(root_path))\n"
   ]
  },
  {
   "attachments": {},
   "cell_type": "markdown",
   "metadata": {},
   "source": [
    "To delete the folder that was just created we run the code bellow."
   ]
  },
  {
   "cell_type": "code",
   "execution_count": null,
   "metadata": {},
   "outputs": [],
   "source": [
    "try:\n",
    "    os.rmdir(imdir)\n",
    "    print(f'Directory {imdir} has been deleted.')\n",
    "except:\n",
    "    print('You already deleted the folder. :)')"
   ]
  },
  {
   "cell_type": "code",
   "execution_count": 18,
   "metadata": {
    "tags": [
     "remove-input"
    ]
   },
   "outputs": [
    {
     "name": "stdout",
     "output_type": "stream",
     "text": [
      "Directory C:\\Users\\mmendozalugo\\plots has been deleted.\n"
     ]
    }
   ],
   "source": [
    "print('Directory', r'C:\\Users\\mmendozalugo\\plots','has been deleted.')\n"
   ]
  },
  {
   "attachments": {},
   "cell_type": "markdown",
   "metadata": {
    "nbgrader": {
     "grade": false,
     "locked": true,
     "solution": false
    }
   },
   "source": [
    "Now you are, hopefully, a bit more used to working with file paths. For the next test, we are going to try to open a file. We can use some built-in Python functions to open a <b><i>*.txt</i></b> file and print its contents."
   ]
  },
  {
   "cell_type": "markdown",
   "metadata": {},
   "source": [
    "## Additional study material\n",
    "\n",
    "* Official Python Documentation - https://docs.python.org/3/tutorial/inputoutput.html\n",
    "* https://realpython.com/python-f-strings/\n",
    "* Official Python Documentation - https://docs.python.org/3/reference/expressions.html\n",
    "* https://realpython.com/python-lambda/\n",
    "* Official Python Documentation - https://docs.python.org/3/library/filesys.html\n",
    "* https://realpython.com/working-with-files-in-python/\n"
   ]
  },
  {
   "cell_type": "code",
   "execution_count": null,
   "metadata": {},
   "outputs": [],
   "source": [
    "After this Notebook you should be able to:\n",
    "\n",
    "- print a variable, formatting it in an appropriate manner\n",
    "- know the existence of escape characters\n",
    "- know how to use lambda functions\n",
    "- understand how file paths work\n",
    "- create and delete new directories \n"
   ]
  }
 ],
 "metadata": {
  "kernelspec": {
   "display_name": "base",
   "language": "python",
   "name": "python3"
  },
  "language_info": {
   "codemirror_mode": {
    "name": "ipython",
    "version": 3
   },
   "file_extension": ".py",
   "mimetype": "text/x-python",
   "name": "python",
   "nbconvert_exporter": "python",
   "pygments_lexer": "ipython3",
   "version": "3.8.13"
  },
  "latex_envs": {
   "LaTeX_envs_menu_present": true,
   "autoclose": false,
   "autocomplete": true,
   "bibliofile": "biblio.bib",
   "cite_by": "apalike",
   "current_citInitial": 1,
   "eqLabelWithNumbers": true,
   "eqNumInitial": 1,
   "hotkeys": {
    "equation": "Ctrl-E",
    "itemize": "Ctrl-I"
   },
   "labels_anchors": false,
   "latex_user_defs": false,
   "report_style_numbering": false,
   "user_envs_cfg": false
  }
 },
 "nbformat": 4,
 "nbformat_minor": 2
}
