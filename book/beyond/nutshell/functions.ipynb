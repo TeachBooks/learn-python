{
 "cells": [
  {
   "attachments": {},
   "cell_type": "markdown",
   "metadata": {},
   "source": [
    "# Beyond the Basics: Functions\n",
    "\n",
    "An example of an advanced fuction can be the  <code>lambda function</code>. It is an anonymous function in Python that can be defined in a single line using the <b>lambda</b> keyword. It is typically used for simple and concise operations without the need for a formal function definition.\n",
    "\n",
    "Here's an example that showcases the difference between lambda functions and normal functions:"
   ]
  },
  {
   "cell_type": "code",
   "execution_count": null,
   "metadata": {},
   "outputs": [],
   "source": [
    "from math import pi \n",
    "import os "
   ]
  },
  {
   "cell_type": "code",
   "execution_count": 6,
   "metadata": {},
   "outputs": [
    {
     "name": "stdout",
     "output_type": "stream",
     "text": [
      "12\n",
      "12\n"
     ]
    }
   ],
   "source": [
    "# Normal function\n",
    "def multiply(x, y):\n",
    "    return x * y\n",
    "\n",
    "result = multiply(3, 4)\n",
    "print(result)  # Output: 12\n",
    "\n",
    "# Lambda function\n",
    "multiply_lambda = lambda x, y: x * y\n",
    "\n",
    "result_lambda = multiply_lambda(3, 4)\n",
    "print(result_lambda)  # Output: 12\n"
   ]
  },
  {
   "attachments": {},
   "cell_type": "markdown",
   "metadata": {},
   "source": [
    "Both the normal function and the <code>lambda function</code> are used to multiply 3 and 4. The results obtained from both approaches are identical (12). The key difference is that the normal function is defined with the def keyword, whereas the <code>lambda function</code> is defined using the lambda keyword without a formal function name.\n",
    "\n",
    "<code>lambda functions</code> are particularly useful in scenarios where a small, one-time function is needed without the need for a full function definition and name."
   ]
  }
 ],
 "metadata": {
  "kernelspec": {
   "display_name": "Python 3",
   "language": "python",
   "name": "python3"
  },
  "language_info": {
   "codemirror_mode": {
    "name": "ipython",
    "version": 3
   },
   "file_extension": ".py",
   "mimetype": "text/x-python",
   "name": "python",
   "nbconvert_exporter": "python",
   "pygments_lexer": "ipython3",
   "version": "3.11.2"
  },
  "orig_nbformat": 4
 },
 "nbformat": 4,
 "nbformat_minor": 2
}
