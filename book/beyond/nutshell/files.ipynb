{
 "cells": [
  {
   "attachments": {},
   "cell_type": "markdown",
   "metadata": {},
   "source": [
    "# Beyond the Basics: Working with Files\n",
    "\n",
    "A lot of the work you'll do in Python will have the following structure:\n",
    "1. Read data from a file\n",
    "2. Perform computations on the data\n",
    "3. Visualize the results and/or save the results to a file"
   ]
  },
  {
   "attachments": {},
   "cell_type": "markdown",
   "metadata": {},
   "source": [
    "### File paths\n",
    "File paths on computers work based on a hierarchical structure, often represented as a tree. The root directory serves as the starting point, typically represented by a drive letter (e.g., C: on Windows). From the root directory, you can navigate to other directories using a delimiter character (\\ on Windows or / on Unix-based systems). Each directory can contain files and subdirectories, forming a hierarchical structure.\n",
    "\n",
    "Absolute paths specify the complete path from the root directory, while relative paths are relative to the current working directory. By understanding and manipulating file paths, you can effectively locate and access files and directories on a computer's file system."
   ]
  },
  {
   "attachments": {},
   "cell_type": "markdown",
   "metadata": {},
   "source": [
    "### ``pathlib`` and <code>os</code> modules\n",
    "\n",
    "The <code>os</code> module in Python provides functions for interacting with the operating system, offering operations related to file management, directory handling, process management, and environment variables. It allows you to perform tasks such as creating, deleting, and modifying files and directories, launching external processes, accessing and modifying environment variables, and writing platform-independent code.\n",
    "\n",
    "On the other hand, the <code>pathlib</code> module introduced in Python 3.4 offers an object-oriented approach to working with file paths and directories. It provides the Path class, which represents paths as objects, allowing for more intuitive and expressive manipulation of paths compared to the traditional string-based operations in <code>os</code>. With <code>pathlib</code>, you can perform operations like joining paths, checking file existence, accessing file attributes, and creating directories in a more convenient and readable manner.\n",
    "\n",
    "The table below summuraizes some codes you can use for creating and adjusting your own file paths:"
   ]
  },
  {
   "attachments": {},
   "cell_type": "markdown",
   "metadata": {},
   "source": [
    "| Code | Result | Description |\n",
    "|------|--------|-------------|\n",
    "| `os.path.join(path, *paths)` | Path string | Joins one or more path components intelligently. It concatenates the arguments using the appropriate path delimiter for the operating system. |\n",
    "| `os.path.abspath(path)` | Absolute path string | Returns the absolute path of the specified path. It resolves any symbolic links and references to parent directories. |\n",
    "| `os.path.exists(path)` | Boolean | Checks if the specified path exists in the file system. Returns `True` if the path exists, and `False` otherwise. |\n",
    "| `os.path.isdir(path)` | Boolean | Checks if the specified path is a directory. Returns `True` if the path is a directory, and `False` otherwise. |\n",
    "| `os.path.isfile(path)` | Boolean | Checks if the specified path is a regular file. Returns `True` if the path is a file, and `False` otherwise. |\n",
    "| `os.path.splitext(path)` | Tuple (base, ext) | Splits the specified path into its base name and extension. Returns a tuple where the first element is the base name and the second element is the extension (including the dot). |\n",
    "| `os.path.basename(path)` | Base name string | Returns the base name (the file or directory name) from the specified path. |\n",
    "| `os.path.dirname(path)` | Directory name string | Returns the directory name from the specified path. |\n",
    "\n",
    "Here are some examples of how to use these codes: "
   ]
  },
  {
   "cell_type": "code",
   "execution_count": 8,
   "metadata": {},
   "outputs": [
    {
     "name": "stdout",
     "output_type": "stream",
     "text": [
      "Path: folder\\subfolder\\file.txt\n",
      "Absolute Path: c:\\Users\\ahmed\\Documents\\GitHub\\learn-python\\book\\03\\In_a_Nutshell\\folder\\subfolder\\file.txt\n",
      "Exists: False\n",
      "Is Directory: False\n",
      "Is File: False\n",
      "Base Name: file.txt\n",
      "Directory Name: folder\\subfolder\n",
      "Extension: .txt\n"
     ]
    }
   ],
   "source": [
    "import os\n",
    "\n",
    "path = os.path.join('folder', 'subfolder', 'file.txt')  # Joining path components intelligently using appropriate delimiter.\n",
    "absolute_path = os.path.abspath(path)  # Getting the absolute path of the specified path.\n",
    "exists = os.path.exists(path)  # Checking if the specified path exists.\n",
    "is_directory = os.path.isdir(path)  # Checking if the specified path is a directory.\n",
    "is_file = os.path.isfile(path)  # Checking if the specified path is a file.\n",
    "base_name, extension = os.path.splitext(path)  # Splitting the path into base name and extension.\n",
    "basename = os.path.basename(path)  # Getting the base name (file or directory name) from the path.\n",
    "dirname = os.path.dirname(path)  # Getting the directory name from the path.\n",
    "\n",
    "# Printing the information\n",
    "print(\"Path:\", path)  # Path string\n",
    "print(\"Absolute Path:\", absolute_path)  # Absolute path string\n",
    "print(\"Exists:\", exists)  # Boolean indicating if path exists\n",
    "print(\"Is Directory:\", is_directory)  # Boolean indicating if path is a directory\n",
    "print(\"Is File:\", is_file)  # Boolean indicating if path is a file\n",
    "print(\"Base Name:\", basename)  # Base name of the file or directory\n",
    "print(\"Directory Name:\", dirname)  # Directory name of the path\n",
    "print(\"Extension:\", extension)  # File extension with the dot\n"
   ]
  },
  {
   "attachments": {},
   "cell_type": "markdown",
   "metadata": {},
   "source": [
    "This code demonstrates the usage of various <code>os.path</code> functions to perform operations on file paths, such as joining paths, obtaining absolute paths, checking existence, identifying directories or files, splitting paths into base names and extensions, and retrieving the base name and directory name from a path. The corresponding outputs are displayed to provide the relevant information."
   ]
  }
 ],
 "metadata": {
  "kernelspec": {
   "display_name": "Python 3",
   "language": "python",
   "name": "python3"
  },
  "language_info": {
   "codemirror_mode": {
    "name": "ipython",
    "version": 3
   },
   "file_extension": ".py",
   "mimetype": "text/x-python",
   "name": "python",
   "nbconvert_exporter": "python",
   "pygments_lexer": "ipython3",
   "version": "3.11.2"
  },
  "orig_nbformat": 4
 },
 "nbformat": 4,
 "nbformat_minor": 2
}
