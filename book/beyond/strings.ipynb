{
 "cells": [
  {
   "attachments": {},
   "cell_type": "markdown",
   "metadata": {
    "nbgrader": {
     "grade": false,
     "locked": true,
     "solution": false
    }
   },
   "source": [
    "# Beyond the Basics: Strings\n",
    "\n",
    "Welcome to the third Notebook. In this Notebook we are going to learn some advanced Python. Let's first start with strings. Run the code below and see what it prints out."
   ]
  },
  {
   "cell_type": "code",
   "execution_count": null,
   "metadata": {},
   "outputs": [],
   "source": [
    "from math import pi \n",
    "import os "
   ]
  },
  {
   "cell_type": "code",
   "execution_count": 1,
   "metadata": {
    "collapsed": true,
    "nbgrader": {
     "grade": false,
     "locked": true,
     "solution": false
    }
   },
   "outputs": [
    {
     "name": "stdout",
     "output_type": "stream",
     "text": [
      "This is an F-String\n",
      "This is a string\n"
     ]
    }
   ],
   "source": [
    "MyFString = f\"This is an F-String\"\n",
    "MyString = \"This is a string\"\n",
    "print(MyFString)\n",
    "print(MyString)"
   ]
  },
  {
   "attachments": {},
   "cell_type": "markdown",
   "metadata": {
    "nbgrader": {
     "grade": false,
     "locked": true,
     "solution": false
    }
   },
   "source": [
    "\n",
    "Now let's try inserting some data into our <b><code>print()</code></b> function. We'll use the list of integers <b><code>[1,2,3,4]</code></b>. "
   ]
  },
  {
   "cell_type": "code",
   "execution_count": 2,
   "metadata": {
    "collapsed": true,
    "nbgrader": {
     "grade": false,
     "locked": true,
     "solution": false
    }
   },
   "outputs": [
    {
     "name": "stdout",
     "output_type": "stream",
     "text": [
      "Data1: 1, Data2: 2, Data3: 3, Data4: 4\n",
      "Data1: 1 ,Data2: 2 ,Data3: 3 ,Data4: 4\n"
     ]
    }
   ],
   "source": [
    "Data = [1,2,3,4]\n",
    "\n",
    "MyFString = f\"Data1: {Data[0]}, Data2: {Data[1]}, Data3: {Data[2]}, Data4: {Data[3]}\"\n",
    "\n",
    "print(MyFString)\n",
    "print(\"Data1:\",Data[0],\",Data2:\",Data[1],\",Data3:\",Data[2],\",Data4:\",Data[3])"
   ]
  },
  {
   "attachments": {},
   "cell_type": "markdown",
   "metadata": {
    "nbgrader": {
     "grade": false,
     "locked": true,
     "solution": false
    }
   },
   "source": [
    "As you can see from the above code, it is much easier to insert variables in a string by using an f-string (formatted string)."
   ]
  },
  {
   "attachments": {},
   "cell_type": "markdown",
   "metadata": {
    "nbgrader": {
     "grade": false,
     "locked": true,
     "solution": false
    }
   },
   "source": [
    "### Formatting numbers\n",
    "\n",
    "Using f-strings makes formatting numbers really easy. Just add a colon character after a number value and specify how you want to format the number. The following table demonstrates a couple of examples with the number $1$:<br><br>\n",
    "\n",
    "| Code | Result|\n",
    "|------|------|\n",
    "| 1:.2f | 1.00|\n",
    "| 1:.0f| 1|\n",
    "| 1:.10f| 1.0000000000 | \n",
    "| 1:%| 100.000000%|\n",
    "| 1:.1%| 100.0% |\n",
    "| 1:e| 1.000000e+00 |\n",
    "\n",
    "As you can see the default number of decimal places is six. Furthermore, the <b><code>%</code></b> formatting operator assumes that $1$ is equal to $100$%, which is usual when working with fractions, and the formatting operator <b><code>e</code></b> formats using scientific notation."
   ]
  },
  {
   "attachments": {},
   "cell_type": "markdown",
   "metadata": {
    "nbgrader": {
     "grade": false,
     "locked": true,
     "solution": false
    }
   },
   "source": [
    "Now let's use our newfound knowledge of strings to make a simple progress bar. During other courses, you'll sometimes have to write algorithms that take a long time to run. In this case, it is useful to have a progress bar. Our example of a progress bar makes use of the <b><code>sleep()</code></b> function, from the <b><code>time</code></b> module, to simulate elapsed time."
   ]
  },
  {
   "cell_type": "code",
   "execution_count": 3,
   "metadata": {
    "collapsed": true,
    "nbgrader": {
     "grade": false,
     "locked": true,
     "solution": false
    }
   },
   "outputs": [
    {
     "name": "stdout",
     "output_type": "stream",
     "text": [
      "Loading: 0%\n",
      "Loading: 10%\n",
      "Loading: 20%\n",
      "Loading: 30%\n",
      "Loading: 40%\n",
      "Loading: 50%\n",
      "Loading: 60%\n",
      "Loading: 70%\n",
      "Loading: 80%\n",
      "Loading: 90%\n",
      "Loading: 100%\n"
     ]
    }
   ],
   "source": [
    "import time\n",
    "\n",
    "for i in range(11):\n",
    "    print(f\"Loading: {i*10}%\", )\n",
    "    time.sleep(0.5) "
   ]
  },
  {
   "attachments": {},
   "cell_type": "markdown",
   "metadata": {
    "nbgrader": {
     "grade": false,
     "locked": true,
     "solution": false
    }
   },
   "source": [
    "This works! Though it is not that pretty to look at. It would look nicer to not have it print a new line each time. This is where <b>escape characters</b> come in. These characters can do some special things in strings. Below an example of some escape characters:\n"
   ]
  },
  {
   "attachments": {},
   "cell_type": "markdown",
   "metadata": {
    "nbgrader": {
     "grade": false,
     "locked": true,
     "solution": false
    }
   },
   "source": [
    "<h3>Escape characters</h3>\n",
    "\n",
    "| Code | Result|\n",
    "|------|------|\n",
    "|   \\\\'  | ' |\n",
    "| \\\\\\    | \\\\ |\n",
    "| \\\\n | new line| \n",
    "| \\\\r | carriage return  |\n",
    "| \\\\t | tab |\n",
    "| \\\\b | backspace |\n",
    "\n",
    "We can use some of these characters in our code. Let's use the carriage return character to make our progress bar not print out a new line every time. We can do this by adding <b><code>end=\"\\r\"</code></b> into our print function. The <b><code>end</code></b> keyword specifies a string that gets printed at the end. The string we print at the end here is the carriage return character. This carriage resets the print function to the start of the line; thus making the next print function overwrite the current printed line. Try it and see what happens:"
   ]
  },
  {
   "cell_type": "code",
   "execution_count": 4,
   "metadata": {
    "collapsed": true,
    "nbgrader": {
     "grade": false,
     "locked": true,
     "solution": false
    }
   },
   "outputs": [
    {
     "name": "stdout",
     "output_type": "stream",
     "text": [
      "This is a very important message\n"
     ]
    }
   ],
   "source": [
    "print(\"Will I get overwritten?\", end=\"\\r\")\n",
    "print(\"This is a very important message\")"
   ]
  },
  {
   "attachments": {},
   "cell_type": "markdown",
   "metadata": {
    "nbgrader": {
     "grade": false,
     "locked": true,
     "solution": false
    }
   },
   "source": [
    "Now let's add this to our progress bar... "
   ]
  },
  {
   "cell_type": "code",
   "execution_count": 5,
   "metadata": {
    "collapsed": true,
    "nbgrader": {
     "grade": false,
     "locked": true,
     "solution": false
    }
   },
   "outputs": [
    {
     "name": "stdout",
     "output_type": "stream",
     "text": [
      "Loading complete!\n"
     ]
    }
   ],
   "source": [
    "import time\n",
    "for i in range(11):\n",
    "    print(f\"Loading: {i*10}%\", end=\"\\r\")\n",
    "    time.sleep(0.5) \n",
    "print(\"Loading complete!\")"
   ]
  },
  {
   "attachments": {},
   "cell_type": "markdown",
   "metadata": {
    "nbgrader": {
     "grade": false,
     "locked": true,
     "solution": false
    }
   },
   "source": [
    "As you can see, it works beautifully!"
   ]
  }
 ],
 "metadata": {
  "kernelspec": {
   "display_name": "base",
   "language": "python",
   "name": "python3"
  },
  "language_info": {
   "codemirror_mode": {
    "name": "ipython",
    "version": 3
   },
   "file_extension": ".py",
   "mimetype": "text/x-python",
   "name": "python",
   "nbconvert_exporter": "python",
   "pygments_lexer": "ipython3",
   "version": "3.8.13"
  },
  "latex_envs": {
   "LaTeX_envs_menu_present": true,
   "autoclose": false,
   "autocomplete": true,
   "bibliofile": "biblio.bib",
   "cite_by": "apalike",
   "current_citInitial": 1,
   "eqLabelWithNumbers": true,
   "eqNumInitial": 1,
   "hotkeys": {
    "equation": "Ctrl-E",
    "itemize": "Ctrl-I"
   },
   "labels_anchors": false,
   "latex_user_defs": false,
   "report_style_numbering": false,
   "user_envs_cfg": false
  }
 },
 "nbformat": 4,
 "nbformat_minor": 2
}
