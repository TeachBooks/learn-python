{
 "cells": [
  {
   "attachments": {},
   "cell_type": "markdown",
   "metadata": {
    "nbgrader": {
     "grade": false,
     "locked": true,
     "solution": false
    }
   },
   "source": [
    "# Exercises"
   ]
  },
  {
   "attachments": {},
   "cell_type": "markdown",
   "metadata": {},
   "source": [
    "::: {note}\n",
    "You don't need to worry about using Interactive Jupyter Notebooks for these exercises. You can simply ignore the rocket icon ({fa}`rocket`) and go ahead to answer the questions using the knowledge you've gained from the chapter. Have fun!\n",
    "::: "
   ]
  },
  {
   "cell_type": "code",
   "execution_count": 53,
   "metadata": {
    "tags": [
     "remove-input"
    ]
   },
   "outputs": [],
   "source": [
    "# jupyterquiz-import\n",
    "#import json\n",
    "#from jupyterquiz import display_quiz\n",
    "#load all questions json file\n",
    "#with open(\"01.json\", \"r\") as file:\n",
    "#    questions = json.load(file)\n",
    "\n",
    "#questions = [[q] for q in questions]"
   ]
  },
  {
   "attachments": {},
   "cell_type": "markdown",
   "metadata": {
    "id": "su7ODKnqB7tv",
    "nbgrader": {
     "grade": false,
     "locked": true,
     "solution": false
    }
   },
   "source": [
    "## Exercise 5.1.1\n",
    "\n",
    "In the code cell bellow you can see a function that finds the greatest common divisor of any two numbers using the <code>math</code> module. "
   ]
  },
  {
   "cell_type": "code",
   "execution_count": null,
   "metadata": {
    "colab": {
     "base_uri": "https://localhost:8080/"
    },
    "collapsed": true,
    "id": "YjB37kkNGsr9",
    "outputId": "36e77aac-9e26-4c63-fbf5-e030e5539ab1"
   },
   "outputs": [],
   "source": [
    "import math\n",
    "\n",
    "def find_greatest_common_divisor(a, b):\n",
    "    greatest_common_divisor = math.gcds(a, b)\n",
    "    return greatest_common_divisor\n",
    "\n",
    "print('The greatest common divisor is:', find_greatest_common_divisor(2, 4))"
   ]
  },
  {
   "cell_type": "markdown",
   "metadata": {},
   "source": [
    "<iframe src=\"https://tudelft.h5p.com/content/1292447931155380807/embed\" aria-label=\"Exercise 2.1.1\" width=\"1088\" height=\"637\" frameborder=\"0\" allowfullscreen=\"allowfullscreen\" allow=\"autoplay *; geolocation *; microphone *; camera *; midi *; encrypted-media *\"></iframe><script src=\"https://tudelft.h5p.com/js/h5p-resizer.js\" charset=\"UTF-8\"></script>"
   ]
  },
  {
   "cell_type": "code",
   "execution_count": null,
   "metadata": {
    "tags": [
     "remove-input"
    ]
   },
   "outputs": [],
   "source": [
    "# jupyterquiz-exercise-2-1-1\n",
    "#display_quiz(questions[0])"
   ]
  },
  {
   "attachments": {},
   "cell_type": "markdown",
   "metadata": {
    "id": "aaxayx2RH9IM",
    "nbgrader": {
     "grade": false,
     "locked": true,
     "solution": false
    }
   },
   "source": [
    "## (Searching) Exercise 5.1.2\n",
    "\n",
    "We can only take and store measurements at a limited number of locations and/or times. But what if we are interested in a value in between, i.e., at a location/time where we do not have a measurement? Then we can use interpolation to estimate that value. A popular, and simple, interpolation technique is <a href=\"https://en.wikipedia.org/wiki/Linear_interpolation\">linear interpolation</a>. \n",
    "Your task is to use the module <code>scipy</code> to perform a 1D linear interpolation between a set of known points, where <code>x_known</code> and <code>y_known</code> are arrays with the measured $x$ and $y$ values. Use Google to look up the 1D interpolation function in <code>scipy</code>.<br><br>In the code below there is something missing after `return` (look the three dots). What should be the correct missing code for the function to give us the desired result?"
   ]
  },
  {
   "cell_type": "code",
   "execution_count": null,
   "metadata": {
    "collapsed": true,
    "id": "ZazhpxxTIzxE"
   },
   "outputs": [],
   "source": [
    "from scipy import interpolate\n",
    "\n",
    "def interpolate_inbetween(x_known, y_known, x_predict):\n",
    "    f = interpolate.interp1d(x_known, y_known)\n",
    "    return ...\n"
   ]
  },
  {
   "cell_type": "markdown",
   "metadata": {},
   "source": [
    "<iframe src=\"https://tudelft.h5p.com/content/1292447937376291357/embed\" aria-label=\"Exercise 2.1.2\" width=\"1088\" height=\"637\" frameborder=\"0\" allowfullscreen=\"allowfullscreen\" allow=\"autoplay *; geolocation *; microphone *; camera *; midi *; encrypted-media *\"></iframe><script src=\"https://tudelft.h5p.com/js/h5p-resizer.js\" charset=\"UTF-8\"></script>"
   ]
  },
  {
   "cell_type": "code",
   "execution_count": null,
   "metadata": {
    "tags": [
     "remove-input"
    ]
   },
   "outputs": [],
   "source": [
    "# jupyterquiz-exercise-2-1-2\n",
    "#display_quiz(questions[1])"
   ]
  },
  {
   "attachments": {},
   "cell_type": "markdown",
   "metadata": {
    "id": "Ue4CKV8PKnBG",
    "nbgrader": {
     "grade": false,
     "locked": true,
     "solution": false
    }
   },
   "source": [
    "## (Searching) Exercise 5.1.3\n",
    "\n",
    "Now, let's try to measure the running time of a function, for that we will need the <code>time</code> module. Use it to measure the working time of the <code>cool_function()</code> below."
   ]
  },
  {
   "cell_type": "code",
   "execution_count": null,
   "metadata": {
    "collapsed": true,
    "id": "C1aOizjOK7sl",
    "nbgrader": {
     "grade": false,
     "locked": true,
     "solution": false
    }
   },
   "outputs": [],
   "source": [
    "# you do not need to change anything in this cell\n",
    "def cool_function():\n",
    "    x = 0\n",
    "    for i in range(100000000):\n",
    "        x += 1\n"
   ]
  },
  {
   "attachments": {},
   "cell_type": "markdown",
   "metadata": {},
   "source": [
    "Which of the following functions will give us the working time of the <code>cool_function()</code>?"
   ]
  },
  {
   "attachments": {},
   "cell_type": "markdown",
   "metadata": {},
   "source": [
    "\n",
    "<div style=\"padding: 10px; border: 1px solid gray;\">\n",
    "\n",
    "* **Option A**\n",
    "```python\n",
    "def measure_time(func):\n",
    "    t0 = time.time()\n",
    "    t1 = time.time()\n",
    "    return t1 - t0\n",
    "```\n",
    "\n",
    "* **Option B**\n",
    "```python\n",
    "def measure_time(func):\n",
    "    t0 = time.time()\n",
    "    func()\n",
    "    t1 = time.time()\n",
    "    return t1 - t0\n",
    "```\n",
    "* **Option C**\n",
    "```python\n",
    "def measure_time(func,t0,t1):\n",
    "    t0 = time.time()\n",
    "    func()\n",
    "    t1 = time.time()\n",
    "    return func\n",
    "```\n",
    "\n",
    "</div>\n"
   ]
  },
  {
   "cell_type": "markdown",
   "metadata": {},
   "source": [
    "<iframe src=\"https://tudelft.h5p.com/content/1292447953779786487/embed\" aria-label=\"Exercise 2.1.3(needrevision)\" width=\"1088\" height=\"637\" frameborder=\"0\" allowfullscreen=\"allowfullscreen\" allow=\"autoplay *; geolocation *; microphone *; camera *; midi *; encrypted-media *\"></iframe><script src=\"https://tudelft.h5p.com/js/h5p-resizer.js\" charset=\"UTF-8\"></script>"
   ]
  },
  {
   "cell_type": "code",
   "execution_count": null,
   "metadata": {
    "tags": [
     "remove-input"
    ]
   },
   "outputs": [],
   "source": [
    "# jupyterquiz-exercise-2-1-3\n",
    "#display_quiz(questions[2])"
   ]
  }
 ],
 "metadata": {
  "colab": {
   "collapsed_sections": [],
   "name": "Python_2_1.ipynb",
   "provenance": []
  },
  "kernelspec": {
   "display_name": "mude",
   "language": "python",
   "name": "python3"
  },
  "language_info": {
   "codemirror_mode": {
    "name": "ipython",
    "version": 3
   },
   "file_extension": ".py",
   "mimetype": "text/x-python",
   "name": "python",
   "nbconvert_exporter": "python",
   "pygments_lexer": "ipython3",
   "version": "3.11.9"
  }
 },
 "nbformat": 4,
 "nbformat_minor": 1
}
