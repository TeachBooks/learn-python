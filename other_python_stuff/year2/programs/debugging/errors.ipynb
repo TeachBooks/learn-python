{
 "cells": [
  {
   "cell_type": "markdown",
   "id": "c77688f7-07b3-4ec9-824a-ed054a9de592",
   "metadata": {
    "id": "A38ex8i9KGaE"
   },
   "source": [
    "# Error Types: An Introduction\n",
    "\n",
    "You have probably encountered errors before in your code---no one is perfect! But have you ever spent time reading through the error message to help you figure out what went wrong? This Section will give you some information that will help interpret these sometimes cryptic message to more efficiently identify the problem and fix it.\n",
    "\n",
    "Essentially there are 3 types of errors, each of which is described below:\n",
    "- Syntax errors\n",
    "- Exceptions\n",
    "- Logical errors\n",
    "\n",
    "Click {fa}`rocket` --> {guilabel}`Live Code` on the top right corner of this screen and then execute the cells as you go through the page. In each case, see if you can fix the code (re-run the cell until the error is gone), as well as try to replicate the error with your own example.\n",
    "\n",
    "In each of the examples, you should look at the error report that is printed after executing each cell and identify the _type_ of error; in each case they should look like `XxxxError`, where `Xxxx` identifies the specific error type.\n",
    "\n",
    "_The work on this page is derived from work that is Copyright © [University of Cape Town](https://github.com/confluence/python-textbok) under [CC BY-SA 4.0](https://github.com/confluence/python-textbok/blob/master/LICENCE). Specifically, material from [this page](https://python-textbok.readthedocs.io/en/1.0/Errors_and_Exceptions.html) was used._\n",
    "\n",
    "<!-- NOTE/MMMMM: Robert did this in Oct 2, 2023, but is just guessing with the reference. -->"
   ]
  },
  {
   "cell_type": "markdown",
   "id": "6fef01b8-d17b-4b85-b0a4-29a0a928be2a",
   "metadata": {
    "id": "a7Ky1orxKGaE"
   },
   "source": [
    "## Syntax errors\n",
    "Syntax errors are the most common for beginner developers. When an error happenes, Python parser will show in which line it is and point to it in the code with an arrow `^`. Run the code snippet below for an example:"
   ]
  },
  {
   "cell_type": "code",
   "execution_count": null,
   "id": "cb066969-1e78-48c3-960b-6d2636fe9293",
   "metadata": {
    "id": "XtUcAiekKGaF",
    "scrolled": true
   },
   "outputs": [],
   "source": [
    "if 5 > 3:\n",
    "    print(\"5 is bigger than 3\")\n",
    "else\n",
    "    print(\"3 is bigger than 5\")"
   ]
  },
  {
   "cell_type": "markdown",
   "id": "b57c3e23",
   "metadata": {},
   "source": [
    "As we can see from the error report, Python tells us directly that this is a `SyntaxError`. It even includes a carat (the `^` symbol) to identify the location within the line of code where it occurs. Useful, right?!"
   ]
  },
  {
   "cell_type": "markdown",
   "id": "9a5290e2-3f87-4c41-86d8-68619873b584",
   "metadata": {
    "id": "lR__HQhAKGaG"
   },
   "source": [
    "## Exceptions\n",
    "\n",
    "Exceptions is a general set of errors that, unlike syntax errors, appear during code execution. If an exception stops your code from running, we often refer to this as _raising an exception._ Many exceptions are implemented directly in the Python code base, but it is important to recognize that anyone writing Python code can create exceptions themselves. Determining how and when to _raise_ exceptions (i.e., \"cause\" the error) during code execution is a useful way to make sure code and software runs as designed; we will learn to do this later. For now we will look at several examples of exceptions that are implemented in the Python code base:"
   ]
  },
  {
   "cell_type": "code",
   "execution_count": null,
   "id": "9c58af8c-dee2-4272-b74e-97f768834003",
   "metadata": {
    "colab": {
     "base_uri": "https://localhost:8080/",
     "height": 166
    },
    "id": "cQ6ICUajKGaG",
    "outputId": "3a576f96-76de-4143-9beb-0155a59c8545"
   },
   "outputs": [],
   "source": [
    "16 / 0"
   ]
  },
  {
   "cell_type": "code",
   "execution_count": null,
   "id": "feed0f3c-f8c1-47c8-9bd6-fbb7fd9d1c9a",
   "metadata": {
    "colab": {
     "base_uri": "https://localhost:8080/",
     "height": 166
    },
    "id": "5bRsO_ZZKGaH",
    "outputId": "91911d8a-0d0d-49fa-a6a1-db0c79cf4e40"
   },
   "outputs": [],
   "source": [
    "2 + \"3\""
   ]
  },
  {
   "cell_type": "code",
   "execution_count": null,
   "id": "b887f7de-6771-4e65-aa8f-aa40bae43efa",
   "metadata": {
    "colab": {
     "base_uri": "https://localhost:8080/",
     "height": 166
    },
    "id": "RJJc0hkfKGaH",
    "outputId": "8b54f38b-157a-4a58-e6b9-53e94a9e5766"
   },
   "outputs": [],
   "source": [
    "2 * pi * r ** 2"
   ]
  },
  {
   "attachments": {},
   "cell_type": "markdown",
   "id": "3ffc5274-8024-4c85-9a9f-4482ec9ecf69",
   "metadata": {
    "id": "_vz7WivxlPdM"
   },
   "source": [
    "As you see in the examples above, we have encountered 3 different types of exceptions - `ZeroDivisionError`, `TypeError` and `NameError`. A nice thing about Python is that it tells us the specific type of exception we are dealing it, making it easy for you, the developer, to figure out the cause of the raised exceptions. Although in some cases the cause of the exception is obvious, it is often useful to look up the [Python documentation that describes it](https://docs.python.org/3/library/exceptions.html) (especially when your code gets complex, and you are having trouble identifying the source of the problem). For example, if you look at the description of [`NameError`](https://docs.python.org/3/library/exceptions.html#NameError), you will find:\n",
    "\n",
    "> exception **NameError**  \n",
    "> Raised when a local or global name is not found. This applies only to unqualified names. The associated value is an error message that includes the name that could not be found.\n",
    "> \n",
    "> The name attribute can be set using a keyword-only argument to the constructor. When set it represent the name of the variable that was attempted to be accessed.\n",
    "> \n",
    "> _Changed in version 3.10:_ Added the `name` attribute.\n",
    "\n",
    "As you can see, the documentation also provides information about changes relative to older versions of Python.\n",
    "\n",
    "For more exception types, you can have a look at the [complete list here](https://docs.python.org/3/library/exceptions.html#exception-hierarchy). Keep in mind that you are not required to understand the cause of every exception, but rather the importance of having different types of exceptions and that each one may require a different strategy in resolving it."
   ]
  },
  {
   "cell_type": "markdown",
   "id": "32b16abc-c538-4556-8795-ccf12900659a",
   "metadata": {
    "id": "OCPsJhogKGaH"
   },
   "source": [
    "## Logical errors\n",
    "Logical errors are generally the most difficult to discover, because they can be invisible to the developer. Logical errors can exist without raising an exception or an error. Particular examples of logical errors are:\n",
    "- using the wrong variable name\n",
    "- indenting a block to the wrong level\n",
    "- using integer division instead of floating-point division\n",
    "- getting operator precedence wrong\n",
    "- making a mistake in a boolean expression\n",
    "- forgetting to add an `else` statement to an `if` clause\n",
    "- off-by-one, and other numerical errors"
   ]
  },
  {
   "cell_type": "markdown",
   "id": "4f2b0e4b-e70f-4b5a-99d6-e192f3304ca8",
   "metadata": {
    "id": "EHZ2Lw8lwIIu"
   },
   "source": [
    "Here is a brief example of using integer division instead of floating-point division:\n",
    "\n",
    "Consider you have to compute speed from distance and time using the basic formula $speed=\\frac{distance}{time}$. Here is the correct version, using floating-point division:"
   ]
  },
  {
   "cell_type": "code",
   "execution_count": null,
   "id": "ed79b777-3cbf-4ab0-867e-f734cc7d6b9b",
   "metadata": {
    "colab": {
     "base_uri": "https://localhost:8080/"
    },
    "id": "-Lf0ZcPyewGK",
    "outputId": "a4702af5-28ad-4bcf-84ce-c76052e87009"
   },
   "outputs": [],
   "source": [
    "distance = 10            # m\n",
    "time = 3.63              # s\n",
    "\n",
    "speed = distance / time    # m/s\n",
    "print('Speed = ', speed)"
   ]
  },
  {
   "cell_type": "markdown",
   "id": "dd08998b-0fff-4f46-8b23-ceabdcf3f06e",
   "metadata": {
    "id": "yK1zMKjMg7uj"
   },
   "source": [
    "If we use integer division by mistake, the result is incorrect:"
   ]
  },
  {
   "cell_type": "code",
   "execution_count": null,
   "id": "f7c602d5-a6d9-4eb1-b6fd-5e18a94763ae",
   "metadata": {
    "colab": {
     "base_uri": "https://localhost:8080/"
    },
    "id": "LNW9_o0RfD5H",
    "outputId": "8a332324-c52f-461c-c07a-acfbd0f0aaff"
   },
   "outputs": [],
   "source": [
    "distance = 10            # m\n",
    "time = 3.63              # s\n",
    "\n",
    "speed = distance // time    # m/s\n",
    "print('Speed = ', speed)"
   ]
  },
  {
   "cell_type": "markdown",
   "id": "815ff171-ada6-429d-8c1e-d9e37823da62",
   "metadata": {},
   "source": [
    "The difference between the 2 results is nearly 0.75, which can be very high depending on its use."
   ]
  },
  {
   "cell_type": "markdown",
   "id": "17a32590",
   "metadata": {},
   "source": [
    "```{note}\n",
    "For now you are only expected to recognize what a logical error is and how it is different than a Syntax error or Exception. When we learn how to address this type of error later, for example when we incorporate tests into our code.\n",
    "```"
   ]
  },
  {
   "cell_type": "markdown",
   "id": "efd83afe",
   "metadata": {},
   "source": [
    "## Summary of Error Types\n",
    "\n",
    "On this page we considered three types of errors. One way to help distinguish them is to recognize when they may occur:\n",
    "\n",
    "- Syntax error: before the code is executed\n",
    "- Exceptions: during execution\n",
    "- Logic error: code executes without error\n",
    "\n",
    "When executing the code in the examples above, did you read the error report? It is called a **traceback** and it should have been useful to identify the error type. We will learn more about it in the next section.\n",
    "\n"
   ]
  }
 ],
 "metadata": {
  "kernelspec": {
   "display_name": "Python 3 (ipykernel)",
   "language": "python",
   "name": "python3"
  },
  "language_info": {
   "codemirror_mode": {
    "name": "ipython",
    "version": 3
   },
   "file_extension": ".py",
   "mimetype": "text/x-python",
   "name": "python",
   "nbconvert_exporter": "python",
   "pygments_lexer": "ipython3",
   "version": "3.9.17"
  },
  "widgets": {
   "application/vnd.jupyter.widget-state+json": {
    "state": {},
    "version_major": 2,
    "version_minor": 0
   }
  }
 },
 "nbformat": 4,
 "nbformat_minor": 5
}
