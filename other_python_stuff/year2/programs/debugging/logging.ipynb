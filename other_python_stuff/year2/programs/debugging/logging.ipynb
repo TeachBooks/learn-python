{
 "cells": [
  {
   "cell_type": "markdown",
   "id": "478fc7d6-37ed-4f3f-9e46-654c4eb877f6",
   "metadata": {
    "id": "Ke8gufr-KGaP"
   },
   "source": [
    "# Logging\n",
    "\n",
    "```{note}\n",
    "This page was not shared with MUDE students in 2023-2024 (year 2).\n",
    "\n",
    "It may have been a new page, or a modified page from year 1.\n",
    "\n",
    "There may be pages in year 1 and year 2 that are nearly identical, or have significant modifications. Modifications usually were to reformat the notebooks to fit in a jupyter book framework better.\n",
    "```\n",
    "\n",
    "Logging can be used for debugging. For example, you can have a program report at every step what it is calculating and print this information to the output. At first glance, logging may appear to be very similar to simply using `print` statements, but it comes with a lot of benefits. For example, it is possible to use timestamps with the messages you create and it is also possible to group messages by type. Furthermore, logging can let the user specify a file, where the logging information can be stored. This can be useful in case of an application crash to identify the cause of it by examining the logs.<br><br>\n",
    "The Python `logging` library supports 5 different types of messages:\n",
    "- `debug`: very detailed information used for localizing errors\n",
    "- `info`: confirmation that things are working as expected\n",
    "- `warning`: something unexpected happened, but the program will keep going\n",
    "- `error`: something has gone badly wrong, but the program hasn’t hurt anything\n",
    "- `critical`: potential loss of data, security breach, etc\n",
    "\n",
    "You can find below examples of all 5 types of messages, where the logs are printed in the output:"
   ]
  },
  {
   "cell_type": "code",
   "execution_count": null,
   "id": "03d34497-5090-49c0-a49c-4052f8d28a41",
   "metadata": {
    "colab": {
     "base_uri": "https://localhost:8080/"
    },
    "id": "VwZPPWA-KGaP",
    "outputId": "ed66e90f-76f0-4dc0-e436-8a5dea8980d0"
   },
   "outputs": [],
   "source": [
    "import logging\n",
    "\n",
    "# Initial setup of logging\n",
    "# You do not need to explicitly understand the line below\n",
    "logging.basicConfig(\n",
    "    format=\"%(asctime)s | %(levelname)s: %(message)s\", level=logging.NOTSET\n",
    ")\n",
    "\n",
    "# Get logger object\n",
    "log = logging.getLogger()\n",
    "\n",
    "# Log different type of messages\n",
    "log.debug(\"Debugging message.\")\n",
    "log.info(\"Information message.\")\n",
    "log.warning(\"Warning that something happened.\")\n",
    "log.error(\"An error occurred, which may cause problems.\")\n",
    "log.critical(\"A critical error happened!\")"
   ]
  },
  {
   "cell_type": "markdown",
   "id": "a4c6d299-55c9-4bb7-86fc-5a1aa209f0f7",
   "metadata": {
    "id": "yZ5zSlY6KGaQ"
   },
   "source": [
    "As a developer, you can select that only certain information is logged. For example, the code snippet below will log only messages with severity of a `WARNING` or higher (e.g., `ERROR`, or `CRITICAL`); this is done via the `log.setLevel` command:"
   ]
  },
  {
   "cell_type": "code",
   "execution_count": null,
   "id": "bde0a5f3-28d6-4975-bff5-764c2d13b258",
   "metadata": {
    "colab": {
     "base_uri": "https://localhost:8080/"
    },
    "id": "2bEndKgsKGaQ",
    "outputId": "27f1fc8d-989f-412a-bba8-c3c089998490"
   },
   "outputs": [],
   "source": [
    "# Set level of logging\n",
    "log.setLevel(logging.WARNING)\n",
    "\n",
    "log.debug('Debugging message.')\n",
    "log.info('Information message.')\n",
    "log.warning('Warning that something happened.')\n",
    "log.error('An error occurred, which may cause problems.')\n",
    "log.critical('A critical error happened!')"
   ]
  },
  {
   "cell_type": "markdown",
   "id": "0d59927e-00b5-4e6d-97dd-60b658a87085",
   "metadata": {
    "id": "JY-hGdG-KGaQ"
   },
   "source": [
    "Make use of logging in places you consider crucial for your application. For example, if an exception is raised somewhere, instead of crashing an application, you could log the problem. Of course, if the exception is critical enough, you should raise it. \n",
    "\n",
    "Here is a brief example of logging exceptions depending on their severity:"
   ]
  },
  {
   "cell_type": "code",
   "execution_count": null,
   "id": "e21851d8-e7dd-4f3b-bbab-012bb362146e",
   "metadata": {
    "colab": {
     "base_uri": "https://localhost:8080/"
    },
    "id": "PHAvy5b5KGaQ",
    "outputId": "65aa2d3c-4a3c-429f-d214-2901127fac05"
   },
   "outputs": [],
   "source": [
    "weight=0\n",
    "density=-40\n",
    "volume=5\n",
    "\n",
    "try:\n",
    "    weight=calculate_weight(density, volume)\n",
    "except ValueError as e:\n",
    "    log.error(e)\n",
    "except ZeroDivisionError as e:\n",
    "    log.warn(e)"
   ]
  },
  {
   "cell_type": "markdown",
   "id": "375a5748-ad55-4b25-b276-d8e8efce148f",
   "metadata": {
    "id": "hE6P0-mKKGaR"
   },
   "source": [
    "**\\[Optional\\]** It is also possible to save logs in a file, so that you can use the logs for debugging purposes. Note that the file used for logging will not get overwritten. The new logs will be appended to the previous ones:"
   ]
  },
  {
   "cell_type": "code",
   "execution_count": null,
   "id": "e82379e4-2006-44f1-90b6-769fe7e04a71",
   "metadata": {
    "id": "aC5x-sCbKGaR"
   },
   "outputs": [],
   "source": [
    "# Run this code block only once! Otherwise, you will create multiple file logger instances!\n",
    "\n",
    "# Set file to use for logging\n",
    "file_handler = logging.FileHandler(\"log.txt\")\n",
    "# Set format of log messages\n",
    "file_handler.setFormatter(logging.Formatter(\"%(asctime)s | %(levelname)s: %(message)s\"))\n",
    "# Set the file to be used for logging, additionally to the console output\n",
    "log.addHandler(file_handler)"
   ]
  },
  {
   "cell_type": "markdown",
   "id": "b3f2d39f-9649-476c-8d7d-a8b9183e327f",
   "metadata": {
    "id": "BPiLPiKnKGaR"
   },
   "source": [
    "Try changing the level of logging below. Next run the following code snippets and observe the contents of `log.txt` using different logging priorities."
   ]
  },
  {
   "cell_type": "code",
   "execution_count": null,
   "id": "dc16daf2-aa3e-4ffe-88d6-91c1ca73b8c0",
   "metadata": {
    "id": "PFJQA5_FKGaR"
   },
   "outputs": [],
   "source": [
    "# Set the level of logging to DEBUG and above\n",
    "log.setLevel(logging.DEBUG)"
   ]
  },
  {
   "cell_type": "code",
   "execution_count": null,
   "id": "1a3eb46f-d842-4ed4-a5dc-9ff346aca435",
   "metadata": {
    "colab": {
     "base_uri": "https://localhost:8080/"
    },
    "id": "usZ2zf9BKGaR",
    "outputId": "fc4ecf1d-0dd3-4f5a-d861-d8c303e23002",
    "scrolled": true
   },
   "outputs": [],
   "source": [
    "log.debug('Debugging message.')\n",
    "log.info('Information message.')\n",
    "log.warning('Warning that something happened.')\n",
    "log.error('An error occurred, which may cause problems.')\n",
    "log.critical('A critical error happened!')"
   ]
  },
  {
   "cell_type": "markdown",
   "id": "e3cd5c39-e56a-40fc-a88d-93017a2c8862",
   "metadata": {
    "id": "CNOHQYrfkCm3"
   },
   "source": [
    "We can easily read the contents of a file using the `more` shell command. To execute commands for the underlying operating system running our Jupyter notebook, we need to add `!` at the beginning of the line. If the `more` command does not work, try `cat` (linux/mac environments) or `type` (windows)."
   ]
  },
  {
   "cell_type": "code",
   "execution_count": null,
   "id": "7003d8a0-b728-41b5-a12d-265bc431e956",
   "metadata": {
    "colab": {
     "base_uri": "https://localhost:8080/"
    },
    "id": "LKK5BRl_KGaR",
    "outputId": "869a084f-2aca-4a96-f492-477b9bc7aa15",
    "scrolled": true
   },
   "outputs": [],
   "source": [
    "!more log.txt"
   ]
  }
 ],
 "metadata": {
  "kernelspec": {
   "display_name": "Python 3 (ipykernel)",
   "language": "python",
   "name": "python3"
  },
  "language_info": {
   "codemirror_mode": {
    "name": "ipython",
    "version": 3
   },
   "file_extension": ".py",
   "mimetype": "text/x-python",
   "name": "python",
   "nbconvert_exporter": "python",
   "pygments_lexer": "ipython3",
   "version": "3.9.17"
  },
  "widgets": {
   "application/vnd.jupyter.widget-state+json": {
    "state": {},
    "version_major": 2,
    "version_minor": 0
   }
  }
 },
 "nbformat": 4,
 "nbformat_minor": 5
}
