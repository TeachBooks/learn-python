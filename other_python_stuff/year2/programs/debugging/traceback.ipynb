{
 "cells": [
  {
   "cell_type": "markdown",
   "metadata": {},
   "source": [
    "# The Python Traceback\n",
    "\n",
    "How often has your Python code \"broken,\" spitting out a long error message that you then completely ignore while going back to your code to make changes in a vain attempt to solve the problem as quickly as possible? Or perhaps you executed a piece of code and, upon seeing the error, turn to a friend or teacher, providing such \"useful\" information as: \"help, my code doesn't work!\"\n",
    "\n",
    "The error message you recieve from Python is providing useful information to identify the problem source, and after reading this page you should be able to utilize this to solve them more efficiently. Even if you can't use the information to solve your problem directly, it is important to be able to communicate effectively about the problem when asking for help. For example, there is a big difference between asking someone for help by saying \"my code is broken,\" versus \"I have an index error and I can't figure out why it's happening.\"\n",
    "\n",
    "Click {fa}`rocket` --> {guilabel}`Live Code` on the top right corner of this screen and then execute the cells as you go through the page. In each case, see if you can fix the code (re-run the cell until the error is gone), as well as try to replicate the error with your own example.\n",
    "\n",
    "_The work on this page is derived from work that is Copyright © The Carpentries under [CC BY 4.0](https://creativecommons.org/licenses/by/4.0/). Specifically, material from [this page](https://swcarpentry.github.io/python-novice-inflammation/09-errors.html) was used._\n",
    "\n",
    "<!-- NOTE/MMMMM: Robert did this in Oct 2, 2023. The other material in this chapter was not referenced as such; rather with the links and information as on overview page. -->\n",
    "\n",
    "## Python Traceback\n",
    "\n",
    "The **traceback** is simply a listing and description of the sequence of function calls leading to an error; specifically, it will help identify exceptions that have been raised during code execution. Let's take a look at one!"
   ]
  },
  {
   "cell_type": "code",
   "execution_count": null,
   "metadata": {
    "vscode": {
     "languageId": "plaintext"
    }
   },
   "outputs": [],
   "source": [
    "def favorite_ice_cream():\n",
    "    ice_creams = [\n",
    "        'chocolate',\n",
    "        'vanilla',\n",
    "        'strawberry'\n",
    "    ]\n",
    "    print(ice_creams[3])\n",
    "\n",
    "favorite_ice_cream()"
   ]
  },
  {
   "cell_type": "markdown",
   "metadata": {},
   "source": [
    "This particular traceback has two levels. You can determine the number of levels by looking for the number of arrows on the left hand side. In this case:\n",
    "\n",
    "1. The first shows code from the cell above, with an arrow pointing to Line 11 (which is `favorite_ice_cream()`).\n",
    "2. The second shows some code in the function `favorite_ice_cream`, with an arrow pointing to Line 9 (which is `print(ice_creams[3])`).\n",
    "\n",
    "The last level is the actual place where the error occurred. The other level(s) show what function the program executed to get to the next level down. So, in this case, the program first performed a function call to the function `favorite_ice_cream`. Inside this function, the program encountered an error on Line 6, when it tried to run the code `print(ice_creams[3])`.\n",
    "\n",
    "```{note}\n",
    "Sometimes, you might see a traceback that is very long -- sometimes they might even be 20 levels deep! This can make it seem like something horrible happened, but the length of the error message does not reflect severity, rather, it indicates that your program called many functions before it encountered the error. Most of the time, the actual place where the error occurred is at the bottom-most level, so you can skip down the traceback to the bottom.\n",
    "```\n",
    "\n",
    "So what error did the program actually encounter? In the last line of the traceback, Python helpfully tells us the category or type of error (in this case, it is an `IndexError`) and a more detailed error message (in this case, it says “list index out of range”).\n",
    "\n",
    "If you encounter an error and don’t know what it means, it is still important to read the traceback closely. That way, if you fix the error, but encounter a new one, you can tell that the error changed. Additionally, sometimes knowing where the error occurred is enough to fix it, even if you don’t entirely understand the message.\n",
    "\n",
    "If you do encounter an error you don’t recognize, try looking at the official documentation on errors. However, note that you may not always be able to find the error there, as it is possible to create custom errors. In that case, hopefully the custom error message is informative enough to help you figure out what went wrong.\n",
    "\n",
    "In general, we recommend you think through the following questions whenever reading a traceback:\n",
    "\n",
    "```{admonition} Reading the Traceback (Error Messages)\n",
    "\n",
    "Use the traceback to answer the following questions:\n",
    "\n",
    "1. How many levels does the traceback have?\n",
    "2. What is the function name where the error occurred?\n",
    "3. On which line number in this function did the error occur?\n",
    "4. What is the type of error?\n",
    "5. What is the error message?\n",
    "\n",
    "```"
   ]
  },
  {
   "cell_type": "markdown",
   "metadata": {},
   "source": [
    "## Practice!\n",
    "\n",
    "**After reading and executing the Python code and the resulting traceback, answer the following questions:**\n",
    "\n",
    "1. How many levels does the traceback have?\n",
    "2. What is the function name where the error occurred?\n",
    "3. On which line number in this function did the error occur?\n",
    "4. What is the type of error?\n",
    "5. What is the error message?"
   ]
  },
  {
   "cell_type": "code",
   "execution_count": null,
   "metadata": {
    "vscode": {
     "languageId": "plaintext"
    }
   },
   "outputs": [],
   "source": [
    "def print_message(day):\n",
    "    messages = [\n",
    "        'Hello, world!',\n",
    "        'Today is Tuesday!',\n",
    "        'It is the middle of the week.',\n",
    "        'Today is Donnerstag in German!',\n",
    "        'Last day of the week!',\n",
    "        'Hooray for the weekend!',\n",
    "        'Aw, the weekend is almost over.'\n",
    "    ]\n",
    "    print(messages[day])\n",
    "\n",
    "def print_sunday_message():\n",
    "    print_message(7)\n",
    "\n",
    "print_sunday_message()"
   ]
  },
  {
   "cell_type": "markdown",
   "metadata": {},
   "source": [
    " ```{admonition} Solution\n",
    ":class: tip, dropdown\n",
    "1. 3 levels\n",
    "2. `print_message`\n",
    "3. 13\n",
    "4. `IndexError`\n",
    "5. `list index out of range` You can then infer that `7` is not the right index to use with `messages`.\n",
    "```"
   ]
  },
  {
   "cell_type": "markdown",
   "metadata": {},
   "source": [
    "## Complicated Tracebacks\n",
    "\n",
    "The examples above generate relatively simple tracebacks; however, when you are working on your own computer the \"real\" tracebacks may seem more complicated. Often this is simply because of the way Python files are stored in your computer. Although this online textbook is not the same as the Python distribution you have on your computer, we can get a sense of the problem by executing the cell below:"
   ]
  },
  {
   "cell_type": "code",
   "execution_count": null,
   "metadata": {
    "vscode": {
     "languageId": "plaintext"
    }
   },
   "outputs": [],
   "source": [
    "import numpy as np\n",
    "x = np.array([5, 6, 7, 8])\n",
    "np.this_method_does_not_exist_in_numpy"
   ]
  },
  {
   "cell_type": "markdown",
   "metadata": {},
   "source": [
    "**Can you answer the list of 5 questions for this traceback?**\n",
    "\n",
    " ```{admonition} Solution\n",
    ":class: tip, dropdown\n",
    "1. 2 levels\n",
    "2. Numpy; specifically: `np.this_method_does_not_exist_in_numpy`\n",
    "3. 3\n",
    "4. `AttributeError`\n",
    "5. Module 'numpy' has no attribute 'this_method_does_not_exist_in_numpy'. It's pretty clear that this method doesn't exist in Numpy!\n",
    "```\n",
    "\n",
    "In addition, the location of the file where the exception was raised is given; it is quite long and (perhaps) unclear. This is simply the location where the Python file (`numpy/__init__.py`) responsible for code execution are stored in your internet browser (`/lib/python/...`). Note that `__init__.py` is used in every Python Package. Tou can see references to the method within numpy responsible for finding the numpy methods or attributes: `__getattr__(attr)`. Finally, we can actually see how the exception is _raised_ (we will learn about this later!): `raise AttributeError...`. \n",
    "\n",
    "Hopefully this explanation makes it easier for you to identify and solve exceptions when working with Python!"
   ]
  }
 ],
 "metadata": {
  "language_info": {
   "name": "python"
  },
  "orig_nbformat": 4
 },
 "nbformat": 4,
 "nbformat_minor": 2
}
