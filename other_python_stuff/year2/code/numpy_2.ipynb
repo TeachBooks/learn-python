{
 "cells": [
  {
   "cell_type": "markdown",
   "metadata": {},
   "source": [
    "# Using Numpy for Mathematics\n",
    "\n",
    "```{note}\n",
    "This page was not shared with MUDE students in 2023-2024 (year 2).\n",
    "\n",
    "It may have been a new page, or a modified page from year 1.\n",
    "\n",
    "There may be pages in year 1 and year 2 that are nearly identical, or have significant modifications. Modifications usually were to reformat the notebooks to fit in a jupyter book framework better.\n",
    "```\n",
    "\n",
    "using it more"
   ]
  },
  {
   "cell_type": "markdown",
   "metadata": {},
   "source": [
    "This notebook is based on the Numpy lesson from [Aalto Scientific Computing: Python for Scientific Computing](https://github.com/AaltoSciComp/python-for-scicomp/) and [W3Schools](https://www.w3schools.com/python/numpy/)."
   ]
  },
  {
   "cell_type": "markdown",
   "metadata": {},
   "source": [
    "Clearly, you can do math on arrays.  Math in NumPy is fast because it is implemented in C or Fortran, just like in most other high-level languages such as R and Matlab.\n",
    "\n",
    "By default, in NumPy all math is performed element-by-element. "
   ]
  },
  {
   "cell_type": "code",
   "execution_count": null,
   "metadata": {
    "ExecuteTime": {
     "end_time": "2022-06-30T19:26:28.411658Z",
     "start_time": "2022-06-30T19:26:28.402647Z"
    }
   },
   "outputs": [],
   "source": [
    "a = np.array([[1,2],[3,4]])\n",
    "b = np.array([[5,6],[7,8]])\n",
    "\n",
    "c = a + b\n",
    "d = np.add(a,b)\n",
    "\n",
    "print('a\\n', a, '\\n')\n",
    "print('b:\\n', b, '\\n')\n",
    "\n",
    "print('a + b:\\n', a + b, '\\n')\n",
    "print('a * b:\\n', a * b, '\\n')\n",
    "print('a / b:\\n', a / b, '\\n')\n",
    "print('square root of a:\\n', np.sqrt(a), '\\n')"
   ]
  },
  {
   "cell_type": "markdown",
   "metadata": {},
   "source": [
    "Also the sum or mean an array can be obtained through the `np.mean` and `np.std` functions:"
   ]
  },
  {
   "cell_type": "code",
   "execution_count": null,
   "metadata": {
    "ExecuteTime": {
     "end_time": "2022-06-30T19:26:28.898518Z",
     "start_time": "2022-06-30T19:26:28.878550Z"
    }
   },
   "outputs": [],
   "source": [
    "print('sum of a:\\n', np.sum(a), '\\n')\n",
    "print('mean of a:\\n', np.mean(a), '\\n')"
   ]
  },
  {
   "cell_type": "markdown",
   "metadata": {},
   "source": [
    "\n",
    "In the above cell we see that `np.sum(a)` provides the sum of all elements in a. If we wish to get the sum per row or per column we can specify the *axis* over which to sum (0 corresponds to rows and 1 corresponds to columns):"
   ]
  },
  {
   "cell_type": "code",
   "execution_count": null,
   "metadata": {
    "ExecuteTime": {
     "end_time": "2022-06-30T19:26:29.610745Z",
     "start_time": "2022-06-30T19:26:29.601866Z"
    }
   },
   "outputs": [],
   "source": [
    "a = np.array([[1,2],[3,4]])\n",
    "\n",
    "print('a\\n', a, '\\n')\n",
    "print('sum of a:\\n', np.sum(a), '\\n')                       # No specified axis\n",
    "print('sum of a per column:\\n', np.sum(a, axis = 0), '\\n')  # sum over axis 0\n",
    "print('sum of a per row:\\n', np.sum(a, axis = 1))           # sum over axis 1"
   ]
  },
  {
   "cell_type": "markdown",
   "metadata": {},
   "source": [
    "---\n",
    "### <font color='red'>Exercise</font>"
   ]
  },
  {
   "cell_type": "markdown",
   "metadata": {},
   "source": [
    "Compute the standard deviation of the trip *duration* data, using the following functions: `np.sqrt()`, `np.mean()`, `np.sum()`, `np.size()`, and the mathematical operators `-` and `/`.\n",
    "\n",
    "The standard deviation is defined as $\\sqrt{\\frac{\\sum^{n}_{i=0} \\left( x_i - \\bar{x} \\right)^2}{n}}$ for a vector x with size n. Compare the result with the usage of the `np.std()` function.\n",
    "\n",
    "The array to use for this exercise is the `durations` array as defined below, which contains only the Taxi ride durations of the original imported array (no day of the year column)."
   ]
  },
  {
   "cell_type": "code",
   "execution_count": null,
   "metadata": {},
   "outputs": [],
   "source": [
    "taxis = np.loadtxt('./numpy_files/taxi_duration.txt', delimiter=',')"
   ]
  },
  {
   "cell_type": "code",
   "execution_count": null,
   "metadata": {
    "ExecuteTime": {
     "end_time": "2022-06-30T19:26:30.709843Z",
     "start_time": "2022-06-30T19:26:30.702703Z"
    }
   },
   "outputs": [],
   "source": [
    "durations = taxis[:,1]\n",
    "\n",
    "mean_duration = 'Your code here'\n",
    "std_duration = 'Your code here'\n",
    "\n",
    "print(f'Mean duration: {mean_duration}\\nStandard deviation of the duration: {std_duration}')\n"
   ]
  },
  {
   "cell_type": "markdown",
   "metadata": {},
   "source": [
    "Next, compute the mean and standard deviation per weekday using the `taxi_weeks` array:\n",
    "- On which weekday, on average, does the highest taxi ride duration occur?"
   ]
  },
  {
   "cell_type": "code",
   "execution_count": null,
   "metadata": {
    "ExecuteTime": {
     "end_time": "2022-06-30T19:26:31.420314Z",
     "start_time": "2022-06-30T19:26:31.416623Z"
    },
    "scrolled": true
   },
   "outputs": [],
   "source": [
    "mean_duration = 'Your code here'\n",
    "std_duration = 'Your code here'\n",
    "\n",
    "print(f'Mean duration: {mean_duration}\\nStandard deviation of the duration: {std_duration}')\n",
    "print(np.std(taxi_weeks, axis=0))"
   ]
  },
  {
   "cell_type": "markdown",
   "metadata": {},
   "source": [
    "---\n",
    "## Dot product and matrix multiplication\n",
    "As we saw in the previous example, the `*` operator or `.multiply()` function performs an element wise multiplication. To perform matrix multiplication, the `@` operator can be used:"
   ]
  },
  {
   "cell_type": "code",
   "execution_count": null,
   "metadata": {
    "ExecuteTime": {
     "end_time": "2022-06-30T19:26:32.265450Z",
     "start_time": "2022-06-30T19:26:32.247773Z"
    }
   },
   "outputs": [],
   "source": [
    "a = np.eye(3) * 2\n",
    "b = np.arange(1,10, dtype=np.float64).reshape((3,3))\n",
    "\n",
    "print(f'a\\n{a}\\n') \n",
    "print(f'b:\\n{b}\\n')\n",
    "print(f'a * b:\\n{a * b}\\n')               # Element-wise multiplication\n",
    "print(f'a @ b:\\n{a @ b}\\n')               # dot product or matrix multiplication\n",
    "print(f'np.dot(a, b):\\n{np.dot(a, b)}\\n') # dot product or matrix multiplication"
   ]
  },
  {
   "cell_type": "markdown",
   "metadata": {},
   "source": [
    "To transpose an array representing a vector or matrix, the `np.transpose()` function can be used. Alternatively, an array can be transposed by accessing its `.T` attribute. "
   ]
  },
  {
   "cell_type": "code",
   "execution_count": null,
   "metadata": {
    "ExecuteTime": {
     "end_time": "2022-06-30T19:26:33.118948Z",
     "start_time": "2022-06-30T19:26:33.112240Z"
    }
   },
   "outputs": [],
   "source": [
    "a = np.arange(6)\n",
    "a = a.reshape((3,2))                              # a now has 3 rows and 2 columns\n",
    "print(f'a:\\n{a}\\n')\n",
    "print(f'np.transpose(a):\\n{np.transpose(a)}\\n')   # a now has 2 rows and 3 columns\n",
    "print(f'a.T:\\n{a.T}')                             # a now has 2 rows and 3 columns (same outcome as line above)"
   ]
  },
  {
   "cell_type": "markdown",
   "metadata": {},
   "source": [
    "---\n",
    "### <font color='red'>Exercise</font>"
   ]
  },
  {
   "cell_type": "markdown",
   "metadata": {},
   "source": [
    "Create the two matrices A and B as numpy arrays: $A = \\begin{bmatrix} 1&4&2\\\\0&2&1\\\\3&7&6 \\end{bmatrix}$, $B = \\begin{bmatrix} 2&0&1\\\\0&3&0\\\\1&2&0 \\end{bmatrix}$.\n",
    "\n",
    "Next, perform the following operations:\n",
    "- Compute $C = A + B$\n",
    "- Compute $D = A \\cdot B$\n",
    "- Compute $D^T$"
   ]
  },
  {
   "cell_type": "code",
   "execution_count": null,
   "metadata": {
    "ExecuteTime": {
     "end_time": "2022-06-30T19:26:34.557000Z",
     "start_time": "2022-06-30T19:26:34.552438Z"
    }
   },
   "outputs": [],
   "source": [
    "A = 'Your code here'\n",
    "B = 'Your code here'\n",
    "C = 'Your code here'\n",
    "D = 'Your code here'\n",
    "\n",
    "print(f'{A}\\n')\n",
    "print(f'{B}\\n')\n",
    "print(f'{C}\\n')\n",
    "print(f'{D}\\n')"
   ]
  },
  {
   "cell_type": "markdown",
   "metadata": {},
   "source": [
    "## Example: Linear algebra using Numpy\n",
    "\n",
    "In this short example, we will solve a linear system of equations using numpy. \n",
    "\n",
    "Let's say we want to fit a polynomial $y = a_0 x^2 + a_1 x + a_2$ through the points $(1,0)$, $(2,2)$, and $(3,1)$.\n",
    "We can obtain the variables $a_0$, $a_1$, and $a_2$ by solving the folowing linear system of equations:\n",
    "\n",
    "$\\begin{bmatrix} 1 & 1 & 1\\\\ 4 & 2 & 1\\\\ 9 & 3 & 1 \\end{bmatrix} \\begin{bmatrix} a_0\\\\ a_1\\\\ a_2 \\end{bmatrix} = \\begin{bmatrix} 0\\\\ 2\\\\ 1 \\end{bmatrix}$\n",
    "\n",
    "If we want to solve a simple system of linear equations in the form of $\\mathbf{A}\\mathbf{x} = \\mathbf{b}$, when given A and b. If A is invertable, then this equation can be solved by inverting rearranging the matrix and vectors: $\\mathbf{A}^{-1}\\mathbf{b} = \\mathbf{x}$"
   ]
  },
  {
   "cell_type": "code",
   "execution_count": null,
   "metadata": {
    "ExecuteTime": {
     "end_time": "2022-06-19T14:12:20.095747Z",
     "start_time": "2022-06-19T14:12:20.080533Z"
    }
   },
   "outputs": [],
   "source": [
    "A = np.array([[1, 1, 1], \n",
    "              [4, 2, 1], \n",
    "              [9, 3, 1]])\n",
    "b = np.array([0, 2, 1]).T\n",
    "\n",
    "x = np.linalg.inv(A) @ b\n",
    "\n",
    "print(f'A:\\n{A}\\n')\n",
    "print(f'b:\\n{b}\\n')\n",
    "print(f'x:\\n{x}\\n')"
   ]
  },
  {
   "cell_type": "markdown",
   "metadata": {},
   "source": [
    "Checking the specified conditions:"
   ]
  },
  {
   "cell_type": "code",
   "execution_count": null,
   "metadata": {
    "ExecuteTime": {
     "end_time": "2022-06-19T14:12:24.949348Z",
     "start_time": "2022-06-19T14:12:24.942277Z"
    }
   },
   "outputs": [],
   "source": [
    "a0, a1, a2 = x    \n",
    "\n",
    "print(f'a0 * 1**2 + a1 * 1 + a2 = {a0 * 1**2 + a1 * 1 + a2:.2f}')  # Check solution at x = 1\n",
    "print(f'a0 * 2**2 + a1 * 2 + a2 = {a0 * 2**2 + a1 * 2 + a2:.2f}')  # Check solution at x = 2\n",
    "print(f'a0 * 3**2 + a1 * 3 + a2 = {a0 * 3**2 + a1 * 3 + a2:.2f}')  # Check solution at x = 3"
   ]
  },
  {
   "cell_type": "markdown",
   "metadata": {},
   "source": [
    "It can be seen that the solution is nearly correct... The values of used in these calculations are floats, which cannnot represent every number exactly. Therefore, when performing calculations, the outcome might differ by a very small amount in the order of 1e-15 times the magnitude of the number."
   ]
  },
  {
   "cell_type": "markdown",
   "metadata": {},
   "source": [
    "---\n",
    "Alternatively, we could have used the `np.linalg.solve()` function to solve the equation $\\mathbf{A}\\mathbf{x} = \\mathbf{b}$ given **A** and **b**:"
   ]
  },
  {
   "cell_type": "code",
   "execution_count": null,
   "metadata": {
    "ExecuteTime": {
     "end_time": "2022-06-19T14:12:25.385378Z",
     "start_time": "2022-06-19T14:12:25.370247Z"
    }
   },
   "outputs": [],
   "source": [
    "x = np.linalg.solve(A, b)\n",
    "print(x)"
   ]
  },
  {
   "cell_type": "markdown",
   "metadata": {},
   "source": [
    "---\n",
    "Another way of obtaining the parameters of a polynomial fitted to a number of coordinates (utilizing the least squares method) is through the `np.polyfit()` function, where the x and y coordinates of the coordinates must be passed in two seperate arrays:"
   ]
  },
  {
   "cell_type": "code",
   "execution_count": null,
   "metadata": {
    "ExecuteTime": {
     "end_time": "2022-06-19T14:12:25.731155Z",
     "start_time": "2022-06-19T14:12:25.713075Z"
    }
   },
   "outputs": [],
   "source": [
    "coordinates = np.array([[1, 0], # Define an array containing the required coordinates\n",
    "                        [2, 2],\n",
    "                        [3, 1]])\n",
    "\n",
    "x =  np.polyfit(coordinates[:,0], coordinates[:,1], deg=2) # Use the np.polyfit function specifying the coordinates and the degree of polynomial\n",
    "print(x)"
   ]
  },
  {
   "cell_type": "markdown",
   "metadata": {},
   "source": [
    "---\n",
    "This shows that there are always multiple options to tackling a poblem using numpy, and for a lot of scenarios there is likely already a numpy function which can be used to reduce the amount of code needed to perform a task."
   ]
  },
  {
   "cell_type": "markdown",
   "metadata": {},
   "source": [
    "## More linear algebra and other advanced math\n",
    "\n",
    "In general, you use `arrays` (n-dimensions), not `matrixes`\n",
    "(specialized 2-dimensional) in NumPy.\n",
    "\n",
    "Internally, NumPy doesn't invent its own math routines: it relies on\n",
    "[BLAS](https://en.wikipedia.org/wiki/Basic_Linear_Algebra_Subprograms)\n",
    "and [LAPACK](https://en.wikipedia.org/wiki/LAPACK) to do this kind\n",
    "of math - the same as many other languages.\n",
    "\n",
    "- [Linear algebra in numpy documentation](https://numpy.org/doc/stable/reference/routines.linalg.html)\n",
    "\n",
    "- [Scipy](https://docs.scipy.org/doc/scipy/reference/) has\n",
    "  more usful functions\n",
    "\n",
    "- Many other libraries use NumPy arrays as the standard data\n",
    "  structure: they take data in this format, and return it similarly.\n",
    "  Thus, all the other packages you may want to use are compatible\n"
   ]
  }
 ],
 "metadata": {
  "kernelspec": {
   "display_name": "Python 3 (ipykernel)",
   "language": "python",
   "name": "python3"
  },
  "language_info": {
   "codemirror_mode": {
    "name": "ipython",
    "version": 3
   },
   "file_extension": ".py",
   "mimetype": "text/x-python",
   "name": "python",
   "nbconvert_exporter": "python",
   "pygments_lexer": "ipython3",
   "version": "3.9.17"
  },
  "widgets": {
   "application/vnd.jupyter.widget-state+json": {
    "state": {},
    "version_major": 2,
    "version_minor": 0
   }
  }
 },
 "nbformat": 4,
 "nbformat_minor": 4
}
