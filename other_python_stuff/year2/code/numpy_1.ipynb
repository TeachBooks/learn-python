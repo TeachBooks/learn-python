{
 "cells": [
  {
   "cell_type": "markdown",
   "metadata": {},
   "source": [
    "# How to Use Arrays (ndarray)\n",
    "\n",
    "```{note}\n",
    "This page was not shared with MUDE students in 2023-2024 (year 2).\n",
    "\n",
    "It may have been a new page, or a modified page from year 1.\n",
    "\n",
    "There may be pages in year 1 and year 2 that are nearly identical, or have significant modifications. Modifications usually were to reformat the notebooks to fit in a jupyter book framework better.\n",
    "```\n",
    "\n",
    "text"
   ]
  },
  {
   "cell_type": "markdown",
   "metadata": {},
   "source": [
    "This notebook is based on the Numpy lesson from [Aalto Scientific Computing: Python for Scientific Computing](https://github.com/AaltoSciComp/python-for-scicomp/) and [W3Schools](https://www.w3schools.com/python/numpy/)."
   ]
  },
  {
   "cell_type": "code",
   "execution_count": null,
   "metadata": {},
   "outputs": [],
   "source": []
  },
  {
   "cell_type": "code",
   "execution_count": null,
   "metadata": {},
   "outputs": [],
   "source": []
  },
  {
   "cell_type": "markdown",
   "metadata": {},
   "source": [
    "## Indexing and Slicing\n",
    "\n",
    "NumPy has many ways to extract values out of arrays:\n",
    "\n",
    "- You can select a single element\n",
    "- You can select rows or columns\n",
    "- You can select ranges where a condition is true.\n",
    "\n",
    "An example of some ways of indexing is shown in the following image (credits GeeksForGeeks):\n",
    "\n",
    "<img src=\"https://media.geeksforgeeks.org/wp-content/uploads/Numpy1.jpg\" alt=\"indexing\" style=\"width:400px;\"/>\n",
    "\n",
    "\n",
    "\n",
    "Clever and efficient use of these operations is a key to NumPy's speed. "
   ]
  },
  {
   "cell_type": "markdown",
   "metadata": {},
   "source": [
    "<font color='red'>Reminder: In python, all indexing starts at zero, so to select the index of the first element in a list or numpy array is represented by a 0!</font>"
   ]
  },
  {
   "cell_type": "code",
   "execution_count": null,
   "metadata": {
    "ExecuteTime": {
     "end_time": "2022-06-30T19:26:37.393492Z",
     "start_time": "2022-06-30T19:26:37.387136Z"
    }
   },
   "outputs": [],
   "source": [
    "a = np.arange(16).reshape(4, 4)        # 4x4 matrix from 0 to 15\n",
    "print(f'a:\\n{a}\\n')\n",
    "print(f'a[0]:\\n{a[0]}\\n')              # first row\n",
    "print(f'a[:,0]:\\n{a[:,0]}\\n')          # first column\n",
    "print(f'a[1:3,1:3]:\\n{a[1:3,1:3]}\\n')  # middle 2x2 array\n",
    "\n",
    "print(f'a[(0, 1), (1, 1)]:\\n{a[(0, 1), (1, 1)]}')               # second element of first and second row as array"
   ]
  },
  {
   "cell_type": "markdown",
   "metadata": {},
   "source": [
    "You can also perform *boolean indexing* on arrays, such as shown below:"
   ]
  },
  {
   "cell_type": "code",
   "execution_count": null,
   "metadata": {
    "ExecuteTime": {
     "end_time": "2022-06-30T19:26:38.247841Z",
     "start_time": "2022-06-30T19:26:38.242145Z"
    }
   },
   "outputs": [],
   "source": [
    "print(f'a > 7:\\n{a > 7}\\n')        # creates boolean matrix of same size as a \n",
    "print(f'a[a > 7]:\\n{a[a > 7]}\\n')  # array with matching values of above criterion"
   ]
  },
  {
   "cell_type": "markdown",
   "metadata": {},
   "source": [
    "---\n",
    "### <font color='red'>Exercise</font>"
   ]
  },
  {
   "cell_type": "markdown",
   "metadata": {},
   "source": [
    "For the reshaped taxi ride duration array `taxi_weeks`, create the following arrays using slicing:\n",
    "- An array containing only daily total durations of *fridays* \n",
    "- An array containing *monday's* total durations from week 2 up to week 5\n",
    "- An array containing only entries with a total duration of more than 600 minutes"
   ]
  },
  {
   "cell_type": "code",
   "execution_count": null,
   "metadata": {
    "ExecuteTime": {
     "end_time": "2022-06-30T19:26:39.913802Z",
     "start_time": "2022-06-30T19:26:39.910639Z"
    }
   },
   "outputs": [],
   "source": [
    "fridays = 'Your code here'\n",
    "print(fridays)\n",
    "\n",
    "mondays_week_2_to_5 = 'Your code here'\n",
    "print(mondays_week_2_to_5)\n",
    "\n",
    "total_duration_over_6000 = 'Your code here'\n",
    "print(total_duration_over_6000)"
   ]
  },
  {
   "cell_type": "markdown",
   "metadata": {
    "ExecuteTime": {
     "end_time": "2022-06-26T10:00:34.938121Z",
     "start_time": "2022-06-26T10:00:34.934887Z"
    },
    "code_folding": []
   },
   "source": [
    "### <font color='red'>Exercise</font>"
   ]
  },
  {
   "cell_type": "markdown",
   "metadata": {},
   "source": [
    "The reshaped array `taxi_weeks` currently starts on a friday because this is the first day of the year. People often prefer to have the first column of the array corresponding to a monday instead. Using *slicing* and *reshaping*, create a new version of `taxi_weeks` from the `durations` array where the first column represents monday and chronological order is maintained."
   ]
  },
  {
   "cell_type": "markdown",
   "metadata": {},
   "source": [
    "> Hint: It is easier if you remove some observations at the beginning and the end because they are not part of a full week of observations."
   ]
  },
  {
   "cell_type": "code",
   "execution_count": null,
   "metadata": {
    "ExecuteTime": {
     "end_time": "2022-06-30T19:26:45.492564Z",
     "start_time": "2022-06-30T19:26:45.488855Z"
    }
   },
   "outputs": [],
   "source": [
    "taxi_weeks_monday = 'Your code here'"
   ]
  },
  {
   "cell_type": "markdown",
   "metadata": {},
   "source": [
    "Again, we visualise the result:"
   ]
  },
  {
   "cell_type": "code",
   "execution_count": null,
   "metadata": {
    "ExecuteTime": {
     "end_time": "2022-06-30T19:27:19.811872Z",
     "start_time": "2022-06-30T19:27:19.418465Z"
    },
    "scrolled": true
   },
   "outputs": [],
   "source": [
    "labels = ['monday', 'tuesday', 'wednesday', 'thursday','friday', 'saturday', 'sunday']\n",
    "plot_taxi_weeks(taxi_weeks_monday,labels)"
   ]
  },
  {
   "cell_type": "markdown",
   "metadata": {},
   "source": [
    "---\n",
    "## Array reshaping\n",
    "Arrays can be [reshaped](https://numpy.org/doc/stable/reference/generated/numpy.reshape.html) in many different ways, as long as the number of entries in the new shape does not differ from the number of entries in the original array. \n",
    "For example, the following array can be reshaped into a 3 by 3 array:\n",
    "\n",
    "<img src=\"./1dim.png\" alt=\"drawing\" width=\"600\"/>\n",
    "\n",
    "By reshaping this array into a 3 by 3 array using the default reading order, the following array is created:\n",
    "\n",
    "<img src=\"./2dim.png\" alt=\"drawindg\" style=\"width:200px;\"/>\n"
   ]
  },
  {
   "cell_type": "code",
   "execution_count": null,
   "metadata": {
    "ExecuteTime": {
     "end_time": "2022-06-19T15:45:00.005091Z",
     "start_time": "2022-06-19T15:44:59.973626Z"
    },
    "tags": [
     "allow_errors"
    ]
   },
   "outputs": [],
   "source": [
    "arr = np.arange(10)\n",
    "print(f'original:\\n{arr}')\n",
    "print(f'\\n5 rows and 2 columns:\\n{arr.reshape((5, 2))}')\n",
    "print(f'\\n2 rows and 5 columns:\\n{arr.reshape((2, -1))}') # -1 provides the fitting lenght of the dimension\n",
    "print(f'\\n1 row and 5 columns:\\n{arr.reshape((1, 5))}')   # This action will cause an error because \n",
    "                                                          # 10 entries do not fit in a 1 by 5 array"
   ]
  },
  {
   "cell_type": "markdown",
   "metadata": {},
   "source": [
    "---\n",
    "### <font color='red'>Exercise</font>"
   ]
  },
  {
   "cell_type": "markdown",
   "metadata": {},
   "source": [
    "Reshape the Taxi array as loaded in the previous exercise such that the array columns represent weekdays and the array rows represent different weeks in the period of the data set. Note that the first day of the year 2016 was a *friday*, so the week representation in the columns will start at *friday*."
   ]
  },
  {
   "cell_type": "code",
   "execution_count": null,
   "metadata": {
    "ExecuteTime": {
     "end_time": "2022-06-30T19:22:10.446976Z",
     "start_time": "2022-06-30T19:22:10.442911Z"
    },
    "scrolled": true
   },
   "outputs": [],
   "source": [
    "taxi_weeks = 'Your code here'"
   ]
  },
  {
   "cell_type": "markdown",
   "metadata": {
    "ExecuteTime": {
     "end_time": "2022-06-26T09:24:54.678197Z",
     "start_time": "2022-06-26T09:24:54.637068Z"
    }
   },
   "source": [
    "A visualization of the reshaped array:"
   ]
  },
  {
   "cell_type": "code",
   "execution_count": null,
   "metadata": {
    "ExecuteTime": {
     "end_time": "2022-06-30T19:23:19.025535Z",
     "start_time": "2022-06-30T19:23:18.668725Z"
    }
   },
   "outputs": [],
   "source": [
    "from plotting_functions import plot_taxi_weeks\n",
    "plot_taxi_weeks(taxi_weeks, labels = ['friday','saturday','sunday','monday','tuesday','wednesday','thursday'])"
   ]
  },
  {
   "cell_type": "code",
   "execution_count": null,
   "metadata": {},
   "outputs": [],
   "source": []
  },
  {
   "cell_type": "code",
   "execution_count": null,
   "metadata": {},
   "outputs": [],
   "source": []
  },
  {
   "cell_type": "markdown",
   "metadata": {},
   "source": [
    "---\n",
    "## View vs copy\n",
    "See the cell below:"
   ]
  },
  {
   "cell_type": "code",
   "execution_count": null,
   "metadata": {
    "ExecuteTime": {
     "end_time": "2022-06-19T14:12:18.162370Z",
     "start_time": "2022-06-19T14:12:18.149896Z"
    }
   },
   "outputs": [],
   "source": [
    "a = np.eye(4)         # Create an array\n",
    "print(f'a:\\n{a}\\n')   # Print a\n",
    "\n",
    "b = a[:,0]            # Set variable b as the first column of b\n",
    "b[0] = 5              # Set all elements in b to 5\n",
    "print(f'b:\\n{b}\\n')   # print b\n",
    "\n",
    "print(f'a:\\n{a}\\n')   # print a again"
   ]
  },
  {
   "cell_type": "markdown",
   "metadata": {},
   "source": [
    "The change in ``b`` has also changed the array ``a``!\n",
    "This is because ``b`` is merely a *view* of a part of array ``a``.  Both\n",
    "variables point to the same memory. Hence, if one is changed, the other\n",
    "one also changes! If you need to keep the original array as is, use `np.copy(a)` or `a.copy()`."
   ]
  },
  {
   "cell_type": "code",
   "execution_count": null,
   "metadata": {
    "ExecuteTime": {
     "end_time": "2022-06-19T14:12:18.662616Z",
     "start_time": "2022-06-19T14:12:18.640303Z"
    }
   },
   "outputs": [],
   "source": [
    "a = np.eye(4)         # Create an array\n",
    "print(f'a:\\n{a}\\n')   # Print a \n",
    "\n",
    "b = np.copy(a)[:,0]   # Set variable b as a copy of the first column of b\n",
    "b[0] = 5              # Set all elements in b to 5\n",
    "print(f'b:\\n{b}\\n')   # print b\n",
    "\n",
    "print(f'a:\\n{a}\\n')   # print a again"
   ]
  },
  {
   "cell_type": "code",
   "execution_count": null,
   "metadata": {},
   "outputs": [],
   "source": []
  },
  {
   "cell_type": "code",
   "execution_count": null,
   "metadata": {},
   "outputs": [],
   "source": []
  },
  {
   "cell_type": "markdown",
   "metadata": {
    "tags": []
   },
   "source": [
    "---\n",
    "## Saving and loading arrays\n",
    "When working with arrays, it might be useful to save or load an array to a file on your computer. This can be done using the `np.save()` and `np.load()` functions respectively:"
   ]
  },
  {
   "cell_type": "code",
   "execution_count": null,
   "metadata": {
    "ExecuteTime": {
     "end_time": "2022-06-19T14:12:17.037022Z",
     "start_time": "2022-06-19T14:12:17.023276Z"
    },
    "scrolled": true
   },
   "outputs": [],
   "source": [
    "arr = np.linspace(0, 10, 11)  # Create an array\n",
    "print(f'arr:\\n{arr}')\n",
    "\n",
    "np.save('arr.npy', arr)       # Save the array to a file on your computer\n",
    "arr = None                    # Setting the arr parameter to None\n",
    "print(f'arr:\\n{arr}')\n",
    "\n",
    "arr = np.load('arr.npy')      # Load the array from the created .npy file \n",
    "print(arr)"
   ]
  },
  {
   "cell_type": "markdown",
   "metadata": {},
   "source": [
    "You now saved `arr.npy` such that you can use it later and in different scripts! It is also possible to load csv or txt files using the `np.loadtxt()` function. by passing the correct string representing the delimiter character, a txt or csv file can be loaded as an array:"
   ]
  },
  {
   "cell_type": "code",
   "execution_count": null,
   "metadata": {
    "ExecuteTime": {
     "end_time": "2022-06-19T14:12:17.049361Z",
     "start_time": "2022-06-19T14:12:17.040476Z"
    }
   },
   "outputs": [],
   "source": [
    "arr_from_csv = np.loadtxt('./numpy_files/example_data.csv', delimiter=',')  # This file uses the comma as the seperating character\n",
    "\n",
    "arr_from_txt = np.loadtxt('./numpy_files/example_data.txt', delimiter='\\t') # This file uses a tab as the seperating character\n",
    "\n",
    "print(f'array from csv file:\\n{arr_from_csv}\\n')\n",
    "print(f'array from txt file:\\n{arr_from_txt}')"
   ]
  },
  {
   "cell_type": "markdown",
   "metadata": {},
   "source": [
    "---\n",
    "### <font color='red'>Exercise</font>"
   ]
  },
  {
   "cell_type": "markdown",
   "metadata": {},
   "source": [
    "Load the provided csv `taxi_duration.txt` using the `np.loadtxt` function. The text file contains two columns: one representing the day of the year, and the other representing the daily total duration of taxi rides corresponding to the day of the year. Check the number of days in your loaded dataset. You can preview the file in a text editor if you want."
   ]
  },
  {
   "cell_type": "code",
   "execution_count": null,
   "metadata": {
    "ExecuteTime": {
     "end_time": "2022-06-30T19:18:24.834359Z",
     "start_time": "2022-06-30T19:18:24.824656Z"
    }
   },
   "outputs": [],
   "source": [
    "taxis = 'Your code here'\n",
    "# print(f'The dataset is {len(taxis)} days long.')"
   ]
  },
  {
   "cell_type": "markdown",
   "metadata": {},
   "source": [
    "Now, visualize the dataset by running the cell below"
   ]
  },
  {
   "cell_type": "code",
   "execution_count": null,
   "metadata": {
    "ExecuteTime": {
     "end_time": "2022-06-30T19:20:22.724156Z",
     "start_time": "2022-06-30T19:20:22.455107Z"
    }
   },
   "outputs": [],
   "source": [
    "from numpy_files.plotting_functions import plot_taxi_time_series\n",
    "plot_taxi_time_series(taxis)"
   ]
  }
 ],
 "metadata": {
  "kernelspec": {
   "display_name": "Python 3 (ipykernel)",
   "language": "python",
   "name": "python3"
  },
  "language_info": {
   "codemirror_mode": {
    "name": "ipython",
    "version": 3
   },
   "file_extension": ".py",
   "mimetype": "text/x-python",
   "name": "python",
   "nbconvert_exporter": "python",
   "pygments_lexer": "ipython3",
   "version": "3.9.17"
  },
  "widgets": {
   "application/vnd.jupyter.widget-state+json": {
    "state": {},
    "version_major": 2,
    "version_minor": 0
   }
  }
 },
 "nbformat": 4,
 "nbformat_minor": 4
}
