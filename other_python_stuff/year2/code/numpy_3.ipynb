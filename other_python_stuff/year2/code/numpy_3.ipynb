{
 "cells": [
  {
   "cell_type": "markdown",
   "metadata": {},
   "source": [
    "# Exercises\n",
    "\n"
   ]
  },
  {
   "cell_type": "markdown",
   "metadata": {
    "tags": []
   },
   "source": [
    "## Optional Exercises\n",
    "\n",
    "```{note}\n",
    "This page was not shared with MUDE students in 2023-2024 (year 2).\n",
    "\n",
    "It may have been a new page, or a modified page from year 1.\n",
    "\n",
    "There may be pages in year 1 and year 2 that are nearly identical, or have significant modifications. Modifications usually were to reformat the notebooks to fit in a jupyter book framework better.\n",
    "```\n",
    "\n",
    "   If you have extra time, try these out.\n",
    "\n",
    "   1. Reverse a vector: given a vector, reverse it such that the last\n",
    "      element becomes the first, e.g. ``[1, 2, 3]`` => ``[3, 2, 1]``\n",
    "\n",
    "   2. Create a 2D array with zeros on the borders and 1 inside.\n",
    "\n",
    "   3. Create a random array of length 20 with elements [0, 1), then add 10 to all\n",
    "      elements in the range [0.2, 0.7).\n",
    "\n",
    "   4. What is `np.round(0.5)`? What is ``np.round(1.5)``? Why?\n",
    "\n",
    "   5. In addition to ``np.round``, explore `numpy.ceil`, `numpy.floor`,\n",
    "      `numpy.trunc`. In particular, take note of how they behave with\n",
    "      negative numbers.\n",
    "\n",
    "   6. Recall the identity $sin^2(x) + cos^2(x) = 1$. Create a\n",
    "      random 4x4 array with values in the range [0, 10). Now test the\n",
    "      equality with `numpy.equal`. What result do you get with\n",
    "      `numpy.allclose` instead of ``np.equal``?\n",
    "\n",
    "   7. Create a 1D array with 10 random elements. Sort it.\n",
    "\n",
    "   8. What's the difference between `np_array.sort()` and\n",
    "      `np.sort(np_array)`?\n",
    "\n",
    "   9. For the random array in question 8, instead of sorting it, perform\n",
    "      an indirect sort. That is, return the list of indices which would\n",
    "      index the array in sorted order.\n",
    "\n",
    "   10. Create a 4x4 array of zeros, and another 4x4 array of ones. Next\n",
    "       combine them into a single 8x4 array with the content of the zeros\n",
    "       array on top and the ones on the bottom.  Finally, do the same,\n",
    "       but create a 4x8 array with the zeros on the left and the ones on\n",
    "       the right."
   ]
  },
  {
   "cell_type": "code",
   "execution_count": null,
   "metadata": {
    "ExecuteTime": {
     "end_time": "2022-06-19T14:12:26.224649Z",
     "start_time": "2022-06-19T14:12:26.206876Z"
    }
   },
   "outputs": [],
   "source": [
    "# Answer for Ex. 1\n"
   ]
  },
  {
   "cell_type": "code",
   "execution_count": null,
   "metadata": {
    "ExecuteTime": {
     "end_time": "2022-06-19T14:12:26.474002Z",
     "start_time": "2022-06-19T14:12:26.460567Z"
    }
   },
   "outputs": [],
   "source": [
    "# Answer for Ex. 2\n"
   ]
  },
  {
   "cell_type": "code",
   "execution_count": null,
   "metadata": {
    "ExecuteTime": {
     "end_time": "2022-06-19T14:12:26.702969Z",
     "start_time": "2022-06-19T14:12:26.696217Z"
    }
   },
   "outputs": [],
   "source": [
    "# Answer for Ex. 3\n",
    "# YOUR SOLUTION MAY BE DIFFERENT IF YOU USE A DIFFERENT SEED\n",
    "np.random.seed(42)\n"
   ]
  },
  {
   "cell_type": "code",
   "execution_count": null,
   "metadata": {
    "ExecuteTime": {
     "end_time": "2022-06-19T14:12:26.929738Z",
     "start_time": "2022-06-19T14:12:26.925391Z"
    }
   },
   "outputs": [],
   "source": [
    "# Answer for Ex. 4\n"
   ]
  },
  {
   "cell_type": "code",
   "execution_count": null,
   "metadata": {
    "ExecuteTime": {
     "end_time": "2022-06-19T14:12:27.229140Z",
     "start_time": "2022-06-19T14:12:27.208488Z"
    }
   },
   "outputs": [],
   "source": [
    "# Answer for Ex. 5\n"
   ]
  },
  {
   "cell_type": "code",
   "execution_count": null,
   "metadata": {
    "ExecuteTime": {
     "end_time": "2022-06-19T14:12:27.483903Z",
     "start_time": "2022-06-19T14:12:27.479675Z"
    }
   },
   "outputs": [],
   "source": [
    "# Answer for Ex. 6\n",
    "# YOUR SOLUTION MAY BE DIFFERENT IF YOU USE A DIFFERENT SEED\n",
    "np.random.seed(42)\n"
   ]
  },
  {
   "cell_type": "code",
   "execution_count": null,
   "metadata": {
    "ExecuteTime": {
     "end_time": "2022-06-19T14:12:27.731045Z",
     "start_time": "2022-06-19T14:12:27.726535Z"
    }
   },
   "outputs": [],
   "source": [
    "# Answer for Ex. 7\n",
    "# YOUR SOLUTION MAY BE DIFFERENT IF YOU USE A DIFFERENT SEED\n",
    "np.random.seed(42)\n"
   ]
  },
  {
   "cell_type": "code",
   "execution_count": null,
   "metadata": {
    "ExecuteTime": {
     "end_time": "2022-06-19T14:12:28.084292Z",
     "start_time": "2022-06-19T14:12:28.079122Z"
    }
   },
   "outputs": [],
   "source": [
    "# Answer for Ex. 8\n"
   ]
  },
  {
   "cell_type": "code",
   "execution_count": null,
   "metadata": {
    "ExecuteTime": {
     "end_time": "2022-06-19T14:12:28.274953Z",
     "start_time": "2022-06-19T14:12:28.259871Z"
    }
   },
   "outputs": [],
   "source": [
    "# Answer for Ex. 9\n",
    "# YOUR SOLUTION MAY BE DIFFERENT IF YOU USE A DIFFERENT SEED\n",
    "np.random.seed(42)\n"
   ]
  },
  {
   "cell_type": "code",
   "execution_count": null,
   "metadata": {
    "ExecuteTime": {
     "end_time": "2022-06-19T14:12:28.519886Z",
     "start_time": "2022-06-19T14:12:28.513541Z"
    },
    "scrolled": true
   },
   "outputs": [],
   "source": [
    "# Answer for Ex. 10.\n"
   ]
  }
 ],
 "metadata": {
  "kernelspec": {
   "display_name": "Python 3 (ipykernel)",
   "language": "python",
   "name": "python3"
  },
  "language_info": {
   "codemirror_mode": {
    "name": "ipython",
    "version": 3
   },
   "file_extension": ".py",
   "mimetype": "text/x-python",
   "name": "python",
   "nbconvert_exporter": "python",
   "pygments_lexer": "ipython3",
   "version": "3.9.17"
  },
  "widgets": {
   "application/vnd.jupyter.widget-state+json": {
    "state": {},
    "version_major": 2,
    "version_minor": 0
   }
  }
 },
 "nbformat": 4,
 "nbformat_minor": 4
}
