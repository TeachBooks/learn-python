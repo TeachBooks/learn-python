{
 "cells": [
  {
   "cell_type": "markdown",
   "metadata": {},
   "source": [
    "# Numpy: How it Works\n",
    "\n",
    "```{note}\n",
    "This page was not shared with MUDE students in 2023-2024 (year 2).\n",
    "\n",
    "It may have been a new page, or a modified page from year 1.\n",
    "\n",
    "There may be pages in year 1 and year 2 that are nearly identical, or have significant modifications. Modifications usually were to reformat the notebooks to fit in a jupyter book framework better.\n",
    "```\n",
    "\n",
    "Introduction\n",
    "\n",
    "[theory](https://tudelft-citg.github.io/learn-python/05/Theory/01.html)\n",
    "[quick reference](https://tudelft-citg.github.io/learn-python/05/In_a_Nutshell/01.html)\n",
    "\n",
    "Exercises: [airpplane velocity](https://tudelft-citg.github.io/learn-python/05/Exercises/01.html) and [bending moment](https://tudelft-citg.github.io/learn-python/05/Exercises/02.html)."
   ]
  },
  {
   "cell_type": "markdown",
   "metadata": {},
   "source": [
    "This notebook is based on the Numpy lesson from [Aalto Scientific Computing: Python for Scientific Computing](https://github.com/AaltoSciComp/python-for-scicomp/) and [W3Schools](https://www.w3schools.com/python/numpy/)."
   ]
  },
  {
   "cell_type": "code",
   "execution_count": null,
   "metadata": {},
   "outputs": [],
   "source": []
  },
  {
   "cell_type": "markdown",
   "metadata": {
    "tags": []
   },
   "source": [
    "## See also\n",
    "\n",
    "\n",
    "* NumPy manual <https://numpy.org/doc/stable/reference/>`\n",
    "* Basic array class reference <https://numpy.org/doc/stable/reference/arrays.html>\n",
    "* Indexing <https://numpy.org/doc/stable/reference/arrays.indexing.html>`\n",
    "* ufuncs <https://numpy.org/doc/stable/reference/ufuncs.html>`\n",
    "* 2020 Nature paper on NumPy's role and basic concepts <https://www.nature.com/articles/s41586-020-2649-2>`"
   ]
  },
  {
   "cell_type": "markdown",
   "metadata": {
    "jp-MarkdownHeadingCollapsed": true,
    "tags": []
   },
   "source": [
    "## What is an array?\n",
    "\n",
    "For example, consider `[1, 2.5, 'asdf', False, [1.5, True]]` - this is a Python list but it has different types for every element. When you do math on this, every element has to be handled separately.\n",
    "\n",
    "Lists may serve the purpose of arrays, but they are slow to process. Numpy aims to provide an array object that is up to 50x faster than traditional Python lists. Numpy is the most used library for scientific computing. Even if you are not using it directly, chances are high that some library uses it in the background.\n",
    "\n",
    "The array data structure in numpy is called `ndarray`, it provides a lot of supporting functions that make working with `ndarray` very easy.\n",
    "\n",
    "An array is a ‘grid’ of values, with all the same types. It is indexed by tuples of non negative indices and provides the framework for multiple dimensions. An array has:\n",
    "\n",
    "- `dtype` - data type. Arrays always contain one type\n",
    "- `shape` - shape of the data, for example 3×2 or 3×2×500 or even 500 (one dimensional) or [] (zero dimensional).\n",
    "- `data` - raw data storage in memory. This can be passed to C or Fortran code for efficient calculations."
   ]
  },
  {
   "cell_type": "markdown",
   "metadata": {},
   "source": [
    "## Performance check\n",
    "\n",
    "To quickly show the fast performances of NumPy arrays, we can compare the results of a basic operations using lists and array. In particular we will compute the square of 10000 elements."
   ]
  },
  {
   "cell_type": "markdown",
   "metadata": {},
   "source": [
    "We first do this using Python lists, by creating a list with values from 0 to 9999, and one ‘empty’ list, to store the result in."
   ]
  },
  {
   "cell_type": "code",
   "execution_count": null,
   "metadata": {
    "ExecuteTime": {
     "end_time": "2022-07-01T15:53:26.360758Z",
     "start_time": "2022-07-01T15:53:26.350363Z"
    }
   },
   "outputs": [],
   "source": [
    "a = list(range(10000))\n",
    "b = [ 0 ] * 10000"
   ]
  },
  {
   "cell_type": "code",
   "execution_count": null,
   "metadata": {},
   "outputs": [],
   "source": [
    "%%timeit\n",
    "for i in range(len(a)):\n",
    "    b[i] = a[i]**2"
   ]
  },
  {
   "cell_type": "markdown",
   "metadata": {},
   "source": [
    "That looks and feels quite fast. But let’s take a look at how NumPy performs for the same task. We first import the `numpy` module, then we create our *a* and *b* containers again, which are now `ndarray` objects. Finally we perform the square operation."
   ]
  },
  {
   "cell_type": "code",
   "execution_count": null,
   "metadata": {},
   "outputs": [],
   "source": [
    "import numpy as np\n",
    "a = np.arange(10000)\n",
    "b = np.zeros(10000)"
   ]
  },
  {
   "cell_type": "code",
   "execution_count": null,
   "metadata": {},
   "outputs": [],
   "source": [
    "%%timeit\n",
    "b = a ** 2"
   ]
  },
  {
   "cell_type": "markdown",
   "metadata": {},
   "source": [
    "We see that working with numpy arrays provides substantial performance improvements."
   ]
  },
  {
   "cell_type": "markdown",
   "metadata": {
    "ExecuteTime": {
     "end_time": "2022-07-01T15:53:31.006650Z",
     "start_time": "2022-07-01T15:53:27.226245Z"
    }
   },
   "source": [
    "> **Note**: To evaluate the time of the computation we used the `%%timeit` command. `%%timeit` is a so-called Jupyter notebook *magic command* which is intiated with a `%` or `%%` prefix for line and cell commands, respectively. This `%%` cell magic has to be the first thing in the Jupyter cell, otherwise it will not work. There are many other interesting magic commands available, such as shown [here](https://towardsdatascience.com/top-8-magic-commands-in-jupyter-notebook-c1582e813560).\n"
   ]
  },
  {
   "cell_type": "markdown",
   "metadata": {},
   "source": [
    "## Creating arrays"
   ]
  },
  {
   "cell_type": "markdown",
   "metadata": {},
   "source": [
    "Arrays can be created using many different functions, this section will provide an overview in the many useful ways in which arrays can be created."
   ]
  },
  {
   "cell_type": "markdown",
   "metadata": {},
   "source": [
    "You can create an array from a Python list by using `np.array` and passing a Python list:"
   ]
  },
  {
   "cell_type": "markdown",
   "metadata": {},
   "source": [
    ">**Note**: To print the values of variables, we will make use of *f-strings*. F-strings have been introduced in Python 3.6, and they are recommended for print formatting since they improve code readability and are less prone to errors. We use f-strings by adding the letter *f* before the string we want to print, and then entering the name of the variables within curly brackets `{` and `}`. More info can be found [here](https://www.geeksforgeeks.org/formatted-string-literals-f-strings-python/)"
   ]
  },
  {
   "cell_type": "code",
   "execution_count": null,
   "metadata": {
    "ExecuteTime": {
     "end_time": "2022-07-01T15:53:36.717514Z",
     "start_time": "2022-07-01T15:53:36.707698Z"
    }
   },
   "outputs": [],
   "source": [
    "a = np.array([1,2,3])               # 1-dimensional array (rank 1)\n",
    "b = np.array([[1,2,3],[4,5,6]])     # 2-dimensional array (rank 2)\n",
    "\n",
    "# the print statements use f-strings to format the print output. \n",
    "print(f'a:{a}\\n')                                   # \\n creates a new line \n",
    "print(f'a:\\t{a}\\n')                                 # \\n adds a tab, a specific character for indentation\n",
    "print(f'b:\\n{b}\\n')\n",
    "print(f'shape of a: {a.shape}')                     # the shape (# rows, # columns)\n",
    "print(f'shape of b: {b.shape}')                     # the shape (# rows, # columns)\n",
    "print(f'size of a: {a.size}')                       # number of elements in the array b\n",
    "print(f'size of b: {b.size}')                       # number of elements in the array b"
   ]
  },
  {
   "cell_type": "markdown",
   "metadata": {},
   "source": [
    "Often it is useful to create an array with constant values; the following functions can be used to achieve this:"
   ]
  },
  {
   "cell_type": "code",
   "execution_count": null,
   "metadata": {
    "ExecuteTime": {
     "end_time": "2022-07-01T15:53:36.770186Z",
     "start_time": "2022-07-01T15:53:36.750150Z"
    }
   },
   "outputs": [],
   "source": [
    "print(np.zeros((2, 3)), '\\n')           # Create a 2x3 array with all elements set to 0\n",
    "print(np.ones((1,2)), '\\n')             # Create a 1x2 array with all elements set to 1\n",
    "print(np.full((2,2),7), '\\n')           # Create a 2x2 array with all elements set to 7\n",
    "print(np.eye(2), '\\n')                  # Create a 2x2 identity matrix"
   ]
  },
  {
   "cell_type": "markdown",
   "metadata": {},
   "source": [
    "Other common ways to create a vector include using evenly spaced values in an interval or by specifying the data type"
   ]
  },
  {
   "cell_type": "code",
   "execution_count": null,
   "metadata": {
    "ExecuteTime": {
     "end_time": "2022-07-01T15:53:36.841345Z",
     "start_time": "2022-07-01T15:53:36.820880Z"
    }
   },
   "outputs": [],
   "source": [
    "a = np.arange(10)              # Evenly spaced values in an interval, with default stepsize 1\n",
    "b = np.linspace(0,9,10)        # An array with 10 values between 0 and 9  \n",
    "                               # (check the difference with np.arange in the next section)\n",
    "\n",
    "c = np.ones((3, 2), bool)      # 3x2 boolean array\n",
    "\n",
    "print(f'a:\\n{a}\\n')\n",
    "print(f'b:\\n{b}\\n')\n",
    "print(f'c:\\n{c}')"
   ]
  },
  {
   "cell_type": "code",
   "execution_count": null,
   "metadata": {},
   "outputs": [],
   "source": []
  },
  {
   "cell_type": "code",
   "execution_count": null,
   "metadata": {},
   "outputs": [],
   "source": []
  },
  {
   "cell_type": "code",
   "execution_count": null,
   "metadata": {},
   "outputs": [],
   "source": []
  },
  {
   "cell_type": "code",
   "execution_count": null,
   "metadata": {},
   "outputs": [],
   "source": []
  },
  {
   "cell_type": "code",
   "execution_count": null,
   "metadata": {},
   "outputs": [],
   "source": []
  },
  {
   "cell_type": "markdown",
   "metadata": {
    "tags": []
   },
   "source": [
    " ---\n",
    " ## Array Data types\n",
    "\n",
    " What exactly is the difference between `np.arange(10)` and `np.linspace(0,9,10)`? \n",
    " \n",
    " - ``np.arange(10)`` results in ``array([0, 1, 2, 3, 4, 5, 6, 7, 8, 9])`` with dtype **int64**,\n",
    " - while ``np.linspace(0,9,10)`` results in ``array([0., 1., 2., 3., 4., 5., 6., 7., 8., 9.])`` with dtype **float64**.\n",
    "\n",
    " Both ``np.linspace`` and ``np.arange`` take dtype (data type) as an argument and can be adjusted to match each other in that way:"
   ]
  },
  {
   "cell_type": "code",
   "execution_count": null,
   "metadata": {
    "ExecuteTime": {
     "end_time": "2022-07-01T15:53:36.923930Z",
     "start_time": "2022-07-01T15:53:36.889193Z"
    }
   },
   "outputs": [],
   "source": [
    "print('As int64:')\n",
    "print(np.arange(10))\n",
    "print(np.linspace(0,9,10, dtype=np.int64))\n",
    "print('\\n')\n",
    "\n",
    "print('As float64:')\n",
    "print(np.arange(10, dtype=np.float64))\n",
    "print(np.linspace(0,9,10))"
   ]
  },
  {
   "cell_type": "markdown",
   "metadata": {},
   "source": [
    "---\n",
    "In many occasions (especially when something goes different than expected) it is useful to check and control, or change, the datatype of the array:"
   ]
  },
  {
   "cell_type": "code",
   "execution_count": null,
   "metadata": {
    "ExecuteTime": {
     "end_time": "2022-07-01T15:53:36.958655Z",
     "start_time": "2022-07-01T15:53:36.950718Z"
    }
   },
   "outputs": [],
   "source": [
    "d = np.ones((3, 2), bool)\n",
    "\n",
    "print(f'd:\\n{d}\\n')\n",
    "print(f'datatype of d:\\n{d.dtype}\\n')\n",
    "\n",
    "e = d.astype(int)\n",
    "      \n",
    "print(f'e:\\n{e}\\n')\n",
    "print(f'datatype of d:\\n{e.dtype}\\n')"
   ]
  },
  {
   "cell_type": "markdown",
   "metadata": {},
   "source": [
    "When converting floats to integers using `.astype()`, all floats in a numpy array are rounded to the largest integer lower than or equal to the float representation:"
   ]
  },
  {
   "cell_type": "code",
   "execution_count": null,
   "metadata": {
    "ExecuteTime": {
     "end_time": "2022-06-30T19:18:04.756250Z",
     "start_time": "2022-06-30T19:18:04.748300Z"
    }
   },
   "outputs": [],
   "source": [
    "nums = np.linspace(0,2,11)\n",
    "print(f'nums:\\n{nums}\\n')\n",
    "\n",
    "numsint = nums.astype(np.int64)\n",
    "print(f'nums as integer:\\n{numsint}\\n')"
   ]
  },
  {
   "cell_type": "markdown",
   "metadata": {},
   "source": [
    "Did you notice anything in the previous two cells?\n",
    "\n",
    "Right! We called the `astype` function not from the `np` module, but from the `ndarray` objects themselves. These are indeed *methods*, rather than *functions*. The main differences are highlighted in the table below.\n",
    "\n",
    "\n",
    "|Method      | Function|\n",
    "| :----------- | :-----------|\n",
    "| is associated with the objects of the class they belong to  | is not associated with any object|\n",
    "| is called 'on' an object and we cannot invoke it just by its name  | we can invoke a function just by its name.|\n",
    "\n",
    "Nearly all the method versions do the same thing as the function versions. Choosing the method or the function will usually depend on which one is easier to type or read. Some examples will be provided later in this notebook."
   ]
  },
  {
   "cell_type": "markdown",
   "metadata": {},
   "source": [
    "---\n",
    "### <font color='red'>Exercise</font>"
   ]
  },
  {
   "cell_type": "markdown",
   "metadata": {},
   "source": [
    "Create an array with elements ranging from 10 up to 15 (inclusive), with data type=unsigned 8 bit integer. \n",
    "Use the following functions:\n",
    "- Creating a python list and converting it to an array using `np.array()`\n",
    "- using `np.linspace()`\n",
    "- using `np.arange()`"
   ]
  },
  {
   "cell_type": "code",
   "execution_count": null,
   "metadata": {
    "ExecuteTime": {
     "end_time": "2022-06-30T19:18:04.816547Z",
     "start_time": "2022-06-30T19:18:04.796928Z"
    }
   },
   "outputs": [],
   "source": [
    "print('Your code here')\n",
    "print('Your code here')\n",
    "print('Your code here')"
   ]
  },
  {
   "cell_type": "markdown",
   "metadata": {
    "tags": []
   },
   "source": [
    "## Types of operations\n",
    "\n",
    "There are different types of standard operations in NumPy:\n",
    "\n",
    "**ufuncs**, or universal functions operats on ndarrays in an element-by-element fashion. They can be *unary*, operating on a single input, or *binary*, operating on two inputs.\n",
    "\n",
    "They are used to implement vectorization in NumPy which is way faster than iterating over elements. They also provide broadcasting and additional methods like reduce, accumulate etc. that are very helpful for computation.\n",
    "\n",
    "ufuncs also take additional arguments, like:\n",
    "\n",
    "`where` boolean array or condition defining where the operations should take place.\n",
    "\n",
    "`dtype` defining the return type of elements.\n",
    "\n",
    "`out` output array where the return value should be copied.\n",
    "\n",
    "A thorough explanation and list of ufunc is available at [W3Schools](https://www.w3schools.com/python/numpy/numpy_ufunc.asp)"
   ]
  },
  {
   "cell_type": "markdown",
   "metadata": {},
   "source": [
    "There are ufunc equivalents for Python's native arithmetic operators, e.g., the standard addition, subtraction, multiplication, division, negation, exponentiation, and so on. The ufunc however allows for more control, for instance we can use the `out` argument to specify the array where the result of the calculation will be stored (rather than creating a temporary array). This turns out to be particularly useful for large computations."
   ]
  },
  {
   "cell_type": "markdown",
   "metadata": {},
   "source": [
    "Example: in-place addition. Create an array, add it to itself using a ufunc."
   ]
  },
  {
   "cell_type": "code",
   "execution_count": null,
   "metadata": {
    "ExecuteTime": {
     "end_time": "2022-06-19T14:12:18.981700Z",
     "start_time": "2022-06-19T14:12:18.968190Z"
    }
   },
   "outputs": [],
   "source": [
    "x = np.array([1, 2, 3])\n",
    "\n",
    "print(f'x before addition: {x}')\n",
    "print(f'id before addition: {id(x)}')    # get the memory-ID of x\n",
    "np.add(x, x, x)                          # Third argument is output array\n",
    "np.add(x, x, x)\n",
    "print(f'x after addition: {x}')\n",
    "print(f'id after addition: {id(x)}')     # get the memory-ID of x\n",
    "                                         # - notice  it is the same!"
   ]
  },
  {
   "cell_type": "markdown",
   "metadata": {},
   "source": [
    "Example: broadcasting.  Can you add a 1-dimensional array of shape `(3)`\n",
    "  to an 2-dimensional array of shape `(3, 2)`?   With broadcasting you\n",
    "  can, and most of the times it happens 'under the hood'."
   ]
  },
  {
   "cell_type": "code",
   "execution_count": null,
   "metadata": {
    "ExecuteTime": {
     "end_time": "2022-06-19T14:12:19.313612Z",
     "start_time": "2022-06-19T14:12:19.290281Z"
    }
   },
   "outputs": [],
   "source": [
    "a = np.array([[1, 2, 3],\n",
    "             [4, 5, 6]])\n",
    "print(f'a:\\n{a}\\n')                         # Print a \n",
    "\n",
    "b = np.array([10, 10, 10])\n",
    "print(f'b:\\n{b}\\n')                         # Print b\n",
    "\n",
    "print(f'np.add(a, b):\\n{np.add(a, b)}\\n')   # add arrays a and b"
   ]
  },
  {
   "cell_type": "markdown",
   "metadata": {},
   "source": [
    "Broadcasting is smart and consistent about what it does. The basics of broadcasting are [documented here](https://numpy.org/doc/stable/user/basics.broadcasting.html). The basic idea is that it expands dimensions of the smaller array so that they are compatible in shape."
   ]
  },
  {
   "cell_type": "markdown",
   "metadata": {},
   "source": [
    "### Array methods\n",
    "Array methods also implement useful operations, sometimes similar to the ufuncs.\n",
    "\n",
    "Remember that array methods are called on the `ndarray` object. You can find the full list of methods [here](https://numpy.org/doc/stable/reference/arrays.ndarray.html) along with all other important informations on `ndarray`.  "
   ]
  },
  {
   "cell_type": "code",
   "execution_count": null,
   "metadata": {
    "ExecuteTime": {
     "end_time": "2022-06-19T14:12:19.774526Z",
     "start_time": "2022-06-19T14:12:19.754807Z"
    }
   },
   "outputs": [],
   "source": [
    "x = np.arange(12)\n",
    "x.shape = (3, 4)\n",
    "x                    #  array([[ 0,  1,  2,  3],\n",
    "                     #         [ 4,  5,  6,  7],\n",
    "                     #         [ 8,  9, 10, 11]])\n",
    "x.max()              #  11"
   ]
  }
 ],
 "metadata": {
  "kernelspec": {
   "display_name": "Python 3 (ipykernel)",
   "language": "python",
   "name": "python3"
  },
  "language_info": {
   "codemirror_mode": {
    "name": "ipython",
    "version": 3
   },
   "file_extension": ".py",
   "mimetype": "text/x-python",
   "name": "python",
   "nbconvert_exporter": "python",
   "pygments_lexer": "ipython3",
   "version": "3.9.17"
  },
  "widgets": {
   "application/vnd.jupyter.widget-state+json": {
    "state": {},
    "version_major": 2,
    "version_minor": 0
   }
  }
 },
 "nbformat": 4,
 "nbformat_minor": 4
}
