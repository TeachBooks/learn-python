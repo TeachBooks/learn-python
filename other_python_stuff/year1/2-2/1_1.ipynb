{
 "cells": [
  {
   "cell_type": "markdown",
   "id": "51342fe6",
   "metadata": {},
   "source": [
    "# Writing efficient code in Python: vectorization and `numba`"
   ]
  },
  {
   "attachments": {},
   "cell_type": "markdown",
   "id": "dc671516",
   "metadata": {},
   "source": [
    "In this example, we will learn how the code operating with large data can be optimized through vectorization and using the Numba package.\n",
    "\n",
    "<iframe width=\"1280\" height=\"720\" src=\"https://www.youtube.com/embed/d6YGiS-ZhJ0\" title=\"2_2 HPC workshop01\" frameborder=\"0\" allow=\"accelerometer; autoplay; clipboard-write; encrypted-media; gyroscope; picture-in-picture\" allowfullscreen></iframe>\n",
    "\n",
    "```{eval-rst}\n",
    ":download:`Download the slides. <./slides/Python_numba.pdf>`\n",
    "```"
   ]
  },
  {
   "cell_type": "markdown",
   "id": "55abcb37",
   "metadata": {},
   "source": [
    "### Interpreter and compiler\n",
    "Python uses an interpreter. This means the `python.exe` program parses your script (i.e., text file with code on Python language) and executes it row by row. This also means you need a Python interpreter in each system where you want to execute your scripts.\n",
    "\n",
    "On the other hand, languages like C++ or Fortran need a compiler to make executable files (your application or library) from the source code. Compiler analyzes the code in a few passes and do a lot of optimizations and outputs the machine code, i.e. application. \n",
    "\n",
    "Python is higher level language. As such, there are a lot of things going on under the hood that Python programmers do not have to care about. For instance memory allocation and deallocation, or everything that allows using a lot of existing modules in a plug-and-play fashion. The disadvantage of Python is lower performance, and that is why most numerical packages are written in C/C++/Fortran. \n",
    "\n",
    "For example, big loops are inefficient in Python. However, there are several ways to overcome this issue, such a *vectorization* and the `numba` library.\n",
    "\n",
    "We will try to use different Python implementations for the simple task and compare the performance. "
   ]
  },
  {
   "cell_type": "markdown",
   "id": "45c653c5",
   "metadata": {},
   "source": [
    "### Let's start..."
   ]
  },
  {
   "cell_type": "markdown",
   "id": "6b374bf8",
   "metadata": {},
   "source": [
    "\n",
    "First, let's generate large volume of data: 100 million random values representing age of population."
   ]
  },
  {
   "cell_type": "code",
   "execution_count": null,
   "id": "793cd324",
   "metadata": {},
   "outputs": [],
   "source": [
    "# length of array\n",
    "N = 10000000"
   ]
  },
  {
   "cell_type": "code",
   "execution_count": null,
   "id": "5c409440",
   "metadata": {},
   "outputs": [],
   "source": [
    "from numpy import random\n",
    "\n",
    "# generate random array of integers from 0 to 100 with size N.\n",
    "ages = random.randint(0, 100, N)"
   ]
  },
  {
   "cell_type": "code",
   "execution_count": null,
   "id": "77fee57c",
   "metadata": {},
   "outputs": [],
   "source": [
    "# calculate the average age (without any condition)\n",
    "average_age = ages.mean()\n",
    "print(\"Average age is\", average_age)"
   ]
  },
  {
   "cell_type": "markdown",
   "id": "cd19d6ae",
   "metadata": {},
   "source": [
    "Next, we are going to find the average age of adults (with age above 18 years old). \n",
    "For this we will use 'for' loop first."
   ]
  },
  {
   "cell_type": "code",
   "execution_count": null,
   "id": "a1ee4823",
   "metadata": {},
   "outputs": [],
   "source": [
    "# function returns the average age only for an adults (age >= 18) using loop\n",
    "def calc_average_adult_age_loop(ages):\n",
    "    average_adult_age = 0 \n",
    "    adult_counter = 0\n",
    "    for i in ages:\n",
    "        if i >= 18:\n",
    "            average_adult_age +=i\n",
    "            adult_counter += 1\n",
    "    if (adult_counter > 0):\n",
    "        average_adult_age /= adult_counter\n",
    "    return average_adult_age"
   ]
  },
  {
   "cell_type": "code",
   "execution_count": null,
   "id": "c5c58943",
   "metadata": {},
   "outputs": [],
   "source": [
    "# calculate and measure the calculation time using loop\n",
    "import time\n",
    "\n",
    "timers = dict()\n",
    "start = time.perf_counter()\n",
    "average_adult_age = calc_average_adult_age_loop(ages)\n",
    "end = time.perf_counter()\n",
    "\n",
    "print(\"Time (loop):\", end - start, \"sec.\")\n",
    "print(\"Average adult age is\", average_adult_age)\n",
    "\n",
    "timers[\"loop\"] = end - start"
   ]
  },
  {
   "cell_type": "markdown",
   "id": "4581bb8a",
   "metadata": {},
   "source": [
    "### Vectorization in numpy\n",
    "\n",
    "For large arrays, looping over each element can be slow in high-level languages like Python due to overhead.\n",
    "\n",
    "Vectorization is used to speed up the Python code without using loops. Using this approach may largely reduce the running time of code, improving its efficiency. Various `numpy` operations can be vectorized, such as i) dot product of vectors, also known as the scalar product; ii) outer products which results in square matrix of dimension equal to length X length of the vectors; or iii) element-wise multiplication of two matrices, where each element of first matrix is multiplied by its corresponding element in the later matrix (dimension of the matrices should be same)."
   ]
  },
  {
   "cell_type": "markdown",
   "id": "5a1a1440",
   "metadata": {},
   "source": [
    "Vectorized operations in `numpy` delegate the looping internally to highly optimized C and Fortran functions. \n",
    "This also makes your Python code cleaner. Indexing of `numpy.ndarray` is also extremely efficient. Let's see how we can exploit it to make the computation of the average adult age much faster."
   ]
  },
  {
   "cell_type": "code",
   "execution_count": null,
   "id": "cb0c76bf",
   "metadata": {},
   "outputs": [],
   "source": [
    "# calculate the average age only for an adults (age >= 18) using numpy vectorization\n",
    "start = time.perf_counter()\n",
    "average_adult_age = ages[ages>=18].mean()\n",
    "end = time.perf_counter()\n",
    "\n",
    "print(\"Time (vectorized):\", end - start, \"sec.\")\n",
    "print(\"Average adult age is\", average_adult_age)\n",
    "\n",
    "timers[\"numpy vectorized\"] = end - start"
   ]
  },
  {
   "cell_type": "markdown",
   "id": "ad9d973d",
   "metadata": {},
   "source": [
    "### Vectorization using `numba`"
   ]
  },
  {
   "attachments": {},
   "cell_type": "markdown",
   "id": "81b90b45",
   "metadata": {},
   "source": [
    "It is not always possible to implement the code with complicated conditions in a `numpy` vectorized way. \n",
    "In such cases, the [`numba` Python library](https://numba.pydata.org/) can help to speedup the Python loops. \n",
    "\n",
    "`numba` analyzes your function and compiles it into fast machine code using the LLVM (Low Level Virtual Machine) compiler. LLVM is an open source compiler which supports JIT (Just-In-Time) code generation, where the code is compiled during the execution.\n",
    "\n",
    "To use `numba` JIT support, you only need importing\n",
    "```python\n",
    "from numba import jit\n",
    "```\n",
    "and adding JIT decorator before the function definition:\n",
    "```python\n",
    "@jit(nopython=True)\n",
    "```\n",
    "> Note: Python *decorators* allow us modify the behaviour of a function or a class without permanently modifying it. You can find more about it [here](https://www.geeksforgeeks.org/decorators-in-python/).\n",
    "\n",
    "By default, `numba` might peform the compilation and optimization only for part of code. Specifying `nopython=True` forces to compile the decorated function so that it will run entirely without the involvement of the Python interpreter. This is the recommended and best-practice way to use the `numba` JIT decorator as it leads to the best performance.\n",
    "\n",
    ":::{figure-md} markdown-fig\n",
    "<img src=\"./slides/Slide8.PNG\" alt=\"numba explanation\" class=\"bg-primary mb-1\">\n",
    "\n",
    "Schematic overview of how Numba works.\n",
    ":::"
   ]
  },
  {
   "cell_type": "markdown",
   "id": "827e2468",
   "metadata": {},
   "source": [
    "Let's add `numba` to our original loop implementation for computing the average adult age."
   ]
  },
  {
   "cell_type": "code",
   "execution_count": null,
   "id": "9be2014c",
   "metadata": {},
   "outputs": [],
   "source": [
    "# calculate and measure the calculation time using loop with numba decorator\n",
    "from numba import jit\n",
    "\n",
    "@jit(nopython=True)\n",
    "# calculate the average age only for an adults (age >= 18) using loop\n",
    "def calc_average_adult_age_loop_numba(ages):\n",
    "    average_adult_age = 0 \n",
    "    adult_counter = 0\n",
    "    for i in ages:\n",
    "        if i >= 18:\n",
    "            average_adult_age += i\n",
    "            adult_counter += 1\n",
    "    if (adult_counter > 0):\n",
    "        average_adult_age /= adult_counter\n",
    "    return average_adult_age"
   ]
  },
  {
   "cell_type": "markdown",
   "id": "7dcdddb1",
   "metadata": {},
   "source": [
    "The first run will still require a comparable amount of time since it includes the compilation time."
   ]
  },
  {
   "cell_type": "code",
   "execution_count": null,
   "id": "a652ab59",
   "metadata": {},
   "outputs": [],
   "source": [
    "start = time.perf_counter()\n",
    "# first call will include the compilation time\n",
    "average_adult_age = calc_average_adult_age_loop_numba(ages)\n",
    "end = time.perf_counter()\n",
    "\n",
    "print(\"Time (loop numba):\", end - start, \"sec.\")\n",
    "print(\"Average adult age is\", average_adult_age)"
   ]
  },
  {
   "cell_type": "markdown",
   "id": "c59918c1",
   "metadata": {},
   "source": [
    "Next runs of the same function will be extremely fast. It happens because the code is compiled (translated to machine code) rather than interpreted (executed by Python interpretator)"
   ]
  },
  {
   "cell_type": "code",
   "execution_count": null,
   "id": "23aca16c",
   "metadata": {},
   "outputs": [],
   "source": [
    "# measure the time\n",
    "start = time.perf_counter()\n",
    "average_adult_age = calc_average_adult_age_loop_numba(ages)\n",
    "end = time.perf_counter()\n",
    "\n",
    "print(\"Time (loop numba):\", end - start, \"sec.\")\n",
    "print(\"Average adult age is\", average_adult_age)\n",
    "\n",
    "timers[\"loop numba\"] = end - start"
   ]
  },
  {
   "cell_type": "markdown",
   "id": "e4b4adc6",
   "metadata": {},
   "source": [
    "Of course, we get the speedup even if we use a completely different dataset."
   ]
  },
  {
   "cell_type": "code",
   "execution_count": null,
   "id": "c308fad9",
   "metadata": {},
   "outputs": [],
   "source": [
    "# create new dataset\n",
    "ages_new = random.randint(0, 100, N)\n",
    "\n",
    "# measure the time\n",
    "start = time.perf_counter()\n",
    "average_adult_age = calc_average_adult_age_loop_numba(ages_new)\n",
    "end = time.perf_counter()\n",
    "\n",
    "print(\"Time (loop numba):\", end - start, \"sec.\")\n",
    "print(\"Average adult age is\", average_adult_age)\n",
    "\n",
    "timers[\"loop numba\"] = end - start"
   ]
  },
  {
   "cell_type": "markdown",
   "id": "2832990e",
   "metadata": {},
   "source": [
    "### Parallelization on multiple cores"
   ]
  },
  {
   "cell_type": "markdown",
   "id": "b62ca11e",
   "metadata": {},
   "source": [
    "Our computers have many cores, so we can ask numba to automatically parallelize the loop by adding `parallel=True` argument.\n",
    "\n",
    "Parallelization changes the loop execution order, so it is not possible to directly parallelize the loop if it has a dependency on the previous iteration values (for example, `x[i+1]= f(x[i])`)."
   ]
  },
  {
   "attachments": {},
   "cell_type": "markdown",
   "id": "63a962d1",
   "metadata": {},
   "source": [
    ":::{figure-md} markdown-fig\n",
    "<img src=\"./slides/Slide10.PNG\" alt=\"numba explanation\" class=\"bg-primary mb-1\">\n",
    "\n",
    "Parallelization on multiple cores.\n",
    ":::"
   ]
  },
  {
   "cell_type": "code",
   "execution_count": null,
   "id": "c806dd61",
   "metadata": {},
   "outputs": [],
   "source": [
    "# with numba decorator and auto-parallelization and fast math\n",
    "@jit(nopython=True, parallel=True)\n",
    "# calculate the average age only for an adults (age >= 18) using loop\n",
    "def calc_average_adult_age_loop_numba_parallel(ages):\n",
    "    average_adult_age = 0 \n",
    "    adult_counter = 0\n",
    "    for i in ages:\n",
    "        if i >= 18:\n",
    "            average_adult_age += i\n",
    "            adult_counter += 1\n",
    "    if (adult_counter > 0):\n",
    "        average_adult_age /= adult_counter\n",
    "    return average_adult_age"
   ]
  },
  {
   "cell_type": "code",
   "execution_count": null,
   "id": "565c6447",
   "metadata": {},
   "outputs": [],
   "source": [
    "start = time.perf_counter()\n",
    "# first call will include the compilation time\n",
    "average_adult_age = calc_average_adult_age_loop_numba_parallel(ages)\n",
    "end = time.perf_counter()\n",
    "\n",
    "print(\"Time (loop parallel):\", end - start, \"sec.\")\n",
    "print(\"Average adult age is\", average_adult_age)"
   ]
  },
  {
   "cell_type": "markdown",
   "id": "16b06903",
   "metadata": {},
   "source": [
    "This message means that auto parallelization has not been applied."
   ]
  },
  {
   "attachments": {},
   "cell_type": "markdown",
   "id": "8f93ee0d",
   "metadata": {},
   "source": [
    "## How to implement parallel loops correctly?\n",
    "\n",
    "\n",
    "Another feature of the code transformation pass when `(parallel=True)` is support for consistent parallel loops. One can use Numba’s `prange` instead of Python's standard `range` to specify that a loop can be parallelized. The user is required to make sure that the loop does not have cross iteration dependencies.\n",
    ":::{figure-md} markdown-fig\n",
    "<img style=\"float: left;\" src=\"slides/Slide11.PNG\" width=\"100%\">\n",
    "\n",
    "Schematic explanation of parallelization.\n",
    ":::"
   ]
  },
  {
   "cell_type": "markdown",
   "id": "bd2df44d",
   "metadata": {},
   "source": [
    "Let's use `prange` in `for` loop to specify that  our loop has not cross iteration dependencies and can be parallelized."
   ]
  },
  {
   "cell_type": "code",
   "execution_count": null,
   "id": "657eeace",
   "metadata": {},
   "outputs": [],
   "source": [
    "from numba import prange\n",
    "\n",
    "# with numba decorator and auto-parallelization\n",
    "@jit(nopython=True, parallel=True)\n",
    "# calculate the average age only for an adults (age >= 18) using loop\n",
    "def calc_average_adult_age_loop_numba_parallel(ages):\n",
    "    average_adult_age = 0 \n",
    "    adult_counter = 0\n",
    "    for i in prange(ages.shape[0]):\n",
    "        if ages[i] >= 18:\n",
    "            average_adult_age += ages[i]\n",
    "            adult_counter += 1\n",
    "    if (adult_counter > 0):\n",
    "        average_adult_age /= adult_counter\n",
    "    return average_adult_age"
   ]
  },
  {
   "cell_type": "code",
   "execution_count": null,
   "id": "039c9e07",
   "metadata": {},
   "outputs": [],
   "source": [
    "start = time.perf_counter()\n",
    "# first call will include the compilation time\n",
    "average_adult_age = calc_average_adult_age_loop_numba_parallel(ages)\n",
    "end = time.perf_counter()\n",
    "\n",
    "print(\"Time (loop parallel):\", end - start, \"sec.\")\n",
    "print(\"Average adult age is\", average_adult_age)"
   ]
  },
  {
   "cell_type": "code",
   "execution_count": null,
   "id": "47b985f5",
   "metadata": {},
   "outputs": [],
   "source": [
    "# measure the time\n",
    "start = time.perf_counter()\n",
    "average_adult_age = calc_average_adult_age_loop_numba_parallel(ages)\n",
    "end = time.perf_counter()\n",
    "\n",
    "print(\"Time (loop numba parallel):\", end - start, \"sec.\")\n",
    "print(\"Average adult age is\", average_adult_age)\n",
    "\n",
    "timers[\"loop numba parallel\"] = end - start"
   ]
  },
  {
   "cell_type": "code",
   "execution_count": null,
   "id": "128cec0b",
   "metadata": {},
   "outputs": [],
   "source": [
    "# print timers\n",
    "max_col_width = 20\n",
    "for t in timers.keys():\n",
    "    tab_spaces = ' ' * (max_col_width - len(t))\n",
    "    print(t, tab_spaces, timers[t], 'sec.')"
   ]
  },
  {
   "cell_type": "markdown",
   "id": "62815961",
   "metadata": {},
   "source": [
    "### Another example of numpy vectorization \n",
    "\n",
    "Dot product is an algebraic operation in which two equal length vectors are being multiplied such that it produces a single number. Dot Product often called as inner product. This product results in a scalar number. Let’s consider two matrix a and b of same length, the dot product is done by taking the transpose of first matrix and then mathematical matrix multiplication of a’(transpose of a) and b is followed.\n",
    "\n",
    "> Note: run the cell twice if you don't witness a significant speedup the first time."
   ]
  },
  {
   "cell_type": "code",
   "execution_count": null,
   "id": "b21c3ef8",
   "metadata": {},
   "outputs": [],
   "source": [
    "# Dot product\n",
    "import time\n",
    "import numpy as np\n",
    "\n",
    "timers = dict()\n",
    "\n",
    "N = 1000000\n",
    "\n",
    "a = np.random.rand(N,1).T # we must use the transpose of a to perform the dot product\n",
    "b = np.random.rand(N,1)\n",
    "   \n",
    "# classic dot product of vectors implementation \n",
    "start_time = time.perf_counter()\n",
    "dot = 0.0;\n",
    "  \n",
    "for i in range(len(a)):\n",
    "      dot += a[i] * b[i]\n",
    "  \n",
    "end_time = time.perf_counter()\n",
    "\n",
    "timers[\"loop\"] = end_time - start_time\n",
    "  \n",
    "start_time = time.perf_counter()\n",
    "n_dot_product = np.dot(a, b)\n",
    "end_time = time.perf_counter()\n",
    "\n",
    "timers[\"numpy vectorized\"] = end_time - start_time\n",
    "  \n",
    "max_col_width = 20\n",
    "for t in timers.keys():\n",
    "    tab_spaces = ' ' * (max_col_width - len(t))\n",
    "    print(t, tab_spaces, timers[t], 'sec.')\n",
    "    "
   ]
  },
  {
   "cell_type": "markdown",
   "id": "3b5b0d4c",
   "metadata": {},
   "source": [
    "### More data and examples on Numpy vectorization\n",
    "\n",
    "More examples and explanations can be found at [vectorized algebraic operations](https://www.geeksforgeeks.org/vectorization-in-python/) and [vectorized mathematical functions](https://www.geeksforgeeks.org/vectorized-operations-in-numpy/)."
   ]
  }
 ],
 "metadata": {
  "kernelspec": {
   "display_name": "Python 3",
   "language": "python",
   "name": "python3"
  },
  "language_info": {
   "codemirror_mode": {
    "name": "ipython",
    "version": 3
   },
   "file_extension": ".py",
   "mimetype": "text/x-python",
   "name": "python",
   "nbconvert_exporter": "python",
   "pygments_lexer": "ipython3",
   "version": "3.10.6 (main, Nov 14 2022, 16:10:14) [GCC 11.3.0]"
  },
  "vscode": {
   "interpreter": {
    "hash": "916dbcbb3f70747c44a77c7bcd40155683ae19c65e1c03b4aa3499c5328201f1"
   }
  }
 },
 "nbformat": 4,
 "nbformat_minor": 5
}
