{
 "cells": [
  {
   "cell_type": "markdown",
   "id": "2451cc76",
   "metadata": {},
   "source": [
    "# Excercise with linear algebra: matrix-vector multiplication and summation."
   ]
  },
  {
   "cell_type": "markdown",
   "id": "89ef95c4",
   "metadata": {},
   "source": [
    "Calculate a linear combination:\n",
    "\n",
    "`c = Ax + b`\n",
    "\n",
    "Inputs:\n",
    "\n",
    "`A` - matrix (n,n)\n",
    "\n",
    "`x`, `b` - vectors (n)\n",
    "\n",
    "Need to compute:\n",
    "`c` - vector (n)\n",
    "\n",
    "Implement 4 functions to compute vector `c`:\n",
    "\n",
    "* `lincomb_loop`       -  using a loop\n",
    "* `lincomb_loop_numba` -  using numba jit decorator\n",
    "* `lincomb_loop_numba_parallel` -  using numba jit decorator and parallelization\n",
    "* `lincomb_vectorized` -  using numpy vectorization"
   ]
  },
  {
   "cell_type": "code",
   "execution_count": null,
   "id": "4db75d1b",
   "metadata": {},
   "outputs": [],
   "source": [
    "from numpy import zeros\n",
    "from numpy import random\n",
    "\n",
    "# dimension of matrix and vectors\n",
    "N = 10000\n",
    "\n",
    "# generate random data\n",
    "A = random.rand(N,N)\n",
    "x = random.rand(N)\n",
    "b = random.rand(N)"
   ]
  },
  {
   "cell_type": "code",
   "execution_count": null,
   "id": "07389e9d",
   "metadata": {},
   "outputs": [],
   "source": [
    "# 1. solution using the loop\n",
    "def lincomb_loop(A, x, b):\n",
    "    n = A.shape[0]\n",
    "    m = A.shape[1]\n",
    "    # your solution\n",
    "    # ...\n",
    "    y = zeros(n)\n",
    "    \n",
    "    return y\n"
   ]
  },
  {
   "cell_type": "code",
   "execution_count": null,
   "id": "d9bdfd3b",
   "metadata": {},
   "outputs": [],
   "source": [
    "# 2. solution using the loop with numba decorator \n",
    "def lincomb_loop_numba(A, x, b):\n",
    "    n = A.shape[0]\n",
    "    m = A.shape[1]    \n",
    "    # your solution\n",
    "    y = zeros(n)\n",
    "    \n",
    "    return y"
   ]
  },
  {
   "cell_type": "code",
   "execution_count": null,
   "id": "f38f9e14",
   "metadata": {},
   "outputs": [],
   "source": [
    "# 3. solution using the loop with numba decorator and auto-parallelization\n",
    "def lincomb_loop_numba_parallel(A, x, b):\n",
    "    n = A.shape[0]\n",
    "    m = A.shape[1]    \n",
    "    # your solution\n",
    "    y = zeros(n)\n",
    "    \n",
    "    return y"
   ]
  },
  {
   "cell_type": "code",
   "execution_count": null,
   "id": "1999d4fc",
   "metadata": {},
   "outputs": [],
   "source": [
    "# 4. solution using vectorization\n",
    "def lincomb_vectorized(A, x, b):   \n",
    "    n = A.shape[0]\n",
    "    m = A.shape[1] \n",
    "    # your solution\n",
    "    y = zeros(n)\n",
    "    \n",
    "    return y"
   ]
  },
  {
   "cell_type": "markdown",
   "id": "d031864d",
   "metadata": {},
   "source": [
    "Next, let's run all of these functions and report time spend."
   ]
  },
  {
   "cell_type": "code",
   "execution_count": null,
   "id": "9b34fc89",
   "metadata": {},
   "outputs": [],
   "source": [
    "# measure the time\n",
    "\n",
    "import time\n",
    "timers = dict()\n",
    "\n",
    "# first call - just for the compilation\n",
    "lincomb_loop_numba(A, x, b)\n",
    "lincomb_loop_numba_parallel(A, x, b)\n",
    "\n",
    "# measure the time for each solution\n",
    "start = time.perf_counter()\n",
    "y = lincomb_loop(A, x, b)\n",
    "end = time.perf_counter()\n",
    "timers['Loop'] = end - start\n",
    "\n",
    "start = time.perf_counter()\n",
    "y = lincomb_loop_numba(A, x, b)\n",
    "end = time.perf_counter()\n",
    "timers['Numba'] = end - start\n",
    "\n",
    "start = time.perf_counter()\n",
    "y = lincomb_loop_numba_parallel(A, x, b)\n",
    "end = time.perf_counter()\n",
    "timers['Numba parallel'] = end - start\n",
    "\n",
    "start = time.perf_counter()\n",
    "y = lincomb_vectorized(A, x, b)\n",
    "end = time.perf_counter()\n",
    "timers['Vectorized'] = end - start"
   ]
  },
  {
   "cell_type": "code",
   "execution_count": null,
   "id": "222300b2",
   "metadata": {},
   "outputs": [],
   "source": [
    "# print timers\n",
    "max_col_width = 20\n",
    "for t in timers.keys():\n",
    "    tab_spaces = ' ' * (max_col_width - len(t))\n",
    "    print(t, tab_spaces, timers[t], 'sec.')"
   ]
  }
 ],
 "metadata": {
  "kernelspec": {
   "display_name": "Python 3",
   "language": "python",
   "name": "python3"
  },
  "language_info": {
   "codemirror_mode": {
    "name": "ipython",
    "version": 3
   },
   "file_extension": ".py",
   "mimetype": "text/x-python",
   "name": "python",
   "nbconvert_exporter": "python",
   "pygments_lexer": "ipython3",
   "version": "3.10.6 (main, Nov 14 2022, 16:10:14) [GCC 11.3.0]"
  },
  "vscode": {
   "interpreter": {
    "hash": "916dbcbb3f70747c44a77c7bcd40155683ae19c65e1c03b4aa3499c5328201f1"
   }
  }
 },
 "nbformat": 4,
 "nbformat_minor": 5
}
