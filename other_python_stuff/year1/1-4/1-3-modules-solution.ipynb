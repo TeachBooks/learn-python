{
 "cells": [
  {
   "attachments": {},
   "cell_type": "markdown",
   "metadata": {},
   "source": [
    "# Notebook 1.4-2-3: Pyhton modules (solution)"
   ]
  },
  {
   "cell_type": "markdown",
   "metadata": {},
   "source": [
    "Contents\n",
    "===\n",
    "- [Introduction](#Introduction)\n",
    "- [Modules and classes](#Modules-and-classes)\n",
    "    - [Storing a single class in a module](#Storing-a-single-class-in-a-module)\n",
    "    - [Storing multiple classes in a module](#Storing-multiple-classes-in-a-module)\n",
    "    - [A number of ways to import modules and classes, functions and variables](#A-number-of-ways-to-import-modules-of-classes,-functions-and-variables)\n",
    "    - [A module of functions and variables](#A-module-of-functions-and-variables)\n",
    "- [How does module importing work](#How-does-module-importing-work)\n",
    "- [Modules and PEP8](#Modules-and-PEP8)\n",
    "    - [Multiple imports](#Multiple-imports)\n",
    "    - [Ordering imports](#Ordering-imports)\n",
    "- [Exercises](#Exercises)\n",
    "- [Optional material](#Optional-material)\n",
    "    - [Command line arguments with `sys.argv`](#Command-line-arguments-with-sys.argv)\n",
    "    - [Parsing command line arguments with `argparse`](#Parsing-command-line-arguments-with-argparse)"
   ]
  },
  {
   "attachments": {},
   "cell_type": "markdown",
   "metadata": {},
   "source": [
    "## Introduction\n",
    "Programming tasks usually require writing several lines of code which are much better organized in a **modular** fashion, rather than in single, extremely long Jupyter notebooks (or .py script files). Modularization refers to splitting such large programming tasks into smaller, separate, and more manageable subtasks. Python scripts are modularized through **functions**, **classes**, **modules**, and **packages**.\n",
    "\n",
    "While you should be already familiar with *functions* and *classes*, you should think  of *modules* as a `.py` files containing Python functions, classes, definitions and statements. On the other hand, a package is a set of modules,  i.e., a collection of `.py` files organized in folders and subfolders. Python accesses the modules in a package by referencing the package name.\n",
    "\n",
    "Modularity has the added advantage of isolating your code blocks into files that can be used in any number of different programs. Futhermore, if you want to extend their functionality, you would not need to modify multiple files, but only the file they reside in.\n",
    "\n",
    "You have been using Pyhon modularization all along, maybe without even realizing it.\n",
    "\n",
    "Here is a quick example:\n",
    "\n",
    "```python\n",
    "from matplotlib.pyplot import subplots\n",
    "``` \n",
    "\n",
    "which follows the format:\n",
    "\n",
    "```python\n",
    "from package_name.module_name import function_name\n",
    "``` \n"
   ]
  },
  {
   "cell_type": "markdown",
   "metadata": {},
   "source": [
    "Modules and classes\n",
    "===\n",
    "\n",
    "Storing a single class in a module\n",
    "---\n",
    "\n",
    "When you save a class into a separate file, that file is called a **module**. You can have any number of classes in a single module. There are a number of ways you can then import the class you are interested in. This means that any Python file you create can be regarded as a module.\n",
    "\n",
    "Start out by examining the Rocket class from the file called ***rocket.py***. Notice the naming convention being used here: the module is saved with a lowercase name, and the class starts with an uppercase letter. This convention is pretty important for a number of reasons, and it is a really good idea to follow the convention."
   ]
  },
  {
   "cell_type": "code",
   "execution_count": null,
   "metadata": {},
   "outputs": [],
   "source": [
    "from rocket import Rocket\n",
    "\n",
    "rocket = Rocket()\n",
    "print(f\"The rocket is at ({rocket.x}, {rocket.y}).\")\n",
    "print(f\"The distance between the same rocket is ({rocket.get_distance(rocket)}).\")"
   ]
  },
  {
   "cell_type": "markdown",
   "metadata": {},
   "source": [
    "A rocket is now something you can define in your programs, without the details of the rocket's implementation cluttering up your file. You don't have to include all the class code for a rocket in each of your files that deals with rockets; the code defining rocket attributes and behavior lives in one file, and can be used anywhere.\n",
    "\n",
    "The first line (`from rocket import Rocket`) tells Python to look for a file called ***rocket.py***. It looks for that file in the same directory as your current program. You can put your classes in other directories, but we will get to that convention a bit later.\n",
    "\n",
    "When Python finds the file ***rocket.py***, it looks for a class called *Rocket*. When it finds that class, it imports that code into the current file, without you ever seeing that code. You are then free to use the class Rocket as you have seen it used in previous examples."
   ]
  },
  {
   "cell_type": "markdown",
   "metadata": {},
   "source": [
    "Storing multiple classes in a module\n",
    "---\n",
    "\n",
    "A module is simply a file that contains one or more classes or functions, so the Shuttle and Rocket classes can also be in the same file. \n",
    "\n",
    "> Note: Have a look at `space.py`. You might have noticed that we now have 2 modules, which both contain the same implementation of the Rocket class. As we have previously mentioned, this is a bad practice and should be avoided! However, for the purpose of this section, disregard the existence of ***rocket.py***."
   ]
  },
  {
   "cell_type": "markdown",
   "metadata": {},
   "source": [
    "Now you can import the Rocket and the Shuttle class, and use them both in a clean uncluttered program file:"
   ]
  },
  {
   "cell_type": "code",
   "execution_count": null,
   "metadata": {
    "scrolled": true
   },
   "outputs": [],
   "source": [
    "from space import Rocket, Shuttle\n",
    "\n",
    "rocket = Rocket()\n",
    "print(f\"The rocket is at ({rocket.x}, {rocket.y}).\")\n",
    "\n",
    "shuttle = Shuttle()\n",
    "shuttle.move_rocket()\n",
    "print(f\"The shuttle is at ({shuttle.x}, {shuttle.y}).\")\n",
    "print(f\"The shuttle has completed {shuttle.flights_completed} flights.\")\n",
    "\n",
    "print(f\"The distance between the rocket and the shuttle is ({rocket.get_distance(shuttle)}).\")"
   ]
  },
  {
   "cell_type": "markdown",
   "metadata": {},
   "source": [
    "The first line tells Python to import both the *Rocket* and the *Shuttle* classes from the *rocket* module. You don't have to import every class in a module; you can pick and choose the classes you care to use, and Python will only spend time processing those particular classes."
   ]
  },
  {
   "cell_type": "markdown",
   "metadata": {},
   "source": [
    "A number of ways to import modules of classes, functions and variables\n",
    "---\n",
    "There are several ways to import modules, and each has its own merits. We illustrate mainly how you can import classes, however, you can import functions and variables in the exact same way:"
   ]
  },
  {
   "cell_type": "markdown",
   "metadata": {},
   "source": [
    "### from *module_name* import *ClassName*\n",
    "\n",
    "The syntax for importing classes that was just shown:\n",
    "```python\n",
    "from module_name import ClassName\n",
    "```\n",
    "is straightforward, and is used quite commonly. It allows you to use the class names directly in your program, so you have very clean and readable code. "
   ]
  },
  {
   "cell_type": "markdown",
   "metadata": {},
   "source": [
    "### import *module_name*\n",
    "\n",
    "Directly using the class names from a module can be a problem, however, if the names of the classes you are importing conflict with names that have already been used in the program you are working on. For example, if a module contains a function or a class with the same name as one you have defined in your notebook. Have a look at the code cell below, where we have a Rocket class in the current cell and a Rocket class in module `rocket`:"
   ]
  },
  {
   "cell_type": "code",
   "execution_count": null,
   "metadata": {
    "scrolled": true
   },
   "outputs": [],
   "source": [
    "from rocket import Rocket\n",
    "\n",
    "class Rocket():\n",
    "    def __init__(self, name):\n",
    "        self.name = name\n",
    "\n",
    "# Instatiate a class from the current file\n",
    "rocket = Rocket(\"Ariance\")\n",
    "print(f\"The rocket is called {rocket.name}.\")"
   ]
  },
  {
   "cell_type": "markdown",
   "metadata": {},
   "source": [
    "The Rocket defined in the cell is taking precedence before the Rocket class in module `rocket`. For instance, the Rocket class in the module has no field `name`. Thus, it is not possible to directly use that class. In order to mitigate this, we can make use of the dot notation:\n",
    "\n",
    "The general syntax for this kind of import is:\n",
    "```python\n",
    "import module_name\n",
    "```\n",
    "\n",
    "After this, classes are accessed using dot notation:\n",
    "```python\n",
    "module_name.ClassName\n",
    "```"
   ]
  },
  {
   "cell_type": "code",
   "execution_count": null,
   "metadata": {},
   "outputs": [],
   "source": [
    "import rocket\n",
    "\n",
    "class Rocket():\n",
    "    def __init__(self, name):\n",
    "        self.name = name\n",
    "\n",
    "# Instatiate a class from the current file\n",
    "new_rocket = Rocket(\"Ariance\")\n",
    "print(f\"The rocket is called {new_rocket.name}.\")\n",
    "\n",
    "# Instatiate a class from module rocket\n",
    "module_rocket = rocket.Rocket()\n",
    "print(f\"\\nThe rocket is at ({module_rocket.x}, {module_rocket.y}).\")\n",
    "print(f\"The distance between the same rocket is ({module_rocket.get_distance(module_rocket)}).\")"
   ]
  },
  {
   "cell_type": "markdown",
   "metadata": {},
   "source": [
    "This prevents some name conflicts. If you were reading carefully however, you might have noticed that the variable name *rocket* in the previous example had to be changed because it has the same name as the module itself. This is not good, because in a longer program that could mean a lot of renaming."
   ]
  },
  {
   "cell_type": "markdown",
   "metadata": {},
   "source": [
    "### import *module_name* as *local_module_name*\n",
    "\n",
    "There is another syntax for imports that is quite useful:\n",
    "```python\n",
    "import module_name as local_module_name\n",
    "```\n",
    "When you are importing a module into one of your projects, you are free to choose any name you want for the module in your project. So the last example could be rewritten in a way that the variable name *rocket* would not need to be changed:"
   ]
  },
  {
   "cell_type": "code",
   "execution_count": null,
   "metadata": {
    "scrolled": true
   },
   "outputs": [],
   "source": [
    "import space as space_module\n",
    "\n",
    "rocket = space_module.Rocket()\n",
    "print(f\"The rocket is at ({rocket.x}, {rocket.y}).\")\n",
    "\n",
    "shuttle = space_module.Shuttle()\n",
    "shuttle.move_rocket()\n",
    "print(f\"The shuttle is at ({shuttle.x}, {shuttle.y}).\")\n",
    "print(f\"The shuttle has completed {shuttle.flights_completed} flights.\")\n",
    "\n",
    "print(f\"The distance between the rocket and the shuttle is ({rocket.get_distance(shuttle)}).\")"
   ]
  },
  {
   "cell_type": "markdown",
   "metadata": {},
   "source": [
    "This approach is often used to shorten the name of the module, so you don't have to type a long module name before each class name that you want to use. But it is easy to shorten a name so much that you force people reading your code to scroll to the top of your file and see what the shortened name stands for. In this example,"
   ]
  },
  {
   "cell_type": "code",
   "execution_count": null,
   "metadata": {},
   "outputs": [],
   "source": [
    "import rocket as rocket_module"
   ]
  },
  {
   "cell_type": "markdown",
   "metadata": {},
   "source": [
    "leads to much more readable code than something like:"
   ]
  },
  {
   "cell_type": "code",
   "execution_count": null,
   "metadata": {},
   "outputs": [],
   "source": [
    "import rocket as r"
   ]
  },
  {
   "cell_type": "markdown",
   "metadata": {},
   "source": [
    "Of course there are well known shortening examples, which you might have already seen:\n",
    "```python\n",
    "import numpy as np\n",
    "import matplotlib.pyplot as plt\n",
    "import pandas as pd\n",
    "```"
   ]
  },
  {
   "cell_type": "markdown",
   "metadata": {},
   "source": [
    "### from *module_name* import *\n",
    "There is one more import syntax that you should be aware of, but *you should probably avoid using*. This syntax imports **all of the available classes, all functions in a module and all variables in a module**. Note that functions or variables, which have leading underscore `_` in their name are excluded from this rule. Similarly to encapsulation in OOP, they are considered private:\n",
    "\n",
    "```python\n",
    "from module_name import *\n",
    "```\n",
    "\n",
    "This is not recommended, for a couple reasons. First of all, you may have no idea what all the names of the classes and functions in a module are. If you accidentally give one of your variables the same name as a name from the module, you will have naming conflicts. Also, you may be importing way more code into your program than you need.\n",
    "\n",
    "If you really need all the functions and classes from a module, just import the module and use the `module_name.ClassName` syntax in your program."
   ]
  },
  {
   "cell_type": "markdown",
   "metadata": {},
   "source": [
    "You will get a sense of how to write your imports as you read more Python code, and as you write and share some of your own code."
   ]
  },
  {
   "cell_type": "markdown",
   "metadata": {},
   "source": [
    "A module of functions and variables\n",
    "---\n",
    "You can use modules to store a set of functions and variables (in addition to classes) you want available in different programs. This is possible even if those functions and variables are not attached to any one class. To do this, you save the functions and variables into a file, and then import that file just as you saw in the last section. Here is a really simple example: examing the file ***multiplying.py***:"
   ]
  },
  {
   "cell_type": "markdown",
   "metadata": {},
   "source": [
    "Now you can import the file ***multiplying.py***, and use these functions. Using the `from module_name import function_name, variable_name` syntax:"
   ]
  },
  {
   "cell_type": "code",
   "execution_count": null,
   "metadata": {
    "scrolled": true
   },
   "outputs": [],
   "source": [
    "from multiplying import double, triple, quadruple, seven\n",
    "\n",
    "print(double(5))\n",
    "print(triple(5))\n",
    "print(quadruple(5))\n",
    "print(seven)"
   ]
  },
  {
   "cell_type": "markdown",
   "metadata": {},
   "source": [
    "Using the `import module_name` syntax:"
   ]
  },
  {
   "cell_type": "code",
   "execution_count": null,
   "metadata": {},
   "outputs": [],
   "source": [
    "import multiplying\n",
    "\n",
    "print(multiplying.double(5))\n",
    "print(multiplying.triple(5))\n",
    "print(multiplying.quadruple(5))\n",
    "print(multiplying.seven)"
   ]
  },
  {
   "cell_type": "markdown",
   "metadata": {},
   "source": [
    "Using the `import module_name as local_module_name` syntax:"
   ]
  },
  {
   "cell_type": "code",
   "execution_count": null,
   "metadata": {},
   "outputs": [],
   "source": [
    "import multiplying as m\n",
    "\n",
    "print(m.double(5))\n",
    "print(m.triple(5))\n",
    "print(m.quadruple(5))\n",
    "print(m.seven)"
   ]
  },
  {
   "cell_type": "markdown",
   "metadata": {},
   "source": [
    "Using the `from module_name import *` syntax:"
   ]
  },
  {
   "cell_type": "code",
   "execution_count": null,
   "metadata": {},
   "outputs": [],
   "source": [
    "from multiplying import *\n",
    "\n",
    "print(double(5))\n",
    "print(triple(5))\n",
    "print(quadruple(5))\n",
    "print(seven)"
   ]
  },
  {
   "cell_type": "markdown",
   "metadata": {},
   "source": [
    "Keep in mind that modules are imported only once. Therefore, if you change the value of a variable inside the module and import it again, the variable will not change to its original value."
   ]
  },
  {
   "cell_type": "markdown",
   "metadata": {},
   "source": [
    "How does module importing work\n",
    "===\n",
    "Python has built-in modules, which are accessible anywhere. Examples of those are `sys`, `math`, `random`. For a full list, check the following link: https://docs.python.org/3/py-modindex.html\n",
    "\n",
    "When importing modules, Python searches for modueles in the following order:\n",
    "1. Looks if the module name matches any of the names in the index above. \n",
    "2. Searches for a python file in the same working directory as the file, which imports it\n",
    "3. Looks at PYTHONPATH - we will not cover this, but you can think of it as the default search path for modules\n",
    "4. Goes over installed packages if any match\n",
    "\n",
    "As a result, if you have the `numpy` package installed, but you also have a file `numpy.py` in the same working directory, Python will import the local file instead of the installed package. You should avoid naming modules after standard built-in modules or standard packages such as `numpy` or `matplotlib`."
   ]
  },
  {
   "cell_type": "markdown",
   "metadata": {},
   "source": [
    "Modules and PEP8\n",
    "===\n",
    "Modules also have their own list of rules in PEP8 Style guide:\n",
    "\n",
    "Multiple imports\n",
    "---\n",
    "In the case that we have multiple modules that we wish to import simultaneously, there are some requirements to follow. **Module imports should be done in multiple lines**. For instance, if you have the modules `os` and `sys`, it is recommended to use multiple `import` statements. In addition, modules within every group should be ordered **alphabetically**:\n",
    "```python\n",
    "import os\n",
    "import sys\n",
    "```\n",
    "The wrong way to do this is to import both of the modules on the same line:\n",
    "```python\n",
    "import os, sys\n",
    "```\n",
    "\n",
    "Ordering imports\n",
    "---\n",
    "Apart from separating every import in a new line, it is also important to group modules depending on their type. The correct order to import modules is the following:\n",
    "1. Standard library imports\n",
    "2. Related third party imports\n",
    "3. Local application/library specific imports\n",
    "\n",
    "Blank lines should be placed between each group.\n",
    "\n",
    "Here is an example of correct order of module imports:\n",
    "```python\n",
    "import os\n",
    "import sys\n",
    "\n",
    "import numpy as np\n",
    "import pandas as pd\n",
    "\n",
    "import rocket\n",
    "import shuttle\n",
    "```"
   ]
  },
  {
   "cell_type": "markdown",
   "metadata": {},
   "source": [
    "Exercises\n",
    "==="
   ]
  },
  {
   "cell_type": "code",
   "execution_count": null,
   "metadata": {},
   "outputs": [],
   "source": [
    "!pip install jupyterquiz\n",
    "from jupyterquiz import display_quiz\n",
    "\n",
    "display_quiz(\"https://surfdrive.surf.nl/files/index.php/s/wHKH0oP3SmbZHLP/download\")"
   ]
  },
  {
   "cell_type": "markdown",
   "metadata": {},
   "source": [
    "Optional material\n",
    "===\n",
    "The material in the subsections below is considered optional. Therefore, it is not mandatory to study and if you wish, you may skip it."
   ]
  },
  {
   "cell_type": "markdown",
   "metadata": {},
   "source": [
    "Command line arguments with `sys.argv`\n",
    "---\n",
    "Python files can also be used as scripts, which can run speicific tasks. For example, it is possible to create a python file, which when run executes pieces of code. For example, the code below will run a python script(file) and create an image `weather.png`, which displays temperatures over a period of time:"
   ]
  },
  {
   "cell_type": "code",
   "execution_count": null,
   "metadata": {
    "scrolled": true
   },
   "outputs": [],
   "source": [
    "! python weather_script.py\n",
    "\n",
    "# Display the generated image\n",
    "from IPython import display\n",
    "display.Image(\"./weather.png\")"
   ]
  },
  {
   "cell_type": "markdown",
   "metadata": {},
   "source": [
    "Currently, we are reading from an old dataset, however, imagine that we were getting the data from a server, which adds more data everyday or even every hour to the dataset. Then it would be very convenient to regularly run this script and observe the changes via a graph. \n",
    "\n",
    "Although this looks easy to use, it is not very flexible, because we need to modify the script every time we run it if we want different periods of time or different plot file names. Hence, there is a solution to this setback in the `sys` module. More specifically by command line arguments in `sys.argv`. Command line arguments can be thought of as arguments you pass to a function.\n",
    "\n",
    "For example, suppose we could pick different start and end date of observations simply by passing those two values as arguments to the python file:\n",
    "```bash\n",
    "python weather_script.py \"01/03/2021\" \"31/05/2021\"\n",
    "```\n",
    "Here `weather_script.py` can be thought of as a function, which takes 2 arguments - start and end date.\n",
    "\n",
    "To achieve this, we need to replace the hardcoding of dates with `sys.argv[index]` statements:\n",
    "```python\n",
    "import sys\n",
    "import pandas as pd\n",
    "import matplotlib.pyplot as plt\n",
    "\n",
    "...\n",
    "\n",
    "# set start and end time\n",
    "start_date = pd.to_datetime(sys.argv[1],dayfirst=True)\n",
    "end_date = pd.to_datetime(sys.argv[2],dayfirst=True)\n",
    "\n",
    "# preprocess the data\n",
    "\n",
    "...\n",
    "\n",
    "fig.savefig('weather.png')\n",
    "```"
   ]
  },
  {
   "cell_type": "markdown",
   "metadata": {},
   "source": [
    "**Exercise:** Modify `weather_script` to use `sys.argv` as described above for start and end dates. Then run the code cell below to verify your code is working. The expected output is a graph, which contains temperatures only in the range 01/03/2021 - 31/05/2021. Do not forget to import the `sys` module!"
   ]
  },
  {
   "cell_type": "markdown",
   "metadata": {},
   "source": [
    "<font color=red>Here are the contents of</font> `weather_script` <font color=red>to achive the correct results:</font>"
   ]
  },
  {
   "cell_type": "code",
   "execution_count": null,
   "metadata": {},
   "outputs": [],
   "source": [
    "import sys\n",
    "import pandas as pd\n",
    "import matplotlib.pyplot as plt\n",
    "\n",
    "url = \"https://surfdrive.surf.nl/files/index.php/s/fJrmp5XdXF02X4c/download\"\n",
    "\n",
    "# read the data skipping comment lines\n",
    "weather = pd.read_csv(url,comment='#')\n",
    "\n",
    "# set start and end time\n",
    "start_date = pd.to_datetime(sys.argv[1],dayfirst=True)\n",
    "end_date = pd.to_datetime(sys.argv[2],dayfirst=True)\n",
    "\n",
    "# preprocess the data\n",
    "weather['Local time'] = pd.to_datetime(weather['Local time'],dayfirst=True)\n",
    "weather= weather[weather['Local time'].between(start_date,end_date)]\n",
    "\n",
    "# create a plot\n",
    "fig, ax = plt.subplots()\n",
    "ax.plot(weather['Local time'], weather['T'])\n",
    "# label the axes\n",
    "ax.set_xlabel(\"Date of observation\")\n",
    "ax.set_ylabel(\"Temperature in Celsius\")\n",
    "ax.set_title(\"Temperature Observations\")\n",
    "# adjust the date labels, so that they look nicer\n",
    "fig.autofmt_xdate()\n",
    "\n",
    "# save the figure\n",
    "fig.savefig('weather.png')\n"
   ]
  },
  {
   "cell_type": "code",
   "execution_count": null,
   "metadata": {},
   "outputs": [],
   "source": [
    "! python weather_script.py \"01/03/2021\" \"31/05/2021\"\n",
    "\n",
    "# Display the generated image\n",
    "from IPython import display\n",
    "display.Image(\"./weather.png\")"
   ]
  },
  {
   "cell_type": "markdown",
   "metadata": {},
   "source": [
    "**Exercise:** Modify `weather_script` to use `sys.argv` as described above for the generated plot file name as a third argument. Then run the code cell below to verify your code is working."
   ]
  },
  {
   "cell_type": "markdown",
   "metadata": {},
   "source": [
    "<font color=red>Here are the contents of</font> `weather_script` <font color=red>to achive the correct results:</font>"
   ]
  },
  {
   "cell_type": "code",
   "execution_count": null,
   "metadata": {},
   "outputs": [],
   "source": [
    "import sys\n",
    "import pandas as pd\n",
    "import matplotlib.pyplot as plt\n",
    "\n",
    "url = \"https://surfdrive.surf.nl/files/index.php/s/fJrmp5XdXF02X4c/download\"\n",
    "\n",
    "# read the data skipping comment lines\n",
    "weather = pd.read_csv(url,comment='#')\n",
    "\n",
    "# set start and end time\n",
    "start_date = pd.to_datetime(sys.argv[1],dayfirst=True)\n",
    "end_date = pd.to_datetime(sys.argv[2],dayfirst=True)\n",
    "file_name = sys.argv[3]\n",
    "\n",
    "# preprocess the data\n",
    "weather['Local time'] = pd.to_datetime(weather['Local time'],dayfirst=True)\n",
    "weather= weather[weather['Local time'].between(start_date,end_date)]\n",
    "\n",
    "# create a plot\n",
    "fig, ax = plt.subplots()\n",
    "ax.plot(weather['Local time'], weather['T'])\n",
    "# label the axes\n",
    "ax.set_xlabel(\"Date of observation\")\n",
    "ax.set_ylabel(\"Temperature in Celsius\")\n",
    "ax.set_title(\"Temperature Observations\")\n",
    "# adjust the date labels, so that they look nicer\n",
    "fig.autofmt_xdate()\n",
    "\n",
    "# save the figure\n",
    "fig.savefig(file_name)"
   ]
  },
  {
   "cell_type": "code",
   "execution_count": null,
   "metadata": {},
   "outputs": [],
   "source": [
    "! python weather_script.py \"01/03/2021\" \"31/05/2021\" \"./spring_in_tapiola.png\"\n",
    "\n",
    "# Display the generated image\n",
    "from IPython import display\n",
    "display.Image(\"./spring_in_tapiola.png\")"
   ]
  },
  {
   "cell_type": "markdown",
   "metadata": {},
   "source": [
    "**Exercise:** You may be wondering why we use `sys.argv` starting from index 1. Experiment yourself to find what is stored in index 0."
   ]
  },
  {
   "cell_type": "markdown",
   "metadata": {},
   "source": [
    "Parsing command line arguments with `argparse`\n",
    "---\n",
    "We can take command line arguements a step further via the module `argparse`, which provides even more flexibility. For instance, you can have optional arguments with default values, arguments help, argument types and much more as described here: https://docs.python.org/3/library/argparse.html. We will briefly cover the basics of this module in this section."
   ]
  },
  {
   "cell_type": "markdown",
   "metadata": {},
   "source": [
    "Remember how Git has the command `git help` and also how we pass arguments using dash (`-`)? For example, when we are making a commit, we can pass the message in multiple ways:\n",
    "\n",
    "```bash\n",
    "git commit -m \"My first commit\"\n",
    "git commit --message \"My first commit\"\n",
    "```\n",
    "`argparse` module adds the same quirks of getting help and also having long and short arguments. To add `argparse` to our script, we need to rewrite the way we are getting the `start_date` and `end_date` as follows:\n",
    "```python\n",
    "import argparse\n",
    "import pandas as pd\n",
    "import matplotlib.pyplot as plt\n",
    "\n",
    "...\n",
    "\n",
    "parser = argparse.ArgumentParser()\n",
    "# set start and end time\n",
    "parser.add_argument('-s', '--start', type=str, default=\"1/1/2019\", help=\"Start time\")\n",
    "parser.add_argument('-e', '--end', type=str, default=\"1/1/2021\", help=\"End time\")\n",
    "\n",
    "args = parser.parse_args()\n",
    "\n",
    "start_date = pd.to_datetime(args.start,dayfirst=True)\n",
    "end_date = pd.to_datetime(args.end,dayfirst=True)\n",
    "\n",
    "# preprocess the data\n",
    "\n",
    "...\n",
    "\n",
    "fig.savefig('weather.png')\n",
    "```\n",
    "Note that if an argument is not passed to a script, it has a default value, which will be used"
   ]
  },
  {
   "cell_type": "markdown",
   "metadata": {},
   "source": [
    "**Exercise:** Copy `weather_script` into a new python file called `weather_script_improved` (note you need to create that file yourself). Then, modify the new file as described above to make use of `argparse`. Finally, run the code cell below to verify your code is working. The expected output is a graph, which contains temperatures only in the range 01/03/2021 - 31/05/2021. Note that we can use both long and short versions of arguments."
   ]
  },
  {
   "cell_type": "markdown",
   "metadata": {},
   "source": [
    "<font color=red>Here are the contents of</font> `weather_script_improved` <font color=red>to achive the correct results:</font>"
   ]
  },
  {
   "cell_type": "code",
   "execution_count": null,
   "metadata": {},
   "outputs": [],
   "source": [
    "import argparse\n",
    "import pandas as pd\n",
    "import matplotlib.pyplot as plt\n",
    "\n",
    "url = \"https://surfdrive.surf.nl/files/index.php/s/fJrmp5XdXF02X4c/download\"\n",
    "\n",
    "# read the data skipping comment lines\n",
    "weather = pd.read_csv(url,comment='#')\n",
    "\n",
    "parser = argparse.ArgumentParser()\n",
    "# set start and end time\n",
    "parser.add_argument('-s', '--start', type=str, default=\"1/1/2019\", help=\"Start time\")\n",
    "parser.add_argument('-e', '--end', type=str, default=\"1/1/2021\", help=\"End time\")\n",
    "\n",
    "args = parser.parse_args()\n",
    "\n",
    "start_date = pd.to_datetime(args.start,dayfirst=True)\n",
    "end_date = pd.to_datetime(args.end,dayfirst=True)\n",
    "\n",
    "# preprocess the data\n",
    "weather['Local time'] = pd.to_datetime(weather['Local time'],dayfirst=True)\n",
    "weather= weather[weather['Local time'].between(start_date,end_date)]\n",
    "\n",
    "# create a plot\n",
    "fig, ax = plt.subplots()\n",
    "ax.plot(weather['Local time'], weather['T'])\n",
    "# label the axes\n",
    "ax.set_xlabel(\"Date of observation\")\n",
    "ax.set_ylabel(\"Temperature in Celsius\")\n",
    "ax.set_title(\"Temperature Observations\")\n",
    "# adjust the date labels, so that they look nicer\n",
    "fig.autofmt_xdate()\n",
    "\n",
    "# save the figure\n",
    "fig.savefig('weather.png')\n"
   ]
  },
  {
   "cell_type": "code",
   "execution_count": null,
   "metadata": {},
   "outputs": [],
   "source": [
    "! python weather_script_improved.py -s \"01/03/2021\" --end \"31/05/2021\"\n",
    "\n",
    "# Display the generated image\n",
    "from IPython import display\n",
    "display.Image(\"./weather.png\")"
   ]
  },
  {
   "cell_type": "markdown",
   "metadata": {},
   "source": [
    "Run the next cell to check what arguments can be passed to the script:"
   ]
  },
  {
   "cell_type": "code",
   "execution_count": null,
   "metadata": {
    "scrolled": true
   },
   "outputs": [],
   "source": [
    "! python weather_script_improved.py --help"
   ]
  },
  {
   "cell_type": "markdown",
   "metadata": {},
   "source": [
    "It looks similar to how git shows its help, right?"
   ]
  },
  {
   "cell_type": "code",
   "execution_count": null,
   "metadata": {},
   "outputs": [],
   "source": [
    "! git --help"
   ]
  },
  {
   "cell_type": "markdown",
   "metadata": {},
   "source": [
    "**Exercise:** Modify `weather_script_improved` to use `argparse` as described above for the generated plot file name as a third argument. The new argument should have the form: `-o` and/or `--output`. Then run the code cell below to verify your code is working."
   ]
  },
  {
   "cell_type": "markdown",
   "metadata": {},
   "source": [
    "<font color=red>Here are the contents of</font> `weather_script_improved` <font color=red>to achive the correct results:</font>"
   ]
  },
  {
   "cell_type": "code",
   "execution_count": null,
   "metadata": {},
   "outputs": [],
   "source": [
    "import argparse\n",
    "import pandas as pd\n",
    "import matplotlib.pyplot as plt\n",
    "\n",
    "url = \"https://surfdrive.surf.nl/files/index.php/s/fJrmp5XdXF02X4c/download\"\n",
    "\n",
    "# read the data skipping comment lines\n",
    "weather = pd.read_csv(url,comment='#')\n",
    "\n",
    "parser = argparse.ArgumentParser()\n",
    "# set start and end time\n",
    "parser.add_argument('-s', '--start', type=str, default=\"1/1/2019\", help=\"Start time\")\n",
    "parser.add_argument('-e', '--end', type=str, default=\"1/1/2021\", help=\"End time\")\n",
    "parser.add_argument('-o', '--output', type=str, default=\"spring_in_tapiola.png\", help=\"Output filename\")\n",
    "\n",
    "args = parser.parse_args()\n",
    "\n",
    "start_date = pd.to_datetime(args.start,dayfirst=True)\n",
    "end_date = pd.to_datetime(args.end,dayfirst=True)\n",
    "file_name = args.output\n",
    "\n",
    "# preprocess the data\n",
    "weather['Local time'] = pd.to_datetime(weather['Local time'],dayfirst=True)\n",
    "weather= weather[weather['Local time'].between(start_date,end_date)]\n",
    "\n",
    "# create a plot\n",
    "fig, ax = plt.subplots()\n",
    "ax.plot(weather['Local time'], weather['T'])\n",
    "# label the axes\n",
    "ax.set_xlabel(\"Date of observation\")\n",
    "ax.set_ylabel(\"Temperature in Celsius\")\n",
    "ax.set_title(\"Temperature Observations\")\n",
    "# adjust the date labels, so that they look nicer\n",
    "fig.autofmt_xdate()\n",
    "\n",
    "# save the figure\n",
    "fig.savefig(file_name)\n"
   ]
  },
  {
   "cell_type": "code",
   "execution_count": null,
   "metadata": {},
   "outputs": [],
   "source": [
    "! python weather_script_improved.py -s \"01/03/2021\" --end \"31/05/2021\" --output \"spring_in_tapiola.png\"\n",
    "\n",
    "# Display the generated image\n",
    "from IPython import display\n",
    "display.Image(\"./spring_in_tapiola.png\")"
   ]
  },
  {
   "cell_type": "markdown",
   "metadata": {},
   "source": [
    "# References and used resources\n",
    "- http://introtopython.org/\n",
    "- https://aaltoscicomp.github.io/python-for-scicomp/scripts/#scripts\n",
    "- https://www.learnpython.org/en/Modules_and_Packages\n",
    "- https://docs.python.org/3/tutorial/modules.html"
   ]
  }
 ],
 "metadata": {
  "kernelspec": {
   "display_name": "Python 3",
   "language": "python",
   "name": "python3"
  },
  "language_info": {
   "codemirror_mode": {
    "name": "ipython",
    "version": 3
   },
   "file_extension": ".py",
   "mimetype": "text/x-python",
   "name": "python",
   "nbconvert_exporter": "python",
   "pygments_lexer": "ipython3",
   "version": "3.8.8"
  }
 },
 "nbformat": 4,
 "nbformat_minor": 4
}
