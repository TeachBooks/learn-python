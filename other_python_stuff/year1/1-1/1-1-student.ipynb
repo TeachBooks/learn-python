{
 "cells": [
  {
   "cell_type": "markdown",
   "metadata": {},
   "source": [
    "# Computations using Numpy\n"
   ]
  },
  {
   "cell_type": "markdown",
   "metadata": {},
   "source": [
    "## Contents\n",
    "- [What is an array?](#What-is-an-array?)\n",
    "    - [Performance check](#Performance-check)\n",
    "- [Creating arrays](#Creating-arrays)\n",
    "- [Array Data types](#Array-Data-types)\n",
    "- [Saving and loading arrays](#Saving-and-loading-arrays)\n",
    "- [Array reshaping](#Array-reshaping)\n",
    "- [Array maths](#Array-maths)\n",
    "- [Dot product and matrix multiplication](#Dot-product-and-matrix-multiplication)\n",
    "- [Indexing and Slicing](#Indexing-and-Slicing)\n",
    "- [View vs copy](#View-vs-copy)\n",
    "- [Types of operations](#Types-of-operations)\n",
    "    - [Array methods](#Array-methods)\n",
    "- [Example: Linear algebra using Numpy](#Example:-Linear-algebra-using-Numpy)\n",
    "- [More linear algebra and other advanced math](#More-linear-algebra-and-other-advanced-math)\n",
    "- [Optional Exercises](#Optional-Exercises)\n",
    "- [See also](#See-also)"
   ]
  }
 ],
 "metadata": {
  "kernelspec": {
   "display_name": "Python 3 (ipykernel)",
   "language": "python",
   "name": "python3"
  },
  "language_info": {
   "codemirror_mode": {
    "name": "ipython",
    "version": 3
   },
   "file_extension": ".py",
   "mimetype": "text/x-python",
   "name": "python",
   "nbconvert_exporter": "python",
   "pygments_lexer": "ipython3",
   "version": "3.9.17"
  },
  "varInspector": {
   "cols": {
    "lenName": 16,
    "lenType": 16,
    "lenVar": 40
   },
   "kernels_config": {
    "python": {
     "delete_cmd_postfix": "",
     "delete_cmd_prefix": "del ",
     "library": "var_list.py",
     "varRefreshCmd": "print(var_dic_list())"
    },
    "r": {
     "delete_cmd_postfix": ") ",
     "delete_cmd_prefix": "rm(",
     "library": "var_list.r",
     "varRefreshCmd": "cat(var_dic_list()) "
    }
   },
   "types_to_exclude": [
    "module",
    "function",
    "builtin_function_or_method",
    "instance",
    "_Feature"
   ],
   "window_display": false
  },
  "vscode": {
   "interpreter": {
    "hash": "cf78f3d1bc82cb39ac7a1165ed20acb9158792c8f97b380f92edad57bf927ea3"
   }
  },
  "widgets": {
   "application/vnd.jupyter.widget-state+json": {
    "state": {},
    "version_major": 2,
    "version_minor": 0
   }
  }
 },
 "nbformat": 4,
 "nbformat_minor": 4
}
