{
 "cells": [
  {
   "attachments": {},
   "cell_type": "markdown",
   "metadata": {},
   "source": [
    "# Basics of geospatial data analysis and visualisation\n",
    "\n",
    "### CEGM1000 Modelling, Uncertainty and Data for Engineers (2022/23 Q1)"
   ]
  },
  {
   "cell_type": "markdown",
   "metadata": {
    "hidden": true
   },
   "source": [
    "<aside style=\"background-color: #e7f3f7; margin: 1em 0px; padding: 0.5em 1.5em 1em 3.7em; font-size: 0.9em;\">\n",
    "<h3 style=\"position: relative;\"><i style=\"position: absolute; left: -2.15em; top: -0.2em;\"></i>By the end of this workshop, you should be able to:</h3>\n",
    "<ul>\n",
    "<li>describe the different types of geospatial data</li>\n",
    "<li>use python libraries to load, analyse and visualise geospatial data</li>\n",
    "<li>use  visualisation to analyse interaction between different geospatial data</li>\n",
    "</ul>\n",
    "</aside>\n",
    "\n",
    "<aside style=\"background-color: #e7f3f7; margin: 1em 0px; padding: 0.5em 1.5em 1em 3.7em; font-size: 0.9em;\">\n",
    "<h3 style=\"position: relative;\"><i style=\"position: absolute; left: -2.15em; top: -0.2em;\"></i>The workshop is divided as:</h3>\n",
    "<ul>\n",
    "<li>introduction to vector data [1 hour]</li>\n",
    "<li>introduction to raster data [1 hour]</li>\n",
    "<li>case study which combines vector and raster data [2 hours]</li>\n",
    "</ul>\n",
    "</aside>\n",
    "\n",
    "<p></p>"
   ]
  },
  {
   "attachments": {},
   "cell_type": "markdown",
   "metadata": {
    "heading_collapsed": true
   },
   "source": [
    "## Contents"
   ]
  },
  {
   "cell_type": "markdown",
   "metadata": {
    "hidden": true
   },
   "source": [
    "- [Setup of Anaconda environment](#installation)\n",
    "- [Introduction to geospatial data](#intro_geospatial)\n",
    "- [Coordinate reference systems](#crs)\n",
    "- Vector data\n",
    "    - [Introduction](#intro_vec)\n",
    "    - [Vector data notebooks](#next_vec)\n",
    "- Raster data\n",
    "    - [Introduction](#intro_raster)\n",
    "    - [Raster data notebook](#next_raster)\n",
    "- [Case study assignment](#case_study)\n",
    "- [Optional material](#optional)\n",
    "\n",
    "*Note: All notebooks have been tested with Python 3.9*"
   ]
  },
  {
   "attachments": {},
   "cell_type": "markdown",
   "metadata": {},
   "source": [
    "## Setup of Anaconda environment <a name=\"installation\"></a>"
   ]
  },
  {
   "cell_type": "markdown",
   "metadata": {},
   "source": [
    "We need to install several packages to work with geospatial data. While you can do this on your main Anaconda environment (or any other Python installation), it is best to create a separate environment for this workshop. Setting up the environment can take some time, even if there are no errors. Therefore, we suggest you to proceed with the installation while continuing to read this PDF introducing the workshop.\n",
    "\n",
    "The installation instructions can be found [here](./installation_instructions.pdf)"
   ]
  },
  {
   "attachments": {},
   "cell_type": "markdown",
   "metadata": {
    "heading_collapsed": true
   },
   "source": [
    "## Introduction to geospatial data <a name=\"intro_geospatial\"></a>"
   ]
  },
  {
   "cell_type": "markdown",
   "metadata": {
    "hidden": true
   },
   "source": [
    "**Geospatial data** represents information (or features) with respect to locations on Earth. \n",
    "\n",
    "Example: Geospatial data representing the populations of different provinces in a country. The data also has the geographical information of those provinces, like longitudinal and latitudinal coordinates at the boundaries of the provinces or the location of the main cities.\n",
    "\n",
    "There are two main types of geospatial data: *vector* and *raster*.  \n",
    "- **Vector data**: are based on the foundation of points. The related graphics can be points, lines, or polygons. For example, earthquakes epicenters can be associated with points, roads with lines, countries with polygons.\n",
    "\n",
    "\n",
    "- **Raster data**: are based on the foundation of gridcells or pixels. Raster data is any pixelated (or gridded) data where each pixel is associated with a specific geographical location. The value of a pixel can be continuous (e.g. elevation) or categorical (e.g. land use).\n",
    "\n",
    "An illustration of these two types of digitalising geospatial data is shown in a figure below:   \n",
    "  \n",
    "<img src=\"Data/images/geospatial_data_types.png\" alt=\"drawing\" width=\"500\"/>"
   ]
  },
  {
   "attachments": {},
   "cell_type": "markdown",
   "metadata": {},
   "source": [
    "### Coordinate Reference System <a name=\"crs\"></a>"
   ]
  },
  {
   "cell_type": "markdown",
   "metadata": {},
   "source": [
    "A Coordinate Reference System (CRS) a.k.a. projection is an important feature of geospatial data. The earth is not flat. The surface of a sphere is topologically different to a 2D surface. Therefore, if we want to represent it in a 2D environment (e.g. screen/page), we have to cut the sphere somewhere and this cannot be done without distortion (see image below).\n",
    "\n",
    "\n",
    "<img src=\"https://www.earthdatascience.org/images/courses/earth-analytics/spatial-data/geographic-origin.png\" alt=\"crs\" width=\"500\"/>\n",
    "Source: http://ayresriverblog.com \n",
    "\n",
    "There are many different ways to make a projection, and we will not attempt to explain all of the choices and tradeoffs here. You can define a projection from its EPSG code (for examples see https://spatialreference.org/) or *proj4* description. EPSG codes are 4-5 digit numbers that represent CRS definitions. The acronym EPGS, comes from the, now defunct, European Petroleum Survey Group. Each code is a unique number which corresponds to a specific pre-defined coordinate system. By providing a number you therefore provide the specific coordinate system specifics. You can check the definition of each EPSG code on  https://spatialreference.org/ or https://epsg.io/.\n",
    "\n",
    "For instance, a projection with EPSG:32631 corresponds to *WGS 84 / UTM zone 31N*, as you can see [here](https://epsg.io/32631).\n",
    "\n",
    "Each geospatial dataset is stored with one of these projections and when combining different datasets together, it is important to match these projections. "
   ]
  },
  {
   "attachments": {},
   "cell_type": "markdown",
   "metadata": {
    "heading_collapsed": true
   },
   "source": [
    "## Introduction to vector data <a name=\"intro_vec\"></a>"
   ]
  },
  {
   "cell_type": "markdown",
   "metadata": {
    "hidden": true
   },
   "source": [
    "<aside style=\"background-color: #e7f3f7; margin: 1em 0px; padding: 0.5em 1.5em 1em 3.7em; font-size: 0.9em;\">\n",
    "<h3 style=\"position: relative;\"><i style=\"position: absolute; left: -2.15em; top: -0.2em;\"></i>In this session, the following topics will be covered:</h3>\n",
    "<ul>\n",
    "<li>vector data types</li>\n",
    "<li>vector data formats</li>\n",
    "<li>vector data structures</li>\n",
    "<li>vector data visualisation</li>\n",
    "</ul>\n",
    "</aside>\n"
   ]
  },
  {
   "attachments": {},
   "cell_type": "markdown",
   "metadata": {
    "heading_collapsed": true,
    "hidden": true
   },
   "source": [
    "### Vector data types"
   ]
  },
  {
   "cell_type": "markdown",
   "metadata": {
    "hidden": true
   },
   "source": [
    "There are three types of vector data - **Points, Lines** and **Polygons**.\n",
    "\n",
    "The definitions of these are given below:\n",
    "\n",
    "<img src=\"Data/images/vector_data.png\" alt=\"drawing\" width=\"500\"/>\n",
    "\n",
    "Source: National Ecological Observatory Network (NEON)"
   ]
  },
  {
   "attachments": {},
   "cell_type": "markdown",
   "metadata": {
    "heading_collapsed": true,
    "hidden": true
   },
   "source": [
    "### Vector data formats"
   ]
  },
  {
   "cell_type": "markdown",
   "metadata": {
    "hidden": true
   },
   "source": [
    "Vector data can be saved in different data formats. An exhaustive list can be found [here](https://gisgeography.com/gis-formats/). Two main data formats are **Shapefiles** and **GeoJson**, and we will be working with them in this workshop.\n",
    "\n",
    "General information about these two formats are given below:\n",
    "\n",
    "<img src=\"Data/images/vector_data_formats.png\" alt=\"drawing\" width=\"500\"/>\n",
    "\n",
    "Source: GIS Geography"
   ]
  },
  {
   "attachments": {},
   "cell_type": "markdown",
   "metadata": {
    "heading_collapsed": true,
    "hidden": true
   },
   "source": [
    "### Vector data structures"
   ]
  },
  {
   "cell_type": "markdown",
   "metadata": {
    "hidden": true
   },
   "source": [
    "Geopandas is one of the most widely used Python packages to handle and analyse geospatial data, especially vector data. As suggested by its name, `geopandas` is built on top of `pandas`; its main data structures include GeoSeries and GeoDataFrame. The functionalities of the geopandas can be found [here](https://geopandas.org/en/stable/docs/user_guide/data_structures.html). While `geopandas` has some basic visualisation functionalities built-in, they do not offer dynamic and interactive visualisations."
   ]
  },
  {
   "attachments": {},
   "cell_type": "markdown",
   "metadata": {
    "heading_collapsed": true,
    "hidden": true
   },
   "source": [
    "### Vector data visualisation"
   ]
  },
  {
   "cell_type": "markdown",
   "metadata": {
    "hidden": true
   },
   "source": [
    "There are multiple python libraries that can be used to better visualise geospatial vector data. Some of the best can be found [here](https://towardsdatascience.com/best-libraries-for-geospatial-data-visualisation-in-python-d23834173b35). In this workshop, we will be working with **folium** library. All the functionalities of the library can be found [here](https://python-visualization.github.io/folium/)."
   ]
  },
  {
   "attachments": {},
   "cell_type": "markdown",
   "metadata": {
    "heading_collapsed": true
   },
   "source": [
    "### Vector data notebooks <a name=\"next_vec\"></a>"
   ]
  },
  {
   "cell_type": "markdown",
   "metadata": {
    "hidden": true
   },
   "source": [
    "There are three separate notebooks to get started with vector data: Points.ipynb, Lines.ipynb and Polygon.ipynb. \n",
    "\n",
    "In each of them, formats, structures and visualisation are discussed. Practice the different functionalities of the `geopandas`, `folium`, and other libraries with these notebooks.\n",
    "\n",
    "We would recommend practicing the notebooks in the following order:\n",
    "- [Points.ipynb](./1_Points.ipynb)\n",
    "- [Lines.ipynb](./2_Lines.ipynb)\n",
    "- [Polygons.ipynb](./3_Polygons.ipynb)\n",
    "\n",
    "> **Make sure** you activate the right environment before running the notebook as described in the [installation instructions](#installation)."
   ]
  },
  {
   "attachments": {},
   "cell_type": "markdown",
   "metadata": {
    "heading_collapsed": true
   },
   "source": [
    "## Introduction to raster data <a name=\"intro_raster\"></a>"
   ]
  },
  {
   "cell_type": "markdown",
   "metadata": {},
   "source": [
    "Alternative to vector data are raster data. In its simplest form, a raster consists of a matrix of *cells* or *pixels* organized into rows and columns (or a grid) where each cell contains a value representing information. In a more complex form, raster data can have multiple layers where each layer again represents information.\n",
    "\n",
    "![](Data/images/raster_data_simple.png)\n",
    "\n",
    "In raster datasets, each cell (or pixel) has a numerical value. The cell values represent the phenomenon portrayed by the raster dataset such as a category, magnitude, or spectral values. The category could be a land-use class such as grassland, forest, or road. A magnitude might represent temperature, or surface elevation above mean sea level. Spectral values are used in satellite imagery and aerial photography to represent light reflectance and color.\n",
    "\n",
    "Cell values can be either positive or negative, integer, or floating point. Integer values are best used to represent categorical (discrete) data and floating-point values to represent continuous surfaces.\n",
    "\n",
    "The area (or surface) represented by each cell consists of the same width and height and is an equal portion of the entire surface represented by the raster. For example, a raster representing elevation (that is, a digital elevation model) may cover an area of 100 square kilometers. If there were 100 cells in this raster, each cell would represent 1 square kilometer of equal width and height (that is, 1 km x 1 km).\n",
    "\n",
    "The dimension of the cells can be as large or as small as needed to represent the surface conveyed by the raster dataset and the features within the surface, such as a square kilometer, square foot, or even square centimeter. The cell size determines how coarse or fine the patterns or features in the raster will appear.\n",
    "\n",
    "The location of each cell is defined by the row or column where it is located within the raster matrix. Essentially, the matrix is represented by a Cartesian coordinate system in image space, in which the rows of the matrix are parallel to the x-axis and the columns to the y-axis of the Cartesian plane. Row and column values typically begin with 0. These Cartesian coordinates then correspond to real world coordinates in a certain [CRS or projection system](#crs).\n",
    "\n",
    " ![](Data/images/raster_data_relation.gif)"
   ]
  },
  {
   "attachments": {},
   "cell_type": "markdown",
   "metadata": {
    "pycharm": {
     "name": "#%% md\n"
    }
   },
   "source": [
    "### Raster data formats"
   ]
  },
  {
   "cell_type": "markdown",
   "metadata": {},
   "source": [
    "A multitude of raster file format types are typically available for use in different software tools. Among the most common raster files used on the web are the JPEG, TIFF, and PNG formats, all of which are open source and can be used with most software packages. Native JPEG, TIFF, and PNG files do not have georeferenced information associated with them and therefore cannot be used in any geospatial mapping efforts as they only exist in image space and not in coordinate space.\n",
    "\n",
    "In order to employ these files in a geospatial context, *image to coordinate translation* should be available that specifies the locations and transformations that allow the image to be projected into a standard coordinate system (e.g., Universal Transverse Mercator [UTM] or State Plane). Therefore we will work with georeferenced raster data of which GeoTiff is a common data format (see overview of other formats [here](https://pro.arcgis.com/en/pro-app/latest/help/data/imagery/supported-raster-dataset-file-formats.htm))\n",
    "\n",
    "In such georeferenced dataset we need at least information on the *extent* and *resolution* of the raster data:\n",
    "\n",
    " - **Extent**: The spatial extent is the geographic area that the raster data covers. The spatial extent of a spatial object represents the geographic edge or location that is the furthest north, south, east and west. In other words, extent represents the overall geographic coverage of the spatial object.\n",
    "\n",
    "\n",
    " -  **Resolution**: A resolution of a raster represents the area on the ground that each pixel of the raster covers. The image below illustrates the effect of changes in resolution. \n",
    " \n",
    "The image below illustrates the effect of changes in resolution for images with a similar extent.\n",
    "\n",
    "![](Data/images/raster_resolution.png)"
   ]
  },
  {
   "attachments": {},
   "cell_type": "markdown",
   "metadata": {
    "pycharm": {
     "name": "#%% md\n"
    }
   },
   "source": [
    "### Raster data visualisation"
   ]
  },
  {
   "cell_type": "markdown",
   "metadata": {},
   "source": [
    "Similar to vector data, there are multiple python libraries that can be used to visualise geospatial raster data. In this workshop, however, we will be working with the `rasterio` library. The documentation of the library can be found [here](https://rasterio.readthedocs.io/en/latest/)."
   ]
  },
  {
   "attachments": {},
   "cell_type": "markdown",
   "metadata": {
    "heading_collapsed": true
   },
   "source": [
    "### Raster data notebook <a name=\"next_raster\"></a>"
   ]
  },
  {
   "cell_type": "markdown",
   "metadata": {},
   "source": [
    "There is a seperate notebooks to understand raster data, where the different steps to tackle raster data is handled.\n",
    "\n",
    "Please follow the instruction in [Rasters.ipynb](./4_Rasters.ipynb)"
   ]
  },
  {
   "attachments": {},
   "cell_type": "markdown",
   "metadata": {
    "heading_collapsed": true
   },
   "source": [
    "## Optional material <a name=\"optional\"></a>"
   ]
  },
  {
   "cell_type": "markdown",
   "metadata": {
    "hidden": true
   },
   "source": [
    "- Read the paper on colorscales [here](https://www.nature.com/articles/s41467-020-19160-7) to understand the importance of using appropriate colorscales"
   ]
  }
 ],
 "metadata": {
  "kernelspec": {
   "display_name": "Python 3",
   "language": "python",
   "name": "python3"
  },
  "language_info": {
   "codemirror_mode": {
    "name": "ipython",
    "version": 3
   },
   "file_extension": ".py",
   "mimetype": "text/x-python",
   "name": "python",
   "nbconvert_exporter": "python",
   "pygments_lexer": "ipython3",
   "version": "3.10.6 (main, Nov 14 2022, 16:10:14) [GCC 11.3.0]"
  },
  "vscode": {
   "interpreter": {
    "hash": "916dbcbb3f70747c44a77c7bcd40155683ae19c65e1c03b4aa3499c5328201f1"
   }
  }
 },
 "nbformat": 4,
 "nbformat_minor": 2
}
