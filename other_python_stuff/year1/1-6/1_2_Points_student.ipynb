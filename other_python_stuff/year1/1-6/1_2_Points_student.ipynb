{
 "cells": [
  {
   "cell_type": "markdown",
   "id": "6a2a0386",
   "metadata": {
    "heading_collapsed": true
   },
   "source": [
    "# Point data\n"
   ]
  },
  {
   "cell_type": "markdown",
   "id": "ce0a4baa",
   "metadata": {},
   "source": [
    "## Check if all packages have been installed correctly"
   ]
  },
  {
   "cell_type": "code",
   "execution_count": null,
   "id": "3aaf7bf1",
   "metadata": {
    "hidden": true
   },
   "outputs": [],
   "source": [
    "import geopandas as gpd\n",
    "import folium\n",
    "import json\n",
    "import branca\n",
    "import rasterio\n",
    "import rasterio.mask\n",
    "import matplotlib.pyplot as plt\n",
    "import numpy as np\n",
    "from rasterio.plot import show\n",
    "\n",
    "print('All libraries are downloaded and imported correctly')"
   ]
  },
  {
   "attachments": {},
   "cell_type": "markdown",
   "id": "3ef5b205",
   "metadata": {
    "heading_collapsed": true
   },
   "source": [
    "## Point data formats"
   ]
  },
  {
   "cell_type": "markdown",
   "id": "80cfd577",
   "metadata": {},
   "source": [
    "We will start our exploration of `geopandas` functionalities by loading geospatial data from GeoJSON and shapefiles using the `read_file` function."
   ]
  },
  {
   "attachments": {},
   "cell_type": "markdown",
   "id": "0d2f36a8",
   "metadata": {
    "hidden": true
   },
   "source": [
    "### GeoJSON files\n",
    "\n",
    "JSON (JavaScript Object Notation, pronounced /ˈdʒeɪsən/) is an open standard file format and data interchange format that uses human-readable text. JSON is used store and transmit data objects consisting of attribute–value pairs and arrays (or other serializable values).\n",
    "\n",
    "GeoJSON is another open standard format, based on JSON, designed for representing simple geographical features, along with their non-spatial attributes. The features include points, line strings, polygons, and multi-part collections of these types"
   ]
  },
  {
   "cell_type": "markdown",
   "id": "bb71014d",
   "metadata": {},
   "source": [
    "Here is how a GeoJSON looks like:"
   ]
  },
  {
   "cell_type": "code",
   "execution_count": null,
   "id": "666e15d3",
   "metadata": {},
   "outputs": [],
   "source": [
    "with open('Data/point/traj.geojson', 'r') as f:\n",
    "    data = json.load(f)\n",
    "print(json.dumps(data, indent = 4, sort_keys=True))"
   ]
  },
  {
   "cell_type": "markdown",
   "id": "e377025b",
   "metadata": {},
   "source": [
    "We will start our explorations using a dataset with Point geospatial information for the intersections (kruispunten) of a road network in the Netherlands. \n",
    "\n",
    "`geopandas` creates a GeoDataFrame object when loading data from files"
   ]
  },
  {
   "cell_type": "code",
   "execution_count": null,
   "id": "7abfa422",
   "metadata": {
    "hidden": true
   },
   "outputs": [],
   "source": [
    "df = gpd.read_file('Data/point/kruispunten.geojson')"
   ]
  },
  {
   "cell_type": "code",
   "execution_count": null,
   "id": "ce6a8ec4",
   "metadata": {
    "hidden": true
   },
   "outputs": [],
   "source": [
    "type(df)"
   ]
  },
  {
   "cell_type": "markdown",
   "id": "e5a561fd",
   "metadata": {},
   "source": [
    "Check how it closely resembles a `pandas` DataFrame"
   ]
  },
  {
   "cell_type": "code",
   "execution_count": null,
   "id": "2c1b6aad",
   "metadata": {
    "scrolled": true
   },
   "outputs": [],
   "source": [
    "df.head()"
   ]
  },
  {
   "cell_type": "markdown",
   "id": "28e495ae",
   "metadata": {},
   "source": [
    "Indeed, each column of this GeoDataFrame is a `pandas` Series, such as the \"OMSCHR\" descriptive column (note: omschrijving = description in Dutch) or \"WVK_ID\", i.e. the segment id that these junctions belong to."
   ]
  },
  {
   "cell_type": "code",
   "execution_count": null,
   "id": "47247a0c",
   "metadata": {},
   "outputs": [],
   "source": [
    "type(df['OMSCHR'])"
   ]
  },
  {
   "cell_type": "markdown",
   "id": "a230afd6",
   "metadata": {},
   "source": [
    "However, the last column of the dataset named \"geometry\" is a `geopandas` GeoSeries"
   ]
  },
  {
   "cell_type": "code",
   "execution_count": null,
   "id": "5c3d837b",
   "metadata": {},
   "outputs": [],
   "source": [
    "type(df['geometry'])"
   ]
  },
  {
   "cell_type": "markdown",
   "id": "3104dce8",
   "metadata": {},
   "source": [
    "The name of this column is used to remark its `dtype` which, unlike typical `pandas` dtypes, is marked as `geometry`."
   ]
  },
  {
   "cell_type": "code",
   "execution_count": null,
   "id": "c0c667e0",
   "metadata": {},
   "outputs": [],
   "source": [
    "df.dtypes"
   ]
  },
  {
   "cell_type": "markdown",
   "id": "a8652186",
   "metadata": {},
   "source": [
    "As specified in the `geopandas` [documentation](https://geopandas.org/en/stable/docs/user_guide/data_structures.html), this GeoSeries column holds a special status, and is usually referred to as the most important property of a GeoDataFrame. For instance, a spatial method is applied to a GeoDataFrame (or a spatial attribute like `area` is called), this commands will always act on the “geometry” column.\n",
    "\n",
    "A GeoDataFrame may also contain other columns with geometrical objects, but only one column can be the active geometry at a time. To change which column is the active geometry column, one can use the `GeoDataFrame.set_geometry()` method.\n",
    "\n",
    "The “geometry” column – no matter its name – can be accessed through the geometry attribute (e.g., `df.geometry`), and the name of the geometry column can be found by typing `df.geometry.name`."
   ]
  },
  {
   "cell_type": "code",
   "execution_count": null,
   "id": "1751edaa",
   "metadata": {},
   "outputs": [],
   "source": [
    "df.geometry"
   ]
  },
  {
   "cell_type": "code",
   "execution_count": null,
   "id": "864dca9b",
   "metadata": {},
   "outputs": [],
   "source": [
    "df.geometry.name"
   ]
  },
  {
   "cell_type": "markdown",
   "id": "64abd7fa",
   "metadata": {},
   "source": [
    "`geopandas` geometric objects are (usually) `shapely` objects. [Shapely](https://shapely.readthedocs.io/en/stable/manual.html) is a python library used for manipulation and analysis of planar geometric objects.\n",
    "\n"
   ]
  },
  {
   "cell_type": "code",
   "execution_count": null,
   "id": "3badaccc",
   "metadata": {},
   "outputs": [],
   "source": [
    "type(df.loc[0,'geometry'])"
   ]
  },
  {
   "cell_type": "markdown",
   "id": "3886c508",
   "metadata": {},
   "source": [
    "While entries in a GeoSeries need not be of the `shapely` same geometric type, certain export operations will fail if this is not the case."
   ]
  },
  {
   "cell_type": "markdown",
   "id": "3ef63189",
   "metadata": {},
   "source": [
    "When typed, `shapely` objects yield a basic plot. We can show the coordinates of the object by using the `print` function"
   ]
  },
  {
   "cell_type": "code",
   "execution_count": null,
   "id": "2307774d",
   "metadata": {},
   "outputs": [],
   "source": [
    "df.geometry[0]"
   ]
  },
  {
   "cell_type": "code",
   "execution_count": null,
   "id": "fbb3cb79",
   "metadata": {},
   "outputs": [],
   "source": [
    "print(df.geometry[0])"
   ]
  },
  {
   "cell_type": "markdown",
   "id": "5e18df24",
   "metadata": {},
   "source": [
    "Information on the coordinate reference system of the data is accessed with `df.crs`. As you can see, the projection is specific for the [Netherlands](https://epsg.io/28992). "
   ]
  },
  {
   "cell_type": "code",
   "execution_count": null,
   "id": "0b25dea7",
   "metadata": {},
   "outputs": [],
   "source": [
    "df.crs"
   ]
  },
  {
   "attachments": {},
   "cell_type": "markdown",
   "id": "3ba036a6",
   "metadata": {
    "hidden": true
   },
   "source": [
    "### Shape files"
   ]
  },
  {
   "cell_type": "markdown",
   "id": "457dc385",
   "metadata": {},
   "source": [
    "We can load the same dataset from shapefiles. As described in the [introduction](0_Introduction.pdf), the shapefile format is a geospatial vector data format for geographic information system (GIS) software. To load shapefile geospatial data, we load the file with the \".shp\" extension."
   ]
  },
  {
   "cell_type": "code",
   "execution_count": null,
   "id": "a326c961",
   "metadata": {
    "hidden": true
   },
   "outputs": [],
   "source": [
    "df = gpd.read_file('Data/point/kruispunten.shp')"
   ]
  },
  {
   "cell_type": "code",
   "execution_count": null,
   "id": "794b9c75",
   "metadata": {
    "hidden": true
   },
   "outputs": [],
   "source": [
    "df.head()"
   ]
  },
  {
   "attachments": {},
   "cell_type": "markdown",
   "id": "188598cb",
   "metadata": {
    "heading_collapsed": true
   },
   "source": [
    "## Point data visualisation with `folium`"
   ]
  },
  {
   "cell_type": "markdown",
   "id": "7b0e6404",
   "metadata": {},
   "source": [
    "Geospatial information can be easily plotted on a map using [Folium](https://python-visualization.github.io/folium/). We usually start by creating a *base map* that serves as the background for our geospatial dataset.\n",
    "\n",
    "The `folium.Map` method creates a base map of given width and height with either default tilesets or a custom tileset URL. You can think of a *tileset* as a collection of adjacent images that can be joined together to display a map (more efficient than using a single large image). \n",
    "\n",
    "`folium` employs [OpenStreetMap](https://www.openstreetmap.org/) as default tileset, although other can be specified using with the `tile` argument."
   ]
  },
  {
   "cell_type": "markdown",
   "id": "6cc68ab1",
   "metadata": {
    "heading_collapsed": true,
    "hidden": true
   },
   "source": [
    "The following code creates a map centered in South Holland by specifying appropriate latitude and longitude as `location` and starting zoom level in `zoom_start`."
   ]
  },
  {
   "cell_type": "code",
   "execution_count": null,
   "id": "959a6848",
   "metadata": {
    "hidden": true
   },
   "outputs": [],
   "source": [
    "# create\n",
    "sh_map = folium.Map(\n",
    "    location=[51.94, 4.46],\n",
    "    zoom_start=10)\n",
    "\n",
    "# show\n",
    "sh_map"
   ]
  },
  {
   "cell_type": "markdown",
   "id": "ea41d1a9",
   "metadata": {
    "hidden": true
   },
   "source": [
    "We can visualise our geospatial data by adding a GeoJSON layer on the base map using the information contained in our `geopandas` GeoDataFrame. See `folium.features.GeoJson` in [this website](https://python-visualization.github.io/folium/modules.html#folium.features.GeoJsonTooltip) for more information about the function"
   ]
  },
  {
   "cell_type": "code",
   "execution_count": null,
   "id": "ff4e087c",
   "metadata": {
    "hidden": true
   },
   "outputs": [],
   "source": [
    "# create\n",
    "gjson = folium.features.GeoJson(\n",
    "    df,\n",
    ").add_to(sh_map)\n",
    "\n",
    "# show\n",
    "sh_map"
   ]
  },
  {
   "cell_type": "markdown",
   "id": "6f89f893",
   "metadata": {
    "hidden": true
   },
   "source": [
    "At the moment, the map just show the locations of our points. To visualise more information on the map, we can use the `GeoJsonPopup` method which creates \"pop-up\" windows displaying selected features relative to the points being clicked on. We do this by specifying the `fields` of interest in the GeoDataFrame; we use `aliases` to replace the obscure column names."
   ]
  },
  {
   "cell_type": "code",
   "execution_count": null,
   "id": "6f8bcc30",
   "metadata": {
    "hidden": true,
    "scrolled": false
   },
   "outputs": [],
   "source": [
    "# create\n",
    "folium.features.GeoJsonPopup(\n",
    "    fields=['OMSCHR', 'RIJRTNGHRB'],\n",
    "    aliases=['Description', 'Information']    \n",
    ").add_to(gjson)\n",
    "\n",
    "# show\n",
    "sh_map"
   ]
  }
 ],
 "metadata": {
  "kernelspec": {
   "display_name": "temp",
   "language": "python",
   "name": "temp"
  },
  "language_info": {
   "codemirror_mode": {
    "name": "ipython",
    "version": 3
   },
   "file_extension": ".py",
   "mimetype": "text/x-python",
   "name": "python",
   "nbconvert_exporter": "python",
   "pygments_lexer": "ipython3",
   "version": "3.9.13"
  },
  "vscode": {
   "interpreter": {
    "hash": "235118494f6096765c1deb9d143943fcb560fd7b79d70fb1cbb738bbc852222c"
   }
  }
 },
 "nbformat": 4,
 "nbformat_minor": 5
}
