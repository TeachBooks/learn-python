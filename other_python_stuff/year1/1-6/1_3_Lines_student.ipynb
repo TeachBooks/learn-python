{
 "cells": [
  {
   "attachments": {},
   "cell_type": "markdown",
   "id": "8a820b16",
   "metadata": {
    "heading_collapsed": true
   },
   "source": [
    "## Lines data"
   ]
  },
  {
   "cell_type": "code",
   "execution_count": null,
   "id": "3aaf7bf1",
   "metadata": {
    "hidden": true
   },
   "outputs": [],
   "source": [
    "# import modules\n",
    "import geopandas as gpd\n",
    "import folium\n",
    "import json\n",
    "import branca"
   ]
  },
  {
   "attachments": {},
   "cell_type": "markdown",
   "id": "ad583705",
   "metadata": {
    "heading_collapsed": true
   },
   "source": [
    "### Loading LineString data"
   ]
  },
  {
   "cell_type": "markdown",
   "id": "721b2a1e",
   "metadata": {},
   "source": [
    "Let us work now with *line-shaped* geospatial data using a dataset representing speed limits on various road segments in the Netherlands. \n",
    "\n",
    "`geopandas` uses `shapely` *LineString* objects to represent this type of `geometry`; `LineString` objects consists of one or more connected linear splines between points. "
   ]
  },
  {
   "cell_type": "code",
   "execution_count": null,
   "id": "bdb46379",
   "metadata": {},
   "outputs": [],
   "source": [
    "# load only a part of dataset to avoid problems with computational resources\n",
    "max_speed_df = gpd.read_file('Data/linestring/max_snelheden.shp', rows=2000) "
   ]
  },
  {
   "cell_type": "code",
   "execution_count": null,
   "id": "6c9ccef8",
   "metadata": {
    "hidden": true
   },
   "outputs": [],
   "source": [
    "max_speed_df.head()"
   ]
  },
  {
   "cell_type": "markdown",
   "id": "6dd913c8",
   "metadata": {
    "hidden": true
   },
   "source": [
    "This time the \"OMSCHR\" column represent the speed limits on the road segment, geometrically defined by the linestrings rightmost \"geometry\" column."
   ]
  },
  {
   "cell_type": "markdown",
   "id": "66299997",
   "metadata": {
    "hidden": true
   },
   "source": [
    "The first linestring is defined by a sequence of 3 points"
   ]
  },
  {
   "cell_type": "code",
   "execution_count": null,
   "id": "ad0dd363",
   "metadata": {
    "hidden": true
   },
   "outputs": [],
   "source": [
    "print(max_speed_df.geometry[0])"
   ]
  },
  {
   "cell_type": "code",
   "execution_count": null,
   "id": "de63e9e2",
   "metadata": {
    "hidden": true
   },
   "outputs": [],
   "source": [
    "max_speed_df.geometry[0]"
   ]
  },
  {
   "cell_type": "markdown",
   "id": "2af7ea52",
   "metadata": {},
   "source": [
    "Remember that we can always use `geopandas` functionalities to extract interesting information from our `geometry` column, such as the length of each road segment:"
   ]
  },
  {
   "cell_type": "code",
   "execution_count": null,
   "id": "4ab7d5e8",
   "metadata": {},
   "outputs": [],
   "source": [
    "max_speed_df.length"
   ]
  },
  {
   "attachments": {},
   "cell_type": "markdown",
   "id": "9595559e",
   "metadata": {
    "heading_collapsed": true
   },
   "source": [
    "### LineString visualization"
   ]
  },
  {
   "cell_type": "markdown",
   "id": "eff9e198",
   "metadata": {
    "hidden": true
   },
   "source": [
    "Let's create a base map centered with respect to the road coordinates in our GeoDataFrame. We do this by first computing the average coordinate of each `LineString`. Since `folium` default CRS is \"EPSG:4326\", we need to transform our geometries accordingly, using the `to_crs` method."
   ]
  },
  {
   "cell_type": "code",
   "execution_count": null,
   "id": "6a5fe545",
   "metadata": {},
   "outputs": [],
   "source": [
    "max_speed_df.geometry.head()"
   ]
  },
  {
   "cell_type": "code",
   "execution_count": null,
   "id": "d1ac3915",
   "metadata": {},
   "outputs": [],
   "source": [
    "transformed_geometries = max_speed_df.geometry.to_crs('EPSG:4326')\n",
    "transformed_geometries.head()"
   ]
  },
  {
   "cell_type": "markdown",
   "id": "2beac8a3",
   "metadata": {},
   "source": [
    "The `bounds` attribute returns a (minx, miny, maxx, maxy) tuple (float values) that bounds each geometric object."
   ]
  },
  {
   "cell_type": "code",
   "execution_count": null,
   "id": "0bbce7bb",
   "metadata": {},
   "outputs": [],
   "source": [
    "transformed_geometries.bounds.head()"
   ]
  },
  {
   "cell_type": "markdown",
   "id": "c7321547",
   "metadata": {},
   "source": [
    "We can use this information to find the central point of each bounding box for each road, and compute the overall latitude and longitude."
   ]
  },
  {
   "cell_type": "code",
   "execution_count": null,
   "id": "d79e1471",
   "metadata": {},
   "outputs": [],
   "source": [
    "avg_latitude = ((transformed_geometries.bounds.maxy+transformed_geometries.bounds.miny)/2).mean()\n",
    "avg_longitude = ((transformed_geometries.bounds.maxx+transformed_geometries.bounds.minx)/2).mean()"
   ]
  },
  {
   "cell_type": "code",
   "execution_count": null,
   "id": "d3bbfd14",
   "metadata": {
    "hidden": true
   },
   "outputs": [],
   "source": [
    "# create\n",
    "nl_map = folium.Map(\n",
    "    location=[avg_latitude,avg_longitude],\n",
    "    zoom_start=10\n",
    ")\n",
    "\n",
    "# display\n",
    "nl_map"
   ]
  },
  {
   "cell_type": "markdown",
   "id": "150ea197",
   "metadata": {
    "hidden": true
   },
   "source": [
    "Similar to what seen for the Point data, we can draw all the `LineString` objects on `GeoJson` object sitting on top of the base map."
   ]
  },
  {
   "cell_type": "code",
   "execution_count": null,
   "id": "e0fe749f",
   "metadata": {
    "hidden": true
   },
   "outputs": [],
   "source": [
    "# create\n",
    "gjson = folium.features.GeoJson(\n",
    "    max_speed_df).add_to(nl_map)\n",
    "\n",
    "# display\n",
    "nl_map"
   ]
  },
  {
   "cell_type": "markdown",
   "id": "3b6332f3",
   "metadata": {
    "hidden": true
   },
   "source": [
    "We can make the plot more informative by changing the line colors according to speed limits."
   ]
  },
  {
   "cell_type": "markdown",
   "id": "89b95295",
   "metadata": {
    "hidden": true
   },
   "source": [
    "First, we create a color map using the [branca](https://github.com/python-visualization/branca) Python library; `branca` is a *spinoff* from `folium` hosting non-map-specific features such as colormaps. \n",
    "\n",
    "In this case, we use a linear colormap going from Red (Rd) to Blue (Bu) through Yellow (Yl). We scale the colors between the min and max reported speeds by using the `vmin` and `vmax` arguments."
   ]
  },
  {
   "cell_type": "code",
   "execution_count": null,
   "id": "4d0b4561",
   "metadata": {
    "hidden": true
   },
   "outputs": [],
   "source": [
    "colors = branca.colormap.linear.RdYlBu_11.scale(vmin=max_speed_df.OMSCHR.min(), vmax=max_speed_df.OMSCHR.max())\n",
    "colors"
   ]
  },
  {
   "cell_type": "markdown",
   "id": "d4f87d89",
   "metadata": {
    "hidden": true
   },
   "source": [
    "To customise the visualisation of each `LineString`, we define and apply a `style_function` to all rows of the GeoDataFrame (similar to what happens when using the `pandas.DataFrame.apply` construct). \n",
    "\n",
    "The main difference is that the rows of the GeoDataFrame, as passed by `folium` to our `style_function`, are now encoded in the underlying JSON format. Their data is now stored into a `properties` dictionary.\n",
    "\n",
    "The `style_function` returns a dictionary of attributes computed for each row, to be applied to the relative `geometry` visualized using `folium`. In particular, the function below sets the color according to the speed limit of each row (e.g., road) and the colorscale we defined before. The function and also fix the values for the opacity of each plotted segment and the weight (e.g., thickness)."
   ]
  },
  {
   "cell_type": "code",
   "execution_count": null,
   "id": "e3a90d07",
   "metadata": {
    "hidden": true
   },
   "outputs": [],
   "source": [
    "def style_function(row):\n",
    "    return {\n",
    "        \"color\": colors(row['properties']['OMSCHR']),\n",
    "        \"fillOpacity\": 0.5,\n",
    "        \"weight\": 5,        \n",
    "    }"
   ]
  },
  {
   "cell_type": "markdown",
   "id": "40fa5882",
   "metadata": {
    "hidden": true
   },
   "source": [
    "Now, we can create another overlay with the customised style settings"
   ]
  },
  {
   "cell_type": "code",
   "execution_count": null,
   "id": "3cab5102",
   "metadata": {
    "hidden": true
   },
   "outputs": [],
   "source": [
    "# create\n",
    "gjson = folium.features.GeoJson(\n",
    "    max_speed_df,\n",
    "    style_function=style_function,\n",
    ").add_to(nl_map)\n",
    "\n",
    "# display\n",
    "nl_map"
   ]
  },
  {
   "cell_type": "markdown",
   "id": "5c64fe64",
   "metadata": {
    "hidden": true
   },
   "source": [
    "Finally, we can show extra information using \"pop-up\" windows."
   ]
  },
  {
   "cell_type": "code",
   "execution_count": null,
   "id": "8c77b53e",
   "metadata": {
    "hidden": true
   },
   "outputs": [],
   "source": [
    "# create\n",
    "folium.features.GeoJsonPopup(\n",
    "    fields=['WVK_ID', 'OMSCHR'],\n",
    "    aliases=['Segment_ID', 'Maximum speed'],\n",
    "    labels=True\n",
    ").add_to(gjson)\n",
    "\n",
    "# display\n",
    "nl_map"
   ]
  },
  {
   "attachments": {},
   "cell_type": "markdown",
   "id": "7ad8ae7c",
   "metadata": {},
   "source": [
    "### Exercise"
   ]
  },
  {
   "cell_type": "markdown",
   "id": "db4b66ce",
   "metadata": {},
   "source": [
    "You are given a geospatial dataset for the roads in Vietnam"
   ]
  },
  {
   "cell_type": "code",
   "execution_count": null,
   "id": "fadf4a68",
   "metadata": {},
   "outputs": [],
   "source": [
    "df_vietroads = gpd.read_file('./Data/case_study/vietnam_roadnet.geojson')"
   ]
  },
  {
   "cell_type": "code",
   "execution_count": null,
   "id": "8e3a437e",
   "metadata": {},
   "outputs": [],
   "source": [
    "df_vietroads.plot();"
   ]
  },
  {
   "cell_type": "markdown",
   "id": "fdf81fdd",
   "metadata": {},
   "source": [
    "The dataset contains geometrical information on the location of the road along with contextual data such as information on the road type (\"rtt\" column)"
   ]
  },
  {
   "cell_type": "code",
   "execution_count": null,
   "id": "007b3869",
   "metadata": {},
   "outputs": [],
   "source": [
    "df_vietroads.head()"
   ]
  },
  {
   "cell_type": "code",
   "execution_count": null,
   "id": "219c9d1a",
   "metadata": {},
   "outputs": [],
   "source": [
    "df_vietroads.rtt.value_counts().sort_index()"
   ]
  },
  {
   "cell_type": "markdown",
   "id": "5ad2a8ab",
   "metadata": {},
   "source": [
    "Your task is to use `folium` as shown earlier in the notebook to display a map for the roads of Vietnam where:\n",
    "\n",
    "1. The map is centered on Hanoi, e.g. `latitude = 21.03 N`, `longitude = 105.8 E`;\n",
    "2. Each road type \"rtt\" is displayed with a different color. The following colors (in hexadecimal format) are assigned to each road type \n",
    "    - 14: `#E74C3C`\n",
    "    - 15: `#28B463`\n",
    "    - 16: `#85C1E9`\n",
    "    - 999:`#2C3E50`\n",
    "3. Colors are assigned with `folium.features.GeoJson` using a `style_function`;\n",
    "4. The map has pop-up windows enabled showing information on \"rtt\".\n",
    "\n",
    "> Hints: Remember to transform the crs of the loaded dataset to the one used by `folium`. Instead of using a `branca` colormap, you can simply use a dictionary mapping different road types to the selected colors."
   ]
  },
  {
   "attachments": {},
   "cell_type": "markdown",
   "id": "ff1b25d7",
   "metadata": {},
   "source": [
    "#### Solution"
   ]
  },
  {
   "cell_type": "code",
   "execution_count": null,
   "id": "5b8f568a",
   "metadata": {},
   "outputs": [],
   "source": [
    "\"\"\" Your code here\"\"\""
   ]
  }
 ],
 "metadata": {
  "kernelspec": {
   "display_name": "Python 3 (ipykernel)",
   "language": "python",
   "name": "python3"
  },
  "language_info": {
   "codemirror_mode": {
    "name": "ipython",
    "version": 3
   },
   "file_extension": ".py",
   "mimetype": "text/x-python",
   "name": "python",
   "nbconvert_exporter": "python",
   "pygments_lexer": "ipython3",
   "version": "3.9.13"
  },
  "vscode": {
   "interpreter": {
    "hash": "235118494f6096765c1deb9d143943fcb560fd7b79d70fb1cbb738bbc852222c"
   }
  }
 },
 "nbformat": 4,
 "nbformat_minor": 5
}
