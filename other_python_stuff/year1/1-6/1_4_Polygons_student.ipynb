{
 "cells": [
  {
   "cell_type": "markdown",
   "id": "8a820b16",
   "metadata": {
    "heading_collapsed": true
   },
   "source": [
    "# Polygon data"
   ]
  },
  {
   "cell_type": "code",
   "execution_count": null,
   "id": "3aaf7bf1",
   "metadata": {
    "hidden": true
   },
   "outputs": [],
   "source": [
    "# import modules\n",
    "import geopandas as gpd\n",
    "import folium\n",
    "import json\n",
    "import branca"
   ]
  },
  {
   "attachments": {},
   "cell_type": "markdown",
   "id": "bd9c8f9c",
   "metadata": {
    "heading_collapsed": true
   },
   "source": [
    "## Polygon data formats"
   ]
  },
  {
   "cell_type": "markdown",
   "id": "0f1b2139",
   "metadata": {
    "hidden": true
   },
   "source": [
    "In this tutorial we will work with a shapefile of *polygons* representing municipalities in the provinces of Utrecht and Noord-Holland. "
   ]
  },
  {
   "cell_type": "code",
   "execution_count": null,
   "id": "984e0e1a",
   "metadata": {
    "hidden": true
   },
   "outputs": [],
   "source": [
    "df = gpd.read_file('Data/polygon/Utrecht_NoordHolland.shp', geometry='geometry')"
   ]
  },
  {
   "cell_type": "code",
   "execution_count": null,
   "id": "c2954da3",
   "metadata": {},
   "outputs": [],
   "source": [
    "df.head()"
   ]
  },
  {
   "cell_type": "markdown",
   "id": "fb563ce5",
   "metadata": {},
   "source": [
    "Provinces are identified by the \"prov_name\" column. The different municipalities are identified by \"gem_name\" (gem stands for gemeente in Dutch). Municipalities can be further subdivided in multiple connected small cities and villages. The \"inhabitant\" column identifies the number of people living in each subdivision according to census. For instance, the gemeente of *Amsterdam* is made of 8 densely populated parts."
   ]
  },
  {
   "cell_type": "code",
   "execution_count": null,
   "id": "6c9ccef8",
   "metadata": {
    "hidden": true
   },
   "outputs": [],
   "source": [
    "# show number of subdivision in each gemeente\n",
    "df['gem_name'].value_counts()"
   ]
  },
  {
   "cell_type": "code",
   "execution_count": null,
   "id": "6798a238",
   "metadata": {},
   "outputs": [],
   "source": [
    "df.sort_values(by='inhabitant', ascending=False).head()"
   ]
  },
  {
   "cell_type": "markdown",
   "id": "d9cf7f4d",
   "metadata": {
    "hidden": true
   },
   "source": [
    "Similar to what we saw for Points and LineStrings, a basic plot of each polygon can be obtained in the following fashion"
   ]
  },
  {
   "cell_type": "code",
   "execution_count": null,
   "id": "ad0dd363",
   "metadata": {
    "hidden": true
   },
   "outputs": [],
   "source": [
    "df.geometry[0]"
   ]
  },
  {
   "cell_type": "markdown",
   "id": "af164fcb",
   "metadata": {},
   "source": [
    "The `exterior` attribute contains geometrical information concerning the boundary of the polygon"
   ]
  },
  {
   "cell_type": "code",
   "execution_count": null,
   "id": "20988cf2",
   "metadata": {},
   "outputs": [],
   "source": [
    "df.geometry[0].exterior"
   ]
  },
  {
   "cell_type": "markdown",
   "id": "a75fbf7b",
   "metadata": {},
   "source": [
    "The `area` attribute reports the area within the perimeter. A quick comparison for the [city of Utrecht](https://en.wikipedia.org/wiki/Utrecht) suggests these are pretty accurate."
   ]
  },
  {
   "cell_type": "code",
   "execution_count": null,
   "id": "b93014c3",
   "metadata": {},
   "outputs": [],
   "source": [
    "# divide by 1000x1000 to have the value in sq. km\n",
    "\n",
    "df[df['gem_name']=='Utrecht'].area.sum()/10**6"
   ]
  },
  {
   "attachments": {},
   "cell_type": "markdown",
   "id": "cb6ecfa1",
   "metadata": {
    "hidden": true
   },
   "source": [
    "## Polygon data visualization"
   ]
  },
  {
   "cell_type": "markdown",
   "id": "7bbffe4a",
   "metadata": {},
   "source": [
    "While not extremely sophisticated, `geopandas` offers some interesting plotting functionalities for polygons. Here is for instance a quick color-coded plot for the number of inhabitants within each polygon."
   ]
  },
  {
   "cell_type": "code",
   "execution_count": null,
   "id": "f6901ed2",
   "metadata": {
    "hidden": true
   },
   "outputs": [],
   "source": [
    "df.plot(column = 'inhabitant', cmap='YlOrRd', legend=True);"
   ]
  },
  {
   "cell_type": "markdown",
   "id": "eff9e198",
   "metadata": {
    "hidden": true
   },
   "source": [
    "We resort to `folium` for better visualization. First, we transform our coordinate system to the standard \"EPSG:4326\" used by the library. We then plot a base map centered average latitude/longitude coordinates of the gemeente of Utrecht. After that, we plot all the polygons for this gemeente along with some informative pop-up windows."
   ]
  },
  {
   "cell_type": "code",
   "execution_count": null,
   "id": "97e4a3c4",
   "metadata": {},
   "outputs": [],
   "source": [
    "df.to_crs(epsg=4326, inplace=True)"
   ]
  },
  {
   "cell_type": "code",
   "execution_count": null,
   "id": "42933e9c",
   "metadata": {},
   "outputs": [],
   "source": [
    "# select Utrecht rows\n",
    "utrecht_sel = df['gem_name']=='Utrecht'\n",
    "\n",
    "# compute average coordinates\n",
    "avg_x_coord = (df[utrecht_sel].bounds.minx+df[utrecht_sel].bounds.maxx)/2\n",
    "avg_y_coord = (df[utrecht_sel].bounds.miny+df[utrecht_sel].bounds.maxy)/2"
   ]
  },
  {
   "cell_type": "code",
   "execution_count": null,
   "id": "d3bbfd14",
   "metadata": {
    "hidden": true
   },
   "outputs": [],
   "source": [
    "# create folium base map\n",
    "poly_map = folium.Map(\n",
    "    location=[avg_y_coord.mean(),avg_x_coord.mean()],    \n",
    "    zoom_start=12\n",
    ")\n",
    "\n",
    "# visualize Utrecht polygons\n",
    "utrecht_gjson = folium.features.GeoJson(\n",
    "    df[utrecht_sel],\n",
    ").add_to(poly_map)\n",
    "\n",
    "# add informative pop-up windows\n",
    "folium.features.GeoJsonPopup(\n",
    "    fields=['mzr_name', 'gem_name', 'inhabitant'],\n",
    "    aliases=['Location', 'Municipality', 'Population'],\n",
    "    labels=True\n",
    ").add_to(utrecht_gjson)\n",
    "\n",
    "# visualize map\n",
    "poly_map"
   ]
  },
  {
   "attachments": {},
   "cell_type": "markdown",
   "id": "d207e9fb",
   "metadata": {},
   "source": [
    "### Tooltip"
   ]
  },
  {
   "cell_type": "markdown",
   "id": "19c900c4",
   "metadata": {},
   "source": [
    "Clicking on each displayed element to retrieve information can be tedious; `folium` offers an interesting alternative with the `Tooltip` feature. By using `Tooltip` we can easily show information when hovering the mouse pointer on each polygon."
   ]
  },
  {
   "cell_type": "code",
   "execution_count": null,
   "id": "a4927b37",
   "metadata": {},
   "outputs": [],
   "source": [
    "# create folium base map\n",
    "poly_map = folium.Map(\n",
    "    location=[avg_y_coord.mean(),avg_x_coord.mean()],    \n",
    "    zoom_start=12\n",
    ")\n",
    "\n",
    "# visualize Utrecht polygons\n",
    "utrecht_gjson = folium.features.GeoJson(\n",
    "    df[utrecht_sel],\n",
    ").add_to(poly_map)\n",
    "\n",
    "# add tooltip functionality\n",
    "folium.features.GeoJsonTooltip(\n",
    "    fields=['mzr_name', 'gem_name', 'inhabitant'],\n",
    "    aliases=['Location', 'Municipality', 'Population']\n",
    ").add_to(utrecht_gjson)\n",
    "\n",
    "# visualize map\n",
    "poly_map"
   ]
  },
  {
   "attachments": {},
   "cell_type": "markdown",
   "id": "18a0286b",
   "metadata": {},
   "source": [
    "### Choropleth"
   ]
  },
  {
   "cell_type": "markdown",
   "id": "fba5f5ae",
   "metadata": {},
   "source": [
    "While prettier, the maps above are somewhat less informative than the `geopandas` visualization on the distribution of inhabitants across the municipalities. \n",
    "\n",
    "These type of maps are known as [choropleth map](https://en.wikipedia.org/wiki/Choropleth_map). Choropleth maps are statistical thematic maps that use color coding to provide aggregate summary of a geographic characteristic within spatial enumeration units, such as totals (e.g. total population) or averages (e.g. population density or per-capita income). Choropleth maps provide an easy way to visualize how a variable varies across a geographic area or show the level of variability within a region.\n",
    "\n",
    "[There are many ways](https://towardsdatascience.com/creating-choropleth-maps-with-pythons-folium-library-cfacfb40f56a) to create such visualizations with `folium`. Below we provide a solution that exploits `style_functions` and the `branca` library as introduced in the [previous notebook](./2_Lines.ipynb) on `LineStrings`."
   ]
  },
  {
   "cell_type": "code",
   "execution_count": null,
   "id": "42c0eab3",
   "metadata": {},
   "outputs": [],
   "source": [
    "# create learn colormap interpolating 3 colors\n",
    "colors = branca.colormap.LinearColormap(\n",
    "    ['green', 'yellow', 'red'], vmin=df.inhabitant.min(), vmax=df.inhabitant.max())"
   ]
  },
  {
   "cell_type": "code",
   "execution_count": null,
   "id": "fdd89372",
   "metadata": {},
   "outputs": [],
   "source": [
    "# define style function\n",
    "def population_choropleth(row):\n",
    "    return {\n",
    "        \"fillColor\": colors(row['properties']['inhabitant']),\n",
    "        \"color\": \"white\",\n",
    "        \"weight\": 1,\n",
    "        \"fillOpacity\": 0.75,\n",
    "    }"
   ]
  },
  {
   "cell_type": "code",
   "execution_count": null,
   "id": "4b944d30",
   "metadata": {},
   "outputs": [],
   "source": [
    "# create base map\n",
    "poly_map = folium.Map(\n",
    "    location=[avg_y_coord.mean(),avg_x_coord.mean()],    \n",
    "    zoom_start=8\n",
    ")\n",
    "\n",
    "# overlay choropleth\n",
    "gjson = folium.features.GeoJson(\n",
    "    df,\n",
    "    style_function=population_choropleth,\n",
    "    ).add_to(poly_map)\n",
    "\n",
    "# add colormap to the map\n",
    "poly_map.add_child(colors)\n",
    "\n",
    "# display\n",
    "poly_map"
   ]
  },
  {
   "attachments": {},
   "cell_type": "markdown",
   "id": "f11b9b01",
   "metadata": {},
   "source": [
    "### Exercise"
   ]
  },
  {
   "cell_type": "markdown",
   "id": "f5ea8ad8",
   "metadata": {},
   "source": [
    "You are given a geospatial dataset for the provinces in Vietnam. The dataset contains the polygon geometry along with information on the name of the province, whether it is a city or not, and its surface area in sq. km. "
   ]
  },
  {
   "cell_type": "code",
   "execution_count": null,
   "id": "e4d83b65",
   "metadata": {},
   "outputs": [],
   "source": [
    "gdf_vietnam = gpd.read_file('./Data/case_study/vietnam_bound.geojson')\n",
    "gdf_vietnam['area_sqkm']=round(gdf_vietnam.to_crs(epsg=9215).area/10**6)\n",
    "gdf_vietnam = gdf_vietnam[['VARNAME_1','ENGTYPE_1','area_sqkm','geometry']]\n",
    "gdf_vietnam.columns = ['name','type','area_sqkm','geometry']"
   ]
  },
  {
   "cell_type": "code",
   "execution_count": null,
   "id": "a7722d8b",
   "metadata": {},
   "outputs": [],
   "source": [
    "gdf_vietnam.plot(column='type');"
   ]
  },
  {
   "cell_type": "markdown",
   "id": "5295a4ac",
   "metadata": {},
   "source": [
    "Your task is to use `folium` as shown earlier in the notebook to display a Cloropeth map for the Vietnam provinces, where:\n",
    "\n",
    "1. The map is centered on Hanoi, e.g. `latitude = 21.03 N`, `longitude = 105.8 E`;\n",
    "2. The Cloropeth shows the surface area of each province; \n",
    "3. Colors are assigned using a linear `branca` colormap scaled between the minimum and the maximum;\n",
    "4. The colorbar is visible on the map;\n",
    "5. The map has a `Tooltip` feature that shows all information available on the province."
   ]
  },
  {
   "attachments": {},
   "cell_type": "markdown",
   "id": "dd01aefe",
   "metadata": {},
   "source": [
    "#### Solution"
   ]
  },
  {
   "cell_type": "code",
   "execution_count": null,
   "id": "56e6e803",
   "metadata": {},
   "outputs": [],
   "source": [
    "\"\"\" Your code here\"\"\""
   ]
  }
 ],
 "metadata": {
  "kernelspec": {
   "display_name": "Python 3",
   "language": "python",
   "name": "python3"
  },
  "language_info": {
   "codemirror_mode": {
    "name": "ipython",
    "version": 3
   },
   "file_extension": ".py",
   "mimetype": "text/x-python",
   "name": "python",
   "nbconvert_exporter": "python",
   "pygments_lexer": "ipython3",
   "version": "3.10.6 (main, Nov 14 2022, 16:10:14) [GCC 11.3.0]"
  },
  "vscode": {
   "interpreter": {
    "hash": "916dbcbb3f70747c44a77c7bcd40155683ae19c65e1c03b4aa3499c5328201f1"
   }
  }
 },
 "nbformat": 4,
 "nbformat_minor": 5
}
