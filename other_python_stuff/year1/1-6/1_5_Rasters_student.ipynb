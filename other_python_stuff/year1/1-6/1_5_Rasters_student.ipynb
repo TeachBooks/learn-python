{
 "cells": [
  {
   "cell_type": "markdown",
   "metadata": {},
   "source": [
    "# Raster data"
   ]
  },
  {
   "cell_type": "code",
   "execution_count": null,
   "metadata": {
    "id": "FpVKKwsf9nNv"
   },
   "outputs": [],
   "source": [
    "# import modules\n",
    "import rasterio\n",
    "import rasterio.mask\n",
    "from rasterio.plot import reshape_as_image \n",
    "from rasterio.plot import reshape_as_raster\n",
    "import matplotlib.pyplot as plt\n",
    "import numpy as np\n",
    "import geopandas as gpd\n",
    "import branca\n",
    "import folium"
   ]
  },
  {
   "cell_type": "markdown",
   "metadata": {
    "id": "vRSic-AkonZC"
   },
   "source": [
    "## Rasterio\n",
    "\n",
    "Once we have raster data on our computer, we can open them in Python using `rasterio`. Rasterio reads and writes geospatial raster datasets by interfacing Python with [Geospatial Data Abstraction Library (GDAL)](https://en.wikipedia.org/wiki/GDAL) software library. `rasterio` functions typically accept and return Numpy ndarrays, and is designed to make working with geospatial raster data more productive and more fun.\n",
    "\n",
    "> Note: `rasterio` is not a [geographic information system (GIS)](https://blog.mapbox.com/rasterio-gdal-especially-for-python-programmers-553dabf7dd71) sofware. GIS are full-fledged computer system for capturing, storing, checking, and displaying data related to positions on Earth’s surface.\n",
    "\n",
    "Let's start exploring the functionalities of `rasterio` by opening a GeoTIFF file withdata on global flood risk. Flood risk takes values from 0 to 5."
   ]
  },
  {
   "cell_type": "code",
   "execution_count": null,
   "metadata": {
    "id": "z57WVDH2pwe7"
   },
   "outputs": [],
   "source": [
    "filename = 'Data/case_study/geonode__fl1010irmt.tif'\n",
    "dataset = rasterio.open(filename)\n",
    "type(dataset)"
   ]
  },
  {
   "cell_type": "markdown",
   "metadata": {
    "id": "WxeLqamqp33L"
   },
   "source": [
    "The `rasterio.open()` function takes a path string or path-like object and returns an opened `DatasetReader` object. The path may point to a file of any supported raster format. Rasterio will open it using the proper GDAL format driver. Dataset objects have some of the same attributes as Python file objects."
   ]
  },
  {
   "cell_type": "code",
   "execution_count": null,
   "metadata": {
    "colab": {
     "base_uri": "https://localhost:8080/",
     "height": 35
    },
    "id": "xM3T78WApy0M",
    "outputId": "a4657450-28ea-4a02-d5ec-b1d2d376f71f"
   },
   "outputs": [],
   "source": [
    "dataset.name"
   ]
  },
  {
   "cell_type": "markdown",
   "metadata": {
    "id": "va8XLXzwqDhc"
   },
   "source": [
    "Properties of the raster data stored in the example GeoTIFF can be accessed through attributes of the opened dataset object. Dataset objects have bands/layers and this example has a band count of 1 since this dataset has only one raster layer."
   ]
  },
  {
   "cell_type": "code",
   "execution_count": null,
   "metadata": {
    "colab": {
     "base_uri": "https://localhost:8080/"
    },
    "id": "Dw8g1A4Hp_Mt",
    "outputId": "c09c09a1-f9ef-4d7b-cb13-4b8c67507769"
   },
   "outputs": [],
   "source": [
    "dataset.count"
   ]
  },
  {
   "cell_type": "markdown",
   "metadata": {
    "id": "brnsI6_gqWnt"
   },
   "source": [
    "A dataset band is an array of values representing the partial distribution of a single variable in 2-dimensional (2D) space. All band arrays of a dataset have the same number of rows and columns."
   ]
  },
  {
   "cell_type": "code",
   "execution_count": null,
   "metadata": {
    "colab": {
     "base_uri": "https://localhost:8080/"
    },
    "id": "JirZJ0ONqdXI",
    "outputId": "23a75a36-5d96-4a2b-dcad-f73e414997f2"
   },
   "outputs": [],
   "source": [
    "print(dataset.width)\n",
    "print(dataset.height)"
   ]
  },
  {
   "cell_type": "markdown",
   "metadata": {},
   "source": [
    "One can always display the *metadata* of the raster dataset for a summary of important information."
   ]
  },
  {
   "cell_type": "code",
   "execution_count": null,
   "metadata": {},
   "outputs": [],
   "source": [
    "dataset.meta"
   ]
  },
  {
   "cell_type": "markdown",
   "metadata": {
    "id": "h7iBrGjDqoYS"
   },
   "source": [
    "## Raster georeferencing\n",
    "\n",
    "A GIS raster dataset is different from an ordinary image; its cells (or “pixels”) are mapped to regions on the Earth’s surface. Every pixel of a dataset is contained within a spatial bounding box expressed in terms of `crs` coordinates.  "
   ]
  },
  {
   "cell_type": "code",
   "execution_count": null,
   "metadata": {
    "colab": {
     "base_uri": "https://localhost:8080/"
    },
    "id": "dbKUjJG_qhvi",
    "outputId": "96b29ba5-46b3-47aa-db30-978f42cc8b99"
   },
   "outputs": [],
   "source": [
    "dataset.bounds"
   ]
  },
  {
   "cell_type": "code",
   "execution_count": null,
   "metadata": {
    "colab": {
     "base_uri": "https://localhost:8080/"
    },
    "id": "b7E3Uy31qsii",
    "outputId": "52969b0d-770e-4892-9837-38396342185f"
   },
   "outputs": [],
   "source": [
    "dataset.crs"
   ]
  },
  {
   "cell_type": "markdown",
   "metadata": {
    "id": "fjBm2hrfrLn6"
   },
   "source": [
    "## Accessing raster data\n",
    "Data from a raster band can be accessed by the band’s index number. Following the GDAL convention, bands are indexed from 1 (and not 0 as in most python arrays)"
   ]
  },
  {
   "cell_type": "code",
   "execution_count": null,
   "metadata": {
    "id": "q2nmpzJprnsx"
   },
   "outputs": [],
   "source": [
    "band1 = dataset.read(1)\n",
    "band1.shape"
   ]
  },
  {
   "cell_type": "markdown",
   "metadata": {
    "id": "vEs_8FMhr7o8"
   },
   "source": [
    "The `read()` method returns a Numpy N-D array."
   ]
  },
  {
   "cell_type": "code",
   "execution_count": null,
   "metadata": {
    "colab": {
     "base_uri": "https://localhost:8080/"
    },
    "id": "9qSBIpLfsALe",
    "outputId": "cd774024-aa0f-4b7d-9389-364aa2ce3805"
   },
   "outputs": [],
   "source": [
    "band1"
   ]
  },
  {
   "cell_type": "code",
   "execution_count": null,
   "metadata": {},
   "outputs": [],
   "source": [
    "type(band1)"
   ]
  },
  {
   "cell_type": "markdown",
   "metadata": {
    "id": "AX1HzrVXrpi8"
   },
   "source": [
    "Instead of reading single bands, all bands of the input dataset can also be read into a 3-dimensional `ndarray`."
   ]
  },
  {
   "cell_type": "code",
   "execution_count": null,
   "metadata": {
    "colab": {
     "base_uri": "https://localhost:8080/"
    },
    "id": "0QWhuiT9sD8S",
    "outputId": "52697ea6-0796-4f79-ab30-f6438c3e49c3"
   },
   "outputs": [],
   "source": [
    "bands = dataset.read()\n",
    "bands.shape"
   ]
  },
  {
   "cell_type": "markdown",
   "metadata": {
    "id": "Y2ga873NuNO0"
   },
   "source": [
    "The interpretation of a 3-dimension array read from rasterio is `(bands, rows, columns)` while image processing software such as `scikit-image`, `pillow` or `matplotlib` generally consider `(rows, columns, bands)`, where number of rows defines the dataset’s height and the columns are the dataset’s width.\n",
    "\n",
    "`rasterio` provides a way to efficiently swap the axis order and you can use the following reshape functions to convert between raster and image axis order:"
   ]
  },
  {
   "cell_type": "code",
   "execution_count": null,
   "metadata": {
    "colab": {
     "base_uri": "https://localhost:8080/"
    },
    "id": "hAIlYz15ujnA",
    "outputId": "60718d3a-cdbf-4d3a-d107-a6949f4847ad"
   },
   "outputs": [],
   "source": [
    "# Convert to image\n",
    "image = rasterio.plot.reshape_as_image(bands)\n",
    "print(image.shape)\n",
    "\n",
    "# Convert back to raster\n",
    "raster = rasterio.plot.reshape_as_raster(image)\n",
    "print(raster.shape)"
   ]
  },
  {
   "cell_type": "markdown",
   "metadata": {
    "id": "DBQhetHhsYan"
   },
   "source": [
    "Irrespective to the ordering, values from the array can be addressed by their `band, row, column` index. Notice that now indexing starts again at 0 as in classic Python arrays."
   ]
  },
  {
   "cell_type": "code",
   "execution_count": null,
   "metadata": {
    "colab": {
     "base_uri": "https://localhost:8080/"
    },
    "id": "LLiMBxklsG9E",
    "outputId": "fcb8c259-95f8-4d54-ec4f-346c543bdfcc"
   },
   "outputs": [],
   "source": [
    "bands[0, 150, 100]"
   ]
  },
  {
   "cell_type": "markdown",
   "metadata": {
    "id": "nRAsmXkWvDZo"
   },
   "source": [
    "## Analyzing & plotting the data\n",
    "\n",
    "Once the data are downloaded and opened, we can start using it and analyzing it like classical numpy arrays.\n",
    "\n"
   ]
  },
  {
   "cell_type": "code",
   "execution_count": null,
   "metadata": {
    "colab": {
     "base_uri": "https://localhost:8080/"
    },
    "id": "I_rjJNvWsyWr",
    "outputId": "84cb3342-3612-4fc8-8d91-c2d827a4f1bb"
   },
   "outputs": [],
   "source": [
    "plus1 = bands[0,:,:]+1\n",
    "plus1"
   ]
  },
  {
   "cell_type": "markdown",
   "metadata": {
    "id": "y3Rh-ao2x41V"
   },
   "source": [
    "We can of course plot the data using `matplotlib` functionalities"
   ]
  },
  {
   "cell_type": "code",
   "execution_count": null,
   "metadata": {
    "colab": {
     "base_uri": "https://localhost:8080/",
     "height": 700
    },
    "id": "oZwwaDWAyOfy",
    "outputId": "e93870b2-a857-44d0-92bc-cb3d6cab8de4"
   },
   "outputs": [],
   "source": [
    "plt.imshow(raster[0,:,:]);"
   ]
  },
  {
   "cell_type": "markdown",
   "metadata": {
    "id": "KqULoxVQ11Bb"
   },
   "source": [
    "To understand the data distribution, you can plot a histogram of the band values."
   ]
  },
  {
   "cell_type": "code",
   "execution_count": null,
   "metadata": {
    "colab": {
     "base_uri": "https://localhost:8080/",
     "height": 351
    },
    "id": "Xci8AggLyPbn",
    "outputId": "955bd22e-aefd-499f-aac7-1d21a47b523b"
   },
   "outputs": [],
   "source": [
    "f, ax = plt.subplots(1, figsize=(6,4))\n",
    "ax.hist(raster[0,:,:].flatten(), color='red', alpha=0.3, label='R')\n",
    "ax.legend(frameon=False, fontsize=10)\n",
    "ax.set_xlabel('Data []')\n",
    "ax.set_ylabel('Probability density by count');"
   ]
  },
  {
   "cell_type": "markdown",
   "metadata": {
    "pycharm": {
     "name": "#%% md\n"
    }
   },
   "source": [
    "All standard `numpy` functions apply to the raster data sets"
   ]
  },
  {
   "cell_type": "code",
   "execution_count": null,
   "metadata": {
    "pycharm": {
     "name": "#%%\n"
    }
   },
   "outputs": [],
   "source": [
    "np.mean(raster)"
   ]
  },
  {
   "cell_type": "code",
   "execution_count": null,
   "metadata": {
    "pycharm": {
     "name": "#%%\n"
    }
   },
   "outputs": [],
   "source": [
    "np.max(raster)"
   ]
  },
  {
   "cell_type": "code",
   "execution_count": null,
   "metadata": {
    "pycharm": {
     "name": "#%%\n"
    }
   },
   "outputs": [],
   "source": [
    "np.min(raster)"
   ]
  },
  {
   "cell_type": "markdown",
   "metadata": {
    "pycharm": {
     "name": "#%% md\n"
    }
   },
   "source": [
    "You can also apply these functions along specific axes:"
   ]
  },
  {
   "cell_type": "code",
   "execution_count": null,
   "metadata": {
    "pycharm": {
     "name": "#%%\n"
    }
   },
   "outputs": [],
   "source": [
    "np.mean(raster,axis=2)"
   ]
  },
  {
   "cell_type": "markdown",
   "metadata": {
    "pycharm": {
     "name": "#%% md\n"
    }
   },
   "source": [
    "## Masked rasters\n",
    "\n",
    "It is common to *mask* raster data to restrict the analysis to valid data points or consider only some parts of the dataset.\n",
    "\n",
    "Simple masking operations can be carried out on the raster data by exploiting `numpy`. The code below limits the visualization of the flood risk only to the areas with highest risk (>3). The mask is computed as a binary `ndarray`. Multiplication performs the masking.  "
   ]
  },
  {
   "cell_type": "code",
   "execution_count": null,
   "metadata": {},
   "outputs": [],
   "source": [
    "mask = bands>3\n",
    "plt.imshow((bands*mask).squeeze());\n",
    "plt.title('Areas with critical flood risk');"
   ]
  },
  {
   "cell_type": "markdown",
   "metadata": {},
   "source": [
    "Using `geopandas` we can perform masking based from geometries. \n",
    "\n",
    "For instance, let's consider the following image concerning cloud coverage with 718 rows and 791 columns of pixels. Each pixel has three 8-bit (uint8) channels or bands. It has a trapezoid of image data within a rectangular background of 0,0,0 value pixels."
   ]
  },
  {
   "cell_type": "code",
   "execution_count": null,
   "metadata": {},
   "outputs": [],
   "source": [
    "raster_src= rasterio.open(\"Data/raster/RGB.byte.tiff\")\n",
    "rasterio.plot.show(raster_src);"
   ]
  },
  {
   "cell_type": "markdown",
   "metadata": {},
   "source": [
    "We now load a box shape to use as mask for the image loaded before. Everything outside the box will be made invalid."
   ]
  },
  {
   "cell_type": "code",
   "execution_count": null,
   "metadata": {},
   "outputs": [],
   "source": [
    "shapes = gpd.read_file('Data/raster/box.shp')\n",
    "shapes.geometry[0]"
   ]
  },
  {
   "cell_type": "code",
   "execution_count": null,
   "metadata": {
    "pycharm": {
     "name": "#%%\n"
    }
   },
   "outputs": [],
   "source": [
    "out_image, out_transform = rasterio.mask.mask(raster_src, shapes['geometry'], crop=False);\n",
    "rasterio.plot.show(out_image);"
   ]
  },
  {
   "cell_type": "markdown",
   "metadata": {},
   "source": [
    "Setting `crop=True` will limit the image only to valid pixels, e.g. the extent of the raster is also set to be the extent of the features in the shapefile."
   ]
  },
  {
   "cell_type": "code",
   "execution_count": null,
   "metadata": {},
   "outputs": [],
   "source": [
    "# we ignore the second output from the mask operation\n",
    "out_image, _ = rasterio.mask.mask(raster_src, shapes['geometry'], crop=True);\n",
    "rasterio.plot.show(out_image);"
   ]
  },
  {
   "cell_type": "markdown",
   "metadata": {},
   "source": [
    "Extra information on masking is provided on [rasterio manuals on masks](https://rasterio.readthedocs.io/en/latest/topics/masks.html) [and masking](https://rasterio.readthedocs.io/en/latest/topics/masking-by-shapefile.html)."
   ]
  },
  {
   "cell_type": "markdown",
   "metadata": {},
   "source": [
    "## Exercise"
   ]
  },
  {
   "cell_type": "markdown",
   "metadata": {},
   "source": [
    "### Warming up"
   ]
  },
  {
   "cell_type": "markdown",
   "metadata": {},
   "source": [
    "You are given a raster dataset for the global flood risk. Flood risk values are from 0 to 5. We have already explored this data in this notebook; lets load it again."
   ]
  },
  {
   "cell_type": "code",
   "execution_count": null,
   "metadata": {},
   "outputs": [],
   "source": [
    "filename = 'Data/case_study/geonode__fl1010irmt.tif'\n",
    "flood_raster = rasterio.open(filename)"
   ]
  },
  {
   "cell_type": "markdown",
   "metadata": {},
   "source": [
    "In the previous exercises, we look at the provincial boundaries of Vietnam defined using Polygons. Lets load these data again as well. "
   ]
  },
  {
   "cell_type": "code",
   "execution_count": null,
   "metadata": {},
   "outputs": [],
   "source": [
    "# load geospatial dataset on Vietnam provinces\n",
    "gdf_vietnam = gpd.read_file('./Data/case_study/vietnam_bound.geojson')\n",
    "gdf_vietnam = gdf_vietnam[['VARNAME_1','ENGTYPE_1','geometry']]\n",
    "gdf_vietnam.columns = ['name','type','geometry']"
   ]
  },
  {
   "cell_type": "markdown",
   "metadata": {},
   "source": [
    "We will be producing *flood risk maps* using this geometrical data together with the raster data, therefore we need to check if the CRS is the same for both datasets."
   ]
  },
  {
   "cell_type": "code",
   "execution_count": null,
   "metadata": {},
   "outputs": [],
   "source": [
    "print(gdf_vietnam.crs)\n",
    "print(flood_raster.crs)"
   ]
  },
  {
   "cell_type": "markdown",
   "metadata": {},
   "source": [
    "Lets use the mask function to first extract the flood risk data for Vietnam from the global flood risk data. We use mask between global raster data `dataset` and all provincial boundaries of Vietnam `gdf_vietnam` for this using `crop=True`"
   ]
  },
  {
   "cell_type": "code",
   "execution_count": null,
   "metadata": {},
   "outputs": [],
   "source": [
    "out_image, _ = rasterio.mask.mask(flood_raster, gdf_vietnam['geometry'], crop=True)\n",
    "rasterio.plot.show(out_image);"
   ]
  },
  {
   "cell_type": "markdown",
   "metadata": {},
   "source": [
    "Now, lets use the provincial dataset and flood risk raster data to identify provinces that are vulnerable to flooding. \n",
    "\n",
    "For this, we first need to assign a flood risk value per province. This can be done in several ways. In this workshop, we take the mean of the raster values which is within the boundaries of the province and assign that as the flood risk of a province"
   ]
  },
  {
   "cell_type": "code",
   "execution_count": null,
   "metadata": {},
   "outputs": [],
   "source": [
    "# iterate over each province.\n",
    "all_prov_names = gdf_vietnam['name'].unique()\n",
    "for prov_name in all_prov_names:\n",
    "    # filter geometry of the specific province\n",
    "    prov_geom = gdf_vietnam[gdf_vietnam['name'] == prov_name]['geometry']    \n",
    "    # extract the raster data for that province using the mask\n",
    "    prov_raster, _  = rasterio.mask.mask(flood_raster, prov_geom, crop=True)\n",
    "    # assign the average value of the bounded raster as the average value of the province\n",
    "    gdf_vietnam.loc[gdf_vietnam['name'] == prov_name, 'avg'] = np.mean((prov_raster[0]))"
   ]
  },
  {
   "cell_type": "code",
   "execution_count": null,
   "metadata": {},
   "outputs": [],
   "source": [
    "# simple plot to show the mean value per province\n",
    "gdf_vietnam.plot(column='avg', cmap='hot', legend=True);"
   ]
  },
  {
   "cell_type": "markdown",
   "metadata": {},
   "source": [
    "For better visualization, let us plot final results using a `folium` Cloropeth ."
   ]
  },
  {
   "cell_type": "code",
   "execution_count": null,
   "metadata": {},
   "outputs": [],
   "source": [
    "# create learn colormap interpolating 3 colors\n",
    "colors = branca.colormap.LinearColormap(\n",
    "    ['green', 'yellow', 'red'], vmin=gdf_vietnam.avg.min(), vmax=gdf_vietnam.avg.max())\n",
    "\n",
    "# define style function\n",
    "def raster_choropleth(row):\n",
    "    return {\n",
    "        \"fillColor\": colors(row['properties']['avg']),\n",
    "        \"color\": \"white\",\n",
    "        \"weight\": 1,\n",
    "        \"fillOpacity\": 0.75,\n",
    "    }\n",
    "\n",
    "# create base map\n",
    "# The map is centered on Hanoi, e.g. `latitude = 21.03 N`, `longitude = 105.8 E`\n",
    "poly_map = folium.Map(\n",
    "    location=[21.03, 105.8],    \n",
    "    zoom_start=5\n",
    ")\n",
    "\n",
    "# overlay choropleth\n",
    "gjson = folium.features.GeoJson(\n",
    "    gdf_vietnam,\n",
    "    style_function=raster_choropleth,\n",
    "    ).add_to(poly_map)\n",
    "\n",
    "# add Tooltip\n",
    "folium.features.GeoJsonTooltip(\n",
    "    fields=['avg'],\n",
    "    aliases=['Avg. Flood Risk']\n",
    ").add_to(gjson)\n",
    "\n",
    "# add colormap to the map\n",
    "poly_map.add_child(colors)\n",
    "\n",
    "# display\n",
    "poly_map"
   ]
  },
  {
   "cell_type": "markdown",
   "metadata": {},
   "source": [
    "### Your turn now! :D"
   ]
  },
  {
   "cell_type": "markdown",
   "metadata": {},
   "source": [
    "Your task is to follow what done before in order to compute and visualize flood risk for the **roads** of Vietnam. \n",
    "\n",
    "Remember that the Vietnam roads' dataset is located in `./Data/case_study/vietnam_roadnet.geojson`.\n",
    "\n",
    "Using `geopandas`, `rasterio`, and `folium` as shown in this workshop you have to:\n",
    "\n",
    "1. Find the average flood risk value for each road segment, identified by the LineString geometries. \n",
    "    1. For this, use the index of the geopandas dataframe as the unique id of the road segment\n",
    "    2. Mask the raster data with the road LineString data\n",
    "    3. Compute the average flood risk per road segment\n",
    "    \n",
    "2. Visualise the flood risk per road segment\n",
    "    1. The map is centered on Hanoi, e.g. `latitude = 21.03 N`, `longitude = 105.8 E`;\n",
    "    2. The map shows the flood risk of each road segment; \n",
    "    3. Colors are assigned using a linear `branca` colormap scaled between the minimum and the maximum flood risk;\n",
    "    4. The colorbar is visible on the map;\n",
    "    5. The map has a `Tooltip` feature that shows the average flood risk for each road.\n",
    "    \n",
    "> Hint: make sure the raster and vector datasets have the same crs!"
   ]
  },
  {
   "cell_type": "markdown",
   "metadata": {},
   "source": [
    "## Solution"
   ]
  },
  {
   "cell_type": "code",
   "execution_count": null,
   "metadata": {},
   "outputs": [],
   "source": [
    "\"\"\" Your code here\"\"\""
   ]
  }
 ],
 "metadata": {
  "colab": {
   "authorship_tag": "ABX9TyNGQxkTqdRUdxhBL1LsVK1s",
   "include_colab_link": true,
   "name": "RS_Notebook2_Loading-RS-data-in-python.ipynb",
   "provenance": [],
   "toc_visible": true
  },
  "kernelspec": {
   "display_name": "Python 3 (ipykernel)",
   "language": "python",
   "name": "python3"
  },
  "language_info": {
   "codemirror_mode": {
    "name": "ipython",
    "version": 3
   },
   "file_extension": ".py",
   "mimetype": "text/x-python",
   "name": "python",
   "nbconvert_exporter": "python",
   "pygments_lexer": "ipython3",
   "version": "3.9.13"
  },
  "vscode": {
   "interpreter": {
    "hash": "221f5544e161fbf1ae7854adb9c5839862577eb1a203681683ac5580ae712919"
   }
  }
 },
 "nbformat": 4,
 "nbformat_minor": 1
}
